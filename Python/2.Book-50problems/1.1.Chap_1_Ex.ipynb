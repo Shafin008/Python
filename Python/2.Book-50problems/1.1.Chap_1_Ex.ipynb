{
 "cells": [
  {
   "cell_type": "markdown",
   "id": "48e720f4-c82b-4a1c-b0d8-a6f79559c607",
   "metadata": {},
   "source": [
    "## Exercise: 1\n",
    "\n",
    "### **NumberGuessing Game**\n",
    "\n",
    "For this exercise:\n",
    "\n",
    "- Write a function (guessing_game) that takes no arguments.\n",
    "\n",
    "- When run, the function chooses a random integer between 0 and 100 (inclusive).\n",
    "\n",
    "- Then ask the user to guess what number has been chosen.\n",
    "\n",
    "- Each time the user enters a guess, the program indicates one of the following:\n",
    "\n",
    "    – Too high\n",
    "\n",
    "    – Too low\n",
    "\n",
    "    – Just right\n",
    "\n",
    "- If the user guesses correctly, the program exits. Otherwise, the user is asked to try again.\n",
    "\n",
    "- The program only exits after the user guesses correctly."
   ]
  },
  {
   "cell_type": "code",
   "execution_count": 3,
   "id": "e64d4b62-d89e-47d9-a6e3-d4753e1a9c18",
   "metadata": {},
   "outputs": [],
   "source": [
    "import random"
   ]
  },
  {
   "cell_type": "code",
   "execution_count": 15,
   "id": "347d7c51-73fa-4f11-88c7-574e1054478a",
   "metadata": {},
   "outputs": [],
   "source": [
    "def guessing_game():\n",
    "    num = random.randint(0,100)\n",
    "    while True:\n",
    "        user = int(input(\"Guess: \"))\n",
    "        if user == num:\n",
    "            return \"Just right\"\n",
    "        \n",
    "        elif user < num:\n",
    "            print(\"Too low\")\n",
    "            \n",
    "        else:\n",
    "            print(\"Too high\")\n",
    "            "
   ]
  },
  {
   "cell_type": "code",
   "execution_count": 16,
   "id": "f30f50f5-0888-4be6-9ef4-315b6e91f613",
   "metadata": {
    "collapsed": true,
    "jupyter": {
     "outputs_hidden": true
    },
    "tags": []
   },
   "outputs": [
    {
     "name": "stdin",
     "output_type": "stream",
     "text": [
      "Guess:  50\n"
     ]
    },
    {
     "name": "stdout",
     "output_type": "stream",
     "text": [
      "Too high\n"
     ]
    },
    {
     "name": "stdin",
     "output_type": "stream",
     "text": [
      "Guess:  25\n"
     ]
    },
    {
     "name": "stdout",
     "output_type": "stream",
     "text": [
      "Too low\n"
     ]
    },
    {
     "name": "stdin",
     "output_type": "stream",
     "text": [
      "Guess:  37\n"
     ]
    },
    {
     "name": "stdout",
     "output_type": "stream",
     "text": [
      "Too low\n"
     ]
    },
    {
     "name": "stdin",
     "output_type": "stream",
     "text": [
      "Guess:  42\n"
     ]
    },
    {
     "name": "stdout",
     "output_type": "stream",
     "text": [
      "Too low\n"
     ]
    },
    {
     "name": "stdin",
     "output_type": "stream",
     "text": [
      "Guess:  45\n"
     ]
    },
    {
     "data": {
      "text/plain": [
       "'Just right'"
      ]
     },
     "execution_count": 16,
     "metadata": {},
     "output_type": "execute_result"
    }
   ],
   "source": [
    "guessing_game()"
   ]
  },
  {
   "cell_type": "markdown",
   "id": "22e1844d-4293-4f50-9546-a0bd1b794c69",
   "metadata": {},
   "source": [
    "### Exercise 1.1: Guessing game but you only get 3 chances"
   ]
  },
  {
   "cell_type": "code",
   "execution_count": 9,
   "id": "1a5641a9-edff-457d-b4c2-1638595acb88",
   "metadata": {
    "tags": []
   },
   "outputs": [],
   "source": [
    "def guessing_game():\n",
    "    num = random.randint(0,100)\n",
    "    chances = 0\n",
    "    while chances < 3:\n",
    "        user = int(input(\"Guess: \"))\n",
    "        if user == num:\n",
    "            return \"Just right\"\n",
    "        \n",
    "        elif user < num:\n",
    "            print(\"Too low\")\n",
    "            \n",
    "        else:\n",
    "            print(\"Too high\")\n",
    "        chances +=1"
   ]
  },
  {
   "cell_type": "code",
   "execution_count": 10,
   "id": "e541c33b-24c3-4af1-9f4c-434dbc03e40c",
   "metadata": {
    "collapsed": true,
    "jupyter": {
     "outputs_hidden": true
    },
    "tags": []
   },
   "outputs": [
    {
     "name": "stdin",
     "output_type": "stream",
     "text": [
      "Guess:  45\n"
     ]
    },
    {
     "name": "stdout",
     "output_type": "stream",
     "text": [
      "Too high\n"
     ]
    },
    {
     "name": "stdin",
     "output_type": "stream",
     "text": [
      "Guess:  23\n"
     ]
    },
    {
     "name": "stdout",
     "output_type": "stream",
     "text": [
      "Too high\n"
     ]
    },
    {
     "name": "stdin",
     "output_type": "stream",
     "text": [
      "Guess:  15\n"
     ]
    },
    {
     "name": "stdout",
     "output_type": "stream",
     "text": [
      "Too high\n"
     ]
    }
   ],
   "source": [
    "guessing_game()"
   ]
  },
  {
   "cell_type": "markdown",
   "id": "41f117ab-c66b-49da-91c4-c14431fbc3c1",
   "metadata": {},
   "source": [
    "## Exercise 2: Summing Numbers"
   ]
  },
  {
   "cell_type": "code",
   "execution_count": 18,
   "id": "a54cd38d-86e5-4975-9b7a-9edb8675b6fe",
   "metadata": {},
   "outputs": [],
   "source": [
    "def mysum():\n",
    "    nums = input(\"Enter you numbers: \")\n",
    "    nums = nums.split(\",\")\n",
    "    \n",
    "    total = 0\n",
    "    for num in nums:\n",
    "        total += int(num)\n",
    "    return total"
   ]
  },
  {
   "cell_type": "code",
   "execution_count": 19,
   "id": "34e8f0cd-3ccb-49e3-bc1c-fcdfb81e3394",
   "metadata": {},
   "outputs": [
    {
     "name": "stdin",
     "output_type": "stream",
     "text": [
      "Enter you numbers:  10,20,30,40,50\n"
     ]
    },
    {
     "data": {
      "text/plain": [
       "150"
      ]
     },
     "execution_count": 19,
     "metadata": {},
     "output_type": "execute_result"
    }
   ],
   "source": [
    "mysum()"
   ]
  },
  {
   "cell_type": "code",
   "execution_count": 20,
   "id": "1e1e50e1-92d1-4b31-b0de-3c16283c9db2",
   "metadata": {},
   "outputs": [],
   "source": [
    "def mysum(*numbers):\n",
    "    total = 0\n",
    "    for num in numbers:\n",
    "        total += num\n",
    "    return total"
   ]
  },
  {
   "cell_type": "code",
   "execution_count": 22,
   "id": "e3a142b6-fb28-4b0e-a0e5-6e00b1721e1a",
   "metadata": {},
   "outputs": [
    {
     "name": "stdout",
     "output_type": "stream",
     "text": [
      "150\n"
     ]
    }
   ],
   "source": [
    "print(mysum(10,20,30,40,50))"
   ]
  },
  {
   "cell_type": "markdown",
   "id": "c408dbd3-74ae-46db-9891-6986d2411287",
   "metadata": {},
   "source": [
    "## Exercise 3: Run Timing\n",
    "\n",
    "For this exercise, then, we’ll assume that you run 10 km each day as part of your exercise regime. You want to know how long, on average, that run takes.\n",
    "\n",
    "Write a function (run_timing) that asks how long it took for you to run 10 km. The function continues to ask how long (in minutes) it took for additional runs, until the user presses Enter. At that point, the function exits—but only after calculating and displaying the average time that the 10 km runs took.\n",
    "\n",
    "For example, here’s what the output would look like if the user entered three data points:\n",
    "\n",
    "Enter 10 km run time: 15\n",
    "\n",
    "Enter 10 km run time: 20\n",
    "\n",
    "Enter 10 km run time: 10\n",
    "\n",
    "Enter 10 km run time: ``<enter>``\n",
    "\n",
    "Average of 15.0, over 3 runs"
   ]
  },
  {
   "cell_type": "code",
   "execution_count": 21,
   "id": "fa5ca48d-fa55-4d4c-8388-ccd342a25f1c",
   "metadata": {},
   "outputs": [],
   "source": [
    "def run_timing():\n",
    "    \n",
    "    total_time = 0\n",
    "    num_of_runs = 0\n",
    "    while True: \n",
    "        user = input(\"Enter 10 km run time: \").strip()\n",
    "        if user == \"\":\n",
    "            break\n",
    "        else:\n",
    "            total_time += float(user)\n",
    "            num_of_runs +=1\n",
    "            avg = total_time/num_of_runs \n",
    "         \n",
    "    print(f\"Average of {avg}, over {num_of_runs} runs\")\n",
    "            \n",
    "    "
   ]
  },
  {
   "cell_type": "code",
   "execution_count": 22,
   "id": "95e09a52-53f8-45bf-a4ed-f185318f952a",
   "metadata": {},
   "outputs": [
    {
     "name": "stdin",
     "output_type": "stream",
     "text": [
      "Enter 10 km run time:  10\n",
      "Enter 10 km run time:  10\n",
      "Enter 10 km run time:  10\n",
      "Enter 10 km run time:  \n"
     ]
    },
    {
     "name": "stdout",
     "output_type": "stream",
     "text": [
      "Average of 10.0, over 3 runs\n"
     ]
    }
   ],
   "source": [
    "run_timing()"
   ]
  },
  {
   "cell_type": "code",
   "execution_count": null,
   "id": "06a5f541-5218-4778-a96a-5ec01d3ca066",
   "metadata": {},
   "outputs": [],
   "source": []
  },
  {
   "cell_type": "markdown",
   "id": "87a476f1-da4e-438d-809e-5a690285e946",
   "metadata": {},
   "source": [
    "## Exercise 4: Hexadecimal Output\n",
    "\n",
    "For this exercise, you need to write a function (hex_output) that takes a hex num- ber and returns the decimal equivalent. That is, if the user enters 50, you’ll assume that it’s a hex number (equal to 0x50) and will print the value 80 to the screen. And no, you shouldn’t convert the number all at once using the int function, although it’s permissible to use int one digit at a time."
   ]
  },
  {
   "cell_type": "code",
   "execution_count": 10,
   "id": "f06f6bac-1988-4a62-ae30-286eea1e7a72",
   "metadata": {},
   "outputs": [
    {
     "data": {
      "text/plain": [
       "291"
      ]
     },
     "execution_count": 10,
     "metadata": {},
     "output_type": "execute_result"
    }
   ],
   "source": [
    "int('0x123', 16)"
   ]
  },
  {
   "cell_type": "code",
   "execution_count": 21,
   "id": "00f6cc84-ba96-45bc-a8f5-c59a93fa6fd9",
   "metadata": {},
   "outputs": [],
   "source": [
    "def hex_output(hexadecimal_string):\n",
    "    total = 0\n",
    "    for index, digit in enumerate(reversed(hexadecimal_string)):\n",
    "        total += int(digit, base=16) * 16 ** index\n",
    "        # print(f\"{digit} * 16 ** {index}\")\n",
    "    return total"
   ]
  },
  {
   "cell_type": "code",
   "execution_count": 23,
   "id": "0e0e1d04-b3a2-4e34-8696-bc5680ce626f",
   "metadata": {},
   "outputs": [
    {
     "data": {
      "text/plain": [
       "291"
      ]
     },
     "execution_count": 23,
     "metadata": {},
     "output_type": "execute_result"
    }
   ],
   "source": [
    "hex_output('123')"
   ]
  },
  {
   "cell_type": "code",
   "execution_count": null,
   "id": "a8332fcb-03e9-40ab-baf0-78c0a2ef1ec8",
   "metadata": {},
   "outputs": [],
   "source": []
  },
  {
   "cell_type": "code",
   "execution_count": null,
   "id": "33060995-96eb-4870-a9ed-a9333e5d94f1",
   "metadata": {},
   "outputs": [],
   "source": []
  },
  {
   "cell_type": "code",
   "execution_count": null,
   "id": "b00651fc-848c-4b29-9994-c12cd04fed16",
   "metadata": {},
   "outputs": [],
   "source": []
  },
  {
   "cell_type": "code",
   "execution_count": null,
   "id": "01c7cc10-1aa2-4b52-bd01-b975d54b51a9",
   "metadata": {},
   "outputs": [],
   "source": []
  }
 ],
 "metadata": {
  "kernelspec": {
   "display_name": "Python 3 (ipykernel)",
   "language": "python",
   "name": "python3"
  },
  "language_info": {
   "codemirror_mode": {
    "name": "ipython",
    "version": 3
   },
   "file_extension": ".py",
   "mimetype": "text/x-python",
   "name": "python",
   "nbconvert_exporter": "python",
   "pygments_lexer": "ipython3",
   "version": "3.10.11"
  }
 },
 "nbformat": 4,
 "nbformat_minor": 5
}
