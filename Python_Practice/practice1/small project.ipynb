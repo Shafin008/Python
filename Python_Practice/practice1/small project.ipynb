{
 "cells": [
  {
   "cell_type": "code",
   "execution_count": null,
   "metadata": {},
   "outputs": [],
   "source": [
    "# practice 1\n"
   ]
  },
  {
   "cell_type": "code",
   "execution_count": null,
   "metadata": {},
   "outputs": [],
   "source": [
    "interrogative_words = ['What', 'Which', 'When', 'Where', 'Who', 'Whom', 'Whose', 'Why', 'Whether' ,'How']"
   ]
  },
  {
   "cell_type": "code",
   "execution_count": 2,
   "metadata": {},
   "outputs": [],
   "source": [
    "# def sentence(phrase):\n",
    "    \n",
    "#     interrogative_words = ('what', 'which', 'when', 'where', 'who', 'whom', 'whose', 'why', 'whether' ,'how')\n",
    "#     capitalized = phrase.capitalize()\n",
    "#     if phrase.startswith(interrogative_words):\n",
    "#         return (\"{}?\".format(capitalized))\n",
    "#     else:\n",
    "#         return (\"{}.\".format(capitalized))\n"
   ]
  },
  {
   "cell_type": "code",
   "execution_count": 4,
   "metadata": {},
   "outputs": [
    {
     "name": "stdout",
     "output_type": "stream",
     "text": [
      "Say something: hey \n",
      "Say something: how are you \n",
      "Say something: where are you going\n",
      "Say something: bye\n",
      "Say something: \\end\n",
      "Hey . How are you ? Where are you going? Bye.\n"
     ]
    }
   ],
   "source": [
    "# user_sentences = []\n",
    "# while True:\n",
    "#     user_input = input(\"Say something: \")\n",
    "    \n",
    "#     if user_input == \"\\end\":\n",
    "#         break\n",
    "#     else:\n",
    "#         user_sentences.append(sentence(user_input))\n",
    "\n",
    "# print(\" \".join(user_sentences))"
   ]
  },
  {
   "cell_type": "code",
   "execution_count": 2,
   "metadata": {},
   "outputs": [],
   "source": [
    "def sentence_maker(sentence):\n",
    "    \n",
    "    interrogative_words = ('what', 'which', 'when', 'where', 'who', 'whom', 'whose', 'why', 'whether' ,'how')\n",
    "    \n",
    "    capitalized = sentence.capitalize()\n",
    "    \n",
    "    if sentence.startswith(interrogative_words):\n",
    "        return \"{}?\".format(capitalized)\n",
    "    \n",
    "    else:\n",
    "        return \"{}.\".format(capitalized)"
   ]
  },
  {
   "cell_type": "code",
   "execution_count": 5,
   "metadata": {},
   "outputs": [
    {
     "name": "stdout",
     "output_type": "stream",
     "text": [
      "Say something:hey how are ya\n",
      "Say something:um fine\n",
      "Say something:\\end\n",
      "Hey how are ya. Um fine.\n"
     ]
    }
   ],
   "source": [
    "data = []\n",
    "while True:\n",
    "    user_input = input(\"Say something:\")\n",
    "    if user_input == \"\\end\":\n",
    "        break\n",
    "    else:\n",
    "        data.append(sentence_maker(user_input))\n",
    "\n",
    "data = \" \".join(data)        \n",
    "print(data)    "
   ]
  },
  {
   "cell_type": "code",
   "execution_count": null,
   "metadata": {},
   "outputs": [],
   "source": []
  },
  {
   "cell_type": "code",
   "execution_count": null,
   "metadata": {},
   "outputs": [],
   "source": []
  },
  {
   "cell_type": "code",
   "execution_count": null,
   "metadata": {},
   "outputs": [],
   "source": []
  },
  {
   "cell_type": "code",
   "execution_count": null,
   "metadata": {},
   "outputs": [],
   "source": []
  },
  {
   "cell_type": "code",
   "execution_count": null,
   "metadata": {},
   "outputs": [],
   "source": []
  }
 ],
 "metadata": {
  "kernelspec": {
   "display_name": "Python 3 (ipykernel)",
   "language": "python",
   "name": "python3"
  },
  "language_info": {
   "codemirror_mode": {
    "name": "ipython",
    "version": 3
   },
   "file_extension": ".py",
   "mimetype": "text/x-python",
   "name": "python",
   "nbconvert_exporter": "python",
   "pygments_lexer": "ipython3",
   "version": "3.9.7"
  }
 },
 "nbformat": 4,
 "nbformat_minor": 4
}
