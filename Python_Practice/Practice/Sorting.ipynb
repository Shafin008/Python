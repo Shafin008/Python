{
 "cells": [
  {
   "cell_type": "code",
   "execution_count": 1,
   "id": "de12b891",
   "metadata": {},
   "outputs": [],
   "source": [
    "lst= [4,6,2,7,8,4,6,9]"
   ]
  },
  {
   "cell_type": "code",
   "execution_count": 2,
   "id": "7faeb4ed",
   "metadata": {},
   "outputs": [
    {
     "data": {
      "text/plain": [
       "[2, 4, 4, 6, 6, 7, 8, 9]"
      ]
     },
     "execution_count": 2,
     "metadata": {},
     "output_type": "execute_result"
    }
   ],
   "source": [
    "# I can sort this list in 2 ways\n",
    "# 1. using sorted() function\n",
    "# 2. Using .sort() method\n",
    "\n",
    "# 1. sorted() function will create a new list and the original list will be the same\n",
    "sorted(lst)"
   ]
  },
  {
   "cell_type": "code",
   "execution_count": 3,
   "id": "5c969763",
   "metadata": {},
   "outputs": [
    {
     "data": {
      "text/plain": [
       "[4, 6, 2, 7, 8, 4, 6, 9]"
      ]
     },
     "execution_count": 3,
     "metadata": {},
     "output_type": "execute_result"
    }
   ],
   "source": [
    "# Now, we'll check our original list, it'll not change due to sorted function\n",
    "lst"
   ]
  },
  {
   "cell_type": "code",
   "execution_count": 4,
   "id": "67f6cbcb",
   "metadata": {},
   "outputs": [],
   "source": [
    "# 2. Using .sort() method will change the original list\n",
    "lst.sort()"
   ]
  },
  {
   "cell_type": "code",
   "execution_count": 5,
   "id": "77bf4405",
   "metadata": {},
   "outputs": [
    {
     "data": {
      "text/plain": [
       "[2, 4, 4, 6, 6, 7, 8, 9]"
      ]
     },
     "execution_count": 5,
     "metadata": {},
     "output_type": "execute_result"
    }
   ],
   "source": [
    "lst"
   ]
  },
  {
   "cell_type": "code",
   "execution_count": 15,
   "id": "2db72219",
   "metadata": {},
   "outputs": [],
   "source": [
    "# sorting in Ascending/Descending order\n",
    "\n",
    "lst= [4,6,2,7,8,4,6,9]"
   ]
  },
  {
   "cell_type": "code",
   "execution_count": 17,
   "id": "170d1e48",
   "metadata": {},
   "outputs": [
    {
     "name": "stdout",
     "output_type": "stream",
     "text": [
      "New_list: [9, 8, 7, 6, 6, 4, 4, 2] \n",
      "\n",
      "Original_list: [4, 6, 2, 7, 8, 4, 6, 9]\n"
     ]
    }
   ],
   "source": [
    "# In python sort is always in ascending order\n",
    "# For sorting in dscending order we'll have to set reverse = True\n",
    "\n",
    "Reversed_lst = sorted(lst, reverse = True)\n",
    "print(\"New_list:\", Reversed_lst,\"\\n\")\n",
    "print(\"Original_list:\", lst)"
   ]
  },
  {
   "cell_type": "code",
   "execution_count": 12,
   "id": "618520b9",
   "metadata": {},
   "outputs": [
    {
     "data": {
      "text/plain": [
       "[9, 8, 7, 6, 6, 4, 4, 2]"
      ]
     },
     "execution_count": 12,
     "metadata": {},
     "output_type": "execute_result"
    }
   ],
   "source": [
    "lst.sort(reverse = True)\n",
    "lst"
   ]
  },
  {
   "cell_type": "code",
   "execution_count": 18,
   "id": "e9e351b7",
   "metadata": {},
   "outputs": [],
   "source": [
    "# sorting tuples\n",
    "# we know that tuples are immutable\n",
    "# So, we can't use sort method on tuple\n",
    "# but we can use sorted() function\n",
    "\n",
    "tup = (4,6,2,7,8,4,6,9)"
   ]
  },
  {
   "cell_type": "code",
   "execution_count": 19,
   "id": "51e20828",
   "metadata": {},
   "outputs": [
    {
     "ename": "AttributeError",
     "evalue": "'tuple' object has no attribute 'sort'",
     "output_type": "error",
     "traceback": [
      "\u001b[1;31m---------------------------------------------------------------------------\u001b[0m",
      "\u001b[1;31mAttributeError\u001b[0m                            Traceback (most recent call last)",
      "\u001b[1;32m<ipython-input-19-7e86438ed79d>\u001b[0m in \u001b[0;36m<module>\u001b[1;34m\u001b[0m\n\u001b[0;32m      1\u001b[0m \u001b[1;31m# So, when we use sort method on tuple, it gives an error\u001b[0m\u001b[1;33m\u001b[0m\u001b[1;33m\u001b[0m\u001b[1;33m\u001b[0m\u001b[0m\n\u001b[1;32m----> 2\u001b[1;33m \u001b[0mtup\u001b[0m\u001b[1;33m.\u001b[0m\u001b[0msort\u001b[0m\u001b[1;33m(\u001b[0m\u001b[1;33m)\u001b[0m\u001b[1;33m\u001b[0m\u001b[1;33m\u001b[0m\u001b[0m\n\u001b[0m",
      "\u001b[1;31mAttributeError\u001b[0m: 'tuple' object has no attribute 'sort'"
     ]
    }
   ],
   "source": [
    "# So, when we use sort method on tuple, it gives an error\n",
    "tup.sort()"
   ]
  },
  {
   "cell_type": "code",
   "execution_count": 21,
   "id": "920787c7",
   "metadata": {},
   "outputs": [
    {
     "name": "stdout",
     "output_type": "stream",
     "text": [
      "[2, 4, 4, 6, 6, 7, 8, 9]\n"
     ]
    }
   ],
   "source": [
    "# Now we'll use sorted() function\n",
    "# It'll give us a sorted list\n",
    "\n",
    "s_tup = sorted(tup)\n",
    "print(s_tup)    "
   ]
  },
  {
   "cell_type": "code",
   "execution_count": 22,
   "id": "ce4ae80d",
   "metadata": {},
   "outputs": [
    {
     "data": {
      "text/plain": [
       "{'shafin': 27, 'Anik': 28, 'Nahin': 20}"
      ]
     },
     "execution_count": 22,
     "metadata": {},
     "output_type": "execute_result"
    }
   ],
   "source": [
    "# sorting Dictionaries\n",
    "dic = {\"shafin\" : 27, \"Anik\" : 28, \"Nahin\" : 20}\n",
    "dic"
   ]
  },
  {
   "cell_type": "code",
   "execution_count": 24,
   "id": "f21223a4",
   "metadata": {},
   "outputs": [
    {
     "data": {
      "text/plain": [
       "['Anik', 'Nahin', 'shafin']"
      ]
     },
     "execution_count": 24,
     "metadata": {},
     "output_type": "execute_result"
    }
   ],
   "source": [
    "# Now, if we use sorted function, it;ll sort the dictionary keys\n",
    "sorted(dic)"
   ]
  },
  {
   "cell_type": "code",
   "execution_count": 25,
   "id": "5ab54159",
   "metadata": {},
   "outputs": [
    {
     "data": {
      "text/plain": [
       "[-9, -8, -7, -6, 2, 4, 4, 6]"
      ]
     },
     "execution_count": 25,
     "metadata": {},
     "output_type": "execute_result"
    }
   ],
   "source": [
    "# Key parameter\n",
    "lst = [-9, -8, -7, -6, 6, 4, 4, 2]\n",
    "sorted(lst)"
   ]
  },
  {
   "cell_type": "code",
   "execution_count": 26,
   "id": "5fe25e58",
   "metadata": {},
   "outputs": [
    {
     "data": {
      "text/plain": [
       "[2, 4, 4, -6, 6, -7, -8, -9]"
      ]
     },
     "execution_count": 26,
     "metadata": {},
     "output_type": "execute_result"
    }
   ],
   "source": [
    "sorted(lst, key = abs)"
   ]
  },
  {
   "cell_type": "code",
   "execution_count": 30,
   "id": "052630f9",
   "metadata": {},
   "outputs": [],
   "source": [
    "# Example:\n",
    "\n",
    "class Employee:\n",
    "    def __init__(self, name,age,salary):\n",
    "        self.name = name\n",
    "        self.age = age\n",
    "        self.salary = salary\n",
    "        \n",
    "    def __repr__(self):\n",
    "        return f\"{self.name} age {self.age} has a salary of {self.salary}\"\n",
    "    \n",
    "    \n",
    "e1 = Employee(\"Shafin\", 27, 40000) \n",
    "e2 = Employee(\"Anik\", 28, 35000) \n",
    "e3 = Employee(\"Nahin\", 20, 37500)\n",
    "\n"
   ]
  },
  {
   "cell_type": "code",
   "execution_count": 46,
   "id": "4ea2806b",
   "metadata": {},
   "outputs": [
    {
     "ename": "NameError",
     "evalue": "name 'employee' is not defined",
     "output_type": "error",
     "traceback": [
      "\u001b[1;31m---------------------------------------------------------------------------\u001b[0m",
      "\u001b[1;31mNameError\u001b[0m                                 Traceback (most recent call last)",
      "\u001b[1;32m<ipython-input-46-6b67e8724f69>\u001b[0m in \u001b[0;36m<module>\u001b[1;34m\u001b[0m\n\u001b[0;32m      1\u001b[0m \u001b[0mepmloyee\u001b[0m \u001b[1;33m=\u001b[0m \u001b[1;33m[\u001b[0m\u001b[0me1\u001b[0m\u001b[1;33m,\u001b[0m\u001b[0me2\u001b[0m\u001b[1;33m,\u001b[0m\u001b[0me3\u001b[0m\u001b[1;33m]\u001b[0m\u001b[1;33m\u001b[0m\u001b[1;33m\u001b[0m\u001b[0m\n\u001b[1;32m----> 2\u001b[1;33m \u001b[0msorted\u001b[0m\u001b[1;33m(\u001b[0m\u001b[0memployee\u001b[0m\u001b[1;33m)\u001b[0m\u001b[1;33m\u001b[0m\u001b[1;33m\u001b[0m\u001b[0m\n\u001b[0m",
      "\u001b[1;31mNameError\u001b[0m: name 'employee' is not defined"
     ]
    }
   ],
   "source": [
    "# now if we use the sorted function it'll give us an error\n",
    "# because we didn't fix the sorting key\n",
    "\n",
    "epmloyee = [e1,e2,e3]\n",
    "sorted(employee)"
   ]
  },
  {
   "cell_type": "code",
   "execution_count": 37,
   "id": "30feb45b",
   "metadata": {},
   "outputs": [
    {
     "data": {
      "text/plain": [
       "[Anik age 28 has a salary of 35000,\n",
       " Nahin age 20 has a salary of 37500,\n",
       " Shafin age 27 has a salary of 40000]"
      ]
     },
     "execution_count": 37,
     "metadata": {},
     "output_type": "execute_result"
    }
   ],
   "source": [
    "# We can fix this by creating a sorting function\n",
    "# Sorting by creating a function\n",
    "# our function will sort by name\n",
    "\n",
    "def srt(emp):\n",
    "    return emp.name\n",
    "\n",
    "epmloyee = [e1,e2,e3]\n",
    "sorted(epmloyee, key = srt)"
   ]
  },
  {
   "cell_type": "code",
   "execution_count": 40,
   "id": "13715c4b",
   "metadata": {},
   "outputs": [
    {
     "data": {
      "text/plain": [
       "[Anik age 28 has a salary of 35000,\n",
       " Nahin age 20 has a salary of 37500,\n",
       " Shafin age 27 has a salary of 40000]"
      ]
     },
     "execution_count": 40,
     "metadata": {},
     "output_type": "execute_result"
    }
   ],
   "source": [
    "# Sorting by creating lambda function\n",
    "\n",
    "epmloyee = [e1,e2,e3]\n",
    "sorted(epmloyee, key = lambda e : e.name)"
   ]
  },
  {
   "cell_type": "code",
   "execution_count": 42,
   "id": "b0cf9991",
   "metadata": {},
   "outputs": [
    {
     "data": {
      "text/plain": [
       "[Shafin age 27 has a salary of 40000,\n",
       " Nahin age 20 has a salary of 37500,\n",
       " Anik age 28 has a salary of 35000]"
      ]
     },
     "execution_count": 42,
     "metadata": {},
     "output_type": "execute_result"
    }
   ],
   "source": [
    "# sorting by highest salary\n",
    "\n",
    "epmloyee = [e1,e2,e3]\n",
    "sorted(epmloyee, key = lambda e : e.salary, reverse = True)"
   ]
  },
  {
   "cell_type": "code",
   "execution_count": 45,
   "id": "380d217c",
   "metadata": {},
   "outputs": [
    {
     "data": {
      "text/plain": [
       "[Nahin age 20 has a salary of 37500,\n",
       " Shafin age 27 has a salary of 40000,\n",
       " Anik age 28 has a salary of 35000]"
      ]
     },
     "execution_count": 45,
     "metadata": {},
     "output_type": "execute_result"
    }
   ],
   "source": [
    "# Sorting by importing attrgetter\n",
    "\n",
    "from operator import attrgetter\n",
    "epmloyee = [e1,e2,e3]\n",
    "\n",
    "# sorting by age\n",
    "sorted(epmloyee, key = attrgetter(\"age\"))"
   ]
  },
  {
   "cell_type": "code",
   "execution_count": null,
   "id": "24680129",
   "metadata": {},
   "outputs": [],
   "source": []
  },
  {
   "cell_type": "code",
   "execution_count": null,
   "id": "1c0b85a9",
   "metadata": {},
   "outputs": [],
   "source": []
  }
 ],
 "metadata": {
  "kernelspec": {
   "display_name": "Python 3",
   "language": "python",
   "name": "python3"
  },
  "language_info": {
   "codemirror_mode": {
    "name": "ipython",
    "version": 3
   },
   "file_extension": ".py",
   "mimetype": "text/x-python",
   "name": "python",
   "nbconvert_exporter": "python",
   "pygments_lexer": "ipython3",
   "version": "3.8.8"
  }
 },
 "nbformat": 4,
 "nbformat_minor": 5
}
