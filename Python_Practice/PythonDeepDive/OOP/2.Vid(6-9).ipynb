{
 "cells": [
  {
   "cell_type": "markdown",
   "id": "7124dc96-2180-4275-afb0-c6dedae8374b",
   "metadata": {
    "tags": []
   },
   "source": [
    "### Setting an attribute value to a callable (Methods)\n",
    "\n",
    "**_Methods are `attribute` of a class, which are also functions. Methods are callable_**\n",
    "```\n",
    "class MyClass:\n",
    "    language = 'Python'\n",
    "    \n",
    "    def say_hello():\n",
    "        print('Hello, world!')\n",
    "        \n",
    "MyClass.__dict__\n",
    ">>> mappingproxy({....all the attributes + new method 'say_hello()'...'say_hello()' will be type 'function'...})\n",
    "\n",
    "## Now we can call this method\n",
    "\n",
    "## 1st way: class.__dict__(NOT RECOMMENDED)\n",
    "my_func = MyClass.__dict__['say_hello']\n",
    "my_func()\n",
    ">>> 'Hello, world!'\n",
    "\n",
    "MyClass.__dict__['say_hello']()\n",
    ">>> 'Hello, world!'\n",
    "\n",
    "## 2nd way: getattr method(NOT RECOMMENDED)\n",
    "get_attr(MyClass, 'say_hello')()\n",
    ">>> 'Hello, world!'\n",
    "\n",
    "## 3rd way: dot notation(RECOMMENDED)\n",
    "MyClass.say_hello()\n",
    ">>> 'Hello, world!'\n",
    "```"
   ]
  },
  {
   "cell_type": "code",
   "execution_count": 1,
   "id": "1a5016c7-5ac2-4c34-afdf-6010f0ffd067",
   "metadata": {},
   "outputs": [],
   "source": [
    "class Program:\n",
    "    language = 'Python'\n",
    "    \n",
    "    def say_hello():\n",
    "        print(f'Hello from {Program.language}')"
   ]
  },
  {
   "cell_type": "code",
   "execution_count": 2,
   "id": "761463b5-0362-4a29-8e7b-dcc843ef05a0",
   "metadata": {},
   "outputs": [
    {
     "data": {
      "text/plain": [
       "mappingproxy({'__module__': '__main__',\n",
       "              'language': 'Python',\n",
       "              'say_hello': <function __main__.Program.say_hello()>,\n",
       "              '__dict__': <attribute '__dict__' of 'Program' objects>,\n",
       "              '__weakref__': <attribute '__weakref__' of 'Program' objects>,\n",
       "              '__doc__': None})"
      ]
     },
     "execution_count": 2,
     "metadata": {},
     "output_type": "execute_result"
    }
   ],
   "source": [
    "Program.__dict__"
   ]
  },
  {
   "cell_type": "code",
   "execution_count": 5,
   "id": "64fbbcdd-fff5-465c-a2b2-929b5e16ecd8",
   "metadata": {},
   "outputs": [
    {
     "data": {
      "text/plain": [
       "(<function __main__.Program.say_hello()>,\n",
       " <function __main__.Program.say_hello()>)"
      ]
     },
     "execution_count": 5,
     "metadata": {},
     "output_type": "execute_result"
    }
   ],
   "source": [
    "## retrieving the method\n",
    "Program.say_hello, getattr(Program, 'say_hello')"
   ]
  },
  {
   "cell_type": "code",
   "execution_count": 6,
   "id": "0b309107-3581-4a1f-a462-d937503b319c",
   "metadata": {},
   "outputs": [
    {
     "name": "stdout",
     "output_type": "stream",
     "text": [
      "Hello from Python\n"
     ]
    }
   ],
   "source": [
    "## calling the method\n",
    "Program.say_hello()"
   ]
  },
  {
   "cell_type": "code",
   "execution_count": 7,
   "id": "d3fe009a-db79-4514-8bc1-a75604dcb391",
   "metadata": {},
   "outputs": [
    {
     "name": "stdout",
     "output_type": "stream",
     "text": [
      "Hello from Python\n"
     ]
    }
   ],
   "source": [
    "getattr(Program, 'say_hello')()"
   ]
  },
  {
   "cell_type": "markdown",
   "id": "f3179d38-c757-49c5-bcbe-db8c8733ee54",
   "metadata": {},
   "source": [
    "**_Classes are Callable_**\n",
    "\n",
    "- When we create a class, python automatically adds some attributes and methods for that class. It also makes the class `callable`. The return value of that callable is an `object`. `Objects` are also callable by `__call__` method. The `objects` created by a class are also called the `instance` of that class.\n",
    "\n",
    "```\n",
    "class MyClass:\n",
    "    language = 'Python'\n",
    "    \n",
    "    def say_hello():\n",
    "        print('Hello, world!')\n",
    "        \n",
    "## Class instatiation/ object creation/ Instatiating a class\n",
    "my_obj = MyClass()\n",
    "type(my_obj)\n",
    ">>> 'MyClass'\n",
    "\n",
    "## Check if the object belongs to 'MyClass'\n",
    "isinstance(my_obj, MyClass)\n",
    ">>> True\n",
    "```\n",
    "\n",
    "- The object we created it'll have it's own namespace or dictionary. Which is different from it's own class's namespace/dictionary. Python also automatically creates some attributes for the object (`__dict__`, `__class__` etc)"
   ]
  },
  {
   "cell_type": "code",
   "execution_count": 8,
   "id": "35d7ff43-2d00-48cd-94b2-695027635e6c",
   "metadata": {},
   "outputs": [],
   "source": [
    "class Program:\n",
    "    language = 'Python'\n",
    "    \n",
    "    def say_hello():\n",
    "        print(f'Hello from {Program.language}')"
   ]
  },
  {
   "cell_type": "code",
   "execution_count": 10,
   "id": "733c3696-db36-4192-8bdd-d9fcdc3f8bf6",
   "metadata": {},
   "outputs": [
    {
     "name": "stdout",
     "output_type": "stream",
     "text": [
      "<class '__main__.Program'>\n"
     ]
    }
   ],
   "source": [
    "## Creating an object/instance of our class\n",
    "p = Program()\n",
    "\n",
    "## Check the type our object; It'll be our class\n",
    "print(type(p))"
   ]
  },
  {
   "cell_type": "code",
   "execution_count": 11,
   "id": "2cf40761-c044-4b72-879f-ffacc3bfee7e",
   "metadata": {},
   "outputs": [
    {
     "data": {
      "text/plain": [
       "True"
      ]
     },
     "execution_count": 11,
     "metadata": {},
     "output_type": "execute_result"
    }
   ],
   "source": [
    "## Check if it's an instance of our calss\n",
    "isinstance(p, Program)"
   ]
  },
  {
   "cell_type": "code",
   "execution_count": 12,
   "id": "969eab6a-1ec5-4792-b815-3d9bb32040ea",
   "metadata": {},
   "outputs": [
    {
     "data": {
      "text/plain": [
       "{}"
      ]
     },
     "execution_count": 12,
     "metadata": {},
     "output_type": "execute_result"
    }
   ],
   "source": [
    "## namespace of our object\n",
    "p.__dict__"
   ]
  },
  {
   "cell_type": "code",
   "execution_count": 13,
   "id": "bc96f9f1-d113-4e47-a27c-0363323c70f6",
   "metadata": {},
   "outputs": [
    {
     "data": {
      "text/plain": [
       "mappingproxy({'__module__': '__main__',\n",
       "              'language': 'Python',\n",
       "              'say_hello': <function __main__.Program.say_hello()>,\n",
       "              '__dict__': <attribute '__dict__' of 'Program' objects>,\n",
       "              '__weakref__': <attribute '__weakref__' of 'Program' objects>,\n",
       "              '__doc__': None})"
      ]
     },
     "execution_count": 13,
     "metadata": {},
     "output_type": "execute_result"
    }
   ],
   "source": [
    "Program.__dict__"
   ]
  },
  {
   "cell_type": "code",
   "execution_count": 14,
   "id": "ae14e79e-b447-4892-be65-5a783ac7a5b5",
   "metadata": {},
   "outputs": [
    {
     "data": {
      "text/plain": [
       "__main__.Program"
      ]
     },
     "execution_count": 14,
     "metadata": {},
     "output_type": "execute_result"
    }
   ],
   "source": [
    "p.__class__"
   ]
  },
  {
   "cell_type": "code",
   "execution_count": 15,
   "id": "c6eb3b3d-f803-45aa-bc07-c503753a3e54",
   "metadata": {},
   "outputs": [
    {
     "data": {
      "text/plain": [
       "True"
      ]
     },
     "execution_count": 15,
     "metadata": {},
     "output_type": "execute_result"
    }
   ],
   "source": [
    "type(p) == p.__class__"
   ]
  },
  {
   "cell_type": "code",
   "execution_count": 21,
   "id": "f6950cbe-9daf-482e-ae22-50250cf21a09",
   "metadata": {},
   "outputs": [
    {
     "name": "stdout",
     "output_type": "stream",
     "text": [
      "1st Test: Type -> <class '__main__.MyClass'> | __class__ -> <class '__main__.MyClass'> | Are they same?: True\n",
      "\n",
      "2nd Test: Type -> <class '__main__.MyClass'> | __class__ -> <class 'str'> | Are they same?: False\n"
     ]
    }
   ],
   "source": [
    "## obj.__class__ is not recommended\n",
    "## let's see an example\n",
    "\n",
    "class MyClass:\n",
    "    pass\n",
    "m = MyClass()\n",
    "print(f\"1st Test: Type -> {type(m)} | __class__ -> {m.__class__} | Are they same?: {type(m) == m.__class__}\\n\")\n",
    "\n",
    "## Anyone can change the __class__, so it's safe to use type(obj)\n",
    "class MyClass:\n",
    "    ## Changing the attribute of our object\n",
    "    __class__ = str\n",
    "\n",
    "m = MyClass()\n",
    "print(f\"2nd Test: Type -> {type(m)} | __class__ -> {m.__class__} | Are they same?: {type(m) == m.__class__}\")"
   ]
  },
  {
   "cell_type": "code",
   "execution_count": null,
   "id": "bf670085-67af-4e7b-bee6-72cf0565f2ef",
   "metadata": {},
   "outputs": [],
   "source": []
  }
 ],
 "metadata": {
  "kernelspec": {
   "display_name": "Python 3 (ipykernel)",
   "language": "python",
   "name": "python3"
  },
  "language_info": {
   "codemirror_mode": {
    "name": "ipython",
    "version": 3
   },
   "file_extension": ".py",
   "mimetype": "text/x-python",
   "name": "python",
   "nbconvert_exporter": "python",
   "pygments_lexer": "ipython3",
   "version": "3.8.13"
  }
 },
 "nbformat": 4,
 "nbformat_minor": 5
}
