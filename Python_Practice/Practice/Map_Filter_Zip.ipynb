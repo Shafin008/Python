{
 "cells": [
  {
   "cell_type": "markdown",
   "id": "d62c735e",
   "metadata": {},
   "source": [
    "## Map"
   ]
  },
  {
   "cell_type": "code",
   "execution_count": 8,
   "id": "391fd3f0",
   "metadata": {},
   "outputs": [
    {
     "name": "stdout",
     "output_type": "stream",
     "text": [
      "[4, 6, 8]\n"
     ]
    }
   ],
   "source": [
    "# Map function takes a function and a sequence as an input--->> map(a function, sequence)\n",
    "# That means it uses that function on that particular sequence\n",
    "# Map is transformer function, it takes a function to completely transform a sequence\n",
    "\n",
    "def double(value):\n",
    "    return 2*value\n",
    "\n",
    "def double_value(a_list):\n",
    "    new_list = map(double, a_list)\n",
    "    return list(new_list)\n",
    "\n",
    "lst = [2,3,4]\n",
    "new = double_value(lst)\n",
    "print(new)"
   ]
  },
  {
   "cell_type": "code",
   "execution_count": 11,
   "id": "3bac4820",
   "metadata": {},
   "outputs": [
    {
     "name": "stdout",
     "output_type": "stream",
     "text": [
      "[4, 6, 8]\n"
     ]
    }
   ],
   "source": [
    "def d_value(lst):\n",
    "    new_lst = map(lambda x : x*2, lst)\n",
    "    return list(new_lst)\n",
    "\n",
    "lst = [2,3,4]\n",
    "new = d_value(lst)\n",
    "print(new)"
   ]
  },
  {
   "cell_type": "code",
   "execution_count": 14,
   "id": "d44ba447",
   "metadata": {},
   "outputs": [
    {
     "name": "stdout",
     "output_type": "stream",
     "text": [
      "['USA', 'ESP', 'CHN', 'JPN', 'MEX', 'CAN', 'RUS', 'RSA', 'JAM']\n"
     ]
    }
   ],
   "source": [
    "abbrevs = [\"usa\", \"esp\", \"chn\", \"jpn\", \"mex\", \"can\", \"rus\", \"rsa\", \"jam\"]\n",
    "\n",
    "abbrevs_upper = map(lambda x : x.upper(), abbrevs)\n",
    "print(list(abbrevs_upper))"
   ]
  },
  {
   "cell_type": "markdown",
   "id": "02a0c2d5",
   "metadata": {},
   "source": [
    "## Filter"
   ]
  },
  {
   "cell_type": "code",
   "execution_count": 18,
   "id": "aee0281b",
   "metadata": {},
   "outputs": [
    {
     "data": {
      "text/plain": [
       "[4, 6, 0]"
      ]
     },
     "execution_count": 18,
     "metadata": {},
     "output_type": "execute_result"
    }
   ],
   "source": [
    "# Filter function takes a condition and a sequence as an input--->> map(a function, sequence)\n",
    "# That means it uses that condition on that particular sequence to filter it.\n",
    "# Filter function takes binary decisions, it keeps the value that matches the condition has been given\n",
    "\n",
    "def even(lst):\n",
    "    new_lst = []\n",
    "    for num in lst:\n",
    "        if num % 2 == 0:\n",
    "            new_lst.append(num)\n",
    "    return list(new_lst)\n",
    "\n",
    "a_lst = [3, 4, 6, 7, 0, 1]\n",
    "new = even(a_lst)\n",
    "new"
   ]
  },
  {
   "cell_type": "code",
   "execution_count": 26,
   "id": "0bad4c2a",
   "metadata": {},
   "outputs": [
    {
     "data": {
      "text/plain": [
       "[4, 6, 0]"
      ]
     },
     "execution_count": 26,
     "metadata": {},
     "output_type": "execute_result"
    }
   ],
   "source": [
    "a_lst = [3, 4, 6, 7, 0, 1]\n",
    "\n",
    "filterd_lst = list(filter(lambda x : x % 2==0, a_lst))\n",
    "filterd_lst"
   ]
  },
  {
   "cell_type": "code",
   "execution_count": 32,
   "id": "99aee50a",
   "metadata": {},
   "outputs": [
    {
     "name": "stdout",
     "output_type": "stream",
     "text": [
      "['watermelon', 'kiwi', 'strawberries']\n"
     ]
    }
   ],
   "source": [
    "lst_check = ['plums', 'watermelon', 'kiwi', 'strawberries', 'blueberries', 'peaches', 'apples', 'mangos', 'papaya']\n",
    "\n",
    "filter_testing = list(filter(lambda x : \"w\" in x, lst_check))\n",
    "print(filter_testing)"
   ]
  },
  {
   "cell_type": "markdown",
   "id": "ba5d2348",
   "metadata": {},
   "source": [
    "## Zip"
   ]
  },
  {
   "cell_type": "code",
   "execution_count": 35,
   "id": "a4ac72c8",
   "metadata": {},
   "outputs": [
    {
     "data": {
      "text/plain": [
       "[('Manjeet', 4), ('Nikhil', 1), ('Shambhavi', 3), ('Astha', 2)]"
      ]
     },
     "execution_count": 35,
     "metadata": {},
     "output_type": "execute_result"
    }
   ],
   "source": [
    "# Python zip() method takes iterable or containers and returns a single iterator object, ---\n",
    "# --- having mapped values from all the containers. \n",
    "# It is used to map the similar index of multiple containers so that they can be used just using a single entity. \n",
    "\n",
    "name = [ \"Manjeet\", \"Nikhil\", \"Shambhavi\", \"Astha\" ]\n",
    "roll_no = [ 4, 1, 3, 2 ]\n",
    "\n",
    "student_info = list(zip(name,roll_no))\n",
    "student_info"
   ]
  },
  {
   "cell_type": "code",
   "execution_count": null,
   "id": "d6006f95",
   "metadata": {},
   "outputs": [],
   "source": []
  },
  {
   "cell_type": "code",
   "execution_count": 36,
   "id": "4ca86eec",
   "metadata": {
    "scrolled": true
   },
   "outputs": [
    {
     "data": {
      "text/plain": [
       "[3, 6, 9]"
      ]
     },
     "execution_count": 36,
     "metadata": {},
     "output_type": "execute_result"
    }
   ],
   "source": [
    "# Suppose we want to add the elements of two lists\n",
    "l1 = [1,2,3]\n",
    "l2 = [2,4,6]\n",
    "l3 = []\n",
    "\n",
    "for i in range(len(l1)):\n",
    "    l3.append(l1[i] + l2[i])\n",
    "l3"
   ]
  },
  {
   "cell_type": "code",
   "execution_count": 38,
   "id": "312264b7",
   "metadata": {},
   "outputs": [
    {
     "data": {
      "text/plain": [
       "[3, 6, 9]"
      ]
     },
     "execution_count": 38,
     "metadata": {},
     "output_type": "execute_result"
    }
   ],
   "source": [
    "l1 = [1,2,3]\n",
    "l2 = [2,4,6]\n",
    "l3 = []\n",
    "for x1,x2 in zip(l1,l2):\n",
    "    l3.append(x1+x2)\n",
    "l3    "
   ]
  },
  {
   "cell_type": "code",
   "execution_count": 37,
   "id": "c9babedb",
   "metadata": {},
   "outputs": [
    {
     "data": {
      "text/plain": [
       "[3, 6, 9]"
      ]
     },
     "execution_count": 37,
     "metadata": {},
     "output_type": "execute_result"
    }
   ],
   "source": [
    "l1 = [1,2,3]\n",
    "l2 = [2,4,6]\n",
    "l3 = [x1+x2 for (x1,x2) in zip(l1,l2)]\n",
    "l3"
   ]
  },
  {
   "cell_type": "code",
   "execution_count": 39,
   "id": "40548dcd",
   "metadata": {},
   "outputs": [
    {
     "name": "stdout",
     "output_type": "stream",
     "text": [
      "Sachin scored 100 runs\n",
      "Sehwag scored 15 runs\n",
      "Gambhir scored 17 runs\n",
      "Dravid scored 28 runs\n",
      "Raina scored 43 runs\n"
     ]
    }
   ],
   "source": [
    "# initializing list of players.\n",
    "players = [\"Sachin\", \"Sehwag\", \"Gambhir\", \"Dravid\", \"Raina\"]\n",
    " \n",
    "# initializing their scores\n",
    "scores = [100, 15, 17, 28, 43]\n",
    " \n",
    "# printing players and scores.\n",
    "for pl, sc in zip(players, scores):\n",
    "    print(f\"{pl} scored {sc} runs\")"
   ]
  },
  {
   "cell_type": "code",
   "execution_count": null,
   "id": "51a3a4ad",
   "metadata": {},
   "outputs": [],
   "source": []
  }
 ],
 "metadata": {
  "kernelspec": {
   "display_name": "Python 3",
   "language": "python",
   "name": "python3"
  },
  "language_info": {
   "codemirror_mode": {
    "name": "ipython",
    "version": 3
   },
   "file_extension": ".py",
   "mimetype": "text/x-python",
   "name": "python",
   "nbconvert_exporter": "python",
   "pygments_lexer": "ipython3",
   "version": "3.8.8"
  }
 },
 "nbformat": 4,
 "nbformat_minor": 5
}
