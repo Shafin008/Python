{
 "cells": [
  {
   "cell_type": "markdown",
   "id": "861ff019",
   "metadata": {},
   "source": [
    "## Telusko"
   ]
  },
  {
   "cell_type": "markdown",
   "id": "38db0d32",
   "metadata": {},
   "source": [
    "### if we consider a computer, we can say that, the design of the computer is 'class' by which thousands of computers can be created and the computer is the 'object/instance'."
   ]
  },
  {
   "cell_type": "code",
   "execution_count": 1,
   "id": "bd037871",
   "metadata": {},
   "outputs": [
    {
     "data": {
      "text/plain": [
       "\" \\nConstructor: \\nWhen we create an object/instance, the system in our computer will allocate the object/instance a space in it's heap memory. All the objects \\nwe create are located in this memory. The size/memory of an object depends upon the number of variables/attributes we create. \\nConstructor is responsible to assign the memory of these objects. So, when we call the the class, it automatically calls \\nthe constructor __init__ to calculate and allocate the size of the object in the memory. \\n  \\n \""
      ]
     },
     "execution_count": 1,
     "metadata": {},
     "output_type": "execute_result"
    }
   ],
   "source": [
    "# Suppose, we want to build computers. So, first we have to build a class named computer with some attributes and methods\n",
    "\n",
    "# Then we have to build a constructor, this constructor will be carrying our main attributes. It's called __init__ method.\n",
    "''' \n",
    "Constructor: \n",
    "When we create an object/instance, the system in our computer will allocate the object/instance a space in it's heap memory. All the objects \n",
    "we create are located in this memory. The size/memory of an object depends upon the number of variables/attributes we create. \n",
    "Constructor is responsible to assign the memory of these objects. So, when we call the the class, it automatically calls \n",
    "the constructor __init__ to calculate and allocate the size of the object in the memory. \n",
    "  \n",
    " '''\n",
    "\n",
    "# then we'll create our methods/functions of the class"
   ]
  },
  {
   "cell_type": "code",
   "execution_count": 16,
   "id": "f9a94332",
   "metadata": {},
   "outputs": [],
   "source": [
    "\n",
    "\n",
    "class Computer:\n",
    "    \n",
    "    def __init__(self, ram, cpu):\n",
    "        self.ram = ram\n",
    "        self.cpu = cpu\n",
    "        \n",
    "    \n",
    "    \n",
    "    def config(self):\n",
    "        print(f\"Configuration: RAM is {self.ram}, Cpu is {self.cpu}\",)\n",
    "\n",
    "\n",
    "# Here, self.ram, self.cpu are instance variables"
   ]
  },
  {
   "cell_type": "code",
   "execution_count": 3,
   "id": "2ff168ea",
   "metadata": {},
   "outputs": [],
   "source": [
    "# so, now we can built our computers 'com1', com2 by using the class Computer.\n",
    "# com1 and com2 are objects/instances of class Computer\n",
    "# com1, com2 has the same design but differnet attributes\n",
    "com1 = Computer(\"16 gb\", \"intel core-i3\")\n",
    "com2 = Computer(\"12gb\", \"ryzen5\")"
   ]
  },
  {
   "cell_type": "code",
   "execution_count": 4,
   "id": "9217570d",
   "metadata": {},
   "outputs": [
    {
     "name": "stdout",
     "output_type": "stream",
     "text": [
      "<class '__main__.Computer'>\n"
     ]
    }
   ],
   "source": [
    "# If we see the type of com1, we can see that it belongs to class Computer\n",
    "\n",
    "print(type(com1))"
   ]
  },
  {
   "cell_type": "code",
   "execution_count": 5,
   "id": "2dd60ee0",
   "metadata": {},
   "outputs": [
    {
     "name": "stdout",
     "output_type": "stream",
     "text": [
      "Configuration: RAM is 16 gb, Cpu is intel core-i3\n",
      "Configuration: RAM is 12gb, Cpu is ryzen5\n"
     ]
    }
   ],
   "source": [
    "# Now, if we want to see the what our computer com1 and com2's function, we have to do this-\n",
    "\n",
    "Computer.config(com1)\n",
    "Computer.config(com2)\n",
    "\n",
    "# But we'll not follow this way because com1 and com2 are already in Computer class, we don't need to write Computer again"
   ]
  },
  {
   "cell_type": "code",
   "execution_count": 6,
   "id": "9e1df021",
   "metadata": {},
   "outputs": [
    {
     "name": "stdout",
     "output_type": "stream",
     "text": [
      "Configuration: RAM is 16 gb, Cpu is intel core-i3\n",
      "Configuration: RAM is 12gb, Cpu is ryzen5\n"
     ]
    }
   ],
   "source": [
    "# we can do this another way, which is the proper way--\n",
    "\n",
    "com1.config()\n",
    "com2.config()\n",
    "\n",
    "# as com1 and com2 are already in the Computer class, \n",
    "# the method config is taking com1 and com2 as it's param and passed to 'self' param."
   ]
  },
  {
   "cell_type": "markdown",
   "id": "cd6a82d6",
   "metadata": {},
   "source": [
    "### Instance Variable"
   ]
  },
  {
   "cell_type": "code",
   "execution_count": 7,
   "id": "96eac7d7",
   "metadata": {},
   "outputs": [
    {
     "name": "stdout",
     "output_type": "stream",
     "text": [
      "8 BMW\n",
      "10 Toyota\n"
     ]
    }
   ],
   "source": [
    "# Instance variables can be differnt for different objects\n",
    "\n",
    "class Car:\n",
    "    def __init__(self):\n",
    "        self.mileage = 10\n",
    "        self.company = 'BMW'\n",
    "\n",
    "car1 = Car()\n",
    "car2 = Car()\n",
    "\n",
    "# Now, self.mileage and self.company are instance variables, they can be changed if we want to cahnge their assigned value\n",
    "\n",
    "car1.mileage = 8\n",
    "car2.company =\"Toyota\"\n",
    "\n",
    "print(car1.mileage, car1.company)\n",
    "print(car2.mileage, car2.company)\n"
   ]
  },
  {
   "cell_type": "markdown",
   "id": "ba2d7ebe",
   "metadata": {},
   "source": [
    "## Class Variables"
   ]
  },
  {
   "cell_type": "code",
   "execution_count": 8,
   "id": "95b052bb",
   "metadata": {},
   "outputs": [
    {
     "name": "stdout",
     "output_type": "stream",
     "text": [
      "8 BMW 4\n",
      "10 Toyota 4\n"
     ]
    }
   ],
   "source": [
    "'''\n",
    "\n",
    "if we want to create variables that are common to all the objects that's called a class variable. Class variables are created \n",
    "between the class and the constructor. So, in order to change the class variable we have to call the class.\n",
    "\n",
    "'''\n",
    "class Car:\n",
    "    wheels = 4\n",
    "    def __init__(self):\n",
    "        self.mileage = 10\n",
    "        self.company = 'BMW'\n",
    "\n",
    "car1 = Car()\n",
    "car2 = Car()\n",
    "\n",
    "# Now, self.mileage and self.company are instance variables, they can be changed if we want to cahnge their assigned value\n",
    "\n",
    "car1.mileage = 8\n",
    "car2.company =\"Toyota\"\n",
    "\n",
    "print(car1.mileage, car1.company, car1.wheels)\n",
    "print(car2.mileage, car2.company, car2.wheels)\n"
   ]
  },
  {
   "cell_type": "code",
   "execution_count": 9,
   "id": "1a6806bc",
   "metadata": {},
   "outputs": [
    {
     "name": "stdout",
     "output_type": "stream",
     "text": [
      "8 BMW 3\n",
      "10 Toyota 3\n"
     ]
    }
   ],
   "source": [
    "# Now, if we want to change the class variable we have to call the class--\n",
    "\n",
    "Car.wheels = 3\n",
    "\n",
    "# Now,class variable wheels will change\n",
    "print(car1.mileage, car1.company, car1.wheels)\n",
    "print(car2.mileage, car2.company, car2.wheels)"
   ]
  },
  {
   "cell_type": "markdown",
   "id": "285dae07",
   "metadata": {},
   "source": [
    "## Methods"
   ]
  },
  {
   "cell_type": "markdown",
   "id": "63902fae",
   "metadata": {},
   "source": [
    "### Instance Method"
   ]
  },
  {
   "cell_type": "code",
   "execution_count": 10,
   "id": "3e28b0d2",
   "metadata": {},
   "outputs": [],
   "source": [
    "# First we'll create a student class and create a method to find out the avg marks of the students"
   ]
  },
  {
   "cell_type": "code",
   "execution_count": 11,
   "id": "24cbb37a",
   "metadata": {},
   "outputs": [
    {
     "name": "stdout",
     "output_type": "stream",
     "text": [
      "66.0 73.66666666666667\n"
     ]
    }
   ],
   "source": [
    "class student:\n",
    "    def __init__(self, m1, m2, m3):\n",
    "        self.m1 = m1\n",
    "        self.m2 = m2 \n",
    "        self.m3 = m3\n",
    "        \n",
    "    def avg_marks(self):\n",
    "        return (self.m1 + self.m2 + self.m3)/3\n",
    "\n",
    "'''\n",
    "The avg_marks method is an instance method, because it belongs to the objects(self) and it works with the objects\n",
    "'''    \n",
    "    \n",
    "    \n",
    "s1 = student(55,66,77)\n",
    "s2 = student(44,89,88)\n",
    "\n",
    "print(s1.avg_marks(), s2.avg_marks())"
   ]
  },
  {
   "cell_type": "markdown",
   "id": "4912fe50",
   "metadata": {},
   "source": [
    "### Class Method"
   ]
  },
  {
   "cell_type": "code",
   "execution_count": 12,
   "id": "d306b042",
   "metadata": {},
   "outputs": [
    {
     "name": "stdout",
     "output_type": "stream",
     "text": [
      "CCPC\n"
     ]
    }
   ],
   "source": [
    "'''\n",
    "If you are working with class variable, you can create a class method. For instance method we worked with object(self), but now \n",
    "we'll work with class(cls).\n",
    "\n",
    "We have to use a special decorator called @classmethod to create a class method and instead of self as a parameter\n",
    "we have to use cls.\n",
    "\n",
    "'''\n",
    "\n",
    "class student:\n",
    "    \n",
    "    school = \"CCPC\"\n",
    "    \n",
    "    def __init__(self, m1, m2, m3):\n",
    "        self.m1 = m1\n",
    "        self.m2 = m2 \n",
    "        self.m3 = m3\n",
    "        \n",
    "    def avg_marks(self):\n",
    "        return (self.m1 + self.m2 + self.m3)/3\n",
    "\n",
    "      \n",
    "    @classmethod\n",
    "    def school_name(cls):\n",
    "        return cls.school\n",
    "\n",
    "\n",
    "s1 = student(55,66,77)\n",
    "s2 = student(44,89,88)\n",
    "\n",
    "print(student.school_name())"
   ]
  },
  {
   "cell_type": "markdown",
   "id": "1a446040",
   "metadata": {},
   "source": [
    "### Static Method"
   ]
  },
  {
   "cell_type": "code",
   "execution_count": 13,
   "id": "34753ed2",
   "metadata": {},
   "outputs": [
    {
     "name": "stdout",
     "output_type": "stream",
     "text": [
      "CCPC\n",
      "It's one of the top schools in ctg.\n"
     ]
    }
   ],
   "source": [
    "'''\n",
    "If we want to work with a variable that has nothing to do with instance or class method, we can create a static method.\n",
    "To create a static method we have to use a decorator called @staticmethod. You can have no parameters on the method.\n",
    "\n",
    "'''\n",
    "\n",
    "class student:\n",
    "    \n",
    "    school = \"CCPC\"\n",
    "    \n",
    "    def __init__(self, m1, m2, m3):\n",
    "        self.m1 = m1\n",
    "        self.m2 = m2 \n",
    "        self.m3 = m3\n",
    "        \n",
    "    def avg_marks(self):\n",
    "        return (self.m1 + self.m2 + self.m3)/3\n",
    "\n",
    "      \n",
    "    @classmethod\n",
    "    def school_name(cls):\n",
    "        return cls.school\n",
    "    \n",
    "    @staticmethod\n",
    "    def info():\n",
    "        return \"It's one of the top schools in ctg.\"\n",
    "\n",
    "\n",
    "s1 = student(55,66,77)\n",
    "s2 = student(44,89,88)\n",
    "\n",
    "print(student.school_name())\n",
    "print(student.info())"
   ]
  },
  {
   "cell_type": "markdown",
   "id": "52ef4be2",
   "metadata": {},
   "source": [
    "## Inner class(class inside a class)"
   ]
  },
  {
   "cell_type": "code",
   "execution_count": 14,
   "id": "628fcc3e",
   "metadata": {},
   "outputs": [
    {
     "name": "stdout",
     "output_type": "stream",
     "text": [
      "('shafin', 114) ('anik', 118)\n"
     ]
    }
   ],
   "source": [
    "class student:\n",
    "    def __init__(self, name, roll):\n",
    "        self.name = name\n",
    "        self.roll = roll\n",
    "        \n",
    "    def show(self):\n",
    "        return self.name, self.roll\n",
    "\n",
    "s1 = student(\"shafin\", 114)\n",
    "s2 = student(\"anik\", 118)\n",
    "\n",
    "print(s1.show(), s2.show())\n"
   ]
  },
  {
   "cell_type": "code",
   "execution_count": 15,
   "id": "3aef900e",
   "metadata": {},
   "outputs": [
    {
     "name": "stdout",
     "output_type": "stream",
     "text": [
      "('shafin', 114) ('anik', 118)\n",
      "('hp', 8, 'ryzen3')\n",
      "('dell', 16, 'i3')\n"
     ]
    }
   ],
   "source": [
    "class student:\n",
    "    def __init__(self, name, roll):\n",
    "        self.name = name\n",
    "        self.roll = roll\n",
    "        self.lap = self.laptop()\n",
    "        \n",
    "    def show(self):\n",
    "        return self.name, self.roll\n",
    "    \n",
    "    class laptop:\n",
    "        def __init__(self):\n",
    "            self.brand = 'hp'\n",
    "            self.ram = 16\n",
    "            self.cpu = 'i9'\n",
    "        \n",
    "        def config(self,brand,ram,cpu):\n",
    "            self.brand = brand\n",
    "            self.ram = ram\n",
    "            self.cpu = cpu\n",
    "            return self.brand, self.ram, self.cpu\n",
    "\n",
    "s1 = student(\"shafin\", 114)\n",
    "s2 = student(\"anik\", 118)\n",
    "print(s1.show(), s2.show())        \n",
    "        \n",
    "lap1 = student.laptop()\n",
    "lap2 = student.laptop()\n",
    "\n",
    "s1_lap1 = lap1.config(\"hp\", 8, \"ryzen3\")\n",
    "s2_lap2 = lap2.config(\"dell\", 16, 'i3')\n",
    "print(s1_lap1)\n",
    "print(s2_lap2)\n"
   ]
  }
 ],
 "metadata": {
  "kernelspec": {
   "display_name": "Python 3",
   "language": "python",
   "name": "python3"
  },
  "language_info": {
   "codemirror_mode": {
    "name": "ipython",
    "version": 3
   },
   "file_extension": ".py",
   "mimetype": "text/x-python",
   "name": "python",
   "nbconvert_exporter": "python",
   "pygments_lexer": "ipython3",
   "version": "3.8.8"
  }
 },
 "nbformat": 4,
 "nbformat_minor": 5
}
