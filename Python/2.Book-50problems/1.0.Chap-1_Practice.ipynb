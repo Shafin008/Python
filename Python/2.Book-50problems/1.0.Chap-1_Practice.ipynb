{
 "cells": [
  {
   "cell_type": "markdown",
   "id": "2a7720b6-f598-47e6-9bf5-fc36b4d7331e",
   "metadata": {
    "tags": []
   },
   "source": [
    "# **Random**"
   ]
  },
  {
   "cell_type": "code",
   "execution_count": 1,
   "id": "2ccbd82f-ef65-4baf-809b-73d95397a65f",
   "metadata": {},
   "outputs": [],
   "source": [
    "import random"
   ]
  },
  {
   "cell_type": "markdown",
   "id": "c169cdf2-cbc8-4945-8507-83b4743292fc",
   "metadata": {},
   "source": [
    "## random.random()\n",
    "\n",
    "***The random() method returns a random floating number between 0 and 1.***"
   ]
  },
  {
   "cell_type": "code",
   "execution_count": 32,
   "id": "5d7f2834-1811-4d7d-b54b-befd777d1c02",
   "metadata": {},
   "outputs": [
    {
     "name": "stdout",
     "output_type": "stream",
     "text": [
      "0.05057294182209637\n"
     ]
    }
   ],
   "source": [
    "print(random.random())"
   ]
  },
  {
   "cell_type": "markdown",
   "id": "ec4c4e43-ce58-4ef7-8042-fcd3faafc0e9",
   "metadata": {},
   "source": [
    "## random.uniform(a = A number specifying the lowest possible outcome, b = A number specifying the highest possible outcome)\n",
    "\n",
    "***The uniform() method returns a random floating number between the two specified numbers (both included).***"
   ]
  },
  {
   "cell_type": "code",
   "execution_count": 33,
   "id": "e6b3b5dc-f503-4c1f-a5ad-e793a011b20e",
   "metadata": {},
   "outputs": [
    {
     "name": "stdout",
     "output_type": "stream",
     "text": [
      "23.70973621368767\n"
     ]
    }
   ],
   "source": [
    "print(random.uniform(20, 60))"
   ]
  },
  {
   "cell_type": "markdown",
   "id": "d914d1dd-653c-4047-8fa2-0c0e428fa9d0",
   "metadata": {
    "tags": []
   },
   "source": [
    "## random.seed(a, version)\n",
    "\n",
    "***The seed() method is used to initialize the random number generator.***"
   ]
  },
  {
   "cell_type": "code",
   "execution_count": 4,
   "id": "9d3cc4f1-6937-45b5-ab81-be7ec5367160",
   "metadata": {},
   "outputs": [
    {
     "name": "stdout",
     "output_type": "stream",
     "text": [
      "0.5714025946899135\n",
      "0.5714025946899135\n"
     ]
    }
   ],
   "source": [
    "random.seed(10)\n",
    "print(random.random())\n",
    "\n",
    "random.seed(10)\n",
    "print(random.random())"
   ]
  },
  {
   "cell_type": "markdown",
   "id": "daade72c-8a61-475e-92ee-6d9fcdd1ab2e",
   "metadata": {},
   "source": [
    "## random.randrange(start, stop, step)\n",
    "\n",
    "***The randrange() method Return a randomly selected element from range(start, stop, step). This is equivalent to choice(range(start, stop, step)), but doesn’t actually build a range object.***"
   ]
  },
  {
   "cell_type": "code",
   "execution_count": 35,
   "id": "c634ee01-8301-4800-b3de-b06ae7722f50",
   "metadata": {},
   "outputs": [
    {
     "name": "stdout",
     "output_type": "stream",
     "text": [
      "3\n"
     ]
    }
   ],
   "source": [
    "## Return a number between 3 and 9:\n",
    "print(random.randrange(3,9))"
   ]
  },
  {
   "cell_type": "markdown",
   "id": "d0aaf688-baa3-4457-a413-26ed31eac647",
   "metadata": {},
   "source": [
    "## random.randint(start, stop)\n",
    "\n",
    "***The randint() method returns an integer number selected element from the specified range. This method is an alias for randrange(start, stop+1).***"
   ]
  },
  {
   "cell_type": "code",
   "execution_count": 24,
   "id": "ca9d4552-e61a-480e-bac6-433c1bc3cc77",
   "metadata": {},
   "outputs": [
    {
     "name": "stdout",
     "output_type": "stream",
     "text": [
      "5\n"
     ]
    }
   ],
   "source": [
    "print(random.randint(3, 9))"
   ]
  },
  {
   "cell_type": "markdown",
   "id": "6a357e51-7c8f-4548-9c73-08699e17d805",
   "metadata": {
    "tags": []
   },
   "source": [
    "## random.choice(sequence)\n",
    "\n",
    "***The choice() method returns a randomly selected element from the specified sequence. The sequence can be a string, a range, a list, a tuple or any other kind of sequence.***"
   ]
  },
  {
   "cell_type": "code",
   "execution_count": 9,
   "id": "bf89a665-8f94-4aac-a407-dce241303026",
   "metadata": {},
   "outputs": [
    {
     "name": "stdout",
     "output_type": "stream",
     "text": [
      "apple\n"
     ]
    }
   ],
   "source": [
    "mylist = [\"apple\", \"banana\", \"cherry\"]\n",
    "print(random.choice(mylist))"
   ]
  },
  {
   "cell_type": "code",
   "execution_count": 13,
   "id": "e3a298e7-2c0a-48cd-8090-fcdee20f53d6",
   "metadata": {},
   "outputs": [
    {
     "name": "stdout",
     "output_type": "stream",
     "text": [
      "5\n"
     ]
    }
   ],
   "source": [
    "print(random.choice(range(3,9)))"
   ]
  },
  {
   "cell_type": "code",
   "execution_count": 15,
   "id": "22c34b4d-4871-4fe6-bfce-80a8f08eb1ac",
   "metadata": {},
   "outputs": [
    {
     "name": "stdout",
     "output_type": "stream",
     "text": [
      "E\n"
     ]
    }
   ],
   "source": [
    "x = \"WELCOME\"\n",
    "print(random.choice(x))"
   ]
  },
  {
   "cell_type": "markdown",
   "id": "002853e4-3831-4df0-99df-fc4e674af0fc",
   "metadata": {},
   "source": [
    "## random.choices(sequence, weights=None, cum_weights=None, k= 1= (Optional)An integer defining the length of the returned list)\n",
    "\n",
    "***The choices() method returns a list with the randomly selected element from the specified sequence. You can weigh the possibility of each result with the weights parameter or the cum_weights parameter. The sequence can be a string, a range, a list, a tuple or any other kind of sequence.***"
   ]
  },
  {
   "cell_type": "code",
   "execution_count": 22,
   "id": "0b5121a0-4722-4070-94cc-e4f3002725fb",
   "metadata": {},
   "outputs": [
    {
     "name": "stdout",
     "output_type": "stream",
     "text": [
      "['apple', 'banana', 'cherry']\n",
      "3\n",
      "['banana']\n",
      "1\n"
     ]
    }
   ],
   "source": [
    "mylist = [\"apple\", \"banana\", \"cherry\"]\n",
    "newlist = random.choices(mylist)\n",
    "print(mylist)\n",
    "print(len(mylist))\n",
    "print(newlist)\n",
    "print(len(newlist))"
   ]
  },
  {
   "cell_type": "code",
   "execution_count": 21,
   "id": "bf161c58-909e-4c11-8adb-9b385aae9b7a",
   "metadata": {},
   "outputs": [
    {
     "name": "stdout",
     "output_type": "stream",
     "text": [
      "['apple', 'banana', 'cherry']\n",
      "3\n",
      "['apple', 'apple', 'banana', 'apple', 'cherry', 'banana', 'apple', 'banana', 'cherry', 'banana', 'banana', 'apple', 'banana', 'apple', 'apple']\n",
      "15\n"
     ]
    }
   ],
   "source": [
    "mylist = [\"apple\", \"banana\", \"cherry\"]\n",
    "newlist = random.choices(mylist, weights = [7, 5, 3], k = 15)\n",
    "print(mylist)\n",
    "print(len(mylist))\n",
    "print(newlist)\n",
    "print(len(newlist))"
   ]
  },
  {
   "cell_type": "markdown",
   "id": "40de2293-3e0c-44f6-ac7d-6283e06686a9",
   "metadata": {
    "tags": []
   },
   "source": [
    "## random.shuffle(sequence)\n",
    "\n",
    "***The shuffle() method takes a sequence, like a list, and reorganize the order of the items. This method changes the original list, it does not return a new list.***\n",
    "\n"
   ]
  },
  {
   "cell_type": "code",
   "execution_count": 28,
   "id": "0efa40d8-c07a-4c1f-8b80-84d28cb7e48b",
   "metadata": {},
   "outputs": [
    {
     "name": "stdout",
     "output_type": "stream",
     "text": [
      "['cherry', 'banana', 'apple']\n"
     ]
    }
   ],
   "source": [
    "mylist = [\"apple\", \"banana\", \"cherry\"]\n",
    "random.shuffle(mylist)\n",
    "print(mylist)"
   ]
  },
  {
   "cell_type": "markdown",
   "id": "5cffa436-aff1-46ff-9eb3-a21469e0aee1",
   "metadata": {},
   "source": [
    "## random.sample(sequence, k=The size of the returned list)\n",
    "\n",
    "***The sample() method returns a list with a randomly selection of a specified number of items from a sequence. This method does not change the original sequence.***"
   ]
  },
  {
   "cell_type": "code",
   "execution_count": 31,
   "id": "bde71bfa-53c1-4e16-9801-b49955404e5d",
   "metadata": {},
   "outputs": [
    {
     "name": "stdout",
     "output_type": "stream",
     "text": [
      "['banana', 'apple']\n"
     ]
    }
   ],
   "source": [
    "mylist = [\"apple\", \"banana\", \"cherry\"]\n",
    "print(random.sample(mylist, k=2))"
   ]
  },
  {
   "cell_type": "markdown",
   "id": "5bdccdb4-15b1-4b6a-b44d-a4ed1c20896d",
   "metadata": {},
   "source": []
  },
  {
   "cell_type": "markdown",
   "id": "de845d88-3219-409e-99ed-b259d88e4ee6",
   "metadata": {},
   "source": [
    "# **Python{*} or Asterisk Operator**\n",
    "\n",
    "**Unpacking a function using positional argument.**\n",
    "\n",
    "This method is very useful while printing your data in a raw format (without any comma and brackets ). Many of the programmer try to remove comma and bracket by using a convolution of functions, Hence this simple prefix asterisk can solve your problem in unpacking them. "
   ]
  },
  {
   "cell_type": "code",
   "execution_count": 1,
   "id": "3bb00090-4d99-4ad7-b8f6-81426223b259",
   "metadata": {},
   "outputs": [
    {
     "name": "stdout",
     "output_type": "stream",
     "text": [
      "sunday monday tuesday wednesday\n"
     ]
    }
   ],
   "source": [
    "arr = ['sunday', 'monday', 'tuesday', 'wednesday']\n",
    "\n",
    "# using asterisk\n",
    "print (*arr)\n"
   ]
  },
  {
   "cell_type": "code",
   "execution_count": 3,
   "id": "aafbfc10-fbf8-44e4-86aa-ef4607ef8ae6",
   "metadata": {},
   "outputs": [
    {
     "name": "stdout",
     "output_type": "stream",
     "text": [
      "41\n"
     ]
    }
   ],
   "source": [
    "# using asterisk\n",
    "def addition(*args):\n",
    "    return sum(args)\n",
    "\n",
    "print(addition(5, 10, 20, 6))"
   ]
  },
  {
   "cell_type": "code",
   "execution_count": 5,
   "id": "eccf6cbe-3b8f-4898-a43c-f4dd9a9c3a38",
   "metadata": {},
   "outputs": [
    {
     "name": "stdout",
     "output_type": "stream",
     "text": [
      "cherry is a fruit\n",
      "potato is a vegetable\n",
      "srikrishna is a boy\n"
     ]
    }
   ],
   "source": [
    "# using asterisk\n",
    "def food(**kwargs):\n",
    "    for items in kwargs:\n",
    "        print(f\"{kwargs[items]} is a {items}\")\n",
    "\n",
    "food(fruit = 'cherry', vegetable = 'potato', boy = 'srikrishna')"
   ]
  },
  {
   "cell_type": "code",
   "execution_count": null,
   "id": "cdea65aa-aec7-400c-b9e5-29eb3755287b",
   "metadata": {},
   "outputs": [],
   "source": [
    "enumerate, reversed"
   ]
  },
  {
   "cell_type": "markdown",
   "id": "1ecc395c-ee64-4258-abec-67af1dd72d0a",
   "metadata": {},
   "source": [
    "# **hex(number:int)**\n",
    "\n",
    "***The hex() function converts the specified number into a hexadecimal value. The returned string always starts with the prefix 0x.***"
   ]
  },
  {
   "cell_type": "code",
   "execution_count": 2,
   "id": "39dcc31e-d7df-4b3b-9509-fff4f6411281",
   "metadata": {},
   "outputs": [
    {
     "name": "stdout",
     "output_type": "stream",
     "text": [
      "0xff\n"
     ]
    }
   ],
   "source": [
    "## Convert 255 into hexadecimal value:\n",
    "x = hex(255)\n",
    "print(x)"
   ]
  },
  {
   "cell_type": "code",
   "execution_count": 14,
   "id": "f1d1d47c-55ce-465a-b8aa-60c66b9c6463",
   "metadata": {},
   "outputs": [
    {
     "data": {
      "text/plain": [
       "4951"
      ]
     },
     "execution_count": 14,
     "metadata": {},
     "output_type": "execute_result"
    }
   ],
   "source": [
    "## 4951 ->> base 10\n",
    "1 * 10**0 + 5 * 10**1 + 9 * 10**2 + 4 * 10**3"
   ]
  },
  {
   "cell_type": "code",
   "execution_count": 15,
   "id": "bf5ad0d8-f238-412f-9553-153bccaf5c51",
   "metadata": {},
   "outputs": [
    {
     "data": {
      "text/plain": [
       "4951"
      ]
     },
     "execution_count": 15,
     "metadata": {},
     "output_type": "execute_result"
    }
   ],
   "source": [
    "## 0x1357 ->> base 16\n",
    "7 * 16**0 + 5 * 16**1 + 3*16**2 + 1*16**3"
   ]
  },
  {
   "cell_type": "markdown",
   "id": "d00c5e63-b474-4be5-9f0c-4b13ec04ab7d",
   "metadata": {},
   "source": [
    "# **enumerate(iterable, start=A Number. Defining the start number of the enumerate object. Default 0)**\n",
    "\n",
    "***The enumerate() function takes a collection (e.g. a tuple) and returns it as an enumerate object. The enumerate() function adds a counter as the key of the enumerate object.***"
   ]
  },
  {
   "cell_type": "code",
   "execution_count": 4,
   "id": "12e82021-9acb-4c6a-a454-63b624032572",
   "metadata": {},
   "outputs": [
    {
     "name": "stdout",
     "output_type": "stream",
     "text": [
      "<enumerate object at 0x106291000>\n",
      "<enumerate object at 0x106292440>\n",
      "<class 'enumerate'>\n"
     ]
    }
   ],
   "source": [
    "l1 = [\"eat\", \"sleep\", \"repeat\"]\n",
    "s1 = \"geek\"\n",
    "\n",
    "obj1 = enumerate(l1)\n",
    "print(obj1)\n",
    "obj2 = enumerate(s1)\n",
    "print(obj2)\n",
    "print(type(obj1))"
   ]
  },
  {
   "cell_type": "code",
   "execution_count": 5,
   "id": "0f161b6b-39af-4022-a50d-3b94f19d83d0",
   "metadata": {},
   "outputs": [
    {
     "name": "stdout",
     "output_type": "stream",
     "text": [
      "[(0, 'eat'), (1, 'sleep'), (2, 'repeat')]\n",
      "[(0, 'g'), (1, 'e'), (2, 'e'), (3, 'k')]\n"
     ]
    }
   ],
   "source": [
    "## This enumerated object can then be used directly for loops or converted into a list of tuples using the list() function.\n",
    "print(list(obj1))\n",
    "print(list(obj2))"
   ]
  },
  {
   "cell_type": "code",
   "execution_count": 6,
   "id": "915d6696-29d3-422b-84cc-4a7a2918a8ee",
   "metadata": {},
   "outputs": [
    {
     "name": "stdout",
     "output_type": "stream",
     "text": [
      "(0, 'eat')\n",
      "(1, 'sleep')\n",
      "(2, 'repeat')\n"
     ]
    }
   ],
   "source": [
    "## Using Enumerate object in loops:\n",
    "l1 = [\"eat\", \"sleep\", \"repeat\"]\n",
    "  \n",
    "# printing the tuples in object directly\n",
    "for ele in enumerate(l1):\n",
    "    print(ele)"
   ]
  },
  {
   "cell_type": "code",
   "execution_count": 8,
   "id": "64e2724d-a78f-4b50-8ab5-ed964bfdb4ed",
   "metadata": {},
   "outputs": [
    {
     "name": "stdout",
     "output_type": "stream",
     "text": [
      "100 eat\n",
      "101 sleep\n",
      "102 repeat\n"
     ]
    }
   ],
   "source": [
    "# changing index and printing separately\n",
    "for count, ele in enumerate(l1, start= 100):\n",
    "    print (count, ele)"
   ]
  },
  {
   "cell_type": "markdown",
   "id": "e83510ff-bc49-4a50-95dc-cf66d4302ee1",
   "metadata": {},
   "source": [
    "# **reversed(sequence)**\n",
    "\n",
    "***The reversed() function returns a reversed iterator object.***"
   ]
  },
  {
   "cell_type": "code",
   "execution_count": 9,
   "id": "d4dfad0a-1c44-4bca-aea9-e8aa835db683",
   "metadata": {},
   "outputs": [
    {
     "name": "stdout",
     "output_type": "stream",
     "text": [
      "d\n",
      "c\n",
      "b\n",
      "a\n"
     ]
    }
   ],
   "source": [
    "alph = [\"a\", \"b\", \"c\", \"d\"]\n",
    "ralph = reversed(alph)\n",
    "for x in ralph:\n",
    "    print(x)"
   ]
  },
  {
   "cell_type": "code",
   "execution_count": 11,
   "id": "bd651571-b574-48c0-8a6e-c8281bc76f65",
   "metadata": {},
   "outputs": [
    {
     "name": "stdout",
     "output_type": "stream",
     "text": [
      "['s', 'k', 'e', 'e', 'g']\n",
      "[4, 3, 2, 1]\n",
      "['l', 'a', 'l', 'a', 'J', ' ', 'd', 'u', 'm', 'h', 'a', 'M', ' ', 'n', 'i', 'f', 'a', 'h', 'S']\n"
     ]
    }
   ],
   "source": [
    "# For tuple\n",
    "seqTuple = ('g', 'e', 'e', 'k', 's')\n",
    "print(list(reversed(seqTuple)))\n",
    "\n",
    "# For range\n",
    "seqRange = range(1, 5)\n",
    "print(list(reversed(seqRange)))\n",
    "\n",
    "## reversed string\n",
    "name = \"Shafin Mahmud Jalal\"\n",
    "print(list(reversed(name)))"
   ]
  },
  {
   "cell_type": "code",
   "execution_count": null,
   "id": "4c6c7d14-6f20-483a-a8ec-304cac1b5534",
   "metadata": {},
   "outputs": [],
   "source": []
  },
  {
   "cell_type": "code",
   "execution_count": null,
   "id": "43bd3498-1adc-4be5-88ce-bcd0976e0dc6",
   "metadata": {},
   "outputs": [],
   "source": []
  },
  {
   "cell_type": "code",
   "execution_count": null,
   "id": "79d834de-0b32-408e-85aa-897fb4f753c4",
   "metadata": {},
   "outputs": [],
   "source": []
  },
  {
   "cell_type": "code",
   "execution_count": null,
   "id": "31f22e51-fa05-4ca3-b468-ee16d4cfe993",
   "metadata": {},
   "outputs": [],
   "source": []
  },
  {
   "cell_type": "code",
   "execution_count": null,
   "id": "a6595f28-063d-4c1d-ac5d-21872e762f87",
   "metadata": {},
   "outputs": [],
   "source": []
  },
  {
   "cell_type": "code",
   "execution_count": null,
   "id": "645f0a05-5901-4d42-9cef-6969ffa75962",
   "metadata": {},
   "outputs": [],
   "source": []
  },
  {
   "cell_type": "code",
   "execution_count": null,
   "id": "3ad45938-d855-4a97-a555-d07a32759d99",
   "metadata": {},
   "outputs": [],
   "source": []
  },
  {
   "cell_type": "code",
   "execution_count": null,
   "id": "e34addc3-c0f4-4466-bd24-6fff763b0dfd",
   "metadata": {},
   "outputs": [],
   "source": []
  },
  {
   "cell_type": "code",
   "execution_count": null,
   "id": "964ee1a2-8263-4bbf-840a-0cad3e40f025",
   "metadata": {},
   "outputs": [],
   "source": []
  },
  {
   "cell_type": "code",
   "execution_count": null,
   "id": "dcca45c2-c2df-499d-b345-fdc07684b615",
   "metadata": {},
   "outputs": [],
   "source": []
  },
  {
   "cell_type": "code",
   "execution_count": null,
   "id": "a8b7d09b-377f-40c5-a82b-9cae7298d5ae",
   "metadata": {},
   "outputs": [],
   "source": []
  }
 ],
 "metadata": {
  "kernelspec": {
   "display_name": "Python 3 (ipykernel)",
   "language": "python",
   "name": "python3"
  },
  "language_info": {
   "codemirror_mode": {
    "name": "ipython",
    "version": 3
   },
   "file_extension": ".py",
   "mimetype": "text/x-python",
   "name": "python",
   "nbconvert_exporter": "python",
   "pygments_lexer": "ipython3",
   "version": "3.10.11"
  }
 },
 "nbformat": 4,
 "nbformat_minor": 5
}
