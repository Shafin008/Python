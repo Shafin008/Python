{
 "cells": [
  {
   "cell_type": "code",
   "execution_count": 8,
   "id": "a43137cf",
   "metadata": {},
   "outputs": [
    {
     "name": "stdout",
     "output_type": "stream",
     "text": [
      "{'shafin': 'xiomi', 'dhruba': 'oneplus', 'anik': 'huawei'}\n"
     ]
    }
   ],
   "source": [
    "dic = {\"shafin\": \"xiomi\", \"dhruba\": \"oneplus\", \"anik\": \"huawei\"}\n",
    "print(dic)\n"
   ]
  },
  {
   "cell_type": "code",
   "execution_count": 3,
   "id": "cfa17274",
   "metadata": {},
   "outputs": [
    {
     "name": "stdout",
     "output_type": "stream",
     "text": [
      "dict_keys(['shafin', 'dhruba', 'anik'])\n"
     ]
    }
   ],
   "source": [
    "keys = dic.keys()\n",
    "print(keys)"
   ]
  },
  {
   "cell_type": "code",
   "execution_count": 4,
   "id": "7f6398f2",
   "metadata": {
    "scrolled": true
   },
   "outputs": [
    {
     "name": "stdout",
     "output_type": "stream",
     "text": [
      "dict_values(['xiomi', 'oneplus', 'huawei'])\n"
     ]
    }
   ],
   "source": [
    "values = dic.values()\n",
    "print(values)"
   ]
  },
  {
   "cell_type": "code",
   "execution_count": 10,
   "id": "34d08d26",
   "metadata": {},
   "outputs": [
    {
     "name": "stdout",
     "output_type": "stream",
     "text": [
      "dict_items([('shafin', 'xiomi'), ('dhruba', 'oneplus'), ('anik', 'huawei')])\n"
     ]
    }
   ],
   "source": [
    "items = dic.items()\n",
    "print(items)"
   ]
  },
  {
   "cell_type": "code",
   "execution_count": 7,
   "id": "2980b532",
   "metadata": {},
   "outputs": [
    {
     "name": "stdout",
     "output_type": "stream",
     "text": [
      "['shafin', 'dhruba', 'anik']\n",
      "<class 'list'>\n",
      "['xiomi', 'oneplus', 'huawei']\n"
     ]
    }
   ],
   "source": [
    "# Creating list from a dictionary\n",
    "\n",
    "dic = {\"shafin\": \"xiomi\", \"dhruba\": \"oneplus\", \"anik\": \"huawei\"}\n",
    "name_list = []\n",
    "brand_list = []\n",
    "for i,j in dic.items():\n",
    "    name_list.append(i)\n",
    "    brand_list.append(j)\n",
    "\n",
    "print(name_list)\n",
    "print(type(name_list))\n",
    "print(brand_list)"
   ]
  },
  {
   "cell_type": "code",
   "execution_count": 1,
   "id": "285d716f",
   "metadata": {},
   "outputs": [
    {
     "name": "stdout",
     "output_type": "stream",
     "text": [
      "{'shafin': 'ME', 'john': 'ETE', 'zahin': 'TEX'}\n"
     ]
    }
   ],
   "source": [
    "# creating a dictionary from lists by zip function\n",
    "\n",
    "key = [\"shafin\",\"john\",\"zahin\"]\n",
    "value = [\"ME\",\"ETE\",\"TEX\"]\n",
    "\n",
    "dic = dict(zip(key, value))\n",
    "print(dic)"
   ]
  },
  {
   "cell_type": "code",
   "execution_count": null,
   "id": "6295835d",
   "metadata": {},
   "outputs": [],
   "source": [
    "print(d[\"shafin\"])\n",
    "val=d.get(\"shafin\")\n",
    "#print(val)"
   ]
  },
  {
   "cell_type": "code",
   "execution_count": 11,
   "id": "d53eaa33",
   "metadata": {},
   "outputs": [
    {
     "name": "stdout",
     "output_type": "stream",
     "text": [
      "True\n",
      "False\n",
      "312\n"
     ]
    }
   ],
   "source": [
    "# Use of in and not in operator\n",
    "\n",
    "inventory = {'apples': 430, 'bananas': 312, 'oranges': 525, 'pears': 217}\n",
    "print('apples' in inventory)\n",
    "print('cherries' in inventory)\n",
    "\n",
    "if 'bananas' in inventory:\n",
    "    print(inventory['bananas'])\n",
    "else:\n",
    "    print(\"We have no bananas\")\n"
   ]
  },
  {
   "cell_type": "code",
   "execution_count": null,
   "id": "d2da28a9",
   "metadata": {},
   "outputs": [],
   "source": [
    "\"\"\"\n",
    "\n",
    "The 'get' method allows us to access the 'value' associated with a 'key', similar to the [ ] operator. \n",
    "The important difference is that 'get' will not cause a runtime error if the key is not present. \n",
    "It will instead return 'None'. \n",
    "\n",
    "There exists a variation of get that allows a 'second parameter' that serves as an alternative return value \n",
    "in the case where the key is not present. \n",
    "This can be seen in the final example below. \n",
    "In this case, since “cherries” is not a key, return 0 (instead of None).\n",
    "\n",
    "\n",
    "\"\"\""
   ]
  },
  {
   "cell_type": "code",
   "execution_count": 12,
   "id": "3856e028",
   "metadata": {
    "scrolled": false
   },
   "outputs": [
    {
     "name": "stdout",
     "output_type": "stream",
     "text": [
      "430\n",
      "None\n",
      "0\n"
     ]
    }
   ],
   "source": [
    "inventory = {'apples': 430, 'bananas': 312, 'oranges': 525, 'pears': 217}\n",
    "\n",
    "print(inventory.get(\"apples\"))\n",
    "print(inventory.get(\"cherries\"))\n",
    "\n",
    "print(inventory.get(\"cherries\",0))\n"
   ]
  },
  {
   "cell_type": "code",
   "execution_count": 2,
   "id": "a00e85a8",
   "metadata": {},
   "outputs": [
    {
     "name": "stdout",
     "output_type": "stream",
     "text": [
      "{'shafin': 'ME', 'john': 'ETE', 'zahin': 'TEX', 'indra': 'EEE'}\n"
     ]
    }
   ],
   "source": [
    "# adding a new value into dictionary:\n",
    "dic = {'shafin': 'ME', 'john': 'ETE', 'zahin': 'TEX'}\n",
    "dic[\"indra\"]=\"EEE\"\n",
    "print(dic)"
   ]
  },
  {
   "cell_type": "code",
   "execution_count": 3,
   "id": "0350ceec",
   "metadata": {},
   "outputs": [
    {
     "name": "stdout",
     "output_type": "stream",
     "text": [
      "{'shafin': 'CSE', 'john': 'ETE', 'zahin': 'TEX', 'indra': 'EEE', 'Sumit': 'MBA'}\n"
     ]
    }
   ],
   "source": [
    "# updating(adding a new key:value and change a previous value of a key) by update function\n",
    "\n",
    "dic.update({\"shafin\":\"CSE\",\"Sumit\":\"MBA\"})\n",
    "print(dic)\n"
   ]
  },
  {
   "cell_type": "code",
   "execution_count": 4,
   "id": "68b1b4bf",
   "metadata": {},
   "outputs": [
    {
     "name": "stdout",
     "output_type": "stream",
     "text": [
      "{'shafin': 'CSE', 'john': 'ETE', 'indra': 'EEE', 'Sumit': 'MBA'}\n"
     ]
    }
   ],
   "source": [
    "# deleting key:value from a dictionary\n",
    "\n",
    "del dic[\"zahin\"]\n",
    "print(dic)"
   ]
  },
  {
   "cell_type": "code",
   "execution_count": null,
   "id": "b0b77885",
   "metadata": {},
   "outputs": [],
   "source": [
    "\"\"\"\n",
    "enumerate(iterable, start=0)\n",
    "\n",
    "Parameters:\n",
    "\n",
    "Iterable: any object that supports iteration\n",
    "\n",
    "Start: the index value from which the counter is \n",
    "              to be started, by default it is 0\n",
    "\n",
    "\"\"\""
   ]
  },
  {
   "cell_type": "code",
   "execution_count": 20,
   "id": "99245569",
   "metadata": {},
   "outputs": [
    {
     "name": "stdout",
     "output_type": "stream",
     "text": [
      "Return type: <class 'enumerate'>\n",
      "[(0, 'eat'), (1, 'sleep'), (2, 'repeat')]\n"
     ]
    }
   ],
   "source": [
    "# Python program to illustrate enumerate function\n",
    " \n",
    "l1 = [\"eat\",\"sleep\",\"repeat\"]\n",
    "\n",
    " \n",
    "# creating enumerate objects\n",
    "\n",
    "obj1 = enumerate(l1) \n",
    "# We can also write --->>> obj1 = enumerate(l1, 0), it'll return the same value\n",
    " \n",
    "print (\"Return type:\",type(obj1))\n",
    "print (list(enumerate(l1)))"
   ]
  },
  {
   "cell_type": "code",
   "execution_count": 2,
   "id": "bf2c637b",
   "metadata": {},
   "outputs": [
    {
     "name": "stdout",
     "output_type": "stream",
     "text": [
      "[(2, 'g'), (3, 'e'), (4, 'e'), (5, 'k')]\n",
      "{2: 'g', 3: 'e', 4: 'e', 5: 'k'}\n"
     ]
    }
   ],
   "source": [
    "s1 = \"geek\"\n",
    "\n",
    "# changing start index to 2 from 0\n",
    "print (list(enumerate(s1,2)))\n",
    "print (dict(enumerate(s1,2)))"
   ]
  },
  {
   "cell_type": "code",
   "execution_count": 22,
   "id": "c59fd789",
   "metadata": {},
   "outputs": [
    {
     "name": "stdout",
     "output_type": "stream",
     "text": [
      "{1: 'a', 2: 'b', 3: 'c', 4: 'd'}\n"
     ]
    }
   ],
   "source": [
    "# Creating a dictionary from a list using enumerate\n",
    "\n",
    "lst=['a', 'b', 'c', 'd']\n",
    "easy=(dict(enumerate(lst,1)))\n",
    "print(easy)"
   ]
  },
  {
   "cell_type": "code",
   "execution_count": 25,
   "id": "caaaec0e",
   "metadata": {
    "scrolled": true
   },
   "outputs": [
    {
     "name": "stdout",
     "output_type": "stream",
     "text": [
      "{'apples': 430, 'bananas': 312, 'oranges': 525, 'pears': 217}\n"
     ]
    }
   ],
   "source": [
    "# Copying a dictionary by copy method\n",
    "\n",
    "copy_inventory = inventory.copy()\n",
    "print(copy_inventory)"
   ]
  },
  {
   "cell_type": "code",
   "execution_count": 26,
   "id": "4ac0ed3b",
   "metadata": {},
   "outputs": [
    {
     "name": "stdout",
     "output_type": "stream",
     "text": [
      "True\n",
      "False\n"
     ]
    }
   ],
   "source": [
    "# Copied dict. will be equivalent to original dict\n",
    "print(copy_inventory == inventory)\n",
    "\n",
    "# but Copied dict. will not the original dict.\n",
    "print(copy_inventory is inventory)"
   ]
  },
  {
   "cell_type": "code",
   "execution_count": 27,
   "id": "c6d72057",
   "metadata": {},
   "outputs": [
    {
     "name": "stdout",
     "output_type": "stream",
     "text": [
      "{'apples': 500, 'bananas': 312, 'oranges': 525, 'pears': 217}\n",
      "{'apples': 430, 'bananas': 312, 'oranges': 525, 'pears': 217}\n"
     ]
    }
   ],
   "source": [
    "# If we change some key values of copied dict. it'll not effect the original\n",
    "\n",
    "copy_inventory['apples'] = copy_inventory['apples'] + 70\n",
    "print(copy_inventory)\n",
    "print(inventory)"
   ]
  },
  {
   "cell_type": "code",
   "execution_count": 8,
   "id": "2f35820d",
   "metadata": {},
   "outputs": [
    {
     "name": "stdout",
     "output_type": "stream",
     "text": [
      "{'js': 'atom', 'python': ['pycharm', 'sublime'], 'java': {'jse': 'netbeans', 'jee': 'eclipse'}} \n",
      "\n",
      "atom \n",
      "\n",
      "['pycharm', 'sublime'] \n",
      "\n",
      "sublime \n",
      "\n",
      "{'jse': 'netbeans', 'jee': 'eclipse'} \n",
      "\n",
      "eclipse\n"
     ]
    }
   ],
   "source": [
    "# list and dictionary inside a dictionary:\n",
    "prg={\"js\" : \"atom\", \"python\" : [\"pycharm\", \"sublime\"], \"java\" : {\"jse\" : \"netbeans\", \"jee\" : \"eclipse\"}}\n",
    "print(prg,'\\n')\n",
    "\n",
    "print(prg[\"js\"],'\\n')\n",
    "print(prg[\"python\"],'\\n')\n",
    "print(prg[\"python\"][1],'\\n')\n",
    "\n",
    "print(prg[\"java\"],'\\n')\n",
    "print(prg[\"java\"][\"jee\"])\n"
   ]
  },
  {
   "cell_type": "markdown",
   "id": "94c957a6",
   "metadata": {},
   "source": [
    "## Dictionary accumulation"
   ]
  },
  {
   "cell_type": "code",
   "execution_count": null,
   "id": "a2d94fc4",
   "metadata": {},
   "outputs": [],
   "source": [
    "# Find out the total number of t and s in the financial statement text file"
   ]
  },
  {
   "cell_type": "code",
   "execution_count": 12,
   "id": "722c1b92",
   "metadata": {},
   "outputs": [],
   "source": [
    "f = open('financial aid.txt', 'r')\n",
    "txt = f.read()"
   ]
  },
  {
   "cell_type": "code",
   "execution_count": 13,
   "id": "ef4705d0",
   "metadata": {},
   "outputs": [
    {
     "name": "stdout",
     "output_type": "stream",
     "text": [
      "t: 243\n",
      "s 194\n"
     ]
    }
   ],
   "source": [
    "occurance = {}\n",
    "\n",
    "for char in txt:\n",
    "    if char not in occurance:\n",
    "        occurance[char] = 0\n",
    "    occurance[char] = occurance[char] + 1\n",
    "print(\"t:\", occurance['t'])\n",
    "print(\"s\", occurance['s'])"
   ]
  },
  {
   "cell_type": "code",
   "execution_count": 17,
   "id": "0f2d7d37",
   "metadata": {},
   "outputs": [
    {
     "name": "stdout",
     "output_type": "stream",
     "text": [
      "I : 39\n",
      "  : 743\n",
      "c : 134\n",
      "o : 265\n",
      "m : 98\n",
      "e : 318\n",
      "f : 90\n",
      "r : 210\n",
      "a : 270\n",
      "l : 139\n",
      "w : 33\n",
      "- : 9\n",
      "i : 240\n",
      "d : 119\n",
      "s : 194\n",
      "y : 99\n",
      "B : 8\n",
      "n : 203\n",
      "g : 57\n",
      "h : 141\n",
      ". : 52\n",
      "' : 14\n",
      "t : 243\n",
      "p : 46\n",
      "u : 121\n",
      "b : 63\n",
      "T : 12\n",
      "v : 22\n",
      "S : 4\n",
      "A : 11\n",
      "\n",
      " : 15\n",
      "M : 7\n",
      "E : 3\n",
      "( : 3\n",
      "2 : 4\n",
      ") : 3\n",
      "q : 2\n",
      ", : 12\n",
      "R : 6\n",
      "z : 1\n",
      "k : 5\n",
      "j : 6\n",
      "x : 1\n"
     ]
    }
   ],
   "source": [
    "# Now find all the characters appearance\n",
    "occurance = {}\n",
    "\n",
    "for char in txt:\n",
    "    if char not in occurance:\n",
    "        occurance[char] = 0\n",
    "    occurance[char] = occurance[char] + 1\n",
    "\n",
    "for c,o in occurance.items():\n",
    "    print(c,\":\",o)    \n",
    "    \n",
    "    \n",
    "# for c in occurance.keys():    \n",
    "#     print(c, \":\", occurance[c])"
   ]
  },
  {
   "cell_type": "markdown",
   "id": "8ac6a51f",
   "metadata": {},
   "source": [
    "### Q.1:  Suppose that we wanted to compute a Scrabble score for the Study in financial aid text. Like, each occurrence of the letter ‘e’ earns one point, but ‘q’ earns 10. We have a second dictionary, stored in the variable `letter_values`.  For each of those letters that has a letter value (no points for spaces, punctuation, capital letters, etc.), Compute the total score.\n",
    "\n",
    "### letter_values = {'a': 1, 'b': 3, 'c': 3, 'd': 2, 'e': 1, 'f':4, 'g': 2, 'h':4, 'i':1, 'j':8, 'k':5, 'l':1, 'm':3, 'n':1, 'o':1, 'p':3, 'q':10, 'r':1, 's':1, 't':1, 'u':1, 'v':4, 'w':4, 'x':8, 'y':4, 'z':10}"
   ]
  },
  {
   "cell_type": "code",
   "execution_count": 21,
   "id": "178bd068",
   "metadata": {},
   "outputs": [],
   "source": [
    "letter_values = {'a': 1, 'b': 3, 'c': 3, 'd': 2, 'e': 1, 'f':4, 'g': 2, 'h':4, 'i':1, 'j':8, 'k':5, 'l':1, 'm':3, 'n':1, 'o':1, 'p':3, 'q':10, 'r':1, 's':1, 't':1, 'u':1, 'v':4, 'w':4, 'x':8, 'y':4, 'z':10}"
   ]
  },
  {
   "cell_type": "code",
   "execution_count": 31,
   "id": "83925c42",
   "metadata": {},
   "outputs": [
    {
     "name": "stdout",
     "output_type": "stream",
     "text": [
      "5229\n"
     ]
    }
   ],
   "source": [
    "f = open(\"financial aid.txt\", 'r')\n",
    "txt = f.read()\n",
    "\n",
    "dic = {}\n",
    "for char in txt:\n",
    "    if char not in dic:\n",
    "        dic[char] = 0\n",
    "    dic[char] = dic[char] + 1\n",
    "\n",
    "total = 0\n",
    "\n",
    "for y in dic:\n",
    "    if y in letter_values:\n",
    "        total = total + dic[y] * letter_values[y]\n",
    "\n",
    "print(total)"
   ]
  },
  {
   "cell_type": "markdown",
   "id": "de707756",
   "metadata": {},
   "source": [
    "### Q.2: Write a program that finds the key in a dictionary that has the maximum value.\n",
    "\n",
    "### d = {'a': 194, 'b': 54, 'c':34, 'd': 44, 'e': 312, 'full':31}"
   ]
  },
  {
   "cell_type": "code",
   "execution_count": 10,
   "id": "91cac60c",
   "metadata": {},
   "outputs": [
    {
     "name": "stdout",
     "output_type": "stream",
     "text": [
      "['a', 'b', 'c', 'd', 'e', 'full']\n",
      "a\n",
      "e\n"
     ]
    }
   ],
   "source": [
    "d = {'a': 194, 'b': 54, 'c':34, 'd': 44, 'e': 312, 'full':31}\n",
    "\n",
    "lst = list(d.keys())\n",
    "print(lst)\n",
    "best_key_so_far = lst[0]\n",
    "print(best_key_so_far)\n",
    "\n",
    "\n",
    "for i in lst:\n",
    "    if d[i] > d[best_key_so_far]:\n",
    "        best_key_so_far = i\n",
    "print(best_key_so_far)\n",
    "    "
   ]
  },
  {
   "cell_type": "markdown",
   "id": "20837b69",
   "metadata": {},
   "source": [
    "### Q.3:  Create a dictionary called d that keeps track of all the characters in the string placement and notes how many times each character was seen. Then, find the key with the lowest value in this dictionary and assign that key to min_value.\n",
    "\n",
    "### placement = \"Beaches are cool places to visit in spring however the Mackinaw Bridge is near. Most people visit Mackinaw later since the island is a cool place to explore.\"\n",
    "\n"
   ]
  },
  {
   "cell_type": "code",
   "execution_count": 11,
   "id": "915f87e7",
   "metadata": {},
   "outputs": [],
   "source": [
    "placement = \"Beaches are cool places to visit in spring however the Mackinaw Bridge is near. Most people visit Mackinaw later since the island is a cool place to explore.\"\n"
   ]
  },
  {
   "cell_type": "code",
   "execution_count": 12,
   "id": "00517000",
   "metadata": {},
   "outputs": [
    {
     "name": "stdout",
     "output_type": "stream",
     "text": [
      "x\n"
     ]
    }
   ],
   "source": [
    "d = {}\n",
    "\n",
    "for c in placement:\n",
    "    if c not in d:\n",
    "        d[c] = 0\n",
    "    d[c] = d[c] + 1\n",
    "\n",
    "lst = list(d.keys())\n",
    "min_value = lst[0]\n",
    "\n",
    "for i in lst:\n",
    "    if d[i] < d[min_value]:\n",
    "        min_value = i\n",
    "print(min_value)"
   ]
  },
  {
   "cell_type": "code",
   "execution_count": 13,
   "id": "2714e079",
   "metadata": {},
   "outputs": [],
   "source": [
    "# Write a program that asks the user for a sentence in English and then translates that sentence to Pirate.\n",
    "english_to_pirate={\"sir\":\"matey\", \"hotel\":\"fleabag inn\",\"student\":\"swabbie\", \"boy\":\"matey\"}"
   ]
  },
  {
   "cell_type": "code",
   "execution_count": null,
   "id": "4daac385",
   "metadata": {},
   "outputs": [],
   "source": [
    "ask = input(\"Say the word:\")\n",
    "\n",
    "pirate = ''\n",
    "if ask in english_to_pirate.keys():\n",
    "    pirate = english_to_pirate[ask]\n",
    "print(pirate)    "
   ]
  },
  {
   "cell_type": "markdown",
   "id": "8c649de5",
   "metadata": {},
   "source": [
    "### Q.4 : Write a program that finds the most used 7 letter word in financial aid.txt."
   ]
  },
  {
   "cell_type": "code",
   "execution_count": 18,
   "id": "4c0f4a4f",
   "metadata": {},
   "outputs": [
    {
     "name": "stdout",
     "output_type": "stream",
     "text": [
      "{'because': 3, 'family.': 6, 'through': 3, 'degree.': 3, 'courses': 3, 'student': 2, 'course.': 4, 'Mostly,': 1, 'country': 1, 'improve': 1, 'learned': 1, 'online,': 1, 'degrees': 1}\n",
      "family.\n"
     ]
    }
   ],
   "source": [
    "f = open('financial aid.txt', 'r')\n",
    "contents = f.read()\n",
    "words = contents.split()\n",
    "\n",
    "dic = {}\n",
    "for c in words:\n",
    "    if len(c) == 7 :\n",
    "        if c not in dic:\n",
    "            dic[c] = 0\n",
    "        dic[c] = dic[c] + 1\n",
    "print(dic)\n",
    "lst = list(dic.keys())\n",
    "\n",
    "max_value = lst[0]\n",
    "\n",
    "for j in lst:\n",
    "    if dic[j] > dic[max_value]:\n",
    "        max_value = j\n",
    "print(max_value)\n"
   ]
  },
  {
   "cell_type": "markdown",
   "id": "3d406f47",
   "metadata": {},
   "source": [
    "### Q.5: Write a program that allows the user to enter a string. It then prints a table of the letters of the alphabet in alphabetical order which occur in the string together with the number of times each letter occurs. Case should be ignored."
   ]
  },
  {
   "cell_type": "code",
   "execution_count": 19,
   "id": "eadc78d9",
   "metadata": {},
   "outputs": [
    {
     "name": "stdout",
     "output_type": "stream",
     "text": [
      "say: hey!!! How are you??\n",
      "a 1\n",
      "e 2\n",
      "h 2\n",
      "o 2\n",
      "r 1\n",
      "u 1\n",
      "w 1\n",
      "y 2\n"
     ]
    }
   ],
   "source": [
    "ask = input(\"say: \").lower()\n",
    "alphabet = 'abcdefghijklmnopqrstuvwxyz' \n",
    "\n",
    "d = {}\n",
    "for i in ask:\n",
    "    if i in alphabet:    ### for ignoring any punctuation, numbers, etc\n",
    "        if i not in d:\n",
    "            d[i] = 0\n",
    "        d[i] =  d[i] + 1\n",
    "\n",
    "lst = sorted(list(d.keys()))\n",
    "\n",
    "for j in lst:\n",
    "    print(j, d[j])\n",
    "    "
   ]
  },
  {
   "cell_type": "code",
   "execution_count": 21,
   "id": "aa4c77df",
   "metadata": {},
   "outputs": [
    {
     "name": "stdout",
     "output_type": "stream",
     "text": [
      "say: hey!!! How are you??\n",
      "H 1\n",
      "a 1\n",
      "e 2\n",
      "h 1\n",
      "o 2\n",
      "r 1\n",
      "u 1\n",
      "w 1\n",
      "y 2\n"
     ]
    }
   ],
   "source": [
    "ask = input(\"say: \")\n",
    "alphabet = 'abcdefghijklmnopqrstuvwxyz' \n",
    "ALP = alphabet.upper()\n",
    "\n",
    "d = {}\n",
    "for i in ask:\n",
    "    if i in alphabet or i in ALP:    ### for ignoring any punctuation, numbers, etc\n",
    "        if i not in d:\n",
    "            d[i] = 0\n",
    "        d[i] =  d[i] + 1\n",
    "\n",
    "lst = sorted(list(d.keys()))\n",
    "\n",
    "for j in lst:\n",
    "    print(j, d[j])"
   ]
  },
  {
   "cell_type": "markdown",
   "id": "5b975ed3",
   "metadata": {},
   "source": [
    "### Q.6: You will be sorting the following list by each element’s second letter, a to z. Create a function to use when sorting, called `second_let`. It will take a string as input and return the second letter of that string. Then sort the list, create a variable called `sorted_by_second_let` and assign the sorted list to it. Do not use lambda.\n",
    "\n",
    "### ex_lst = ['hi', 'how are you', 'bye', 'apple', 'zebra', 'dance']"
   ]
  },
  {
   "cell_type": "code",
   "execution_count": 12,
   "id": "f49f7159",
   "metadata": {},
   "outputs": [
    {
     "name": "stdout",
     "output_type": "stream",
     "text": [
      "['dance', 'zebra', 'hi', 'how are you', 'apple', 'bye']\n"
     ]
    }
   ],
   "source": [
    "def second_let(st):\n",
    "    return st[1]\n",
    "    \n",
    "ex_lst = ['hi', 'how are you', 'bye', 'apple', 'zebra', 'dance']\n",
    "sorted_by_second_let = sorted(ex_lst, key = second_let)\n",
    "print(sorted_by_second_let)    \n",
    "           "
   ]
  },
  {
   "cell_type": "markdown",
   "id": "b826d881",
   "metadata": {},
   "source": [
    "### Q.7: Create a dictionary from the following list L and sort the dictionary keys and then print how many times each letters appeared. Use lambda and also do it by creating your own function. \n",
    "### L = ['E', 'F', 'B', 'A', 'D', 'I', 'I', 'C', 'B', 'A', 'D', 'D', 'E', 'D']\n"
   ]
  },
  {
   "cell_type": "code",
   "execution_count": 29,
   "id": "de2cb51c",
   "metadata": {},
   "outputs": [
    {
     "name": "stdout",
     "output_type": "stream",
     "text": [
      "['F', 'C', 'E', 'B', 'A', 'I', 'D']\n"
     ]
    }
   ],
   "source": [
    "L = ['E', 'F', 'B', 'A', 'D', 'I', 'I', 'C', 'B', 'A', 'D', 'D', 'E', 'D']\n",
    "\n",
    "dic = {}\n",
    "\n",
    "for i in L:\n",
    "    if i not in dic:\n",
    "        dic[i] = 0\n",
    "    dic[i] = dic[i] + 1\n",
    "\n",
    "#print(dic)\n",
    "def key_val(k):\n",
    "    return dic[k]\n",
    "\n",
    "\n",
    "sorted_dic = sorted(dic.keys(), key = key_val)\n",
    "print(sorted_dic)"
   ]
  },
  {
   "cell_type": "code",
   "execution_count": 30,
   "id": "bccd5110",
   "metadata": {},
   "outputs": [
    {
     "name": "stdout",
     "output_type": "stream",
     "text": [
      "['F', 'C', 'E', 'B', 'A', 'I', 'D']\n"
     ]
    }
   ],
   "source": [
    "sorted_dic = sorted(dic.keys(), key = lambda x : dic[x])\n",
    "print(sorted_dic)"
   ]
  },
  {
   "cell_type": "markdown",
   "id": "23b60e9b",
   "metadata": {},
   "source": [
    "### Q.7: You’re going to write a function that takes a string as a parameter and returns a list of the five most frequent characters in the string. Eventually, you will be able to do this sort of problem without a lot of coaching. But we’re going to step you through it as a series of exercises.\n",
    "\n",
    "### First, the function will count the frequencies of all the characters, as we’ve done before, using a dictionary and the accumulator pattern. Then, it will sort the (key, value) pairs. Finally, it will take a slice of the sorted list to get just the top five. That slice will be returned.\n",
    "\n",
    "### Step 1. Suppose you had this list, [8, 7, 6, 6, 4, 4, 3, 1, 0], already sorted, how would you make a list of just the best 5? (Hint: take a slice)."
   ]
  },
  {
   "cell_type": "code",
   "execution_count": null,
   "id": "a00b482b",
   "metadata": {},
   "outputs": [],
   "source": []
  }
 ],
 "metadata": {
  "kernelspec": {
   "display_name": "Python 3",
   "language": "python",
   "name": "python3"
  },
  "language_info": {
   "codemirror_mode": {
    "name": "ipython",
    "version": 3
   },
   "file_extension": ".py",
   "mimetype": "text/x-python",
   "name": "python",
   "nbconvert_exporter": "python",
   "pygments_lexer": "ipython3",
   "version": "3.8.8"
  }
 },
 "nbformat": 4,
 "nbformat_minor": 5
}
