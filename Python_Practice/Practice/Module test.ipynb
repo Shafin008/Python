{
 "cells": [
  {
   "cell_type": "code",
   "execution_count": 27,
   "id": "ea138592",
   "metadata": {},
   "outputs": [],
   "source": [
    "# Importing our own module\n",
    "import my_module as mm"
   ]
  },
  {
   "cell_type": "code",
   "execution_count": 28,
   "id": "41311eda",
   "metadata": {},
   "outputs": [],
   "source": [
    "courses = [\"hist\", \"math\", \"phy\", \"compsci\"]"
   ]
  },
  {
   "cell_type": "code",
   "execution_count": 29,
   "id": "61d8e452",
   "metadata": {},
   "outputs": [
    {
     "data": {
      "text/plain": [
       "2"
      ]
     },
     "execution_count": 29,
     "metadata": {},
     "output_type": "execute_result"
    }
   ],
   "source": [
    "# Now we'll use our own module\n",
    "\n",
    "index = my_module.find_index(courses, \"phy\")\n",
    "index"
   ]
  },
  {
   "cell_type": "code",
   "execution_count": 30,
   "id": "02e78dab",
   "metadata": {},
   "outputs": [
    {
     "data": {
      "text/plain": [
       "-1"
      ]
     },
     "execution_count": 30,
     "metadata": {},
     "output_type": "execute_result"
    }
   ],
   "source": [
    "# \"chem\" is not on our list. So, it should return -1\n",
    "index = mm.find_index(courses, \"chem\")\n",
    "index"
   ]
  },
  {
   "cell_type": "code",
   "execution_count": 31,
   "id": "d76fa769",
   "metadata": {},
   "outputs": [],
   "source": [
    "from my_module import find_index, test"
   ]
  },
  {
   "cell_type": "code",
   "execution_count": 32,
   "id": "72fa5f60",
   "metadata": {},
   "outputs": [
    {
     "data": {
      "text/plain": [
       "-1"
      ]
     },
     "execution_count": 32,
     "metadata": {},
     "output_type": "execute_result"
    }
   ],
   "source": [
    "index = find_index(courses, \"chem\")\n",
    "index"
   ]
  },
  {
   "cell_type": "code",
   "execution_count": 33,
   "id": "12bfb86d",
   "metadata": {},
   "outputs": [
    {
     "data": {
      "text/plain": [
       "'Test string'"
      ]
     },
     "execution_count": 33,
     "metadata": {},
     "output_type": "execute_result"
    }
   ],
   "source": [
    "test"
   ]
  },
  {
   "cell_type": "code",
   "execution_count": 34,
   "id": "b150543f",
   "metadata": {},
   "outputs": [
    {
     "name": "stdout",
     "output_type": "stream",
     "text": [
      "['C:\\\\Users\\\\User\\\\Python_Practice', 'C:\\\\Users\\\\User\\\\anaconda3\\\\python38.zip', 'C:\\\\Users\\\\User\\\\anaconda3\\\\DLLs', 'C:\\\\Users\\\\User\\\\anaconda3\\\\lib', 'C:\\\\Users\\\\User\\\\anaconda3', '', 'C:\\\\Users\\\\User\\\\AppData\\\\Roaming\\\\Python\\\\Python38\\\\site-packages', 'C:\\\\Users\\\\User\\\\anaconda3\\\\lib\\\\site-packages', 'C:\\\\Users\\\\User\\\\anaconda3\\\\lib\\\\site-packages\\\\locket-0.2.1-py3.8.egg', 'C:\\\\Users\\\\User\\\\anaconda3\\\\lib\\\\site-packages\\\\win32', 'C:\\\\Users\\\\User\\\\anaconda3\\\\lib\\\\site-packages\\\\win32\\\\lib', 'C:\\\\Users\\\\User\\\\anaconda3\\\\lib\\\\site-packages\\\\Pythonwin', 'C:\\\\Users\\\\User\\\\anaconda3\\\\lib\\\\site-packages\\\\IPython\\\\extensions', 'C:\\\\Users\\\\User\\\\.ipython', 'C:\\\\Users\\\\User\\\\Python_Practice\\\\my_module', 'C:\\\\Users\\\\User\\\\Python_Practice\\\\my_module']\n"
     ]
    }
   ],
   "source": [
    "import sys\n",
    "print(sys.path)"
   ]
  },
  {
   "cell_type": "code",
   "execution_count": null,
   "id": "6d7da914",
   "metadata": {},
   "outputs": [],
   "source": []
  }
 ],
 "metadata": {
  "kernelspec": {
   "display_name": "Python 3",
   "language": "python",
   "name": "python3"
  },
  "language_info": {
   "codemirror_mode": {
    "name": "ipython",
    "version": 3
   },
   "file_extension": ".py",
   "mimetype": "text/x-python",
   "name": "python",
   "nbconvert_exporter": "python",
   "pygments_lexer": "ipython3",
   "version": "3.8.8"
  }
 },
 "nbformat": 4,
 "nbformat_minor": 5
}
