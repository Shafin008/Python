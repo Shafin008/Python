{
 "cells": [
  {
   "cell_type": "markdown",
   "id": "ff0242a7-cb31-4590-8574-9c5f82e5c4e3",
   "metadata": {},
   "source": [
    "**_Data Attributes of Classes and Instances_**\n",
    "\n",
    "```\n",
    "## Suppose we create a class with an attribute 'language'\n",
    "class MyClass:\n",
    "    language = 'Python'\n",
    "        \n",
    "## Class instatiation/ object creation/ Instatiating a class\n",
    "my_obj = MyClass()\n",
    "type(my_obj)\n",
    ">>> 'MyClass'\n",
    "\n",
    "## When we instatiate an object, it'll have it's own namespace; generally it'll be empty\n",
    "my_obj__dict__\n",
    ">>> {}\n",
    "\n",
    "## If we see our class namespace we'll find 'language' attributes as well as other attributes\n",
    "MyClass.__dict__\n",
    ">>> mapping...({...'language': 'Python'..+ others...})\n",
    "\n",
    "## Now if we instatiate our attribute from our class\n",
    "MyClass.language\n",
    ">>> \"Python\"\n",
    "\n",
    "## If we instatiate from our object, it'll return the same thing as our object \n",
    "though it doesn't have anything on it's namespace. Here, it'll first search in it's namespace, it won't find anything, then it'll search on it's classes \n",
    "namespace(MyClass.__dict__), there it'll find the attribute and return it\n",
    "\n",
    "my_obj.language\n",
    ">>> 'Python'\n",
    "\n",
    "## Now if we change the attribute from the object, it'll change the namespace of that object but not the class namespace attributes. It'll become 'instance attribute', and the class will have it's own attribute called 'class attribute'\n",
    "\n",
    "my_obj.language = 'Java'\n",
    "my_obj.__dict__\n",
    ">>> {'language' : 'Java'}\n",
    "\n",
    "my_obj.language\n",
    ">>> 'Java'\n",
    "\n",
    "MyClass.language\n",
    ">>> \"Python\"\n",
    "```"
   ]
  },
  {
   "cell_type": "code",
   "execution_count": 3,
   "id": "baf10551-ce8b-4cd5-af83-948e37b9c799",
   "metadata": {},
   "outputs": [],
   "source": [
    "class BankAccount:\n",
    "    apr = 1.2"
   ]
  },
  {
   "cell_type": "code",
   "execution_count": 6,
   "id": "a7e71d35-a283-4637-8dfb-733d8eba078d",
   "metadata": {},
   "outputs": [
    {
     "data": {
      "text/plain": [
       "mappingproxy({'__module__': '__main__',\n",
       "              'apr': 1.2,\n",
       "              '__dict__': <attribute '__dict__' of 'BankAccount' objects>,\n",
       "              '__weakref__': <attribute '__weakref__' of 'BankAccount' objects>,\n",
       "              '__doc__': None})"
      ]
     },
     "execution_count": 6,
     "metadata": {},
     "output_type": "execute_result"
    }
   ],
   "source": [
    "## Class namespace\n",
    "BankAccount.__dict__"
   ]
  },
  {
   "cell_type": "code",
   "execution_count": 7,
   "id": "a9ba4b32-e77b-4941-b4c0-66445c925dba",
   "metadata": {},
   "outputs": [
    {
     "data": {
      "text/plain": [
       "1.2"
      ]
     },
     "execution_count": 7,
     "metadata": {},
     "output_type": "execute_result"
    }
   ],
   "source": [
    "## Class attribute\n",
    "BankAccount.apr"
   ]
  },
  {
   "cell_type": "code",
   "execution_count": 8,
   "id": "0e79c799-efa9-4004-b57b-54ffd8b08233",
   "metadata": {},
   "outputs": [],
   "source": [
    "### Creating two instances\n",
    "acc_1 = BankAccount()\n",
    "acc_2 = BankAccount()"
   ]
  },
  {
   "cell_type": "code",
   "execution_count": 9,
   "id": "f460f8a3-cd29-4451-a732-0ed60273cf87",
   "metadata": {},
   "outputs": [
    {
     "data": {
      "text/plain": [
       "False"
      ]
     },
     "execution_count": 9,
     "metadata": {},
     "output_type": "execute_result"
    }
   ],
   "source": [
    "## These objects are not equal\n",
    "acc_1 == acc_2"
   ]
  },
  {
   "cell_type": "code",
   "execution_count": 10,
   "id": "bff188c3-404e-41c9-988e-a6c1a4039026",
   "metadata": {},
   "outputs": [
    {
     "data": {
      "text/plain": [
       "({}, {})"
      ]
     },
     "execution_count": 10,
     "metadata": {},
     "output_type": "execute_result"
    }
   ],
   "source": [
    "## namespace for both of the objects will initially be empty\n",
    "acc_1.__dict__, acc_2.__dict__"
   ]
  },
  {
   "cell_type": "code",
   "execution_count": 12,
   "id": "d99134a2-b06e-425c-af62-32eae5c7e9ce",
   "metadata": {},
   "outputs": [
    {
     "data": {
      "text/plain": [
       "(1.2, 1.2)"
      ]
     },
     "execution_count": 12,
     "metadata": {},
     "output_type": "execute_result"
    }
   ],
   "source": [
    "## though the namespace of them are empty but they can retrieve attribute \n",
    "## from their parent class\n",
    "acc_1.apr, acc_2.apr"
   ]
  },
  {
   "cell_type": "code",
   "execution_count": 13,
   "id": "51e671cc-78e6-4f4a-a56a-927895371ed8",
   "metadata": {},
   "outputs": [],
   "source": [
    "## as python is a dynamic language, we can add another attribute to our class\n",
    "BankAccount.account_type = 'Savings'"
   ]
  },
  {
   "cell_type": "code",
   "execution_count": 14,
   "id": "02391ffc-aa4f-4c9f-831a-8169563d7771",
   "metadata": {},
   "outputs": [
    {
     "data": {
      "text/plain": [
       "('Savings', 'Savings')"
      ]
     },
     "execution_count": 14,
     "metadata": {},
     "output_type": "execute_result"
    }
   ],
   "source": [
    "acc_1.account_type, acc_2.account_type"
   ]
  },
  {
   "cell_type": "code",
   "execution_count": 15,
   "id": "34a6a356-6066-4281-b8de-c24f480f3134",
   "metadata": {},
   "outputs": [
    {
     "data": {
      "text/plain": [
       "({'apr': 0}, {})"
      ]
     },
     "execution_count": 15,
     "metadata": {},
     "output_type": "execute_result"
    }
   ],
   "source": [
    "## Now we'll change attribute of acc_1\n",
    "acc_1.apr = 0\n",
    "acc_1.__dict__, acc_2.__dict__"
   ]
  },
  {
   "cell_type": "code",
   "execution_count": 16,
   "id": "9fe3ebbe-a91f-4443-94a2-648925de2dd3",
   "metadata": {},
   "outputs": [
    {
     "data": {
      "text/plain": [
       "(0, 1.2)"
      ]
     },
     "execution_count": 16,
     "metadata": {},
     "output_type": "execute_result"
    }
   ],
   "source": [
    "acc_1.apr, acc_2.apr"
   ]
  },
  {
   "cell_type": "code",
   "execution_count": 17,
   "id": "a6a0aff7-09f6-4916-9728-5a2d6cd7fec7",
   "metadata": {},
   "outputs": [
    {
     "data": {
      "text/plain": [
       "({'apr': 0}, {'apr': 10})"
      ]
     },
     "execution_count": 17,
     "metadata": {},
     "output_type": "execute_result"
    }
   ],
   "source": [
    "### Changing the attribute of acc_2\n",
    "setattr(acc_2, 'apr', 10)\n",
    "acc_1.__dict__, acc_2.__dict__"
   ]
  },
  {
   "cell_type": "code",
   "execution_count": 18,
   "id": "b7a8497e-ddaa-414c-8d0b-1adfd18c4045",
   "metadata": {},
   "outputs": [
    {
     "data": {
      "text/plain": [
       "(0, 10)"
      ]
     },
     "execution_count": 18,
     "metadata": {},
     "output_type": "execute_result"
    }
   ],
   "source": [
    "acc_1.apr, acc_2.apr"
   ]
  },
  {
   "cell_type": "code",
   "execution_count": 19,
   "id": "75a4c151-01b1-47b8-a6aa-198fdcfe7462",
   "metadata": {},
   "outputs": [
    {
     "data": {
      "text/plain": [
       "({'apr': 0, 'bank': 'Acme Savings and Loans'}, {'apr': 10})"
      ]
     },
     "execution_count": 19,
     "metadata": {},
     "output_type": "execute_result"
    }
   ],
   "source": [
    "## we can also add attributes to an object that isn't in the class\n",
    "acc_1.bank = 'Acme Savings and Loans'\n",
    "acc_1.__dict__, acc_2.__dict__"
   ]
  },
  {
   "cell_type": "code",
   "execution_count": 25,
   "id": "fd144d2b-6c7f-4ed1-8419-d2ca94a45c8b",
   "metadata": {},
   "outputs": [
    {
     "data": {
      "text/plain": [
       "mappingproxy"
      ]
     },
     "execution_count": 25,
     "metadata": {},
     "output_type": "execute_result"
    }
   ],
   "source": [
    "type(BankAccount.__dict__) ## readonly"
   ]
  },
  {
   "cell_type": "code",
   "execution_count": 29,
   "id": "47b9ba97-0dc9-4a6c-8ce3-c7395c9ff79b",
   "metadata": {},
   "outputs": [
    {
     "ename": "TypeError",
     "evalue": "'mappingproxy' object does not support item assignment",
     "output_type": "error",
     "traceback": [
      "\u001b[0;31m---------------------------------------------------------------------------\u001b[0m",
      "\u001b[0;31mTypeError\u001b[0m                                 Traceback (most recent call last)",
      "Input \u001b[0;32mIn [29]\u001b[0m, in \u001b[0;36m<cell line: 3>\u001b[0;34m()\u001b[0m\n\u001b[1;32m      1\u001b[0m \u001b[38;5;66;03m## We can't add attribute via class dict\u001b[39;00m\n\u001b[1;32m      2\u001b[0m \u001b[38;5;66;03m## It'll show error\u001b[39;00m\n\u001b[0;32m----> 3\u001b[0m BankAccount\u001b[38;5;241m.\u001b[39m\u001b[38;5;18m__dict__\u001b[39m[\u001b[38;5;124m'\u001b[39m\u001b[38;5;124mversion\u001b[39m\u001b[38;5;124m'\u001b[39m] \u001b[38;5;241m=\u001b[39m \u001b[38;5;124m'\u001b[39m\u001b[38;5;124m3.7\u001b[39m\u001b[38;5;124m'\u001b[39m\n",
      "\u001b[0;31mTypeError\u001b[0m: 'mappingproxy' object does not support item assignment"
     ]
    }
   ],
   "source": [
    "## We can't add attribute via class dict\n",
    "## It'll show error\n",
    "BankAccount.__dict__['version'] = '3.7'"
   ]
  },
  {
   "cell_type": "code",
   "execution_count": 23,
   "id": "41cf5b59-ece8-4b38-9bb9-6e884e7a6971",
   "metadata": {},
   "outputs": [
    {
     "data": {
      "text/plain": [
       "dict"
      ]
     },
     "execution_count": 23,
     "metadata": {},
     "output_type": "execute_result"
    }
   ],
   "source": [
    "type(acc_1.__dict__) ## mutable"
   ]
  },
  {
   "cell_type": "code",
   "execution_count": 28,
   "id": "af20f5ff-179a-4933-87b3-2cb30c390525",
   "metadata": {},
   "outputs": [
    {
     "name": "stdout",
     "output_type": "stream",
     "text": [
      "Previous: {'apr': 0, 'bank': 'Acme Savings and Loans'} \n",
      "\n",
      "Now: {'apr': 0, 'bank': 'Acme Savings and Loans', 'version': '3.7'}\n"
     ]
    }
   ],
   "source": [
    "## But We can add attribute via class dict\n",
    "print(f\"Previous: {acc_1.__dict__} \\n\")\n",
    "acc_1.__dict__['version'] = '3.7'\n",
    "print(f\"Now: {acc_1.__dict__}\")"
   ]
  },
  {
   "cell_type": "markdown",
   "id": "ceb79195-21a7-40c3-9e9c-493b6920bd63",
   "metadata": {},
   "source": [
    "**_Function/Method Attributes_**\n",
    "\n",
    "- When we create a method in a class, it'll an object of the class whose type will be 'method' or 'function' of that class. Then if we instatiate the object of that class, and retrieve the function via the object, it'll be a 'bound method' of that object.\n",
    "\n",
    "```\n",
    "class MyClass:\n",
    "    def say_hello():\n",
    "        print('Hello, world!')\n",
    "        \n",
    "MyClass.say_hello\n",
    ">>> <function ........>\n",
    "\n",
    "my_obj = MyClass()\n",
    "my_obj.say_hello\n",
    ">>> <bound method.....>\n",
    "\n",
    "### If we call the method via our class we'll get the output\n",
    "MyClass.say_hello()\n",
    ">>> 'Hello, world!'\n",
    "\n",
    "### But if we call the method via object, we'll get a type error\n",
    "my_obj.say_hello()\n",
    ">>> TypeError.....\n",
    "```"
   ]
  },
  {
   "cell_type": "code",
   "execution_count": 43,
   "id": "da6b6404-a843-4124-9f31-ad06baeadec8",
   "metadata": {},
   "outputs": [],
   "source": [
    "class Person:\n",
    "    def say_hello():\n",
    "        print('Hello')                  "
   ]
  },
  {
   "cell_type": "code",
   "execution_count": 44,
   "id": "7138cbd9-91ba-4077-b788-ea81e18f0ebe",
   "metadata": {},
   "outputs": [
    {
     "data": {
      "text/plain": [
       "<function __main__.Person.say_hello()>"
      ]
     },
     "execution_count": 44,
     "metadata": {},
     "output_type": "execute_result"
    }
   ],
   "source": [
    "Person.say_hello"
   ]
  },
  {
   "cell_type": "code",
   "execution_count": 45,
   "id": "777b0927-645d-4e0a-beb9-f307f16cd37e",
   "metadata": {},
   "outputs": [
    {
     "data": {
      "text/plain": [
       "function"
      ]
     },
     "execution_count": 45,
     "metadata": {},
     "output_type": "execute_result"
    }
   ],
   "source": [
    "type(Person.say_hello)"
   ]
  },
  {
   "cell_type": "code",
   "execution_count": 46,
   "id": "35152352-8478-45a7-bb2e-aa8e27cade71",
   "metadata": {},
   "outputs": [
    {
     "name": "stdout",
     "output_type": "stream",
     "text": [
      "Hello\n"
     ]
    }
   ],
   "source": [
    "Person.say_hello()"
   ]
  },
  {
   "cell_type": "code",
   "execution_count": 48,
   "id": "ac60b412-5740-4341-806e-c3a73816e848",
   "metadata": {},
   "outputs": [
    {
     "data": {
      "text/plain": [
       "(4616916464, '0x113308df0')"
      ]
     },
     "execution_count": 48,
     "metadata": {},
     "output_type": "execute_result"
    }
   ],
   "source": [
    "## Creating an instance\n",
    "p = Person()\n",
    "id(p), hex(id(p))"
   ]
  },
  {
   "cell_type": "code",
   "execution_count": 49,
   "id": "a92c259a-0a16-4034-8251-5635fea88570",
   "metadata": {},
   "outputs": [
    {
     "data": {
      "text/plain": [
       "<bound method Person.say_hello of <__main__.Person object at 0x113308df0>>"
      ]
     },
     "execution_count": 49,
     "metadata": {},
     "output_type": "execute_result"
    }
   ],
   "source": [
    "## Let's retrieve the function via object\n",
    "p.say_hello"
   ]
  },
  {
   "cell_type": "code",
   "execution_count": 50,
   "id": "a3551e1c-97e0-45c9-9151-d58a710f4695",
   "metadata": {},
   "outputs": [
    {
     "data": {
      "text/plain": [
       "method"
      ]
     },
     "execution_count": 50,
     "metadata": {},
     "output_type": "execute_result"
    }
   ],
   "source": [
    "type(p.say_hello)"
   ]
  },
  {
   "cell_type": "code",
   "execution_count": 51,
   "id": "85fe61b3-3237-46a2-a42d-9e4e4c9039b9",
   "metadata": {},
   "outputs": [
    {
     "data": {
      "text/plain": [
       "False"
      ]
     },
     "execution_count": 51,
     "metadata": {},
     "output_type": "execute_result"
    }
   ],
   "source": [
    "type(p.say_hello) == type(Person.say_hello)"
   ]
  },
  {
   "cell_type": "code",
   "execution_count": 52,
   "id": "53fce1c3-c2b0-4be2-917d-81621905695a",
   "metadata": {},
   "outputs": [
    {
     "ename": "TypeError",
     "evalue": "say_hello() takes 0 positional arguments but 1 was given",
     "output_type": "error",
     "traceback": [
      "\u001b[0;31m---------------------------------------------------------------------------\u001b[0m",
      "\u001b[0;31mTypeError\u001b[0m                                 Traceback (most recent call last)",
      "Input \u001b[0;32mIn [52]\u001b[0m, in \u001b[0;36m<cell line: 2>\u001b[0;34m()\u001b[0m\n\u001b[1;32m      1\u001b[0m \u001b[38;5;66;03m## Now if we try to call this method via object, it'll show error\u001b[39;00m\n\u001b[0;32m----> 2\u001b[0m \u001b[43mp\u001b[49m\u001b[38;5;241;43m.\u001b[39;49m\u001b[43msay_hello\u001b[49m\u001b[43m(\u001b[49m\u001b[43m)\u001b[49m\n",
      "\u001b[0;31mTypeError\u001b[0m: say_hello() takes 0 positional arguments but 1 was given"
     ]
    }
   ],
   "source": [
    "## Now if we try to call this method via object, it'll show error\n",
    "p.say_hello()"
   ]
  },
  {
   "cell_type": "markdown",
   "id": "367b1707-8160-455b-bf01-a304c104fe74",
   "metadata": {},
   "source": [
    "**_What is a Method and Bound Method?_***\n",
    "\n",
    "- Method: Method is an actual object type in python. It's callable like a function.\n",
    "\n",
    "- Bound Method: Unlike a function, if a method is bound to some object, then that object should be passed to that method as it's first parameter.\n",
    "\n",
    "```\n",
    "## So, when we call the method via our class, it essentially puts the object as\n",
    "## the first parameter of the method\n",
    "MyClass.say_hello() -> MyClass.say_hello(my_obj)\n",
    "```\n",
    "- The object will have the bounded method on their namespace\n",
    "\n",
    "- Every method has it's attributes (`__self__`). For our example case, `__self__` is 'my_obj'; `__func__` is the attribute defined for the method of the class.\n",
    "\n",
    "```\n",
    "class Person:\n",
    "    def say_hello(self):\n",
    "        print('Hello, world!')\n",
    "        \n",
    "## Instantiating\n",
    "p = Person()\n",
    "\n",
    "p.say_hello.__self__ == p\n",
    ">>> True\n",
    "\n",
    "p.say_hello.__func__\n",
    ">>> <function.... ..>\n",
    "\n",
    "p.say_hello()\n",
    ">>> Hello, world!\n",
    "```\n",
    "\n",
    "- So we can see in order to call the function/method of our class via the object/instance, we need to pass the `self` argument to the method.\n",
    "\n",
    "```\n",
    "## Suppose we create a class with an attribute 'language'\n",
    "class MyClass:\n",
    "    language = 'Python'\n",
    "    \n",
    "    def say_hello(self, name):\n",
    "        return f'Hello, {name}! I am {self.language}'\n",
    "        \n",
    "python = MyClass()\n",
    "python.say_hello('Shafin') ## ==> MyClass.say_hello(python, \"Shafin\")\n",
    ">>> 'Hello, Shafin! I am Python'\n",
    "\n",
    "java = MyClass()\n",
    "java.language = 'Java'\n",
    "java.say_hello('Shafin') ## ==> MyClass.say_hello(java, \"Shafin\")\n",
    ">>> 'Hello, Shafin! I am Java'\n",
    "```"
   ]
  },
  {
   "cell_type": "code",
   "execution_count": 53,
   "id": "dd0f369c-0f20-49ad-835b-b18e4e8a9cf2",
   "metadata": {},
   "outputs": [],
   "source": [
    "class Person:\n",
    "    def say_hello(*args):\n",
    "        print('Say Hello args', args)                  "
   ]
  },
  {
   "cell_type": "code",
   "execution_count": 54,
   "id": "c00c65ab-3b89-442f-8949-f6fa3168415c",
   "metadata": {},
   "outputs": [
    {
     "name": "stdout",
     "output_type": "stream",
     "text": [
      "Say Hello args ()\n"
     ]
    }
   ],
   "source": [
    "Person.say_hello()"
   ]
  },
  {
   "cell_type": "code",
   "execution_count": 55,
   "id": "a86e67e1-6b3d-408e-8a13-35ae21c6f895",
   "metadata": {},
   "outputs": [
    {
     "data": {
      "text/plain": [
       "'0x1131daa30'"
      ]
     },
     "execution_count": 55,
     "metadata": {},
     "output_type": "execute_result"
    }
   ],
   "source": [
    "p = Person()\n",
    "hex(id(p))"
   ]
  },
  {
   "cell_type": "code",
   "execution_count": 57,
   "id": "8f6edca6-8775-44fe-bb63-82149f35bb94",
   "metadata": {},
   "outputs": [
    {
     "name": "stdout",
     "output_type": "stream",
     "text": [
      "Say Hello args (<__main__.Person object at 0x1131daa30>,)\n"
     ]
    }
   ],
   "source": [
    "p.say_hello()"
   ]
  },
  {
   "cell_type": "code",
   "execution_count": 68,
   "id": "53dc1be8-4fca-45c3-87e9-905c0db44672",
   "metadata": {},
   "outputs": [],
   "source": [
    "class Person:\n",
    "    def set_name(instance_obj, new_name):\n",
    "        instance_obj.new_name = new_name"
   ]
  },
  {
   "cell_type": "code",
   "execution_count": 69,
   "id": "406058b4-c4e7-4f7b-92d8-88a6d7aba7e7",
   "metadata": {},
   "outputs": [],
   "source": [
    "p = Person()"
   ]
  },
  {
   "cell_type": "code",
   "execution_count": 70,
   "id": "126194ac-5cf2-4c1f-aa74-d496f31e1ff3",
   "metadata": {},
   "outputs": [
    {
     "data": {
      "text/plain": [
       "mappingproxy({'__module__': '__main__',\n",
       "              'set_name': <function __main__.Person.set_name(instance_obj, new_name)>,\n",
       "              '__dict__': <attribute '__dict__' of 'Person' objects>,\n",
       "              '__weakref__': <attribute '__weakref__' of 'Person' objects>,\n",
       "              '__doc__': None})"
      ]
     },
     "execution_count": 70,
     "metadata": {},
     "output_type": "execute_result"
    }
   ],
   "source": [
    "Person.__dict__"
   ]
  },
  {
   "cell_type": "code",
   "execution_count": 71,
   "id": "1c9ac55e-e425-4022-8117-67927a6abbea",
   "metadata": {},
   "outputs": [
    {
     "data": {
      "text/plain": [
       "{}"
      ]
     },
     "execution_count": 71,
     "metadata": {},
     "output_type": "execute_result"
    }
   ],
   "source": [
    "p.__dict__"
   ]
  },
  {
   "cell_type": "code",
   "execution_count": 72,
   "id": "a85eb2d5-d546-4611-86d5-364024219f6c",
   "metadata": {
    "tags": []
   },
   "outputs": [],
   "source": [
    "p.set_name(\"Shafin\")"
   ]
  },
  {
   "cell_type": "code",
   "execution_count": 73,
   "id": "bc2fd53a-393d-43f8-ae58-bfe77078f130",
   "metadata": {},
   "outputs": [
    {
     "data": {
      "text/plain": [
       "mappingproxy({'__module__': '__main__',\n",
       "              'set_name': <function __main__.Person.set_name(instance_obj, new_name)>,\n",
       "              '__dict__': <attribute '__dict__' of 'Person' objects>,\n",
       "              '__weakref__': <attribute '__weakref__' of 'Person' objects>,\n",
       "              '__doc__': None})"
      ]
     },
     "execution_count": 73,
     "metadata": {},
     "output_type": "execute_result"
    }
   ],
   "source": [
    "Person.__dict__"
   ]
  },
  {
   "cell_type": "code",
   "execution_count": 74,
   "id": "5cf61fad-7e84-49e1-8d01-265680ace77f",
   "metadata": {},
   "outputs": [
    {
     "data": {
      "text/plain": [
       "{'new_name': 'Shafin'}"
      ]
     },
     "execution_count": 74,
     "metadata": {},
     "output_type": "execute_result"
    }
   ],
   "source": [
    "p.__dict__"
   ]
  },
  {
   "cell_type": "code",
   "execution_count": 75,
   "id": "dde4d9d0-e14a-42f3-b83d-809ebc369e32",
   "metadata": {},
   "outputs": [],
   "source": [
    "Person.set_name(p, 'Anik')"
   ]
  },
  {
   "cell_type": "code",
   "execution_count": 76,
   "id": "3a50e31f-3ad6-4902-aa5b-2565d41107bb",
   "metadata": {},
   "outputs": [
    {
     "data": {
      "text/plain": [
       "mappingproxy({'__module__': '__main__',\n",
       "              'set_name': <function __main__.Person.set_name(instance_obj, new_name)>,\n",
       "              '__dict__': <attribute '__dict__' of 'Person' objects>,\n",
       "              '__weakref__': <attribute '__weakref__' of 'Person' objects>,\n",
       "              '__doc__': None})"
      ]
     },
     "execution_count": 76,
     "metadata": {},
     "output_type": "execute_result"
    }
   ],
   "source": [
    "Person.__dict__"
   ]
  },
  {
   "cell_type": "code",
   "execution_count": 77,
   "id": "29273749-66c6-4be5-a1a4-16141e4cc647",
   "metadata": {},
   "outputs": [
    {
     "data": {
      "text/plain": [
       "{'new_name': 'Anik'}"
      ]
     },
     "execution_count": 77,
     "metadata": {},
     "output_type": "execute_result"
    }
   ],
   "source": [
    "p.__dict__"
   ]
  },
  {
   "cell_type": "code",
   "execution_count": 92,
   "id": "0d02bfed-1cdc-4826-8111-f342cd0d305f",
   "metadata": {},
   "outputs": [],
   "source": [
    "## Convention 'instance_obj' will be 'self'\n",
    "\n",
    "class Person:\n",
    "    #def set_name(instance_obj, new_name):\n",
    "    def say_hello(self):\n",
    "        print(f\"{self} says hello!\")"
   ]
  },
  {
   "cell_type": "code",
   "execution_count": 99,
   "id": "afb84767-f8bd-4129-974d-6651c97d597f",
   "metadata": {},
   "outputs": [
    {
     "data": {
      "text/plain": [
       "(<function __main__.Person.say_hello(self)>, '0x11451d310')"
      ]
     },
     "execution_count": 99,
     "metadata": {},
     "output_type": "execute_result"
    }
   ],
   "source": [
    "Person.say_hello, hex(id(Person.say_hello))"
   ]
  },
  {
   "cell_type": "code",
   "execution_count": 100,
   "id": "e6be276b-f8ef-4b60-b437-879adc6874b4",
   "metadata": {},
   "outputs": [
    {
     "data": {
      "text/plain": [
       "<__main__.Person at 0x113c73a90>"
      ]
     },
     "execution_count": 100,
     "metadata": {},
     "output_type": "execute_result"
    }
   ],
   "source": [
    "p = Person()\n",
    "p"
   ]
  },
  {
   "cell_type": "code",
   "execution_count": 101,
   "id": "564825ea-a167-4d2c-8db3-a1dffeaba0a8",
   "metadata": {},
   "outputs": [
    {
     "data": {
      "text/plain": [
       "'0x113c73a90'"
      ]
     },
     "execution_count": 101,
     "metadata": {},
     "output_type": "execute_result"
    }
   ],
   "source": [
    "hex(id(p))"
   ]
  },
  {
   "cell_type": "code",
   "execution_count": 102,
   "id": "ce92b815-ba76-4ebf-8d36-83cf055b056a",
   "metadata": {},
   "outputs": [
    {
     "data": {
      "text/plain": [
       "<bound method Person.say_hello of <__main__.Person object at 0x113c73a90>>"
      ]
     },
     "execution_count": 102,
     "metadata": {},
     "output_type": "execute_result"
    }
   ],
   "source": [
    "p.say_hello"
   ]
  },
  {
   "cell_type": "code",
   "execution_count": 103,
   "id": "92820abf-46ba-488c-ab89-0a4333f4b99c",
   "metadata": {},
   "outputs": [
    {
     "data": {
      "text/plain": [
       "<__main__.Person at 0x113c73a90>"
      ]
     },
     "execution_count": 103,
     "metadata": {},
     "output_type": "execute_result"
    }
   ],
   "source": [
    "m_hello = p.say_hello\n",
    "m_hello.__self__"
   ]
  },
  {
   "cell_type": "code",
   "execution_count": 104,
   "id": "929324df-06a1-404a-9d7c-9bf08cebe198",
   "metadata": {},
   "outputs": [
    {
     "data": {
      "text/plain": [
       "<function __main__.Person.say_hello(self)>"
      ]
     },
     "execution_count": 104,
     "metadata": {},
     "output_type": "execute_result"
    }
   ],
   "source": [
    "m_hello.__func__"
   ]
  },
  {
   "cell_type": "code",
   "execution_count": 105,
   "id": "4d009266-9326-4e6d-a00d-47eed67354ba",
   "metadata": {},
   "outputs": [],
   "source": [
    "class Person:\n",
    "    def say_hello(self):\n",
    "        print(f\"Instance method called from {self}\")"
   ]
  },
  {
   "cell_type": "code",
   "execution_count": 106,
   "id": "c342e736-1ca1-4fb2-ac7f-c6b2d279947a",
   "metadata": {},
   "outputs": [
    {
     "data": {
      "text/plain": [
       "'0x114037370'"
      ]
     },
     "execution_count": 106,
     "metadata": {},
     "output_type": "execute_result"
    }
   ],
   "source": [
    "p = Person()\n",
    "hex(id(p))"
   ]
  },
  {
   "cell_type": "code",
   "execution_count": 107,
   "id": "eb91adae-e328-491d-a174-529170c90c55",
   "metadata": {},
   "outputs": [
    {
     "name": "stdout",
     "output_type": "stream",
     "text": [
      "Instance method called from <__main__.Person object at 0x114037370>\n"
     ]
    }
   ],
   "source": [
    "p.say_hello()"
   ]
  },
  {
   "cell_type": "code",
   "execution_count": 108,
   "id": "2164c625-d58c-47d2-90f1-7ddb8911090f",
   "metadata": {},
   "outputs": [],
   "source": [
    "## Creating a function by class\n",
    "Person.do_work = lambda self: f\"do_work called from {self}\""
   ]
  },
  {
   "cell_type": "code",
   "execution_count": 109,
   "id": "84842477-0e56-4a75-bfdd-3d528f00725e",
   "metadata": {},
   "outputs": [
    {
     "data": {
      "text/plain": [
       "mappingproxy({'__module__': '__main__',\n",
       "              'say_hello': <function __main__.Person.say_hello(self)>,\n",
       "              '__dict__': <attribute '__dict__' of 'Person' objects>,\n",
       "              '__weakref__': <attribute '__weakref__' of 'Person' objects>,\n",
       "              '__doc__': None,\n",
       "              'do_work': <function __main__.<lambda>(self)>})"
      ]
     },
     "execution_count": 109,
     "metadata": {},
     "output_type": "execute_result"
    }
   ],
   "source": [
    "Person.__dict__"
   ]
  },
  {
   "cell_type": "code",
   "execution_count": 110,
   "id": "2511b008-0541-4a9b-918e-4a127b432e0c",
   "metadata": {},
   "outputs": [
    {
     "data": {
      "text/plain": [
       "<bound method <lambda> of <__main__.Person object at 0x114037370>>"
      ]
     },
     "execution_count": 110,
     "metadata": {},
     "output_type": "execute_result"
    }
   ],
   "source": [
    "p.do_work"
   ]
  },
  {
   "cell_type": "code",
   "execution_count": 111,
   "id": "a3ad4234-6395-495c-b515-bd267d79bc6d",
   "metadata": {},
   "outputs": [
    {
     "data": {
      "text/plain": [
       "'do_work called from <__main__.Person object at 0x114037370>'"
      ]
     },
     "execution_count": 111,
     "metadata": {},
     "output_type": "execute_result"
    }
   ],
   "source": [
    "p.do_work()"
   ]
  },
  {
   "cell_type": "code",
   "execution_count": 112,
   "id": "73bed4d9-3b4b-4729-b4f7-16a6dded9006",
   "metadata": {},
   "outputs": [],
   "source": [
    "## But we should not create methods via object like we did above\n",
    "p.other_func = lambda *args: f\"other_func called from {args}\""
   ]
  },
  {
   "cell_type": "code",
   "execution_count": 114,
   "id": "b804da1f-1843-4377-b032-1b4ff14351a7",
   "metadata": {},
   "outputs": [
    {
     "data": {
      "text/plain": [
       "<function __main__.<lambda>(*args)>"
      ]
     },
     "execution_count": 114,
     "metadata": {},
     "output_type": "execute_result"
    }
   ],
   "source": [
    "## other_func won't be a method anymore, it'll be function of our object\n",
    "p.other_func"
   ]
  },
  {
   "cell_type": "code",
   "execution_count": 115,
   "id": "8ce6979d-3d8e-49c3-ab9b-1328c8b4d15f",
   "metadata": {},
   "outputs": [
    {
     "data": {
      "text/plain": [
       "{'other_func': <function __main__.<lambda>(*args)>}"
      ]
     },
     "execution_count": 115,
     "metadata": {},
     "output_type": "execute_result"
    }
   ],
   "source": [
    "p.__dict__"
   ]
  },
  {
   "cell_type": "code",
   "execution_count": 116,
   "id": "03ae0035-643b-4eb8-a60c-16e782ad225b",
   "metadata": {},
   "outputs": [
    {
     "data": {
      "text/plain": [
       "'other_func called from ()'"
      ]
     },
     "execution_count": 116,
     "metadata": {},
     "output_type": "execute_result"
    }
   ],
   "source": [
    "p.other_func()"
   ]
  },
  {
   "cell_type": "markdown",
   "id": "59987d41-eda8-4b91-8302-2f4b2aa7aea4",
   "metadata": {},
   "source": [
    "- Functions of a class transforms into a method when called by an object or instance of that class."
   ]
  },
  {
   "cell_type": "code",
   "execution_count": 149,
   "id": "164cdb15-07a1-44ff-a8dc-317bead2e8af",
   "metadata": {},
   "outputs": [],
   "source": [
    "class Person:\n",
    "    def say_hello(self, name):\n",
    "        self.name = name"
   ]
  },
  {
   "cell_type": "code",
   "execution_count": 150,
   "id": "8beed4c1-80c3-4dd3-89be-aa485e45fbaa",
   "metadata": {},
   "outputs": [],
   "source": [
    "p = Person()\n",
    "p.say_hello('Shafin')"
   ]
  },
  {
   "cell_type": "code",
   "execution_count": 151,
   "id": "08731000-3a40-4340-998c-14e40ac86a86",
   "metadata": {},
   "outputs": [
    {
     "name": "stdout",
     "output_type": "stream",
     "text": [
      "None\n"
     ]
    }
   ],
   "source": [
    "print(f\"{p.say_hello('Shafin')}\")"
   ]
  },
  {
   "cell_type": "code",
   "execution_count": 152,
   "id": "bc470344-2de2-404f-9b6c-552500871d54",
   "metadata": {},
   "outputs": [
    {
     "data": {
      "text/plain": [
       "'Shafin'"
      ]
     },
     "execution_count": 152,
     "metadata": {},
     "output_type": "execute_result"
    }
   ],
   "source": [
    "p.name"
   ]
  },
  {
   "cell_type": "code",
   "execution_count": 153,
   "id": "f48a739b-f864-409d-90b8-074cb559275c",
   "metadata": {},
   "outputs": [],
   "source": [
    "class Person:\n",
    "    def say_hello(self, name):\n",
    "        self.name = name\n",
    "        return f\"Hello {name}\""
   ]
  },
  {
   "cell_type": "code",
   "execution_count": 154,
   "id": "36b72774-1737-47e9-a5b0-7260761f8897",
   "metadata": {},
   "outputs": [
    {
     "data": {
      "text/plain": [
       "'Hello Shafin'"
      ]
     },
     "execution_count": 154,
     "metadata": {},
     "output_type": "execute_result"
    }
   ],
   "source": [
    "p = Person()\n",
    "p.say_hello('Shafin')"
   ]
  },
  {
   "cell_type": "code",
   "execution_count": 155,
   "id": "98ff9a94-45e7-4f29-98f2-007649334e08",
   "metadata": {},
   "outputs": [
    {
     "data": {
      "text/plain": [
       "'Shafin'"
      ]
     },
     "execution_count": 155,
     "metadata": {},
     "output_type": "execute_result"
    }
   ],
   "source": [
    "p.name"
   ]
  },
  {
   "cell_type": "code",
   "execution_count": null,
   "id": "0e0c6d34-a590-490c-b895-2fc417b2f009",
   "metadata": {},
   "outputs": [],
   "source": []
  }
 ],
 "metadata": {
  "kernelspec": {
   "display_name": "Python 3 (ipykernel)",
   "language": "python",
   "name": "python3"
  },
  "language_info": {
   "codemirror_mode": {
    "name": "ipython",
    "version": 3
   },
   "file_extension": ".py",
   "mimetype": "text/x-python",
   "name": "python",
   "nbconvert_exporter": "python",
   "pygments_lexer": "ipython3",
   "version": "3.8.13"
  }
 },
 "nbformat": 4,
 "nbformat_minor": 5
}
