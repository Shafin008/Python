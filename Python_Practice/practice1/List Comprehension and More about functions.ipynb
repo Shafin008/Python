{
 "cells": [
  {
   "cell_type": "markdown",
   "id": "3c07956a",
   "metadata": {},
   "source": [
    "## List Comprehensions"
   ]
  },
  {
   "cell_type": "code",
   "execution_count": null,
   "id": "95e694dc",
   "metadata": {},
   "outputs": [],
   "source": [
    "# temps = [223, 224,334,556]\n",
    "\n",
    "# new_temp=[]\n",
    "\n",
    "# for temp in temps:\n",
    "#     new_temp.append(temp/10)\n",
    "# print(new_temp)"
   ]
  },
  {
   "cell_type": "code",
   "execution_count": null,
   "id": "0ebfefd9",
   "metadata": {},
   "outputs": [],
   "source": [
    "temps = [223, 224,334,556]\n",
    "\n",
    "new_temp = [temp/10 for temp in temps]\n",
    "print(new_temp)"
   ]
  },
  {
   "cell_type": "code",
   "execution_count": null,
   "id": "1cf9162e",
   "metadata": {},
   "outputs": [],
   "source": [
    "### list comprehension with 'if' conditionals\n",
    "\n",
    "# suppose we have to store data from a list to a new list that only allows above -100 and below 100 after dividimg by 10\n",
    "\n",
    "temps = [223, 224, 334, 556,-9999,8888]\n",
    "\n",
    "new_temp=[]\n",
    "\n",
    "for temp in temps:\n",
    "    if -100 < temp/10 < 100:\n",
    "        new_temp.append(temp/10)\n",
    "print(new_temp)\n"
   ]
  },
  {
   "cell_type": "code",
   "execution_count": null,
   "id": "91c7cb1a",
   "metadata": {},
   "outputs": [],
   "source": [
    "temps = [223, 224, 334, 556,-9999,8888]\n",
    "\n",
    "new_temp=[temp/10 for temp in temps  if -100 < temp/10 < 100]\n",
    "print(new_temp)"
   ]
  },
  {
   "cell_type": "code",
   "execution_count": null,
   "id": "22da00e7",
   "metadata": {},
   "outputs": [],
   "source": [
    "### list comprehension with 'if' and \"else\" conditionals\n",
    "### then you have to put the loop after conditionals\n",
    "\n",
    "# suppose we have to store data from a list to a new list that only allows above -100 and below 100 after dividing by 10\n",
    "# if the data is  above -100 and below 100 it will append a string \"NA\"\n",
    "temps = [223, 224, 334, 556,-9999,8888]\n",
    "\n",
    "new_temp=[]\n",
    "\n",
    "for temp in temps:\n",
    "    if -100 < temp/10 < 100:\n",
    "        new_temp.append(temp/10)\n",
    "    else:\n",
    "        new_temp.append(\"NA\")\n",
    "print(new_temp)\n"
   ]
  },
  {
   "cell_type": "code",
   "execution_count": null,
   "id": "6825e31d",
   "metadata": {},
   "outputs": [],
   "source": [
    "### REMINDER: you have to put the loop after 'if' and \"else\" conditionals\n",
    "\n",
    "new_temp=[temp/10 if -100 < temp/10 < 100 else \"NA\" for temp in temps]\n",
    "print(new_temp)"
   ]
  },
  {
   "cell_type": "code",
   "execution_count": 5,
   "id": "dc405fe3",
   "metadata": {},
   "outputs": [],
   "source": [
    "# def only_int(lst):\n",
    "#     integers = []\n",
    "#     for data in lst:\n",
    "#         if type(data) is int:\n",
    "#             integers.append(data)\n",
    "#     return integers\n",
    "            \n",
    "# a = [22, 22, 33, 55, 'NA', 'NA']\n",
    "# print(only_int(a))"
   ]
  },
  {
   "cell_type": "code",
   "execution_count": 8,
   "id": "7304ff7d",
   "metadata": {},
   "outputs": [
    {
     "name": "stdout",
     "output_type": "stream",
     "text": [
      "[22, 22, 33, 55]\n"
     ]
    }
   ],
   "source": [
    "def only_int(lst):\n",
    "    integers = [data for data in lst if type(data) is int]\n",
    "    return integers\n",
    "a = [22, 22, 33, 55, 'NA', 'NA']\n",
    "print(only_int(a))"
   ]
  },
  {
   "cell_type": "code",
   "execution_count": 9,
   "id": "298764c7",
   "metadata": {},
   "outputs": [
    {
     "name": "stdout",
     "output_type": "stream",
     "text": [
      "[22, 22, 33, 55]\n"
     ]
    }
   ],
   "source": [
    "def greater_thn_zero(lst):\n",
    "    numbers = []\n",
    "    for data in lst:\n",
    "        if data > 0:\n",
    "            numbers.append(data)\n",
    "    return numbers\n",
    "            \n",
    "a = [22, 22, 33, 55, -77, 0, -99]\n",
    "print(greater_thn_zero(a))"
   ]
  },
  {
   "cell_type": "code",
   "execution_count": 10,
   "id": "0c70ae98",
   "metadata": {},
   "outputs": [
    {
     "name": "stdout",
     "output_type": "stream",
     "text": [
      "[22, 22, 33, 55]\n"
     ]
    }
   ],
   "source": [
    "def greater_thn_zero(lst):\n",
    "    numbers = [data for data in lst if data > 0]\n",
    "    return numbers\n",
    "            \n",
    "a = [22, 22, 33, 55, -77, 0, -99]\n",
    "print(greater_thn_zero(a))"
   ]
  },
  {
   "cell_type": "code",
   "execution_count": 12,
   "id": "bbfe87b9",
   "metadata": {},
   "outputs": [
    {
     "name": "stdout",
     "output_type": "stream",
     "text": [
      "[22, 22, 33, 55, 0, 0]\n"
     ]
    }
   ],
   "source": [
    "def only_int_zero(lst):\n",
    "    new_lst = []\n",
    "    for data in lst:\n",
    "        if type(data) is int:\n",
    "            new_lst.append(data)\n",
    "        else:\n",
    "            new_lst.append(0)\n",
    "    return new_lst\n",
    "            \n",
    "a = [22, 22, 33, 55, 'NA', 'NA']\n",
    "print(only_int_zero(a))"
   ]
  },
  {
   "cell_type": "code",
   "execution_count": 13,
   "id": "bc88d535",
   "metadata": {},
   "outputs": [
    {
     "name": "stdout",
     "output_type": "stream",
     "text": [
      "[22, 22, 33, 55, 0, 0]\n"
     ]
    }
   ],
   "source": [
    "def only_int_zero(lst):\n",
    "    new_lst = [data if type(data) is int else 0 for data in lst]\n",
    "    return new_lst\n",
    "            \n",
    "a = [22, 22, 33, 55, 'NA', 'NA']\n",
    "print(only_int_zero(a))"
   ]
  },
  {
   "cell_type": "code",
   "execution_count": 16,
   "id": "66f1ae2a",
   "metadata": {},
   "outputs": [
    {
     "name": "stdout",
     "output_type": "stream",
     "text": [
      "13.2\n"
     ]
    }
   ],
   "source": [
    "def str_to_decimal(lst):\n",
    "    new_lst = [float(data) for data in lst if type(data) is str ]\n",
    "    return sum(new_lst)\n",
    "\n",
    "a = ['2.2', '2.2', '3.3', '5.5']\n",
    "print(str_to_decimal(a))"
   ]
  },
  {
   "cell_type": "markdown",
   "id": "df8798b7",
   "metadata": {},
   "source": [
    "## Functions"
   ]
  },
  {
   "cell_type": "code",
   "execution_count": 29,
   "id": "7bbebe95",
   "metadata": {},
   "outputs": [],
   "source": [
    "# # error\n",
    "# def area(a=4, b):\n",
    "#     return a*b\n",
    "\n",
    "# print(area(4,4))"
   ]
  },
  {
   "cell_type": "code",
   "execution_count": 28,
   "id": "effb3a77",
   "metadata": {},
   "outputs": [
    {
     "name": "stdout",
     "output_type": "stream",
     "text": [
      "16\n"
     ]
    }
   ],
   "source": [
    "## a,b are keyword parameters\n",
    "def area(a=4, b=3):\n",
    "    return a*b\n",
    "\n",
    "print(area(4,4))"
   ]
  },
  {
   "cell_type": "code",
   "execution_count": 43,
   "id": "cea5f615",
   "metadata": {},
   "outputs": [
    {
     "name": "stdout",
     "output_type": "stream",
     "text": [
      "(4, 5, 6, 7, 8, 9, 3)\n"
     ]
    }
   ],
   "source": [
    "## \" *args \" means -----> non-keyword arguments-----> we have to put \"*\" before \"args\"\n",
    "# it'll return a tuple\n",
    "def mean(*args):\n",
    "    return args\n",
    "\n",
    "print(mean(4,5,6,7,8,9,3))"
   ]
  },
  {
   "cell_type": "code",
   "execution_count": 49,
   "id": "1d81d35d",
   "metadata": {},
   "outputs": [
    {
     "name": "stdout",
     "output_type": "stream",
     "text": [
      "25.0\n"
     ]
    }
   ],
   "source": [
    "def avg(*args):\n",
    "    return sum(args) / len(args)\n",
    "print(avg(10,20,30,40))"
   ]
  },
  {
   "cell_type": "code",
   "execution_count": 44,
   "id": "e31f83ed",
   "metadata": {},
   "outputs": [],
   "source": [
    "## \" **kwargs \" means -----> keyword argument-----> we have to put \"**\" before \"kwargs\"\n",
    "# this example will show an error, because we didn't use any keywords\n",
    "\n",
    "# def mean(**kwargs):\n",
    "#     return kwargs\n",
    "\n",
    "# print(mean(4,5,6,7,8,9,3))"
   ]
  },
  {
   "cell_type": "code",
   "execution_count": 42,
   "id": "fd861c9d",
   "metadata": {},
   "outputs": [
    {
     "name": "stdout",
     "output_type": "stream",
     "text": [
      "{'a': 4, 'b': 5, 'c': 6, 'd': 7, 'e': 8, 'f': 9, 'g': 3}\n"
     ]
    }
   ],
   "source": [
    "# it'll return a dictionary\n",
    "def mean(**kwargs):\n",
    "    return kwargs\n",
    "\n",
    "print(mean(a=4, b=5, c=6, d=7, e=8, f= 9, g= 3))"
   ]
  },
  {
   "cell_type": "code",
   "execution_count": 53,
   "id": "7a9dcd4e",
   "metadata": {},
   "outputs": [
    {
     "name": "stdout",
     "output_type": "stream",
     "text": [
      "4.5\n"
     ]
    }
   ],
   "source": [
    "# As **kwargs returns a dictionary, we have to work with \".keys()\" and \".values\" method\n",
    "def find_avg(**kwargs):\n",
    "    return sum(kwargs.values()) / len(kwargs) \n",
    "    \n",
    "print(find_avg(a=4,b=5))"
   ]
  },
  {
   "cell_type": "code",
   "execution_count": 54,
   "id": "e99043b4",
   "metadata": {},
   "outputs": [
    {
     "name": "stdout",
     "output_type": "stream",
     "text": [
      "shafin\n"
     ]
    }
   ],
   "source": [
    "def str_con(a,b):\n",
    "    concat = a + b\n",
    "    return concat\n",
    "print(str_con(\"sha\",\"fin\"))"
   ]
  },
  {
   "cell_type": "code",
   "execution_count": 59,
   "id": "c83b1997",
   "metadata": {},
   "outputs": [
    {
     "name": "stdout",
     "output_type": "stream",
     "text": [
      "['GLACIER', 'ICEBERG', 'SNOW']\n"
     ]
    }
   ],
   "source": [
    "def upper_str_lst(*args):\n",
    "    lst =[]\n",
    "    for i in args:\n",
    "        lst.append(i.upper())\n",
    "    return sorted(lst)\n",
    "print(upper_str_lst(\"snow\",\"glacier\",\"iceberg\"))    "
   ]
  },
  {
   "cell_type": "code",
   "execution_count": null,
   "id": "794341db",
   "metadata": {},
   "outputs": [],
   "source": []
  }
 ],
 "metadata": {
  "kernelspec": {
   "display_name": "Python 3",
   "language": "python",
   "name": "python3"
  },
  "language_info": {
   "codemirror_mode": {
    "name": "ipython",
    "version": 3
   },
   "file_extension": ".py",
   "mimetype": "text/x-python",
   "name": "python",
   "nbconvert_exporter": "python",
   "pygments_lexer": "ipython3",
   "version": "3.8.8"
  }
 },
 "nbformat": 4,
 "nbformat_minor": 5
}
