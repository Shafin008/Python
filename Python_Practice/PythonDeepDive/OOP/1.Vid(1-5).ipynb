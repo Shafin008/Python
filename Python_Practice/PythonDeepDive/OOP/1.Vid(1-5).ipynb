{
 "cells": [
  {
   "cell_type": "markdown",
   "id": "c592f204-04b2-42d6-bca4-43f24e2cd222",
   "metadata": {},
   "source": [
    "### OOP\n",
    "\n",
    "1. `Instantiate` and `Initialize` objects from a class. These are both two separate operations and 90% of the time we have to `Initialize` objects.\n",
    "\n",
    "2. 'Class' and 'Instance' attributes. These are 'Data' and 'Functions'.\n",
    "\n",
    "3. Function bindings and Methods. When we call a function that's associated with an object, the function is actually bound to something. \n",
    "\n",
    "    - The function can be bound to an 'instance', in that case it is `Instance Methods.` (These are the most used.)\n",
    "    \n",
    "    - Then there are `Class Methods` where functions are actually bound to the 'class' not with the 'instances'.\n",
    "    \n",
    "    - There is an another method named `Static Methods` which is not bound to neither class nor instance.\n",
    "    \n",
    "4. `Properties` are hybrid between 'Data' and 'Functions'. They are usually used for 'data' in our object. But, we actually use 'function' to get access to that data."
   ]
  },
  {
   "cell_type": "markdown",
   "id": "dd31e0d8-e56a-4e49-9e70-744bc71ff987",
   "metadata": {},
   "source": [
    "### Basic Concepts\n",
    "\n",
    "***What is an object?***\n",
    "\n",
    "- We can think of an object as a container that contains data(such as list). The data is called `attributes` or `state`. It also contains functionality. They are called `methods`.\n",
    "\n",
    "- In python classes are also 'objects'. Classes have their own 'attributes', like- when we create a class we give it a name, this name is an 'attribute' of that class. Then when we 'instantiate' an object of that class, the 'type' of that object will be of that class.\n",
    "\n",
    "***If a class is an object, and objects are created from classes, then how are classes created??***\n",
    "\n",
    "- Classes are created from the `type` - 'metaclass'\n",
    "\n",
    "\n",
    "---------------------\n",
    "---------------------\n",
    "\n",
    "- Classes are callable (e.g., `MyClass()`). This will return an 'Instance' of that class. This instance is called an 'object', though everything in python are objects. MyClass() is an object and also, the 'instance' that is created is an object, but both are differnt objects of different 'types'. The 'type' of MyClass() is `type` and 'type' of an 'instance' of 'MyClass()' is `MyClass`.\n",
    "\n",
    "- We can check whether an 'instance' is an object of a specific class by using `isinstace(obj, class) -> bool` method.\n",
    "\n",
    "- When we create a class, python automatically provides certain 'attributes' and 'methods' for that class. For example: (`MyClass.__name__` attribute will output the name of that class which is 'MyClass' string); When we call that class 'MyClass()' method, it'll return an object of that class.\n",
    "\n",
    "- type(MyClass) -> type;"
   ]
  },
  {
   "cell_type": "markdown",
   "id": "5d82b5f0-3236-4106-b571-22e7c1f46ae5",
   "metadata": {},
   "source": [
    "## Objects and Classes"
   ]
  },
  {
   "cell_type": "code",
   "execution_count": 1,
   "id": "eff24214-aa80-4221-a1af-f4896da5b5bb",
   "metadata": {},
   "outputs": [],
   "source": [
    "## Let's create an empty class\n",
    "class Person:\n",
    "    pass"
   ]
  },
  {
   "cell_type": "code",
   "execution_count": 2,
   "id": "2aacec4c-517b-460a-bffd-6532bc74626c",
   "metadata": {},
   "outputs": [
    {
     "data": {
      "text/plain": [
       "type"
      ]
     },
     "execution_count": 2,
     "metadata": {},
     "output_type": "execute_result"
    }
   ],
   "source": [
    "## Type of our class\n",
    "type(Person)"
   ]
  },
  {
   "cell_type": "code",
   "execution_count": 3,
   "id": "fc778c45-7d9f-4a18-8663-85f5d62d8e10",
   "metadata": {},
   "outputs": [
    {
     "data": {
      "text/plain": [
       "type"
      ]
     },
     "execution_count": 3,
     "metadata": {},
     "output_type": "execute_result"
    }
   ],
   "source": [
    "type(type)"
   ]
  },
  {
   "cell_type": "code",
   "execution_count": 4,
   "id": "78f7e6c6-423f-461a-8159-d67ef9dc8dbe",
   "metadata": {},
   "outputs": [
    {
     "data": {
      "text/plain": [
       "'Person'"
      ]
     },
     "execution_count": 4,
     "metadata": {},
     "output_type": "execute_result"
    }
   ],
   "source": [
    "Person.__name__"
   ]
  },
  {
   "cell_type": "code",
   "execution_count": 5,
   "id": "3a846f57-61ea-459c-b49b-bfd78bfdad80",
   "metadata": {},
   "outputs": [
    {
     "data": {
      "text/plain": [
       "__main__.Person"
      ]
     },
     "execution_count": 5,
     "metadata": {},
     "output_type": "execute_result"
    }
   ],
   "source": [
    "## creating an instance of the class\n",
    "p = Person()\n",
    "type(p)"
   ]
  },
  {
   "cell_type": "code",
   "execution_count": 7,
   "id": "5f2afae7-942b-403c-ac38-d009cd263a4f",
   "metadata": {},
   "outputs": [
    {
     "data": {
      "text/plain": [
       "__main__.Person"
      ]
     },
     "execution_count": 7,
     "metadata": {},
     "output_type": "execute_result"
    }
   ],
   "source": [
    "p.__class__"
   ]
  },
  {
   "cell_type": "code",
   "execution_count": 8,
   "id": "b0506cf1-ccb7-4b54-bfcb-a6edc78bbc82",
   "metadata": {},
   "outputs": [
    {
     "data": {
      "text/plain": [
       "True"
      ]
     },
     "execution_count": 8,
     "metadata": {},
     "output_type": "execute_result"
    }
   ],
   "source": [
    "type(p) is p.__class__"
   ]
  },
  {
   "cell_type": "code",
   "execution_count": 9,
   "id": "e65ab58b-eea1-4c6c-a0fd-600b0b2132bf",
   "metadata": {},
   "outputs": [
    {
     "data": {
      "text/plain": [
       "True"
      ]
     },
     "execution_count": 9,
     "metadata": {},
     "output_type": "execute_result"
    }
   ],
   "source": [
    "## Check 'p' is an instance of our class\n",
    "isinstance(p, Person)"
   ]
  },
  {
   "cell_type": "code",
   "execution_count": 10,
   "id": "ffad606e-c37a-46e8-ad7b-3d68cf2c393e",
   "metadata": {},
   "outputs": [
    {
     "data": {
      "text/plain": [
       "False"
      ]
     },
     "execution_count": 10,
     "metadata": {},
     "output_type": "execute_result"
    }
   ],
   "source": [
    "isinstance(p, str)"
   ]
  },
  {
   "cell_type": "code",
   "execution_count": 11,
   "id": "4db2149f-f4d0-429f-8233-e5845f326bd0",
   "metadata": {},
   "outputs": [
    {
     "data": {
      "text/plain": [
       "True"
      ]
     },
     "execution_count": 11,
     "metadata": {},
     "output_type": "execute_result"
    }
   ],
   "source": [
    "isinstance('hello', str)"
   ]
  },
  {
   "cell_type": "code",
   "execution_count": 12,
   "id": "8c4d992f-b371-4a6e-bb1a-b6734bfa5108",
   "metadata": {},
   "outputs": [
    {
     "data": {
      "text/plain": [
       "type"
      ]
     },
     "execution_count": 12,
     "metadata": {},
     "output_type": "execute_result"
    }
   ],
   "source": [
    "type(str)"
   ]
  },
  {
   "cell_type": "code",
   "execution_count": 13,
   "id": "aff44962-9e0e-4ea5-8e5a-77f731a98cc0",
   "metadata": {
    "collapsed": true,
    "jupyter": {
     "outputs_hidden": true
    },
    "tags": []
   },
   "outputs": [
    {
     "name": "stdout",
     "output_type": "stream",
     "text": [
      "Help on class type in module builtins:\n",
      "\n",
      "class type(object)\n",
      " |  type(object_or_name, bases, dict)\n",
      " |  type(object) -> the object's type\n",
      " |  type(name, bases, dict) -> a new type\n",
      " |  \n",
      " |  Methods defined here:\n",
      " |  \n",
      " |  __call__(self, /, *args, **kwargs)\n",
      " |      Call self as a function.\n",
      " |  \n",
      " |  __delattr__(self, name, /)\n",
      " |      Implement delattr(self, name).\n",
      " |  \n",
      " |  __dir__(self, /)\n",
      " |      Specialized __dir__ implementation for types.\n",
      " |  \n",
      " |  __getattribute__(self, name, /)\n",
      " |      Return getattr(self, name).\n",
      " |  \n",
      " |  __init__(self, /, *args, **kwargs)\n",
      " |      Initialize self.  See help(type(self)) for accurate signature.\n",
      " |  \n",
      " |  __instancecheck__(self, instance, /)\n",
      " |      Check if an object is an instance.\n",
      " |  \n",
      " |  __repr__(self, /)\n",
      " |      Return repr(self).\n",
      " |  \n",
      " |  __setattr__(self, name, value, /)\n",
      " |      Implement setattr(self, name, value).\n",
      " |  \n",
      " |  __sizeof__(self, /)\n",
      " |      Return memory consumption of the type object.\n",
      " |  \n",
      " |  __subclasscheck__(self, subclass, /)\n",
      " |      Check if a class is a subclass.\n",
      " |  \n",
      " |  __subclasses__(self, /)\n",
      " |      Return a list of immediate subclasses.\n",
      " |  \n",
      " |  mro(self, /)\n",
      " |      Return a type's method resolution order.\n",
      " |  \n",
      " |  ----------------------------------------------------------------------\n",
      " |  Class methods defined here:\n",
      " |  \n",
      " |  __prepare__(...)\n",
      " |      __prepare__() -> dict\n",
      " |      used to create the namespace for the class statement\n",
      " |  \n",
      " |  ----------------------------------------------------------------------\n",
      " |  Static methods defined here:\n",
      " |  \n",
      " |  __new__(*args, **kwargs)\n",
      " |      Create and return a new object.  See help(type) for accurate signature.\n",
      " |  \n",
      " |  ----------------------------------------------------------------------\n",
      " |  Data descriptors defined here:\n",
      " |  \n",
      " |  __abstractmethods__\n",
      " |  \n",
      " |  __dict__\n",
      " |  \n",
      " |  __text_signature__\n",
      " |  \n",
      " |  ----------------------------------------------------------------------\n",
      " |  Data and other attributes defined here:\n",
      " |  \n",
      " |  __base__ = <class 'object'>\n",
      " |      The base class of the class hierarchy.\n",
      " |      \n",
      " |      When called, it accepts no arguments and returns a new featureless\n",
      " |      instance that has no instance attributes and cannot be given any.\n",
      " |  \n",
      " |  __bases__ = (<class 'object'>,)\n",
      " |  \n",
      " |  __basicsize__ = 880\n",
      " |  \n",
      " |  __dictoffset__ = 264\n",
      " |  \n",
      " |  __flags__ = 2148291584\n",
      " |  \n",
      " |  __itemsize__ = 40\n",
      " |  \n",
      " |  __mro__ = (<class 'type'>, <class 'object'>)\n",
      " |  \n",
      " |  __weakrefoffset__ = 368\n",
      "\n"
     ]
    }
   ],
   "source": [
    "help(type)"
   ]
  },
  {
   "cell_type": "code",
   "execution_count": 14,
   "id": "715daf35-fbb9-4984-ab8f-604b40ad488e",
   "metadata": {},
   "outputs": [
    {
     "name": "stdout",
     "output_type": "stream",
     "text": [
      "Help on class Person in module __main__:\n",
      "\n",
      "class Person(builtins.object)\n",
      " |  Data descriptors defined here:\n",
      " |  \n",
      " |  __dict__\n",
      " |      dictionary for instance variables (if defined)\n",
      " |  \n",
      " |  __weakref__\n",
      " |      list of weak references to the object (if defined)\n",
      "\n"
     ]
    }
   ],
   "source": [
    "help(Person)"
   ]
  },
  {
   "cell_type": "markdown",
   "id": "3f08d7ed-527e-483d-a48c-e3e7e945258b",
   "metadata": {},
   "source": [
    "## Class Attributes"
   ]
  },
  {
   "cell_type": "markdown",
   "id": "372966fe-5f80-45d5-8838-43fd8e6fcf65",
   "metadata": {},
   "source": [
    "**_Getting Attributes of a class_**\n",
    "- To retrieve 'attributes' from a class we can use `getattr` method.\n",
    "`getattr(class, attribute_name -> str, optional_default)`\n",
    "\n",
    "```\n",
    "class MyClass:\n",
    "    language = 'Python'\n",
    "    version = '3.9'\n",
    "       \n",
    "getattr(MyClass, 'language') \n",
    ">>> 'Python'\n",
    "\n",
    "getattr(MyClass, 'x') ## 'x' is not an attribute.\n",
    ">>> 'AttributeError' exception\n",
    "\n",
    "## Now the optional_default value will come in handy:\n",
    "\n",
    "getattr(MyClass, 'x', 'N/A') ## 'x' is not an attribute.\n",
    ">>> 'N/A'\n",
    "\n",
    "```\n",
    "\n",
    "- Generally we use 'dot notation' to retrieve an attribute of class; the drawback is we can't use `optional_default`.\n",
    "\n",
    "\n",
    "**_Setting Attributes of a class_**\n",
    "- To retrieve 'attributes' from a class we can use `getattr` method.\n",
    "`setattr(class, attribute_name -> str, attribut_value)`\n",
    "\n",
    "```\n",
    "class MyClass:\n",
    "    language = 'Python'\n",
    "    version = '3.9'\n",
    "       \n",
    "setattr(MyClass, 'version', '3.10') \n",
    ">>> '3.10'\n",
    "\n",
    "## Same as above\n",
    "MyClass.version = '3.10'\n",
    ">> '3.10'\n",
    "\n",
    "## Setting attribute will change the attribute of that class\n",
    "## Now if I try to get attribute, I won't find the previous attribute\n",
    "\n",
    "getattr(MyClass, 'version') \n",
    ">>> '3.10'\n",
    "```\n",
    "\n",
    "- What if we want to set attributes that are not in my class? Python is a dynamic language; we can add or remove attributes even if it doesn't exist initially. Suppose we want to add 'x' attribute to value 100.\n",
    "\n",
    "```\n",
    "setattr(MyClass, 'x', 100) ## Now, 'x' is set to 100\n",
    "\n",
    "## Or we can use dot notation\n",
    "MyClass.x = 100\n",
    "\n",
    "MyClass.x\n",
    ">>> 100\n",
    "\n",
    "## get\n",
    "getattr(MyClass, 'x')\n",
    ">>> 100\n",
    "```\n",
    "\n",
    "\n",
    "**_Where is the attributes of a class is stored?_**\n",
    "\n",
    "- In a `dictionary`.\n",
    "\n",
    "```\n",
    "class MyClass:\n",
    "    language = 'Python'\n",
    "    version = '3.9'\n",
    "       \n",
    "MyClass.__dict__       \n",
    ">>> mappingproxy({........all the attributes.....})     \n",
    "\n",
    "## mappingproxy is not a 'dict' type, but it's a 'dictionary'. It's a read-only 'hashmap'\n",
    "\n",
    "## We can revoke the read-only by setattr method\n",
    "## Let's add a new attribute 'x'\n",
    "       \n",
    "setattr(MyClass, 'x', 100) \n",
    ">>> 100\n",
    "\n",
    "## Now if we see, it'll contain new attribute 'x'\n",
    "\n",
    "MyClass.__dict__       \n",
    ">>> mappingproxy({........all the previous attributes + new addition 'x'.....}) \n",
    "\n",
    "## we can also get the attribute by this __dict__ function\n",
    "## Suppose we want the 'language' attribute\n",
    "## But we don't usually get attributes in this way\n",
    "MyClass.__dict__['language']\n",
    ">>> 'Python'\n",
    "\n",
    "```\n",
    "\n",
    "**_Deleting attributes_**\n",
    "\n",
    "`delattr(class, attribute_name -> str)` or `del` keyword\n",
    "\n",
    "```\n",
    "class MyClass:\n",
    "    language = 'Python'\n",
    "    version = '3.9'\n",
    "       \n",
    "MyClass.__dict__       \n",
    ">>> mappingproxy({........all the attributes.....})     \n",
    "\n",
    "## Now we'll delete 'version' attribute by delattr method\n",
    "\n",
    "delattr(MyClass, 'version') ## del MyClass.version\n",
    ">>> 100\n",
    "\n",
    "## Now if we see, it'll not contain attribute 'version'\n",
    "MyClass.__dict__       \n",
    ">>> mappingproxy({........all the previous attributes without 'version'.....}) \n",
    "```"
   ]
  },
  {
   "cell_type": "code",
   "execution_count": 20,
   "id": "2405eed6-576d-4f44-9904-73e6d5c30ec6",
   "metadata": {},
   "outputs": [],
   "source": [
    "class Program:\n",
    "    language = 'Python'\n",
    "    version = '3.6'"
   ]
  },
  {
   "cell_type": "code",
   "execution_count": 21,
   "id": "19425461-aec0-4417-b10f-1f5d4adee5d6",
   "metadata": {},
   "outputs": [
    {
     "data": {
      "text/plain": [
       "'Program'"
      ]
     },
     "execution_count": 21,
     "metadata": {},
     "output_type": "execute_result"
    }
   ],
   "source": [
    "Program.__name__"
   ]
  },
  {
   "cell_type": "code",
   "execution_count": 22,
   "id": "9525dbde-e5d7-48ec-bf4d-b3b0129bb828",
   "metadata": {},
   "outputs": [
    {
     "data": {
      "text/plain": [
       "type"
      ]
     },
     "execution_count": 22,
     "metadata": {},
     "output_type": "execute_result"
    }
   ],
   "source": [
    "type(Program)"
   ]
  },
  {
   "cell_type": "code",
   "execution_count": 25,
   "id": "abeb90f1-f709-4369-920a-90c4dba148f0",
   "metadata": {},
   "outputs": [
    {
     "data": {
      "text/plain": [
       "'Python'"
      ]
     },
     "execution_count": 25,
     "metadata": {},
     "output_type": "execute_result"
    }
   ],
   "source": [
    "## getting atrributes\n",
    "Program.language"
   ]
  },
  {
   "cell_type": "code",
   "execution_count": 28,
   "id": "caff121f-11dd-4bb1-9e2d-f2d251ac77e3",
   "metadata": {},
   "outputs": [
    {
     "data": {
      "text/plain": [
       "'Python'"
      ]
     },
     "execution_count": 28,
     "metadata": {},
     "output_type": "execute_result"
    }
   ],
   "source": [
    "getattr(Program, 'language')"
   ]
  },
  {
   "cell_type": "code",
   "execution_count": 26,
   "id": "efe50efd-ac5f-4403-9535-05e8a3d03510",
   "metadata": {},
   "outputs": [
    {
     "data": {
      "text/plain": [
       "'3.6'"
      ]
     },
     "execution_count": 26,
     "metadata": {},
     "output_type": "execute_result"
    }
   ],
   "source": [
    "Program.version"
   ]
  },
  {
   "cell_type": "code",
   "execution_count": 27,
   "id": "2b11d317-251c-4858-8f53-84c9eff75401",
   "metadata": {},
   "outputs": [
    {
     "data": {
      "text/plain": [
       "'3.7'"
      ]
     },
     "execution_count": 27,
     "metadata": {},
     "output_type": "execute_result"
    }
   ],
   "source": [
    "## setting new attribute\n",
    "Program.version = '3.7'\n",
    "\n",
    "Program.version"
   ]
  },
  {
   "cell_type": "code",
   "execution_count": 31,
   "id": "c05a9c36-a5b9-4dce-95be-a7e8c2111884",
   "metadata": {},
   "outputs": [
    {
     "data": {
      "text/plain": [
       "'3.6'"
      ]
     },
     "execution_count": 31,
     "metadata": {},
     "output_type": "execute_result"
    }
   ],
   "source": [
    "setattr(Program, 'version', '3.6')\n",
    "Program.version"
   ]
  },
  {
   "cell_type": "code",
   "execution_count": 33,
   "id": "73abaa12-f113-4c7c-ad51-e7a8a85e5279",
   "metadata": {},
   "outputs": [
    {
     "ename": "AttributeError",
     "evalue": "type object 'Program' has no attribute 'x'",
     "output_type": "error",
     "traceback": [
      "\u001b[0;31m---------------------------------------------------------------------------\u001b[0m",
      "\u001b[0;31mAttributeError\u001b[0m                            Traceback (most recent call last)",
      "Input \u001b[0;32mIn [33]\u001b[0m, in \u001b[0;36m<cell line: 3>\u001b[0;34m()\u001b[0m\n\u001b[1;32m      1\u001b[0m \u001b[38;5;66;03m### trying to get non-existing attribute\u001b[39;00m\n\u001b[1;32m      2\u001b[0m \u001b[38;5;66;03m## Here we'll get an 'AttributeError'\u001b[39;00m\n\u001b[0;32m----> 3\u001b[0m \u001b[38;5;28;43mgetattr\u001b[39;49m\u001b[43m(\u001b[49m\u001b[43mProgram\u001b[49m\u001b[43m,\u001b[49m\u001b[43m \u001b[49m\u001b[38;5;124;43m'\u001b[39;49m\u001b[38;5;124;43mx\u001b[39;49m\u001b[38;5;124;43m'\u001b[39;49m\u001b[43m)\u001b[49m\n",
      "\u001b[0;31mAttributeError\u001b[0m: type object 'Program' has no attribute 'x'"
     ]
    }
   ],
   "source": [
    "### trying to get non-existing attribute\n",
    "## Here we'll get an 'AttributeError'\n",
    "getattr(Program, 'x')"
   ]
  },
  {
   "cell_type": "code",
   "execution_count": 34,
   "id": "7081856c-bb72-444b-ba28-88965f210355",
   "metadata": {},
   "outputs": [
    {
     "data": {
      "text/plain": [
       "'N/A'"
      ]
     },
     "execution_count": 34,
     "metadata": {},
     "output_type": "execute_result"
    }
   ],
   "source": [
    "## We can set options to remove the error\n",
    "getattr(Program, 'x', 'N/A')"
   ]
  },
  {
   "cell_type": "code",
   "execution_count": 45,
   "id": "1ce8330c-c745-4cd1-bf49-940f19e4e81e",
   "metadata": {},
   "outputs": [
    {
     "data": {
      "text/plain": [
       "100"
      ]
     },
     "execution_count": 45,
     "metadata": {},
     "output_type": "execute_result"
    }
   ],
   "source": [
    "## Setting the value of x\n",
    "Program.x = 100\n",
    "getattr(Program, 'x')"
   ]
  },
  {
   "cell_type": "code",
   "execution_count": 46,
   "id": "7ab2fc65-9ca9-4d8c-b256-5afe6c9fe609",
   "metadata": {},
   "outputs": [
    {
     "data": {
      "text/plain": [
       "mappingproxy({'__module__': '__main__',\n",
       "              'language': 'Python',\n",
       "              'version': '3.6',\n",
       "              '__dict__': <attribute '__dict__' of 'Program' objects>,\n",
       "              '__weakref__': <attribute '__weakref__' of 'Program' objects>,\n",
       "              '__doc__': \"It's a class about proglang.\",\n",
       "              'x': 100})"
      ]
     },
     "execution_count": 46,
     "metadata": {},
     "output_type": "execute_result"
    }
   ],
   "source": [
    "## Let's see what our class is stored off\n",
    "Program.__dict__"
   ]
  },
  {
   "cell_type": "code",
   "execution_count": 47,
   "id": "045f5f26-a5e1-4297-b8a3-49ebcbad4381",
   "metadata": {},
   "outputs": [],
   "source": [
    "Program.__doc__ = \"This Class is about Python.\""
   ]
  },
  {
   "cell_type": "code",
   "execution_count": 48,
   "id": "113bfa4f-936a-4545-9956-95213bdaf543",
   "metadata": {},
   "outputs": [
    {
     "data": {
      "text/plain": [
       "mappingproxy({'__module__': '__main__',\n",
       "              'language': 'Python',\n",
       "              'version': '3.6',\n",
       "              '__dict__': <attribute '__dict__' of 'Program' objects>,\n",
       "              '__weakref__': <attribute '__weakref__' of 'Program' objects>,\n",
       "              '__doc__': 'This Class is about Python.',\n",
       "              'x': 100})"
      ]
     },
     "execution_count": 48,
     "metadata": {},
     "output_type": "execute_result"
    }
   ],
   "source": [
    "Program.__dict__"
   ]
  },
  {
   "cell_type": "code",
   "execution_count": 49,
   "id": "b4cbd1fa-6953-4e6e-9d1b-ca02b77880d3",
   "metadata": {},
   "outputs": [
    {
     "data": {
      "text/plain": [
       "mappingproxy({'__module__': '__main__',\n",
       "              'language': 'Python',\n",
       "              'version': '3.6',\n",
       "              '__dict__': <attribute '__dict__' of 'Program' objects>,\n",
       "              '__weakref__': <attribute '__weakref__' of 'Program' objects>,\n",
       "              '__doc__': 'This Class is about Python.'})"
      ]
     },
     "execution_count": 49,
     "metadata": {},
     "output_type": "execute_result"
    }
   ],
   "source": [
    "### Delete\n",
    "delattr(Program, 'x')\n",
    "Program.__dict__"
   ]
  },
  {
   "cell_type": "code",
   "execution_count": 50,
   "id": "a78f8fc2-3de1-44f1-98a1-86b7424fab2d",
   "metadata": {},
   "outputs": [
    {
     "name": "stdout",
     "output_type": "stream",
     "text": [
      "{'__module__': '__main__', 'language': 'Python', 'version': '3.6', '__dict__': <attribute '__dict__' of 'Program' objects>, '__weakref__': <attribute '__weakref__' of 'Program' objects>, '__doc__': 'This Class is about Python.', 'y': 'hello'} \n",
      "\n",
      "{'__module__': '__main__', 'language': 'Python', 'version': '3.6', '__dict__': <attribute '__dict__' of 'Program' objects>, '__weakref__': <attribute '__weakref__' of 'Program' objects>, '__doc__': 'This Class is about Python.'}\n"
     ]
    }
   ],
   "source": [
    "Program.y = 'hello'\n",
    "print(Program.__dict__,'\\n')\n",
    "del Program.y\n",
    "print(Program.__dict__)"
   ]
  },
  {
   "cell_type": "code",
   "execution_count": 51,
   "id": "a0784182-16aa-42a2-9fc5-4c7abefe0461",
   "metadata": {},
   "outputs": [
    {
     "data": {
      "text/plain": [
       "'Python'"
      ]
     },
     "execution_count": 51,
     "metadata": {},
     "output_type": "execute_result"
    }
   ],
   "source": [
    "Program.__dict__['language']"
   ]
  },
  {
   "cell_type": "code",
   "execution_count": 53,
   "id": "b10e9633-7b67-4880-9acb-30cf2c954591",
   "metadata": {},
   "outputs": [
    {
     "data": {
      "text/plain": [
       "[('__module__', '__main__'),\n",
       " ('language', 'Python'),\n",
       " ('version', '3.6'),\n",
       " ('__dict__', <attribute '__dict__' of 'Program' objects>),\n",
       " ('__weakref__', <attribute '__weakref__' of 'Program' objects>),\n",
       " ('__doc__', 'This Class is about Python.')]"
      ]
     },
     "execution_count": 53,
     "metadata": {},
     "output_type": "execute_result"
    }
   ],
   "source": [
    "## getting the items of our class\n",
    "list(Program.__dict__.items())"
   ]
  },
  {
   "cell_type": "code",
   "execution_count": 55,
   "id": "3021c6b0-0803-4fe3-b5f7-19fbd5cb3e85",
   "metadata": {},
   "outputs": [
    {
     "ename": "TypeError",
     "evalue": "'mappingproxy' object does not support item assignment",
     "output_type": "error",
     "traceback": [
      "\u001b[0;31m---------------------------------------------------------------------------\u001b[0m",
      "\u001b[0;31mTypeError\u001b[0m                                 Traceback (most recent call last)",
      "Input \u001b[0;32mIn [55]\u001b[0m, in \u001b[0;36m<cell line: 3>\u001b[0;34m()\u001b[0m\n\u001b[1;32m      1\u001b[0m \u001b[38;5;66;03m## But we can't set new attributes by using this method\u001b[39;00m\n\u001b[1;32m      2\u001b[0m \u001b[38;5;66;03m## because, Class.__dict__ is read-only\u001b[39;00m\n\u001b[0;32m----> 3\u001b[0m Program\u001b[38;5;241m.\u001b[39m\u001b[38;5;18m__dict__\u001b[39m[\u001b[38;5;124m'\u001b[39m\u001b[38;5;124mlanguage\u001b[39m\u001b[38;5;124m'\u001b[39m] \u001b[38;5;241m=\u001b[39m \u001b[38;5;124m'\u001b[39m\u001b[38;5;124mJava\u001b[39m\u001b[38;5;124m'\u001b[39m\n",
      "\u001b[0;31mTypeError\u001b[0m: 'mappingproxy' object does not support item assignment"
     ]
    }
   ],
   "source": [
    "## But we can't set new attributes by using this method\n",
    "## because, Class.__dict__ is read-only\n",
    "Program.__dict__['language'] = 'Java'"
   ]
  },
  {
   "cell_type": "code",
   "execution_count": null,
   "id": "1cd24fb1-f97f-4f0f-9b3c-516590e9c745",
   "metadata": {},
   "outputs": [],
   "source": []
  }
 ],
 "metadata": {
  "kernelspec": {
   "display_name": "Python 3 (ipykernel)",
   "language": "python",
   "name": "python3"
  },
  "language_info": {
   "codemirror_mode": {
    "name": "ipython",
    "version": 3
   },
   "file_extension": ".py",
   "mimetype": "text/x-python",
   "name": "python",
   "nbconvert_exporter": "python",
   "pygments_lexer": "ipython3",
   "version": "3.8.13"
  }
 },
 "nbformat": 4,
 "nbformat_minor": 5
}
