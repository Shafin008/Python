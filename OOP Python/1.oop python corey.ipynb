{
 "cells": [
  {
   "cell_type": "code",
   "execution_count": 1,
   "id": "0eb25f16",
   "metadata": {},
   "outputs": [],
   "source": [
    "# Creating a Employee class for a company"
   ]
  },
  {
   "cell_type": "code",
   "execution_count": 2,
   "id": "24db9028",
   "metadata": {},
   "outputs": [],
   "source": [
    "class Employee:\n",
    "    def __init__(self,f_name, l_name, pay):\n",
    "        self.first = f_name.capitalize()\n",
    "        self.last = l_name.capitalize()\n",
    "        self.pay = pay\n",
    "        self.email = f_name + l_name + \"@company.com\"\n",
    "        \n",
    "    def show(self):\n",
    "        return f\"Name: {self.first} {self.last} \\nSalary: {self.pay} \\ne-mail: {self.email}\"\n",
    "\n",
    "emp1 = Employee(\"shafin\", \"mahmud\", 50000)\n",
    "emp2 = Employee(\"anik\", \"kamal\", 90000)\n",
    "\n",
    "# We have created a class called Employee which returns any employee's full name, salary, email.\n",
    "# We have included two employees in the employee class"
   ]
  },
  {
   "cell_type": "code",
   "execution_count": 3,
   "id": "ae86b350",
   "metadata": {},
   "outputs": [
    {
     "name": "stdout",
     "output_type": "stream",
     "text": [
      "Name: Shafin Mahmud \n",
      "Salary: 50000 \n",
      "e-mail: shafinmahmud@company.com \n",
      "\n",
      "Name: Anik Kamal \n",
      "Salary: 90000 \n",
      "e-mail: anikkamal@company.com\n"
     ]
    }
   ],
   "source": [
    "print(emp1.show(),'\\n')\n",
    "print(emp2.show())\n",
    "\n",
    "# We can print this in another way, by using class. Like --->>  class_name.method_name(instance_or_method_name)\n",
    "# Here, instance_or_method_name is the \"self\" in the specific method  \n",
    "\n",
    "# print(Employee.show(emp1),'\\n')\n",
    "# print(Employee.show(emp2))\n"
   ]
  },
  {
   "cell_type": "markdown",
   "id": "50d19dc9",
   "metadata": {},
   "source": [
    "## Class Variable\n"
   ]
  },
  {
   "cell_type": "code",
   "execution_count": 4,
   "id": "9b4fb835",
   "metadata": {},
   "outputs": [],
   "source": [
    "## Class variables are the variables that are shared among all instances of a class.\n",
    "## while the instance variables can be unique for each instances like- names,email,pay etc\n",
    "## class variables are the same for each instances"
   ]
  },
  {
   "cell_type": "code",
   "execution_count": 5,
   "id": "21978d2f",
   "metadata": {},
   "outputs": [
    {
     "data": {
      "text/plain": [
       "\"\\n\\nLet's say the company gives an annual raise to each of the employee every year. The amount of the raise can vary \\nfrom year to year but whatever the amount is, it's gonna be same for every employee. Suppose, this year \\nthe company will raise 4%. \\n\\n\""
      ]
     },
     "execution_count": 5,
     "metadata": {},
     "output_type": "execute_result"
    }
   ],
   "source": [
    "'''\n",
    "\n",
    "Let's say the company gives an annual raise to each of the employee every year. The amount of the raise can vary \n",
    "from year to year but whatever the amount is, it's gonna be same for every employee. Suppose, this year \n",
    "the company will raise 4%. \n",
    "\n",
    "'''"
   ]
  },
  {
   "cell_type": "code",
   "execution_count": 6,
   "id": "5beb94d4",
   "metadata": {},
   "outputs": [],
   "source": [
    "# First we'll try to apply this with instance variable,\n",
    "# then, we can show why class variable is a good idea for this kind of situation\n",
    "# we'll create a method called apply_raise\n",
    "\n",
    "class Employee:\n",
    "    def __init__(self,f_name, l_name, pay):\n",
    "        self.first = f_name.capitalize()\n",
    "        self.last = l_name.capitalize()\n",
    "        self.pay = pay\n",
    "        self.email = f_name + l_name + \"@company.com\"\n",
    "        \n",
    "    def show(self):\n",
    "        return f\"Name: {self.first} {self.last} \\nSalary: {self.pay} \\ne-mail: {self.email}\"\n",
    "    \n",
    "    def apply_raise(self):\n",
    "        self.pay = int(self.pay * 1.04)\n",
    "\n",
    "    \n",
    "    \n",
    "emp1 = Employee(\"shafin\", \"mahmud\", 50000)\n",
    "emp2 = Employee(\"anik\", \"kamal\", 90000)"
   ]
  },
  {
   "cell_type": "code",
   "execution_count": 7,
   "id": "dbfbd0f0",
   "metadata": {},
   "outputs": [
    {
     "name": "stdout",
     "output_type": "stream",
     "text": [
      "Previous salary: 50000\n",
      "salary after raise: 52000\n"
     ]
    }
   ],
   "source": [
    "# Now, let's check if this works\n",
    "\n",
    "print('Previous salary:', emp1.pay) # it'll show the current amount\n",
    "\n",
    "emp1.apply_raise() # Now we are applying apply_raise method\n",
    "\n",
    "print('salary after raise:',emp1.pay) # it'll show the pay after raise"
   ]
  },
  {
   "cell_type": "code",
   "execution_count": 8,
   "id": "56285086",
   "metadata": {},
   "outputs": [
    {
     "data": {
      "text/plain": [
       "\"\\nSo, we can see that it works. But the problem is the raise amount 4% is hidden in a method. In real life the code base might be \\nway bigger than this. Then, it'll be harder for us to find the raise amount and change it every year. It'll be a convenient \\nif this raise amount is in a place where we can change it easily when it's necessery. That's when class variable comes to \\nclutch. Class variables are created between the class and the constructor.\\n\\n\""
      ]
     },
     "execution_count": 8,
     "metadata": {},
     "output_type": "execute_result"
    }
   ],
   "source": [
    "'''\n",
    "So, we can see that it works. But the problem is the raise amount 4% is hidden in a method. In real life the code base might be \n",
    "way bigger than this. Then, it'll be harder for us to find the raise amount and change it every year. It'll be a convenient \n",
    "if this raise amount is in a place where we can change it easily when it's necessery. That's when class variable comes to \n",
    "clutch. Class variables are created between the class and the constructor.\n",
    "\n",
    "'''\n"
   ]
  },
  {
   "cell_type": "code",
   "execution_count": 21,
   "id": "42ece704",
   "metadata": {},
   "outputs": [],
   "source": [
    "# Let's change the code a little bit\n",
    "# Instead of hard coding the raise amount in appy_raise method we'll create a class variable\n",
    "# and then we'll apply it in the apply_raise method\n",
    "\n",
    "class Employee:\n",
    "    \n",
    "    raise_amount = 1.04\n",
    "    \n",
    "    def __init__(self,f_name, l_name, pay):\n",
    "        self.first = f_name.capitalize()\n",
    "        self.last = l_name.capitalize()\n",
    "        self.pay = pay\n",
    "        self.email = f_name + l_name + \"@company.com\"\n",
    "        \n",
    "    def show(self):\n",
    "        return f\"Name: {self.first} {self.last} \\nSalary: {self.pay} \\ne-mail: {self.email}\"\n",
    "    \n",
    "    def apply_raise(self):\n",
    "        self.pay = int(self.pay * self.raise_amount)\n",
    "        # self.pay = int(self.pay * Employee.raise_amount) --->> it'll give the same output\n",
    "    \n",
    "    \n",
    "emp1 = Employee(\"shafin\", \"mahmud\", 50000)\n",
    "emp2 = Employee(\"anik\", \"kamal\", 90000)"
   ]
  },
  {
   "cell_type": "code",
   "execution_count": 22,
   "id": "6ad875a5",
   "metadata": {},
   "outputs": [
    {
     "name": "stdout",
     "output_type": "stream",
     "text": [
      "Previous salary: 50000\n",
      "salary after raise: 52000\n"
     ]
    }
   ],
   "source": [
    "# Now, let's check if this works\n",
    "\n",
    "print('Previous salary:', emp1.pay) # it'll show the current amount\n",
    "\n",
    "emp1.apply_raise() # Now we are applying apply_raise method\n",
    "\n",
    "print('salary after raise:',emp1.pay) # it'll show the pay after raise"
   ]
  },
  {
   "cell_type": "code",
   "execution_count": 23,
   "id": "4e6ff135",
   "metadata": {},
   "outputs": [
    {
     "data": {
      "text/plain": [
       "\"\\nNote : What's the difference between -\\n\\nself.pay = int(self.pay * self.raise_amount)\\n\\nand\\n\\nself.pay = int(self.pay * Employee.raise_amount) ????\\n\\n\""
      ]
     },
     "execution_count": 23,
     "metadata": {},
     "output_type": "execute_result"
    }
   ],
   "source": [
    "'''\n",
    "Note : What's the difference between -\n",
    "\n",
    "self.pay = int(self.pay * self.raise_amount)\n",
    "\n",
    "and\n",
    "\n",
    "self.pay = int(self.pay * Employee.raise_amount) ????\n",
    "\n",
    "'''"
   ]
  },
  {
   "cell_type": "code",
   "execution_count": 24,
   "id": "41026c5b",
   "metadata": {},
   "outputs": [
    {
     "name": "stdout",
     "output_type": "stream",
     "text": [
      "1.04\n",
      "1.04\n",
      "1.04\n"
     ]
    }
   ],
   "source": [
    "# At first we check if both lines prints the same output\n",
    "print(Employee.raise_amount)\n",
    "print(emp1.raise_amount)\n",
    "print(emp2.raise_amount)"
   ]
  },
  {
   "cell_type": "code",
   "execution_count": 25,
   "id": "1bcd1bbc",
   "metadata": {},
   "outputs": [
    {
     "name": "stdout",
     "output_type": "stream",
     "text": [
      "{'first': 'Shafin', 'last': 'Mahmud', 'pay': 52000, 'email': 'shafinmahmud@company.com'}\n"
     ]
    }
   ],
   "source": [
    "# So, they all prints the same amount\n",
    "# But the interesting fact is our instances emp1 and emp2 doesn't have any attribute named raise_amount\n",
    "# let's check emp1 attributes:\n",
    "\n",
    "print(emp1.__dict__)\n",
    "\n",
    "# It'll show all the attributes of emp1 and there's no attribute as raise_amount in here"
   ]
  },
  {
   "cell_type": "code",
   "execution_count": 14,
   "id": "9f1eccd8",
   "metadata": {},
   "outputs": [
    {
     "name": "stdout",
     "output_type": "stream",
     "text": [
      "{'__module__': '__main__', 'raise_amount': 1.04, '__init__': <function Employee.__init__ at 0x000001813D5509D0>, 'show': <function Employee.show at 0x000001813D550EE0>, 'apply_raise': <function Employee.apply_raise at 0x000001813D550C10>, '__dict__': <attribute '__dict__' of 'Employee' objects>, '__weakref__': <attribute '__weakref__' of 'Employee' objects>, '__doc__': None}\n"
     ]
    }
   ],
   "source": [
    "# let's check Employee class attributes:\n",
    "\n",
    "print(Employee.__dict__)\n",
    "\n",
    "# It'll show there's an attribute of Employee class, we can see attribute raise_amount in here"
   ]
  },
  {
   "cell_type": "code",
   "execution_count": 26,
   "id": "cd29aa38",
   "metadata": {},
   "outputs": [
    {
     "name": "stdout",
     "output_type": "stream",
     "text": [
      "1.06\n",
      "1.06\n",
      "1.06\n"
     ]
    }
   ],
   "source": [
    "# It's because raise_amount is a class variable and it's value can be changed by it's class Employee\n",
    "# If we change it's value using Employee class then it's value will be changed for all the instances\n",
    "\n",
    "Employee.raise_amount = 1.06\n",
    "print(Employee.raise_amount)\n",
    "print(emp1.raise_amount)\n",
    "print(emp2.raise_amount)\n",
    "\n",
    "# We can see it's value has changed for all the instances we created"
   ]
  },
  {
   "cell_type": "code",
   "execution_count": 29,
   "id": "6d75d8b1",
   "metadata": {},
   "outputs": [
    {
     "name": "stdout",
     "output_type": "stream",
     "text": [
      "1.06\n",
      "1.08\n",
      "1.06\n"
     ]
    }
   ],
   "source": [
    "# But, if we change it's value using instances then it's value will be changed for the specific instances\n",
    "# Here, we'll change the value of raise_amount by emp1 instance. Let's see -\n",
    "\n",
    "emp1.raise_amount = 1.08\n",
    "print(Employee.raise_amount)\n",
    "print(emp1.raise_amount)\n",
    "print(emp2.raise_amount)\n",
    "\n"
   ]
  },
  {
   "cell_type": "code",
   "execution_count": 30,
   "id": "bbfbf8eb",
   "metadata": {},
   "outputs": [
    {
     "name": "stdout",
     "output_type": "stream",
     "text": [
      "{'first': 'Shafin', 'last': 'Mahmud', 'pay': 52000, 'email': 'shafinmahmud@company.com', 'raise_amount': 1.08}\n"
     ]
    }
   ],
   "source": [
    "# Now, we saw above only emp1.raise_amount has been changed and other's value are unchanged\n",
    "# We can see from emp1 attributes now, raise_amount is added to it's attribute\n",
    "\n",
    "print(emp1.__dict__)"
   ]
  },
  {
   "cell_type": "code",
   "execution_count": 4,
   "id": "7d208da8",
   "metadata": {},
   "outputs": [
    {
     "name": "stdout",
     "output_type": "stream",
     "text": [
      "Total Employee: 0\n",
      "Total Employee: 2\n"
     ]
    }
   ],
   "source": [
    "# Now, we'll see an example where class variable should be connected with it's class not with any instances\n",
    "# suppose, we want to count the number of employees every time an empolyee joins the company\n",
    "# it has nothing to to do with any instances, so, instance method won't make any sense\n",
    "\n",
    "# At first we'll start with 0, and then we can increment it in the constructor\n",
    "class Employee:\n",
    "    num_of_emp = 0\n",
    "    raise_amount = 1.04\n",
    "    \n",
    "    def __init__(self,f_name, l_name, pay):\n",
    "        self.first = f_name.capitalize()\n",
    "        self.last = l_name.capitalize()\n",
    "        self.pay = pay\n",
    "        self.email = f_name + l_name + \"@company.com\"\n",
    "        \n",
    "        Employee.num_of_emp += 1\n",
    "        \n",
    "    def show(self):\n",
    "        return f\"Name: {self.first} {self.last} \\nSalary: {self.pay} \\ne-mail: {self.email}\"\n",
    "    \n",
    "    def apply_raise(self):\n",
    "        self.pay = int(self.pay * self.raise_amount)\n",
    "        # self.pay = int(self.pay * Employee.raise_amount) --->> it'll give the same output\n",
    "\n",
    "# No. of employees at the begining    \n",
    "print(f'Total Employee: {Employee.num_of_emp}')    \n",
    "\n",
    "# Adding two employees\n",
    "emp1 = Employee(\"shafin\", \"mahmud\", 50000)\n",
    "emp2 = Employee(\"anik\", \"kamal\", 90000)\n",
    "\n",
    "print(f'Total Employee: {Employee.num_of_emp}')"
   ]
  },
  {
   "cell_type": "markdown",
   "id": "e407a552",
   "metadata": {},
   "source": [
    "## Class Method"
   ]
  },
  {
   "cell_type": "code",
   "execution_count": null,
   "id": "e5852c5d",
   "metadata": {},
   "outputs": [],
   "source": [
    "# Regular methods automatically takes the instance(self) as the first argument\n",
    "# In class method it'll take the class as the first argument"
   ]
  },
  {
   "cell_type": "code",
   "execution_count": null,
   "id": "69a60d0f",
   "metadata": {},
   "outputs": [],
   "source": []
  },
  {
   "cell_type": "code",
   "execution_count": null,
   "id": "61c615fc",
   "metadata": {},
   "outputs": [],
   "source": []
  },
  {
   "cell_type": "code",
   "execution_count": null,
   "id": "1abcac95",
   "metadata": {},
   "outputs": [],
   "source": []
  },
  {
   "cell_type": "code",
   "execution_count": null,
   "id": "3778100c",
   "metadata": {},
   "outputs": [],
   "source": []
  },
  {
   "cell_type": "code",
   "execution_count": null,
   "id": "d4599f61",
   "metadata": {},
   "outputs": [],
   "source": []
  }
 ],
 "metadata": {
  "kernelspec": {
   "display_name": "Python 3",
   "language": "python",
   "name": "python3"
  },
  "language_info": {
   "codemirror_mode": {
    "name": "ipython",
    "version": 3
   },
   "file_extension": ".py",
   "mimetype": "text/x-python",
   "name": "python",
   "nbconvert_exporter": "python",
   "pygments_lexer": "ipython3",
   "version": "3.8.8"
  }
 },
 "nbformat": 4,
 "nbformat_minor": 5
}
