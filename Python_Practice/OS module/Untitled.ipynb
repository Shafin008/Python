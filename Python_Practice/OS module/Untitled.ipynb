{
 "cells": [
  {
   "cell_type": "code",
   "execution_count": 1,
   "id": "bfdcbdbb-8219-43ec-b5e5-f8fdc35b4b28",
   "metadata": {},
   "outputs": [],
   "source": [
    "import os"
   ]
  },
  {
   "cell_type": "code",
   "execution_count": 25,
   "id": "927fb659-9729-452f-8765-1d8f5b7a4e79",
   "metadata": {},
   "outputs": [],
   "source": [
    "## if the directory exists, then...\n",
    "if not os.path.exists(\"data\"):\n",
    "    os.mkdir(\"data\")\n",
    "## making subfolders inside the folder\n",
    "for i in range(3):\n",
    "    os.mkdir(f\"data/Day_{i+1}\")"
   ]
  },
  {
   "cell_type": "code",
   "execution_count": 26,
   "id": "5544fde6-f515-445d-8dab-e8ca502b4ef7",
   "metadata": {},
   "outputs": [],
   "source": [
    "for i in range(4,6):\n",
    "    os.mkdir(f\"data/Day_{i}\")"
   ]
  },
  {
   "cell_type": "code",
   "execution_count": 27,
   "id": "78add863-012b-4817-a79f-254ac0c3ab51",
   "metadata": {},
   "outputs": [],
   "source": [
    "## renaming the subfolders\n",
    "for i in range(1, 6):\n",
    "    os.rename(src = f\"data/Day_{i}\", dst = f\"data/Example_{i}\")"
   ]
  },
  {
   "cell_type": "code",
   "execution_count": 28,
   "id": "fa1be307-dbeb-4b37-bc4c-cafa963f7fd2",
   "metadata": {},
   "outputs": [
    {
     "name": "stdout",
     "output_type": "stream",
     "text": [
      "['Example_1', 'Example_5', 'Example_2', 'Example_3', 'Example_4']\n"
     ]
    }
   ],
   "source": [
    "## To check how many subfolders are there in the data folder\n",
    "folders = os.listdir(path=\"data\")\n",
    "print(folders)"
   ]
  },
  {
   "cell_type": "code",
   "execution_count": 30,
   "id": "c7e47793-ee02-4d8f-bf44-ad1f7a300d0a",
   "metadata": {},
   "outputs": [
    {
     "name": "stdout",
     "output_type": "stream",
     "text": [
      "Example_1 / ['.ipynb_checkpoints', 'main.py']\n",
      "Example_5 / []\n",
      "Example_2 / []\n",
      "Example_3 / []\n",
      "Example_4 / []\n"
     ]
    }
   ],
   "source": [
    "## finding the elements on the folders\n",
    "for folder in folders:\n",
    "    print(folder, \"/\", os.listdir(path=f\"data/{folder}\"))"
   ]
  },
  {
   "cell_type": "code",
   "execution_count": 31,
   "id": "da332c1b-d982-4cc0-b625-381e2afe14c7",
   "metadata": {},
   "outputs": [
    {
     "name": "stdout",
     "output_type": "stream",
     "text": [
      "/Users/shafinsaapel/tensorflow-test/CODE/Python_Practice/OS module\n"
     ]
    }
   ],
   "source": [
    "## Current directory path\n",
    "print(os.getcwd())"
   ]
  },
  {
   "cell_type": "code",
   "execution_count": 32,
   "id": "ecee5612-2f5f-460a-a0f7-62ecb0336d75",
   "metadata": {},
   "outputs": [],
   "source": [
    "## delete a file\n",
    "os.remove(path=\"data/Example_1/main.py\")"
   ]
  },
  {
   "cell_type": "code",
   "execution_count": 36,
   "id": "5c2fdb8a-9143-4574-9ea0-cbb71a8a66a1",
   "metadata": {},
   "outputs": [
    {
     "name": "stdout",
     "output_type": "stream",
     "text": [
      "Example_1 / ['.ipynb_checkpoints']\n",
      "Example_5 / []\n",
      "Example_2 / []\n",
      "Example_3 / []\n",
      "Example_4 / []\n"
     ]
    }
   ],
   "source": [
    "## finding the elements on the folders\n",
    "for folder in folders:\n",
    "    print(folder, \"/\", os.listdir(path=f\"data/{folder}\"))"
   ]
  },
  {
   "cell_type": "code",
   "execution_count": 48,
   "id": "c7da8113-3384-40ff-98f4-6da9110f672c",
   "metadata": {},
   "outputs": [
    {
     "name": "stdout",
     "output_type": "stream",
     "text": [
      "Example_1 / ['.ipynb_checkpoints', 'main.py']\n",
      "Example_5 / []\n",
      "Example_2 / []\n",
      "Example_3 / []\n",
      "Example_4 / []\n"
     ]
    }
   ],
   "source": [
    "## finding the elements on the folders\n",
    "for folder in folders:\n",
    "    print(folder, \"/\", os.listdir(path=f\"data/{folder}\"))"
   ]
  },
  {
   "cell_type": "code",
   "execution_count": 49,
   "id": "7bc9b6be-f81c-4375-9644-fed3f10c0ddd",
   "metadata": {},
   "outputs": [
    {
     "data": {
      "text/plain": [
       "'data/Example_1/main.py'"
      ]
     },
     "execution_count": 49,
     "metadata": {},
     "output_type": "execute_result"
    }
   ],
   "source": [
    "## joining with various components\n",
    "os.path.join(\"data/Example_1/\", \"main.py\")"
   ]
  },
  {
   "cell_type": "code",
   "execution_count": 50,
   "id": "0f5dc676-e3b9-45e3-88b9-6706a8a8c056",
   "metadata": {
    "collapsed": true,
    "jupyter": {
     "outputs_hidden": true
    },
    "tags": []
   },
   "outputs": [
    {
     "name": "stdout",
     "output_type": "stream",
     "text": [
      "Current path: data \n",
      "\n",
      "Directories: ['Example_1', 'Example_5', 'Example_2', 'Example_3', 'Example_4'] \n",
      "\n",
      "files: []\n",
      "\n",
      "******************************************************\n",
      "\n",
      "Current path: data/Example_1 \n",
      "\n",
      "Directories: ['.ipynb_checkpoints'] \n",
      "\n",
      "files: ['main.py']\n",
      "\n",
      "******************************************************\n",
      "\n",
      "Current path: data/Example_1/.ipynb_checkpoints \n",
      "\n",
      "Directories: [] \n",
      "\n",
      "files: ['main-checkpoint.py']\n",
      "\n",
      "******************************************************\n",
      "\n",
      "Current path: data/Example_5 \n",
      "\n",
      "Directories: [] \n",
      "\n",
      "files: []\n",
      "\n",
      "******************************************************\n",
      "\n",
      "Current path: data/Example_2 \n",
      "\n",
      "Directories: [] \n",
      "\n",
      "files: []\n",
      "\n",
      "******************************************************\n",
      "\n",
      "Current path: data/Example_3 \n",
      "\n",
      "Directories: [] \n",
      "\n",
      "files: []\n",
      "\n",
      "******************************************************\n",
      "\n",
      "Current path: data/Example_4 \n",
      "\n",
      "Directories: [] \n",
      "\n",
      "files: []\n",
      "\n",
      "******************************************************\n",
      "\n"
     ]
    }
   ],
   "source": [
    "for dirpath, dirnames, filenames in os.walk('data'):\n",
    "    print(\"Current path:\", dirpath, '\\n')\n",
    "    print(\"Directories:\", dirnames, '\\n')\n",
    "    print(\"files:\", filenames)\n",
    "    print()\n",
    "    print('******************************************************')\n",
    "    print()"
   ]
  },
  {
   "cell_type": "code",
   "execution_count": 57,
   "id": "3a8b2fef-b708-4227-ab41-86f9baf18beb",
   "metadata": {},
   "outputs": [
    {
     "name": "stdout",
     "output_type": "stream",
     "text": [
      "('data', 'Example_1')\n",
      "('data/Example_1', 'main.py')\n",
      "False\n",
      "True\n"
     ]
    }
   ],
   "source": [
    "# split the main directory and sub directory\n",
    "print(os.path.split('data/Example_1')) \n",
    "print(os.path.split('data/Example_1/main.py')) \n",
    "\n",
    "# it'll print out if the folder exists or not\n",
    "print(os.path.exists('tmp/test.txt')) \n",
    "\n",
    "# it'll print out if the folder exists or not\n",
    "print(os.path.exists('data/Example_2')) "
   ]
  },
  {
   "cell_type": "code",
   "execution_count": 53,
   "id": "d6186b61-4fbd-4e05-9521-dfaa8f41ef5e",
   "metadata": {},
   "outputs": [
    {
     "name": "stdout",
     "output_type": "stream",
     "text": [
      "True\n",
      "True\n",
      "False\n"
     ]
    }
   ],
   "source": [
    "## to check a folder if it's a folder or not\n",
    "print(os.path.isdir(\"data\"))\n",
    "print(os.path.isdir(\"data/Example_3/\"))\n",
    "print(os.path.isdir(\"data/Example_1/main.py\"))"
   ]
  },
  {
   "cell_type": "code",
   "execution_count": 54,
   "id": "3d1db271-7478-4d2d-afab-9e2d3aef9e02",
   "metadata": {},
   "outputs": [
    {
     "name": "stdout",
     "output_type": "stream",
     "text": [
      "True\n"
     ]
    }
   ],
   "source": [
    "## to check a file if it's a file or not\n",
    "print(os.path.isfile(\"data/Example_1/main.py\"))"
   ]
  },
  {
   "cell_type": "code",
   "execution_count": 55,
   "id": "2fc56e25-d821-4791-85cc-577b1af94054",
   "metadata": {},
   "outputs": [
    {
     "name": "stdout",
     "output_type": "stream",
     "text": [
      "('data/Example_1/main', '.py')\n"
     ]
    }
   ],
   "source": [
    "## splitting the extension of a file\n",
    "print(os.path.splitext(\"data/Example_1/main.py\"))"
   ]
  },
  {
   "cell_type": "code",
   "execution_count": null,
   "id": "fe8c41dc-c347-4cec-afc1-936419160679",
   "metadata": {},
   "outputs": [],
   "source": []
  },
  {
   "cell_type": "code",
   "execution_count": null,
   "id": "4a834394-3da4-47d1-8856-22b62b879329",
   "metadata": {},
   "outputs": [],
   "source": []
  },
  {
   "cell_type": "code",
   "execution_count": null,
   "id": "10bc27d8-8d85-47f0-a4ca-64a216365f2c",
   "metadata": {},
   "outputs": [],
   "source": []
  },
  {
   "cell_type": "code",
   "execution_count": null,
   "id": "79766f05-a518-40ea-8be6-cda26f46743f",
   "metadata": {},
   "outputs": [],
   "source": []
  },
  {
   "cell_type": "code",
   "execution_count": null,
   "id": "0d70337e-6804-4b6f-972d-7c4ec866b101",
   "metadata": {},
   "outputs": [],
   "source": []
  },
  {
   "cell_type": "code",
   "execution_count": null,
   "id": "cf6fe6c4-b1c7-4d44-acae-f5a6522075f4",
   "metadata": {},
   "outputs": [],
   "source": []
  },
  {
   "cell_type": "code",
   "execution_count": null,
   "id": "1da5dc75-367b-45b2-84cf-8cf6ceff1302",
   "metadata": {},
   "outputs": [],
   "source": []
  },
  {
   "cell_type": "code",
   "execution_count": null,
   "id": "b5cac20e-bc4a-4cb6-8677-88b0349c66e5",
   "metadata": {},
   "outputs": [],
   "source": []
  },
  {
   "cell_type": "code",
   "execution_count": null,
   "id": "e3b7ab2b-81d2-47a0-911d-ea8e2b2829db",
   "metadata": {},
   "outputs": [],
   "source": []
  }
 ],
 "metadata": {
  "kernelspec": {
   "display_name": "Python 3 (ipykernel)",
   "language": "python",
   "name": "python3"
  },
  "language_info": {
   "codemirror_mode": {
    "name": "ipython",
    "version": 3
   },
   "file_extension": ".py",
   "mimetype": "text/x-python",
   "name": "python",
   "nbconvert_exporter": "python",
   "pygments_lexer": "ipython3",
   "version": "3.10.11"
  }
 },
 "nbformat": 4,
 "nbformat_minor": 5
}
