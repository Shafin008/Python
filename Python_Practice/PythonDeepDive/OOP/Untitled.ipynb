{
 "cells": [
  {
   "cell_type": "markdown",
   "id": "950705d8-1c21-48b4-aea7-b160813a7a2a",
   "metadata": {},
   "source": [
    "**_Properties_**\n",
    "- In many languages(e.g., Java) direct access to attributes is highly discouraged. Instead the convention is to make the attribute private and create public 'gettr' and 'settr' method. Altough we don't have private attributes in Python, we could write private(not actually private) attributes by giving a underscore before the name.\n",
    "\n",
    "```\n",
    "class MyClass:\n",
    "    def __init__(self, language):\n",
    "        self._language = language\n",
    "        \n",
    "    def get_language(self):\n",
    "        return self._language\n",
    "        \n",
    "    def set_language(self, value):\n",
    "        self._language = value\n",
    "        \n",
    "## In order to get the value and set new value we have to do this.\n",
    "\n",
    "my_obj = MyClass('Java')\n",
    "\n",
    "## getter\n",
    "my_obj.get_language()\n",
    ">>> Java\n",
    "\n",
    "## setter\n",
    "my_obj.set_language('Python')\n",
    "my_obj.get_language()\n",
    ">>> Python\n",
    "\n",
    "class MyClass:\n",
    "    def __init__(self, language):\n",
    "        self._language = language\n",
    "        \n",
    "    def get_language(self):\n",
    "        return self._language\n",
    "        \n",
    "    def set_language(self, value):\n",
    "        self._language = value\n",
    "\n",
    "    language = property(fget = get_language, fset = set_language)\n",
    "    \n",
    "## Now we can access attributes same way, by using dot notation\n",
    "m = MyClass('Python')\n",
    "m.__dict__\n",
    ">>> {'_language': 'Python'}\n",
    "\n",
    "m.language = 'Java'\n",
    "m.__dict__\n",
    ">>> {'_language': 'Java'}\n",
    "\n",
    "print(m.language)\n",
    ">>> 'Java'\n",
    "```\n",
    "\n",
    "- In the above case we can't access our instance attributes by `my_obj.language` directly, we need to use getter(get_language) and setter(set_language). In this case the attribute is called the 'Instance Property'. \n",
    "\n",
    "- We can use `Property` class to define properties in a class.\n",
    "\n",
    "- fget: specifies the function to use to get instance property value\n",
    "\n",
    "- fset: specifies the function to use to set instance property value"
   ]
  },
  {
   "cell_type": "code",
   "execution_count": 1,
   "id": "5548a05d-125e-4fbf-976b-c1c3a1b62f1b",
   "metadata": {},
   "outputs": [],
   "source": [
    "class Person:\n",
    "    def __init__(self, name):\n",
    "        self.name = name"
   ]
  },
  {
   "cell_type": "code",
   "execution_count": 2,
   "id": "94a3abc1-f806-41bd-8333-5c1e08384c4b",
   "metadata": {},
   "outputs": [
    {
     "data": {
      "text/plain": [
       "{'name': 'Shafin'}"
      ]
     },
     "execution_count": 2,
     "metadata": {},
     "output_type": "execute_result"
    }
   ],
   "source": [
    "p = Person('Shafin')\n",
    "p.__dict__"
   ]
  },
  {
   "cell_type": "code",
   "execution_count": 3,
   "id": "87b1e5d6-602f-455f-8317-e94c75f83717",
   "metadata": {},
   "outputs": [
    {
     "data": {
      "text/plain": [
       "{'name': 100}"
      ]
     },
     "execution_count": 3,
     "metadata": {},
     "output_type": "execute_result"
    }
   ],
   "source": [
    "p.name = 100\n",
    "p.__dict__"
   ]
  },
  {
   "cell_type": "markdown",
   "id": "7ae4a4a8-68b1-4687-9823-411feec55829",
   "metadata": {},
   "source": [
    "It's not suitable if anyone can easily manipulate our code."
   ]
  },
  {
   "cell_type": "code",
   "execution_count": 15,
   "id": "568b4379-0b3f-46d5-aff7-be307405e8eb",
   "metadata": {},
   "outputs": [],
   "source": [
    "## There is no private attribute in python\n",
    "## Everything can be accessible from inside and outside of the class\n",
    "## But we can make it private(in a way)\n",
    "## We can use underscore before every attributes we want to be private\n",
    "## Then we can set getter and setter method for accessibilty without compromising\n",
    "## -> the actual private attribute\n",
    "\n",
    "class Person:\n",
    "    def __init__(self, name):\n",
    "        self.set_name(name)\n",
    "        \n",
    "    ## getter method\n",
    "    def get_name(self):\n",
    "        return self._name\n",
    "    \n",
    "    ## setter method\n",
    "    def set_name(self, value):\n",
    "        ## first we'll set some restrictions\n",
    "        if isinstance(value, str) and len(value.strip())>0:\n",
    "            self._name = value.strip()\n",
    "        else:\n",
    "            raise ValueError(\"name must be non-empty string.\")"
   ]
  },
  {
   "cell_type": "code",
   "execution_count": 16,
   "id": "90408588-2564-4847-a1ef-e55179c5750a",
   "metadata": {},
   "outputs": [
    {
     "ename": "AttributeError",
     "evalue": "'Person' object has no attribute 'name'",
     "output_type": "error",
     "traceback": [
      "\u001b[0;31m---------------------------------------------------------------------------\u001b[0m",
      "\u001b[0;31mAttributeError\u001b[0m                            Traceback (most recent call last)",
      "Input \u001b[0;32mIn [16]\u001b[0m, in \u001b[0;36m<cell line: 2>\u001b[0;34m()\u001b[0m\n\u001b[1;32m      1\u001b[0m p \u001b[38;5;241m=\u001b[39m Person(\u001b[38;5;124m\"\u001b[39m\u001b[38;5;124mshafin\u001b[39m\u001b[38;5;124m\"\u001b[39m)\n\u001b[0;32m----> 2\u001b[0m \u001b[43mp\u001b[49m\u001b[38;5;241;43m.\u001b[39;49m\u001b[43mname\u001b[49m\n",
      "\u001b[0;31mAttributeError\u001b[0m: 'Person' object has no attribute 'name'"
     ]
    }
   ],
   "source": [
    "p = Person(\"shafin\")\n",
    "p.name"
   ]
  },
  {
   "cell_type": "code",
   "execution_count": 17,
   "id": "9d67fa08-4501-4dfe-9d03-d5d4d12a6dc1",
   "metadata": {},
   "outputs": [
    {
     "data": {
      "text/plain": [
       "{'_name': 'shafin'}"
      ]
     },
     "execution_count": 17,
     "metadata": {},
     "output_type": "execute_result"
    }
   ],
   "source": [
    "p.__dict__"
   ]
  },
  {
   "cell_type": "code",
   "execution_count": 18,
   "id": "a8ee255c-dfa5-4eb2-882a-81ae6e94931b",
   "metadata": {},
   "outputs": [
    {
     "ename": "ValueError",
     "evalue": "name must be non-empty string.",
     "output_type": "error",
     "traceback": [
      "\u001b[0;31m---------------------------------------------------------------------------\u001b[0m",
      "\u001b[0;31mValueError\u001b[0m                                Traceback (most recent call last)",
      "Input \u001b[0;32mIn [18]\u001b[0m, in \u001b[0;36m<cell line: 3>\u001b[0;34m()\u001b[0m\n\u001b[1;32m      1\u001b[0m \u001b[38;5;66;03m## Now if I try to set a different name which doesn't fulfill the requirement\u001b[39;00m\n\u001b[1;32m      2\u001b[0m \u001b[38;5;66;03m## -> it would show a value error\u001b[39;00m\n\u001b[0;32m----> 3\u001b[0m \u001b[43mp\u001b[49m\u001b[38;5;241;43m.\u001b[39;49m\u001b[43mset_name\u001b[49m\u001b[43m(\u001b[49m\u001b[38;5;241;43m100\u001b[39;49m\u001b[43m)\u001b[49m\n",
      "Input \u001b[0;32mIn [15]\u001b[0m, in \u001b[0;36mPerson.set_name\u001b[0;34m(self, value)\u001b[0m\n\u001b[1;32m     20\u001b[0m     \u001b[38;5;28mself\u001b[39m\u001b[38;5;241m.\u001b[39m_name \u001b[38;5;241m=\u001b[39m value\u001b[38;5;241m.\u001b[39mstrip()\n\u001b[1;32m     21\u001b[0m \u001b[38;5;28;01melse\u001b[39;00m:\n\u001b[0;32m---> 22\u001b[0m     \u001b[38;5;28;01mraise\u001b[39;00m \u001b[38;5;167;01mValueError\u001b[39;00m(\u001b[38;5;124m\"\u001b[39m\u001b[38;5;124mname must be non-empty string.\u001b[39m\u001b[38;5;124m\"\u001b[39m)\n",
      "\u001b[0;31mValueError\u001b[0m: name must be non-empty string."
     ]
    }
   ],
   "source": [
    "## Now if I try to set a different name which doesn't fulfill the requirement\n",
    "## -> it would show a value error\n",
    "p.set_name(100)"
   ]
  },
  {
   "cell_type": "code",
   "execution_count": 20,
   "id": "d0440226-9c6c-4e6d-890e-cf10d8b2ed53",
   "metadata": {},
   "outputs": [
    {
     "name": "stdout",
     "output_type": "stream",
     "text": [
      "name must be non-empty string.\n"
     ]
    }
   ],
   "source": [
    "try:\n",
    "    p.set_name(100)\n",
    "except ValueError as v:\n",
    "    print(v)"
   ]
  },
  {
   "cell_type": "code",
   "execution_count": 21,
   "id": "f7c66019-263e-4f60-9476-ce3e3e0e8560",
   "metadata": {},
   "outputs": [
    {
     "name": "stdout",
     "output_type": "stream",
     "text": [
      "name must be non-empty string.\n"
     ]
    }
   ],
   "source": [
    "try:\n",
    "    p.set_name('')\n",
    "except ValueError as v:\n",
    "    print(v)"
   ]
  },
  {
   "cell_type": "markdown",
   "id": "b54670e0-6ad6-4627-a3ae-80d2217f2202",
   "metadata": {},
   "source": [
    "But now there's an inconvenience, which is we always have to use get_name and set_name. We must find a way to do this in an efficient way."
   ]
  },
  {
   "cell_type": "code",
   "execution_count": 22,
   "id": "cf4e78b7-6b53-49bd-b00e-483f30da2f0d",
   "metadata": {},
   "outputs": [
    {
     "data": {
      "text/plain": [
       "'shafin'"
      ]
     },
     "execution_count": 22,
     "metadata": {},
     "output_type": "execute_result"
    }
   ],
   "source": [
    "p.get_name()"
   ]
  },
  {
   "cell_type": "code",
   "execution_count": 23,
   "id": "786af9b1-f476-49bb-aa4e-9885124e9657",
   "metadata": {},
   "outputs": [],
   "source": [
    "p.set_name('zahin')"
   ]
  },
  {
   "cell_type": "code",
   "execution_count": 24,
   "id": "37cc66a0-73fe-4fa4-90eb-7d6dca433f94",
   "metadata": {},
   "outputs": [
    {
     "data": {
      "text/plain": [
       "'zahin'"
      ]
     },
     "execution_count": 24,
     "metadata": {},
     "output_type": "execute_result"
    }
   ],
   "source": [
    "p.get_name()"
   ]
  },
  {
   "cell_type": "code",
   "execution_count": 25,
   "id": "35632739-05ff-44da-ac92-5b738b52a2f7",
   "metadata": {},
   "outputs": [
    {
     "data": {
      "text/plain": [
       "property"
      ]
     },
     "execution_count": 25,
     "metadata": {},
     "output_type": "execute_result"
    }
   ],
   "source": [
    "type(property())"
   ]
  },
  {
   "cell_type": "code",
   "execution_count": 30,
   "id": "c72eb812-ce7a-4ad8-b0a2-34464a72176b",
   "metadata": {},
   "outputs": [],
   "source": [
    "## Now we'll use property class to use our attributes in an efficient way\n",
    "\n",
    "\n",
    "class Person:\n",
    "    def __init__(self, name):\n",
    "        self._name = name\n",
    "        \n",
    "    ## getter method\n",
    "    def get_name(self):\n",
    "        print('getter called...')\n",
    "        return self._name\n",
    "    \n",
    "    ## setter method\n",
    "    def set_name(self, value):\n",
    "        print('setter called...')\n",
    "        ## first we'll set some restrictions\n",
    "        if isinstance(value, str) and len(value.strip())>0:\n",
    "            self._name = value.strip()\n",
    "        else:\n",
    "            raise ValueError(\"name must be non-empty string.\")\n",
    "            \n",
    "    name = property(fget=get_name, fset=set_name)"
   ]
  },
  {
   "cell_type": "code",
   "execution_count": 31,
   "id": "8539c6ec-fc6c-4c36-8d75-3a496cb851a2",
   "metadata": {},
   "outputs": [
    {
     "data": {
      "text/plain": [
       "{'_name': 'shafin'}"
      ]
     },
     "execution_count": 31,
     "metadata": {},
     "output_type": "execute_result"
    }
   ],
   "source": [
    "p = Person(\"shafin\")\n",
    "p.__dict__"
   ]
  },
  {
   "cell_type": "code",
   "execution_count": 32,
   "id": "9ad86073-1503-4b6a-8817-2b252a37e88d",
   "metadata": {},
   "outputs": [
    {
     "data": {
      "text/plain": [
       "mappingproxy({'__module__': '__main__',\n",
       "              '__init__': <function __main__.Person.__init__(self, name)>,\n",
       "              'get_name': <function __main__.Person.get_name(self)>,\n",
       "              'set_name': <function __main__.Person.set_name(self, value)>,\n",
       "              'name': <property at 0x1135f2450>,\n",
       "              '__dict__': <attribute '__dict__' of 'Person' objects>,\n",
       "              '__weakref__': <attribute '__weakref__' of 'Person' objects>,\n",
       "              '__doc__': None})"
      ]
     },
     "execution_count": 32,
     "metadata": {},
     "output_type": "execute_result"
    }
   ],
   "source": [
    "Person.__dict__"
   ]
  },
  {
   "cell_type": "code",
   "execution_count": 33,
   "id": "b14a191d-a0a6-463b-a3eb-f829ff05a5e4",
   "metadata": {},
   "outputs": [
    {
     "name": "stdout",
     "output_type": "stream",
     "text": [
      "getter called...\n"
     ]
    },
    {
     "data": {
      "text/plain": [
       "'shafin'"
      ]
     },
     "execution_count": 33,
     "metadata": {},
     "output_type": "execute_result"
    }
   ],
   "source": [
    "## now if we use it like before it won't show error\n",
    "p.name"
   ]
  },
  {
   "cell_type": "code",
   "execution_count": 34,
   "id": "32091222-bce4-4dfe-906e-b2caff5e7d7f",
   "metadata": {},
   "outputs": [
    {
     "data": {
      "text/plain": [
       "{'_name': 'shafin'}"
      ]
     },
     "execution_count": 34,
     "metadata": {},
     "output_type": "execute_result"
    }
   ],
   "source": [
    "p.__dict__"
   ]
  },
  {
   "cell_type": "code",
   "execution_count": 35,
   "id": "007beec2-6df6-4b2d-be3d-23b1b6632b80",
   "metadata": {},
   "outputs": [
    {
     "name": "stdout",
     "output_type": "stream",
     "text": [
      "setter called...\n",
      "getter called...\n"
     ]
    },
    {
     "data": {
      "text/plain": [
       "'zahin'"
      ]
     },
     "execution_count": 35,
     "metadata": {},
     "output_type": "execute_result"
    }
   ],
   "source": [
    "p.name = 'zahin'\n",
    "p.name"
   ]
  },
  {
   "cell_type": "code",
   "execution_count": 36,
   "id": "492b9946-f4b0-4c06-a179-dfa2887bddaa",
   "metadata": {},
   "outputs": [
    {
     "data": {
      "text/plain": [
       "{'_name': 'zahin'}"
      ]
     },
     "execution_count": 36,
     "metadata": {},
     "output_type": "execute_result"
    }
   ],
   "source": [
    "p.__dict__"
   ]
  },
  {
   "cell_type": "code",
   "execution_count": 37,
   "id": "a3ba8c8a-0a95-46a7-a190-7d4642ff4195",
   "metadata": {},
   "outputs": [],
   "source": [
    "## Now we'll use property class to use our attributes in an efficient way\n",
    "\n",
    "\n",
    "class Person:\n",
    "    def __init__(self, name):\n",
    "        self._name = name\n",
    "        \n",
    "    ## getter method\n",
    "    def get_name(self):\n",
    "        print('getter called...')\n",
    "        return self._name\n",
    "    \n",
    "    ## setter method\n",
    "    def set_name(self, value):\n",
    "        print('setter called...')\n",
    "        ## first we'll set some restrictions\n",
    "        if isinstance(value, str) and len(value.strip())>0:\n",
    "            self._name = value.strip()\n",
    "        else:\n",
    "            raise ValueError(\"name must be non-empty string.\")\n",
    "            \n",
    "    def del_name(self):\n",
    "        print('deleter called...')\n",
    "        del self._name\n",
    "            \n",
    "    name = property(fget=get_name, fset=set_name, fdel=del_name)"
   ]
  },
  {
   "cell_type": "code",
   "execution_count": 38,
   "id": "2ecdf671-3853-49b4-8330-e7563251ba7c",
   "metadata": {},
   "outputs": [
    {
     "data": {
      "text/plain": [
       "{'_name': 'shafin'}"
      ]
     },
     "execution_count": 38,
     "metadata": {},
     "output_type": "execute_result"
    }
   ],
   "source": [
    "p = Person('shafin')\n",
    "p.__dict__"
   ]
  },
  {
   "cell_type": "code",
   "execution_count": 39,
   "id": "c3451f00-5806-407f-b682-532129a7ceb9",
   "metadata": {},
   "outputs": [
    {
     "name": "stdout",
     "output_type": "stream",
     "text": [
      "deleter called...\n"
     ]
    }
   ],
   "source": [
    "del p.name"
   ]
  },
  {
   "cell_type": "code",
   "execution_count": 40,
   "id": "d4605ce5-a85d-4f40-a369-71ce324b1665",
   "metadata": {},
   "outputs": [
    {
     "data": {
      "text/plain": [
       "{}"
      ]
     },
     "execution_count": 40,
     "metadata": {},
     "output_type": "execute_result"
    }
   ],
   "source": [
    "p.__dict__"
   ]
  },
  {
   "cell_type": "code",
   "execution_count": 41,
   "id": "3602f60b-85d8-4a9a-8d07-7e4be6bcdfd2",
   "metadata": {},
   "outputs": [
    {
     "data": {
      "text/plain": [
       "mappingproxy({'__module__': '__main__',\n",
       "              '__init__': <function __main__.Person.__init__(self, name)>,\n",
       "              'get_name': <function __main__.Person.get_name(self)>,\n",
       "              'set_name': <function __main__.Person.set_name(self, value)>,\n",
       "              'del_name': <function __main__.Person.del_name(self)>,\n",
       "              'name': <property at 0x1135f1e50>,\n",
       "              '__dict__': <attribute '__dict__' of 'Person' objects>,\n",
       "              '__weakref__': <attribute '__weakref__' of 'Person' objects>,\n",
       "              '__doc__': None})"
      ]
     },
     "execution_count": 41,
     "metadata": {},
     "output_type": "execute_result"
    }
   ],
   "source": [
    "Person.__dict__"
   ]
  },
  {
   "cell_type": "code",
   "execution_count": 42,
   "id": "58c2131e-9361-45b0-afd7-1fca4072faee",
   "metadata": {},
   "outputs": [
    {
     "name": "stdout",
     "output_type": "stream",
     "text": [
      "getter called...\n"
     ]
    },
    {
     "ename": "AttributeError",
     "evalue": "'Person' object has no attribute '_name'",
     "output_type": "error",
     "traceback": [
      "\u001b[0;31m---------------------------------------------------------------------------\u001b[0m",
      "\u001b[0;31mAttributeError\u001b[0m                            Traceback (most recent call last)",
      "Input \u001b[0;32mIn [42]\u001b[0m, in \u001b[0;36m<cell line: 1>\u001b[0;34m()\u001b[0m\n\u001b[0;32m----> 1\u001b[0m \u001b[43mp\u001b[49m\u001b[38;5;241;43m.\u001b[39;49m\u001b[43mname\u001b[49m\n",
      "Input \u001b[0;32mIn [37]\u001b[0m, in \u001b[0;36mPerson.get_name\u001b[0;34m(self)\u001b[0m\n\u001b[1;32m      9\u001b[0m \u001b[38;5;28;01mdef\u001b[39;00m \u001b[38;5;21mget_name\u001b[39m(\u001b[38;5;28mself\u001b[39m):\n\u001b[1;32m     10\u001b[0m     \u001b[38;5;28mprint\u001b[39m(\u001b[38;5;124m'\u001b[39m\u001b[38;5;124mgetter called...\u001b[39m\u001b[38;5;124m'\u001b[39m)\n\u001b[0;32m---> 11\u001b[0m     \u001b[38;5;28;01mreturn\u001b[39;00m \u001b[38;5;28;43mself\u001b[39;49m\u001b[38;5;241;43m.\u001b[39;49m\u001b[43m_name\u001b[49m\n",
      "\u001b[0;31mAttributeError\u001b[0m: 'Person' object has no attribute '_name'"
     ]
    }
   ],
   "source": [
    "p.name"
   ]
  },
  {
   "cell_type": "markdown",
   "id": "082ab767-e862-4212-842a-bb6bb6037fbc",
   "metadata": {},
   "source": [
    "'del' deleted the private variable from the object, not from the class."
   ]
  },
  {
   "cell_type": "code",
   "execution_count": 43,
   "id": "ecb0dee0-19d1-440b-b993-91eb7fa3ad2f",
   "metadata": {},
   "outputs": [
    {
     "name": "stdout",
     "output_type": "stream",
     "text": [
      "setter called...\n"
     ]
    }
   ],
   "source": [
    "p.name = 'shafin'"
   ]
  },
  {
   "cell_type": "code",
   "execution_count": 44,
   "id": "a22bcd63-5a65-4396-88c6-3c4deef310cd",
   "metadata": {},
   "outputs": [
    {
     "name": "stdout",
     "output_type": "stream",
     "text": [
      "getter called...\n"
     ]
    },
    {
     "data": {
      "text/plain": [
       "'shafin'"
      ]
     },
     "execution_count": 44,
     "metadata": {},
     "output_type": "execute_result"
    }
   ],
   "source": [
    "p.name"
   ]
  },
  {
   "cell_type": "code",
   "execution_count": 45,
   "id": "95569ec6-f81e-4da9-82b0-f18edb1ee08e",
   "metadata": {},
   "outputs": [
    {
     "data": {
      "text/plain": [
       "{'_name': 'shafin'}"
      ]
     },
     "execution_count": 45,
     "metadata": {},
     "output_type": "execute_result"
    }
   ],
   "source": [
    "p.__dict__"
   ]
  },
  {
   "cell_type": "code",
   "execution_count": 46,
   "id": "fa885be5-066d-4b3a-9f48-010f816a4e31",
   "metadata": {},
   "outputs": [],
   "source": [
    "## Docstring\n",
    "\n",
    "class Person:\n",
    "    '''This is a person object.'''\n",
    "    def __init__(self, name):\n",
    "        self._name = name\n",
    "        \n",
    "    ## getter method\n",
    "    def get_name(self):\n",
    "        print('getter called...')\n",
    "        return self._name\n",
    "    \n",
    "    ## setter method\n",
    "    def set_name(self, value):\n",
    "        print('setter called...')\n",
    "        ## first we'll set some restrictions\n",
    "        if isinstance(value, str) and len(value.strip())>0:\n",
    "            self._name = value.strip()\n",
    "        else:\n",
    "            raise ValueError(\"name must be non-empty string.\")\n",
    "            \n",
    "    def del_name(self):\n",
    "        print('deleter called...')\n",
    "        del self._name\n",
    "            \n",
    "    name = property(fget=get_name, fset=set_name, fdel=del_name, \\\n",
    "                    doc = \"The person's name\" )"
   ]
  },
  {
   "cell_type": "code",
   "execution_count": 49,
   "id": "42c930a6-ab6c-49b4-bec4-316451be9e2b",
   "metadata": {},
   "outputs": [
    {
     "data": {
      "text/plain": [
       "mappingproxy({'__module__': '__main__',\n",
       "              '__doc__': 'This is a person object.',\n",
       "              '__init__': <function __main__.Person.__init__(self, name)>,\n",
       "              'get_name': <function __main__.Person.get_name(self)>,\n",
       "              'set_name': <function __main__.Person.set_name(self, value)>,\n",
       "              'del_name': <function __main__.Person.del_name(self)>,\n",
       "              'name': <property at 0x113709c70>,\n",
       "              '__dict__': <attribute '__dict__' of 'Person' objects>,\n",
       "              '__weakref__': <attribute '__weakref__' of 'Person' objects>})"
      ]
     },
     "execution_count": 49,
     "metadata": {},
     "output_type": "execute_result"
    }
   ],
   "source": [
    "Person.__dict__"
   ]
  },
  {
   "cell_type": "code",
   "execution_count": 50,
   "id": "de220431-c927-4592-9e50-b5d76bcb5f81",
   "metadata": {},
   "outputs": [
    {
     "name": "stdout",
     "output_type": "stream",
     "text": [
      "Help on class Person in module __main__:\n",
      "\n",
      "class Person(builtins.object)\n",
      " |  Person(name)\n",
      " |  \n",
      " |  This is a person object.\n",
      " |  \n",
      " |  Methods defined here:\n",
      " |  \n",
      " |  __init__(self, name)\n",
      " |      Initialize self.  See help(type(self)) for accurate signature.\n",
      " |  \n",
      " |  del_name(self)\n",
      " |  \n",
      " |  get_name(self)\n",
      " |      ## getter method\n",
      " |  \n",
      " |  set_name(self, value)\n",
      " |      ## setter method\n",
      " |  \n",
      " |  ----------------------------------------------------------------------\n",
      " |  Data descriptors defined here:\n",
      " |  \n",
      " |  __dict__\n",
      " |      dictionary for instance variables (if defined)\n",
      " |  \n",
      " |  __weakref__\n",
      " |      list of weak references to the object (if defined)\n",
      " |  \n",
      " |  name\n",
      " |      The person's name\n",
      "\n"
     ]
    }
   ],
   "source": [
    "help(Person)"
   ]
  },
  {
   "cell_type": "code",
   "execution_count": 51,
   "id": "ca2f4545-78cb-4f3e-82b6-7f8f49ab4b3f",
   "metadata": {},
   "outputs": [
    {
     "name": "stdout",
     "output_type": "stream",
     "text": [
      "Help on property:\n",
      "\n",
      "    The person's name\n",
      "\n"
     ]
    }
   ],
   "source": [
    "help(Person.name)"
   ]
  },
  {
   "cell_type": "markdown",
   "id": "d6910b21-4431-4c1c-a082-5085d5f56a69",
   "metadata": {},
   "source": [
    "**_Property Decorators_** "
   ]
  },
  {
   "cell_type": "code",
   "execution_count": null,
   "id": "ba7f57e8-3c8b-418c-a1f3-e24303b7f585",
   "metadata": {},
   "outputs": [],
   "source": []
  },
  {
   "cell_type": "code",
   "execution_count": null,
   "id": "831e5020-661b-4c38-9d3e-f198f539e98c",
   "metadata": {},
   "outputs": [],
   "source": []
  },
  {
   "cell_type": "code",
   "execution_count": null,
   "id": "aca4efae-2b97-44d1-85f9-2de80876dc7e",
   "metadata": {},
   "outputs": [],
   "source": []
  },
  {
   "cell_type": "code",
   "execution_count": null,
   "id": "72dd22d2-e3f1-4ea1-ab9a-3978e4c76c1e",
   "metadata": {},
   "outputs": [],
   "source": []
  },
  {
   "cell_type": "code",
   "execution_count": null,
   "id": "259979d5-08c8-4a6d-8653-79140219bea5",
   "metadata": {},
   "outputs": [],
   "source": []
  },
  {
   "cell_type": "code",
   "execution_count": null,
   "id": "91e90d9d-b2d3-4d37-b911-1876c24e9b2b",
   "metadata": {},
   "outputs": [],
   "source": []
  },
  {
   "cell_type": "code",
   "execution_count": null,
   "id": "a4273a02-a291-4112-9ea6-d95c324b7b51",
   "metadata": {},
   "outputs": [],
   "source": []
  },
  {
   "cell_type": "code",
   "execution_count": null,
   "id": "d327df74-858f-4246-865c-a3a7fffbcde9",
   "metadata": {},
   "outputs": [],
   "source": []
  },
  {
   "cell_type": "code",
   "execution_count": null,
   "id": "7e55d3f3-9c00-4a1f-9e78-f2ff02dbfe1a",
   "metadata": {},
   "outputs": [],
   "source": []
  },
  {
   "cell_type": "code",
   "execution_count": null,
   "id": "8f138ee0-a14e-4bab-828a-59650214b187",
   "metadata": {},
   "outputs": [],
   "source": []
  },
  {
   "cell_type": "code",
   "execution_count": null,
   "id": "05e195e9-3e4f-4f38-a9ee-00007389c329",
   "metadata": {},
   "outputs": [],
   "source": []
  },
  {
   "cell_type": "code",
   "execution_count": null,
   "id": "cadc9352-8f1c-48c7-a656-b1a5f19dde62",
   "metadata": {},
   "outputs": [],
   "source": []
  },
  {
   "cell_type": "code",
   "execution_count": null,
   "id": "0cf8c155-f2c4-4f9f-a53d-991041befbbc",
   "metadata": {},
   "outputs": [],
   "source": []
  },
  {
   "cell_type": "code",
   "execution_count": null,
   "id": "6d467acb-9913-4674-96a7-78350d76ef24",
   "metadata": {},
   "outputs": [],
   "source": []
  },
  {
   "cell_type": "code",
   "execution_count": null,
   "id": "090bafc2-3157-4d75-8ec6-a088bf59b03f",
   "metadata": {},
   "outputs": [],
   "source": []
  },
  {
   "cell_type": "code",
   "execution_count": null,
   "id": "6ab801bb-5fca-4fce-a6af-a48b01e3daed",
   "metadata": {},
   "outputs": [],
   "source": []
  },
  {
   "cell_type": "code",
   "execution_count": null,
   "id": "be353098-0f3f-47ad-8697-2a8c72739df9",
   "metadata": {},
   "outputs": [],
   "source": []
  },
  {
   "cell_type": "code",
   "execution_count": null,
   "id": "f01737bf-c13f-4155-bb60-9a13f49dcf50",
   "metadata": {},
   "outputs": [],
   "source": []
  },
  {
   "cell_type": "code",
   "execution_count": null,
   "id": "a3ba5d98-2c9a-4f94-8da8-d734b49c22c9",
   "metadata": {},
   "outputs": [],
   "source": []
  },
  {
   "cell_type": "code",
   "execution_count": null,
   "id": "f296e08b-d896-4765-9086-c1944871ec47",
   "metadata": {},
   "outputs": [],
   "source": []
  },
  {
   "cell_type": "code",
   "execution_count": null,
   "id": "d72d604a-10cf-4324-82c6-930bf81121f4",
   "metadata": {},
   "outputs": [],
   "source": []
  },
  {
   "cell_type": "code",
   "execution_count": null,
   "id": "bb340c40-baad-4e16-932c-a4c8b8f631d9",
   "metadata": {},
   "outputs": [],
   "source": []
  },
  {
   "cell_type": "code",
   "execution_count": null,
   "id": "703648fe-b323-4435-93e2-169c492822cc",
   "metadata": {},
   "outputs": [],
   "source": []
  }
 ],
 "metadata": {
  "kernelspec": {
   "display_name": "Python 3 (ipykernel)",
   "language": "python",
   "name": "python3"
  },
  "language_info": {
   "codemirror_mode": {
    "name": "ipython",
    "version": 3
   },
   "file_extension": ".py",
   "mimetype": "text/x-python",
   "name": "python",
   "nbconvert_exporter": "python",
   "pygments_lexer": "ipython3",
   "version": "3.8.13"
  }
 },
 "nbformat": 4,
 "nbformat_minor": 5
}
