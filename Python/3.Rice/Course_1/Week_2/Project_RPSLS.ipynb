{
 "cells": [
  {
   "cell_type": "markdown",
   "id": "ec0526a1-92e9-484a-ada8-e4be73f1b1d6",
   "metadata": {},
   "source": [
    "## URLS"
   ]
  },
  {
   "cell_type": "code",
   "execution_count": null,
   "id": "c560ce9e-d571-4773-8106-1850592954ac",
   "metadata": {},
   "outputs": [],
   "source": [
    "'''\n",
    "Version1: https://py2.codeskulptor.org/#user50_1W0hmPEAW5_0.py\n",
    "\n",
    "Version2: https://py2.codeskulptor.org/#user50_1W0hmPEAW5_1.py\n",
    "\n",
    "Submitted Version: https://py2.codeskulptor.org/#user50_Wp6XkqZ1RSWCdEi.py\n",
    "'''"
   ]
  },
  {
   "cell_type": "markdown",
   "id": "37927105-f956-4258-bb0b-e3a7ebfa50c2",
   "metadata": {},
   "source": [
    "## Project: RPSLS"
   ]
  },
  {
   "cell_type": "markdown",
   "id": "cc8faa67-afc8-495b-bf8f-e303c209f48f",
   "metadata": {},
   "source": [
    "## Mini Project Walkthrough:\n",
    "\n",
    "Link: https://www.coursera.org/learn/interactive-python-1/supplement/ijRP5/mini-project-description\n",
    "\n",
    "Scissors cuts paper, \n",
    "\n",
    "paper covers rock. \n",
    "\n",
    "Rock crushes lizard, \n",
    "\n",
    "lizard poisons Spock. \n",
    "\n",
    "Spock smashes scissors, \n",
    "\n",
    "scissors decapitates lizard. \n",
    "\n",
    "Lizard eats paper, \n",
    "\n",
    "paper disproves Spock, \n",
    "\n",
    "Spock vaporizes rock, and as always has been, \n",
    "\n",
    "rock crushes scissors. "
   ]
  },
  {
   "cell_type": "code",
   "execution_count": 7,
   "id": "2bff1cce-1dac-4d07-b597-4a38e3b25edf",
   "metadata": {},
   "outputs": [
    {
     "name": "stdout",
     "output_type": "stream",
     "text": [
      "0\n",
      "1\n",
      "2\n",
      "3\n",
      "4\n"
     ]
    }
   ],
   "source": [
    "# Rock-paper-scissors-lizard-Spock template\n",
    "\n",
    "import random\n",
    "# The key idea of this program is to equate the strings\n",
    "# \"rock\", \"paper\", \"scissors\", \"lizard\", \"Spock\" to numbers\n",
    "# as follows:\n",
    "#\n",
    "# 0 - rock\n",
    "# 1 - Spock\n",
    "# 2 - paper\n",
    "# 3 - lizard\n",
    "# 4 - scissors\n",
    "\n",
    "# helper functions\n",
    "\n",
    "def name_to_number(name):\n",
    "    # delete the following pass statement and fill in your code below\n",
    "    if name == 'rock':\n",
    "        return 0\n",
    "    \n",
    "    elif name == 'Spock':\n",
    "        return 1\n",
    "    \n",
    "    elif name == 'paper':\n",
    "        return 2\n",
    "    \n",
    "    elif name == 'lizard':\n",
    "        return 3\n",
    "    \n",
    "    elif name == 'scissors':\n",
    "        return 4\n",
    "    \n",
    "###################################################\n",
    "# Test calls to name_to_number()\n",
    "print (name_to_number(\"rock\"))\n",
    "print (name_to_number(\"Spock\"))\n",
    "print (name_to_number(\"paper\"))\n",
    "print( name_to_number(\"lizard\"))\n",
    "print( name_to_number(\"scissors\"))\n",
    "\n",
    "\n",
    "\n",
    "###################################################\n",
    "# Output to the console should have the form:\n",
    "# 0\n",
    "# 1\n",
    "# 2\n",
    "# 3\n",
    "# 4"
   ]
  },
  {
   "cell_type": "code",
   "execution_count": 8,
   "id": "8c53f68c-34aa-42b9-8b2d-db7709fb6556",
   "metadata": {},
   "outputs": [
    {
     "name": "stdout",
     "output_type": "stream",
     "text": [
      "rock\n",
      "Spock\n",
      "paper\n",
      "lizard\n",
      "scissors\n"
     ]
    }
   ],
   "source": [
    "# Testing template for number_to_name()\n",
    "\n",
    "###################################################\n",
    "# Copy and paste your definition of number_to_name() here\n",
    "def number_to_name(number):\n",
    "    # delete the following pass statement and fill in your code below\n",
    "    if number == 0:\n",
    "        return 'rock'\n",
    "    \n",
    "    elif number == 1:\n",
    "        return 'Spock'\n",
    "    \n",
    "    elif number == 2:\n",
    "        return 'paper'\n",
    "    \n",
    "    elif number == 3:\n",
    "        return 'lizard'\n",
    "    \n",
    "    elif number == 4:\n",
    "        return 'scissors'\n",
    "\n",
    "\n",
    "\n",
    "###################################################\n",
    "# Test calls to number_to_name()\n",
    "print (number_to_name(0))\n",
    "print (number_to_name(1))\n",
    "print (number_to_name(2))\n",
    "print (number_to_name(3))\n",
    "print (number_to_name(4))\n",
    "\n",
    "\n",
    "\n",
    "###################################################\n",
    "# Output to the console should have the form:\n",
    "# rock\n",
    "# Spock\n",
    "# paper\n",
    "# lizard\n",
    "# scissors"
   ]
  },
  {
   "cell_type": "code",
   "execution_count": 10,
   "id": "b8406a39-8fca-40e2-b741-bb3d0b48aec8",
   "metadata": {},
   "outputs": [
    {
     "name": "stdout",
     "output_type": "stream",
     "text": [
      "\n",
      "Players Chooses: rock\n",
      "Computers chooses: Spock\n",
      "Computer wins!\n",
      "\n",
      "Players Chooses: Spock\n",
      "Computers chooses: scissors\n",
      "Player wins!\n",
      "\n",
      "Players Chooses: paper\n",
      "Computers chooses: lizard\n",
      "Computer wins!\n",
      "\n",
      "Players Chooses: lizard\n",
      "Computers chooses: Spock\n",
      "Player wins!\n",
      "\n",
      "Players Chooses: scissors\n",
      "Computers chooses: rock\n",
      "Computer wins!\n"
     ]
    }
   ],
   "source": [
    "def rpsls(player_choice): \n",
    "   \n",
    "    # print a blank line to separate consecutive games\n",
    "    print()\n",
    "    # print out the message for the player's choice\n",
    "    print( 'Players Chooses: '+ player_choice)\n",
    "    # convert the player's choice to player_number using the function name_to_number()\n",
    "    player_number = name_to_number(player_choice)\n",
    "    # compute random guess for comp_number using random.randrange()\n",
    "    comp_number = random.randrange(0,5)\n",
    "    # convert comp_number to comp_choice using the function number_to_name()\n",
    "    comp_choice = number_to_name(comp_number)\n",
    "    # print out the message for computer's choice\n",
    "    print( 'Computers chooses: '+ comp_choice)\n",
    "    # compute difference of comp_number and player_number modulo five\n",
    "    diff = (comp_number-player_number) % 5\n",
    "    # use if/elif/else to determine winner, print winner message\n",
    "    if diff == 0:\n",
    "        print( 'Player and Computer tie!')\n",
    "    \n",
    "    elif diff == 1:\n",
    "        print ('Computer wins!')\n",
    "    \n",
    "    elif diff == 2:\n",
    "        print ('Computer wins!')\n",
    "    \n",
    "    elif diff == 3:\n",
    "        print( 'Player wins!')\n",
    "    \n",
    "    elif diff == 4:\n",
    "        print( 'Player wins!')\n",
    "    \n",
    "        \n",
    "    \n",
    "# test your code - THESE CALLS MUST BE PRESENT IN YOUR SUBMITTED CODE\n",
    "rpsls(\"rock\")\n",
    "rpsls(\"Spock\")\n",
    "rpsls(\"paper\")\n",
    "rpsls(\"lizard\")\n",
    "rpsls(\"scissors\")\n"
   ]
  },
  {
   "cell_type": "code",
   "execution_count": null,
   "id": "74201bef-a811-4741-a89b-59101ccc5126",
   "metadata": {},
   "outputs": [],
   "source": []
  },
  {
   "cell_type": "code",
   "execution_count": null,
   "id": "664ad578-30c8-4f1b-af51-af281835ae45",
   "metadata": {},
   "outputs": [],
   "source": []
  },
  {
   "cell_type": "code",
   "execution_count": null,
   "id": "a43f3b17-ff74-4612-9857-95b0d46ffa08",
   "metadata": {},
   "outputs": [],
   "source": []
  },
  {
   "cell_type": "code",
   "execution_count": null,
   "id": "879f7027-21ce-4c32-98f3-db1bc9ce9967",
   "metadata": {},
   "outputs": [],
   "source": []
  }
 ],
 "metadata": {
  "kernelspec": {
   "display_name": "Python 3 (ipykernel)",
   "language": "python",
   "name": "python3"
  },
  "language_info": {
   "codemirror_mode": {
    "name": "ipython",
    "version": 3
   },
   "file_extension": ".py",
   "mimetype": "text/x-python",
   "name": "python",
   "nbconvert_exporter": "python",
   "pygments_lexer": "ipython3",
   "version": "3.10.11"
  }
 },
 "nbformat": 4,
 "nbformat_minor": 5
}
