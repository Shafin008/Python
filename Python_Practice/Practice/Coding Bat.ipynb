{
 "cells": [
  {
   "cell_type": "markdown",
   "id": "15aca268",
   "metadata": {},
   "source": [
    "#### Q.1: The parameter weekday is True if it is a weekday, and the parameter vacation is True if we are on vacation. We sleep in if it is not a weekday or we're on vacation. Return True if we sleep in.\n",
    "\n",
    "#### sleep_in(False, False) → True\n",
    "#### sleep_in(True, False) → False\n",
    "#### sleep_in(False, True) → True"
   ]
  },
  {
   "cell_type": "code",
   "execution_count": null,
   "id": "bf7b308c",
   "metadata": {},
   "outputs": [],
   "source": [
    "def sleep_in(weekday, vacation):\n",
    "    if weekday is False or vacation is True:\n",
    "        return True\n",
    "    else:\n",
    "        return False"
   ]
  },
  {
   "cell_type": "code",
   "execution_count": null,
   "id": "c13f2d8f",
   "metadata": {},
   "outputs": [],
   "source": [
    "print(sleep_in(False, False))"
   ]
  },
  {
   "cell_type": "code",
   "execution_count": null,
   "id": "2e54be69",
   "metadata": {},
   "outputs": [],
   "source": [
    "print(sleep_in(True, False)) "
   ]
  },
  {
   "cell_type": "code",
   "execution_count": null,
   "id": "3e1e3c20",
   "metadata": {},
   "outputs": [],
   "source": [
    "print(sleep_in(False, True))"
   ]
  },
  {
   "cell_type": "code",
   "execution_count": null,
   "id": "c5183126",
   "metadata": {},
   "outputs": [],
   "source": [
    "def monkey_trouble(a_smile, b_smile):\n",
    "    if a_smile is True and b_smile is True:\n",
    "        return True\n",
    "    elif a_smile is False and b_smile is False:\n",
    "        return True\n",
    "    else: \n",
    "        return False"
   ]
  },
  {
   "cell_type": "code",
   "execution_count": null,
   "id": "9b101a1f",
   "metadata": {},
   "outputs": [],
   "source": [
    "print(monkey_trouble(True, True))"
   ]
  },
  {
   "cell_type": "code",
   "execution_count": null,
   "id": "4301e378",
   "metadata": {},
   "outputs": [],
   "source": [
    "print(monkey_trouble(False, False))"
   ]
  },
  {
   "cell_type": "code",
   "execution_count": null,
   "id": "0bf1b060",
   "metadata": {},
   "outputs": [],
   "source": [
    "print(monkey_trouble(True, False))"
   ]
  },
  {
   "cell_type": "markdown",
   "id": "38d9ef61",
   "metadata": {},
   "source": [
    "#### Q.2: Given an int n, return the absolute difference between n and 21, except return double the absolute difference if n is over 21.\n",
    "\n",
    "\n",
    "#### diff21(19) → 2\n",
    "#### diff21(10) → 11\n",
    "#### diff21(21) → 0"
   ]
  },
  {
   "cell_type": "code",
   "execution_count": null,
   "id": "e75c4b9b",
   "metadata": {},
   "outputs": [],
   "source": [
    "def diff21(n):\n",
    "    if n > 21:\n",
    "        return abs(n-21) * 2\n",
    "    else: \n",
    "        return abs(n-21)"
   ]
  },
  {
   "cell_type": "code",
   "execution_count": null,
   "id": "215ae071",
   "metadata": {},
   "outputs": [],
   "source": [
    "import math as m\n",
    "def circle_perimeter(radius):\n",
    "    return 2 * m.pi * radius\n",
    "print(circle_perimeter(100))"
   ]
  },
  {
   "cell_type": "markdown",
   "id": "a3b11c95",
   "metadata": {},
   "source": [
    "#### Q.3:  Write a function printing every even numbers in the given range, one number per line.\n",
    "#### Your function have to be named print_even_numbers and accept two parameters named start and stop."
   ]
  },
  {
   "cell_type": "code",
   "execution_count": 9,
   "id": "82764a43",
   "metadata": {},
   "outputs": [],
   "source": [
    "def print_even_numbers(start, stop):\n",
    "    i = start\n",
    "    for i in range(start,stop):\n",
    "        if i % 2 == 0:\n",
    "            print (i)\n",
    "            \n",
    "      \n",
    "        \n",
    "print_even_numbers(0, 10)"
   ]
  },
  {
   "cell_type": "code",
   "execution_count": 23,
   "id": "7892b2b9",
   "metadata": {},
   "outputs": [
    {
     "name": "stdout",
     "output_type": "stream",
     "text": [
      "[0, 2, 4, 6, 8, 10, 12, 14, 16, 18, 20, 22, 24, 26, 28, 30, 32, 34, 36, 38, 40, 42, 44, 46, 48, 50, 52, 54, 56, 58, 60, 62, 64, 66, 68, 70, 72, 74, 76, 78, 80, 82, 84, 86, 88, 90, 92, 94, 96, 98]\n",
      "2450\n"
     ]
    }
   ],
   "source": [
    "# Provide a script that prints the sum of every even numbers in the range [0; 100].\n",
    "result = []\n",
    "for i in range(100):\n",
    "    if i % 2 == 0:\n",
    "        result.append(i)\n",
    "\n",
    "print(sum(result))"
   ]
  },
  {
   "cell_type": "code",
   "execution_count": 2,
   "id": "894ad019",
   "metadata": {},
   "outputs": [
    {
     "name": "stdout",
     "output_type": "stream",
     "text": [
      "52\n"
     ]
    }
   ],
   "source": [
    "# Provide a script that prints the number of words in the given paragraph.\n",
    "whetting_your_appetite = \"Python is an easy to learn, powerful programming language. It has efficient high level data structures and a simple but effective approach to object oriented programming. This tutorial introduces the reader informally to the basic concepts and features of the Python language and system. For a description of standard objects and modules...\"\n",
    "print(len(whetting_your_appetite.split()))"
   ]
  },
  {
   "cell_type": "markdown",
   "id": "73d27059",
   "metadata": {},
   "source": [
    "#### Q.4: We have a loud talking parrot. The \"hour\" parameter is the current hour time in the range 0..23. We are in trouble if the parrot is talking and the hour is before 7 or after 20. Return True if we are in trouble."
   ]
  },
  {
   "cell_type": "code",
   "execution_count": 6,
   "id": "d4c8c7c8",
   "metadata": {},
   "outputs": [],
   "source": [
    "def parrot_trouble(talking, hour):\n",
    "    if talking==False:\n",
    "        return False\n",
    "  \n",
    "    while talking==True:\n",
    "        if hour in range(0,7):\n",
    "            return True\n",
    "        elif hour in range(21,24):\n",
    "            return True\n",
    "        else:\n",
    "            return False"
   ]
  },
  {
   "cell_type": "code",
   "execution_count": 7,
   "id": "7d1e2670",
   "metadata": {},
   "outputs": [
    {
     "name": "stdout",
     "output_type": "stream",
     "text": [
      "True\n",
      "False\n",
      "False\n"
     ]
    }
   ],
   "source": [
    "print(parrot_trouble(True, 6))\n",
    "print(parrot_trouble(True, 7))\n",
    "print(parrot_trouble(False, 6))"
   ]
  },
  {
   "cell_type": "code",
   "execution_count": 10,
   "id": "bd948bb8",
   "metadata": {},
   "outputs": [],
   "source": [
    "def makes10(a, b):\n",
    "    c = a+b\n",
    "    if c == 10:\n",
    "        return True\n",
    "    elif a==10 or b == 10:\n",
    "        return True\n",
    "    else:\n",
    "        return False\n"
   ]
  },
  {
   "cell_type": "code",
   "execution_count": null,
   "id": "fb57a9f4",
   "metadata": {},
   "outputs": [],
   "source": []
  },
  {
   "cell_type": "code",
   "execution_count": 47,
   "id": "a52816bc",
   "metadata": {},
   "outputs": [
    {
     "name": "stdout",
     "output_type": "stream",
     "text": [
      "what's the time right now?: 22\n",
      "total hours before alarm: 67\n",
      "Your alarm is on:  5 pm\n"
     ]
    }
   ],
   "source": [
    "## needs to be improved may be\n",
    "\n",
    "user_input= int(input(\"what's the time right now?: \"))\n",
    "hours = int(input(\"total hours before alarm: \"))\n",
    "time = 0\n",
    "\n",
    "if hours > 24:\n",
    "    time = user_input + hours % 24\n",
    "    \n",
    "    if time > 24 and time % 24 > 12 :\n",
    "        print(\"Your alarm is on: \", abs(time % 24 - 12), \"pm\")\n",
    "    \n",
    "    elif time > 24 and time % 24 < 12 :\n",
    "        print(\"Your alarm is on: \", abs(time % 24), \"am\")\n",
    "    \n",
    "    elif time == 24:\n",
    "         print(\"Your alarm is on: 12 am\")\n",
    "        \n",
    "    \n",
    "    elif 12 < time < 24 :\n",
    "        print(\"Your alarm is on: \", abs(time-12), \"pm\")\n",
    "    \n",
    "    elif time < 12:\n",
    "        print(\"Your alarm is on: \", time , \"am\")\n",
    "\n",
    "elif hours == 24:\n",
    "    \n",
    "    time = user_input\n",
    "    \n",
    "    if time > 12:\n",
    "        print(\"Your alarm is on :\", (time-12), \"pm\")\n",
    "    \n",
    "    else:\n",
    "        print(\"Your alarm is on :\", time, \"am\")\n",
    "\n",
    "\n",
    "elif hours < 24 :\n",
    "    \n",
    "    time = abs((user_input + hours) - 12)\n",
    "    \n",
    "    if time > 12 :\n",
    "        print(\"Your alarm is on: \",abs(time-12), \"pm\")\n",
    "    \n",
    "    else:\n",
    "        print(\"Your alarm is on: \",time, \"am\")"
   ]
  },
  {
   "cell_type": "code",
   "execution_count": 46,
   "id": "79fedbc1",
   "metadata": {},
   "outputs": [
    {
     "name": "stdout",
     "output_type": "stream",
     "text": [
      "what's the time right now?: 22\n",
      "total hours before alarm: 67\n",
      "Your alarm is on:  5 pm.\n"
     ]
    }
   ],
   "source": [
    "time= int(input(\"what's the time right now?: \"))\n",
    "wait_time= int(input(\"total hours before alarm: \"))\n",
    "time_of_alarm= (time+wait_time) % 24\n",
    "\n",
    "if time_of_alarm < 12:\n",
    "    print(\"Your alarm is on: \",time_of_alarm, \"am.\")\n",
    "elif time_of_alarm == 12:\n",
    "    print(\"Your alarm is on: 12 am.\")\n",
    "else:\n",
    "    print(\"Your alarm is on: \",(time_of_alarm-12), \"pm.\")"
   ]
  },
  {
   "cell_type": "code",
   "execution_count": 42,
   "id": "3e3782f9",
   "metadata": {},
   "outputs": [
    {
     "name": "stdout",
     "output_type": "stream",
     "text": [
      "Day no.:5\n",
      "Length of stay20\n",
      "thu\n"
     ]
    }
   ],
   "source": [
    "lst=[\"sun\",\"mon\",\"tue\",\"wed\",\"thu\",\"fri\",\"sat\"]\n",
    "Day_number= int(input(\"Day no.: \"))\n",
    "stay= int(input(\"Length of stay: \"))\n",
    "tot= Day_number+stay\n",
    "return_day= tot%7\n",
    "for i in lst:\n",
    "       day= lst[return_day]\n",
    "print(day)\n",
    "       \n",
    "        "
   ]
  },
  {
   "cell_type": "code",
   "execution_count": null,
   "id": "875c7e62",
   "metadata": {},
   "outputs": [],
   "source": []
  },
  {
   "cell_type": "code",
   "execution_count": null,
   "id": "4f6a4a7c",
   "metadata": {},
   "outputs": [],
   "source": []
  }
 ],
 "metadata": {
  "kernelspec": {
   "display_name": "Python 3",
   "language": "python",
   "name": "python3"
  },
  "language_info": {
   "codemirror_mode": {
    "name": "ipython",
    "version": 3
   },
   "file_extension": ".py",
   "mimetype": "text/x-python",
   "name": "python",
   "nbconvert_exporter": "python",
   "pygments_lexer": "ipython3",
   "version": "3.8.8"
  }
 },
 "nbformat": 4,
 "nbformat_minor": 5
}
