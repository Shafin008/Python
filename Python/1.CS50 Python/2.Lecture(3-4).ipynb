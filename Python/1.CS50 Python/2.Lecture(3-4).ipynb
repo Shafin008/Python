{
 "cells": [
  {
   "cell_type": "markdown",
   "id": "7b463daf-37be-4af8-ad7e-e6d5c6418690",
   "metadata": {},
   "source": [
    "# Lecture 3:"
   ]
  },
  {
   "cell_type": "code",
   "execution_count": null,
   "id": "5445a06e-d61a-443d-ac56-156116c43c0e",
   "metadata": {
    "tags": []
   },
   "outputs": [],
   "source": [
    "'''\n",
    "Error Types:\n",
    "Syntax Error: It's the error that comes when you make a mistake in typing.\n",
    "Runtime Error, ValueError, NameError\n",
    "'''"
   ]
  },
  {
   "cell_type": "markdown",
   "id": "77652baf-1cbf-42a9-a014-bb40ad83df16",
   "metadata": {},
   "source": [
    "### Example 1: ValueError"
   ]
  },
  {
   "cell_type": "code",
   "execution_count": null,
   "id": "c58e920c-0aa3-454a-8cc5-5c743d07cacb",
   "metadata": {},
   "outputs": [],
   "source": [
    "try:\n",
    "    x = int(input(\"What's x? \"))\n",
    "    print(f\"x is {x}\")\n",
    "except ValueError:\n",
    "    print(\"x is not an integer.\")"
   ]
  },
  {
   "cell_type": "markdown",
   "id": "a2903a08-ffd7-47bc-8006-129ef46b32f4",
   "metadata": {},
   "source": [
    "### Example 2: Properly coding example 1: Version 1"
   ]
  },
  {
   "cell_type": "code",
   "execution_count": null,
   "id": "64d0ccb6-6ce2-4f47-9ec9-eda1cdb091c2",
   "metadata": {},
   "outputs": [],
   "source": [
    "# Improvement: Adding an else block to print the value\n",
    "\n",
    "# try to run the following line:\n",
    "try:\n",
    "    x = int(input(\"What's x? \"))\n",
    "## If there are any error, run the except block\n",
    "except ValueError:\n",
    "    print(\"x is not an integer.\")\n",
    "## If everything goes right print the answer\n",
    "else:\n",
    "    print(f\"x is {x}\")"
   ]
  },
  {
   "cell_type": "markdown",
   "id": "dc3627b9-de82-4acb-8bce-bb762a0ff2f0",
   "metadata": {},
   "source": [
    "## Example 3: Properly coding example 1: Version 2"
   ]
  },
  {
   "cell_type": "code",
   "execution_count": null,
   "id": "bf2c011c-1db4-47ce-a640-ffad63646548",
   "metadata": {},
   "outputs": [],
   "source": [
    "# Improvement: Instead of giving an error msg we can delibaretely prompt the user to give an integer input\n",
    "\n",
    "while True:\n",
    "    ## try to run the following line:\n",
    "    try:\n",
    "        x = int(input(\"What's x? \"))\n",
    "    ## If there are any error, run the except block\n",
    "    except ValueError:\n",
    "        print(\"x is not an integer.\")\n",
    "    ## If the user gives an integer then break out of the loop\n",
    "    else:\n",
    "        break\n",
    "## finally print out the ans\n",
    "print(f\"x is {x}\")"
   ]
  },
  {
   "cell_type": "markdown",
   "id": "743977e4-5f9b-4b13-a185-5ae2488da017",
   "metadata": {},
   "source": [
    "### Example 4: Properly coding example 1: Version 3"
   ]
  },
  {
   "cell_type": "code",
   "execution_count": null,
   "id": "d7d9bb71-b2eb-44c2-8e0c-0aff0c6225ec",
   "metadata": {},
   "outputs": [],
   "source": [
    "# Improvement: It's always good to create your own function\n",
    "\n",
    "def main():\n",
    "    x = get_int()\n",
    "    print(f\"x is {x}\")\n",
    "\n",
    "def get_int():\n",
    "    '''It'll return the value of x'''\n",
    "    while True:\n",
    "    ## try to run the following line:\n",
    "        try:\n",
    "            x = int(input(\"What's x? \"))\n",
    "        ## If there are any error, run the except block\n",
    "        except ValueError:\n",
    "            print(\"x is not an integer.\")\n",
    "        ## If the user gives an integer then break out of the loop and return the value\n",
    "        ## return can break out of the loop and return a value\n",
    "        else:\n",
    "            return x\n",
    "main()"
   ]
  },
  {
   "cell_type": "code",
   "execution_count": null,
   "id": "4e35ae60-77c3-4b8a-a31b-8edc8e1a3b57",
   "metadata": {},
   "outputs": [],
   "source": [
    "### Example 5: Properly coding example 1: Version 4\n",
    "\n",
    "## Improvements:\n",
    "# 1. It's always good to create your own function\n",
    "# 2. Making the code more reusable; instead of asking the question on the get_int() function, we'll ask the question in main() function; and use the question as a prompt.\n",
    "# 2. If we don't want to print the output when users value is not an integer, we can simply use 'pass' instead of printing something(optioal)\n",
    "# 3. We can tighten the code by returning the value in try block, and get rid off the else block(optional)\n",
    "\n",
    "def main():\n",
    "    ## We'll get a parameter for get_int() function\n",
    "    x = get_int(\"What's x? \")\n",
    "    print(f\"x is {x}\")\n",
    "\n",
    "## We'll use the parameter as the input value\n",
    "def get_int(prompt):\n",
    "    '''It'll return the value of x'''\n",
    "    while True:\n",
    "    ## try to run the following line:\n",
    "        try:\n",
    "            return int(input(prompt))\n",
    "        ## If there are any error, run the except block\n",
    "        except ValueError:\n",
    "            pass\n",
    "\n",
    "main()"
   ]
  },
  {
   "cell_type": "markdown",
   "id": "430c3187-17e9-4ea5-b85d-03b0d36bd225",
   "metadata": {},
   "source": [
    "# Lecture 4: Try/Except"
   ]
  },
  {
   "cell_type": "code",
   "execution_count": 1,
   "id": "f19d8376-8339-48c5-8951-44022940a47e",
   "metadata": {},
   "outputs": [
    {
     "name": "stdin",
     "output_type": "stream",
     "text": [
      "What's x?  cat\n"
     ]
    },
    {
     "name": "stdout",
     "output_type": "stream",
     "text": [
      "x is not an integer.\n"
     ]
    }
   ],
   "source": [
    "## Example 1: ValueError\n",
    "try:\n",
    "    x = int(input(\"What's x? \"))\n",
    "    print(f\"x is {x}\")\n",
    "except ValueError:\n",
    "    print(\"x is not an integer.\")"
   ]
  },
  {
   "cell_type": "code",
   "execution_count": 2,
   "id": "f913f065-5a61-49f1-9114-5e622919e359",
   "metadata": {},
   "outputs": [
    {
     "name": "stdin",
     "output_type": "stream",
     "text": [
      "What's x?  cat\n"
     ]
    },
    {
     "name": "stdout",
     "output_type": "stream",
     "text": [
      "x is not an integer.\n"
     ]
    }
   ],
   "source": [
    "## Example 2: Properly coding example 1: Version 1\n",
    "# try to run the following line:\n",
    "try:\n",
    "    x = int(input(\"What's x? \"))\n",
    "## If there are any error, run the except block\n",
    "except ValueError:\n",
    "    print(\"x is not an integer.\")\n",
    "## If everything goes right print the answer\n",
    "else:\n",
    "    print(f\"x is {x}\")"
   ]
  },
  {
   "cell_type": "code",
   "execution_count": 4,
   "id": "7c7a5cf2-d73a-415a-81d6-be602ff64fd8",
   "metadata": {},
   "outputs": [
    {
     "name": "stdin",
     "output_type": "stream",
     "text": [
      "What's x?  cat\n"
     ]
    },
    {
     "name": "stdout",
     "output_type": "stream",
     "text": [
      "x is not an integer.\n"
     ]
    },
    {
     "name": "stdin",
     "output_type": "stream",
     "text": [
      "What's x?  5\n"
     ]
    },
    {
     "name": "stdout",
     "output_type": "stream",
     "text": [
      "x is 5\n"
     ]
    }
   ],
   "source": [
    "## Example 3: Properly coding example 1: Version 2\n",
    "# Improvement: Instead of giving an error msg we can delibaretely prompt the user to give an integer input\n",
    "while True:\n",
    "    ## try to run the following line:\n",
    "    try:\n",
    "        x = int(input(\"What's x? \"))\n",
    "    ## If there are any error, run the except block\n",
    "    except ValueError:\n",
    "        print(\"x is not an integer.\")\n",
    "    ## If the user gives an integer then break out of the loop\n",
    "    else:\n",
    "        break\n",
    "## finally print out the ans\n",
    "print(f\"x is {x}\")"
   ]
  },
  {
   "cell_type": "code",
   "execution_count": 5,
   "id": "451f3448-57e9-4153-8e52-fbfdc05d4345",
   "metadata": {},
   "outputs": [
    {
     "name": "stdin",
     "output_type": "stream",
     "text": [
      "What's x?  5\n"
     ]
    },
    {
     "name": "stdout",
     "output_type": "stream",
     "text": [
      "x is 5\n"
     ]
    }
   ],
   "source": [
    "## Example 4: Properly coding example 1: Version 3\n",
    "# Improvement: It's always good to create your own function\n",
    "def main():\n",
    "    x = get_int()\n",
    "    print(f\"x is {x}\")\n",
    "\n",
    "def get_int():\n",
    "    '''It'll return the value of x'''\n",
    "    while True:\n",
    "    ## try to run the following line:\n",
    "        try:\n",
    "            x = int(input(\"What's x? \"))\n",
    "        ## If there are any error, run the except block\n",
    "        except ValueError:\n",
    "            print(\"x is not an integer.\")\n",
    "        ## If the user gives an integer then break out of the loop and return the value\n",
    "        ## return can break out of the loop and return a value\n",
    "        else:\n",
    "            return x\n",
    "main()"
   ]
  },
  {
   "cell_type": "code",
   "execution_count": 6,
   "id": "5888ed23-6395-49aa-b0bb-60660e4027fe",
   "metadata": {},
   "outputs": [
    {
     "name": "stdin",
     "output_type": "stream",
     "text": [
      "What's x?  r\n",
      "What's x?  5\n"
     ]
    },
    {
     "name": "stdout",
     "output_type": "stream",
     "text": [
      "x is 5\n"
     ]
    }
   ],
   "source": [
    "### Example 5: Properly coding example 1: Version 4\n",
    "## Improvement:\n",
    "# 1. It's always good to create your own function\n",
    "# 2. Making the code more reusable; instead of asking the question on the get_int() function, we'll ask the question in main() function; and use the question as a prompt.\n",
    "# 2. If we don't want to print the output when users value is not an integer, we can simply use 'pass' instead of printing something(optioal)\n",
    "# 3. We can tighten the code by returning the value in try block, and get rid off the else block(optional)\n",
    "def main():\n",
    "    x = get_int(\"What's x? \")\n",
    "    print(f\"x is {x}\")\n",
    "\n",
    "def get_int(prompt):\n",
    "    '''It'll return the value of x'''\n",
    "    while True:\n",
    "    ## try to run the following line:\n",
    "        try:\n",
    "            return int(input(prompt))\n",
    "        ## If there are any error, run the except block\n",
    "        except ValueError:\n",
    "            pass\n",
    "\n",
    "main()"
   ]
  },
  {
   "cell_type": "code",
   "execution_count": null,
   "id": "79373fea-9fd6-4e35-a8af-99dd27c231ea",
   "metadata": {},
   "outputs": [],
   "source": []
  },
  {
   "cell_type": "markdown",
   "id": "c8338714-29b8-40e1-857a-504ac123d6ab",
   "metadata": {},
   "source": [
    "In a file called taqueria.py, implement a program that enables a user to place an order, prompting them for items, one per line, until the user inputs control-d (which is a common way of ending one’s input to a program). After each inputted item, display the total cost of all items inputted thus far, prefixed with a dollar sign ($) and formatted to two decimal places. Treat the user’s input case insensitively. Ignore any input that isn’t an item. Assume that every item on the menu will be titlecased."
   ]
  },
  {
   "cell_type": "code",
   "execution_count": null,
   "id": "a1691989-ca0d-45ea-bd94-48ffc6227fde",
   "metadata": {},
   "outputs": [],
   "source": []
  },
  {
   "cell_type": "code",
   "execution_count": null,
   "id": "78c67ef9-7717-40e2-a033-b04f3486d018",
   "metadata": {},
   "outputs": [],
   "source": []
  },
  {
   "cell_type": "code",
   "execution_count": null,
   "id": "7c5e8206-e8aa-4a93-883b-3b617fec4cd7",
   "metadata": {},
   "outputs": [],
   "source": []
  }
 ],
 "metadata": {
  "kernelspec": {
   "display_name": "Python 3 (ipykernel)",
   "language": "python",
   "name": "python3"
  },
  "language_info": {
   "codemirror_mode": {
    "name": "ipython",
    "version": 3
   },
   "file_extension": ".py",
   "mimetype": "text/x-python",
   "name": "python",
   "nbconvert_exporter": "python",
   "pygments_lexer": "ipython3",
   "version": "3.10.11"
  }
 },
 "nbformat": 4,
 "nbformat_minor": 5
}
