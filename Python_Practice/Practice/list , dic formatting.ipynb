{
 "cells": [
  {
   "cell_type": "code",
   "execution_count": 8,
   "id": "d973e101",
   "metadata": {},
   "outputs": [
    {
     "ename": "SyntaxError",
     "evalue": "invalid syntax (<ipython-input-8-97ab86efeb91>, line 2)",
     "output_type": "error",
     "traceback": [
      "\u001b[1;36m  File \u001b[1;32m\"<ipython-input-8-97ab86efeb91>\"\u001b[1;36m, line \u001b[1;32m2\u001b[0m\n\u001b[1;33m    print(f\"My name is {person[\"name\"]} and I'm {person[\"age\"]} years old.\")\u001b[0m\n\u001b[1;37m                                ^\u001b[0m\n\u001b[1;31mSyntaxError\u001b[0m\u001b[1;31m:\u001b[0m invalid syntax\n"
     ]
    }
   ],
   "source": [
    "# String formatting in Dictionary\n",
    "\n",
    "person = {\"name\" : \"Shafin\", \"age\" : 27}\n",
    "print(f\"My name is {person[\"name\"]} and I'm {person[\"age\"]} years old.\")\n",
    "\n",
    "# Keys should be in single quotation marks, double qoutes will give an error"
   ]
  },
  {
   "cell_type": "code",
   "execution_count": 16,
   "id": "a2b95578",
   "metadata": {},
   "outputs": [
    {
     "name": "stdout",
     "output_type": "stream",
     "text": [
      "My name is Shafin and I'm 27 years old.\n"
     ]
    }
   ],
   "source": [
    "# using single quotation marks\n",
    "person = {\"name\" : \"Shafin\", \"age\" : 27}\n",
    "print(f\"My name is {person['name']} and I'm {person['age']} years old.\")"
   ]
  },
  {
   "cell_type": "code",
   "execution_count": 17,
   "id": "5d150a8d",
   "metadata": {},
   "outputs": [
    {
     "name": "stdout",
     "output_type": "stream",
     "text": [
      "My name is Shafin and I'm 27 years old.\n"
     ]
    }
   ],
   "source": [
    "# using kwargs in .format() method\n",
    "person = {\"name\" : \"Shafin\", \"age\" : 27}\n",
    "print(\"My name is {name} and I'm {age} years old.\".format(**person))"
   ]
  },
  {
   "cell_type": "code",
   "execution_count": 18,
   "id": "e2bcab45",
   "metadata": {},
   "outputs": [
    {
     "name": "stdout",
     "output_type": "stream",
     "text": [
      "My name is Shafin and I'm 27 years old.\n"
     ]
    }
   ],
   "source": [
    "# String formatting in list\n",
    "\n",
    "lst = [\"Shafin\", 27]\n",
    "print(f\"My name is {lst[0]} and I'm {lst[1]} years old.\")"
   ]
  },
  {
   "cell_type": "code",
   "execution_count": 12,
   "id": "9314a01c",
   "metadata": {},
   "outputs": [
    {
     "name": "stdout",
     "output_type": "stream",
     "text": [
      "My name is Shafin and I'm 27 years old.\n"
     ]
    }
   ],
   "source": [
    "# using .format() method\n",
    "lst = [\"Shafin\", 27]\n",
    "print(\"My name is {} and I'm {} years old.\".format(lst[0], lst[1]))"
   ]
  },
  {
   "cell_type": "code",
   "execution_count": 13,
   "id": "666e9b4e",
   "metadata": {},
   "outputs": [
    {
     "name": "stdout",
     "output_type": "stream",
     "text": [
      "My name is Shafin and I'm 27 years old.\n"
     ]
    }
   ],
   "source": [
    "# String formatting in class\n",
    "\n",
    "class Person():\n",
    "    def __init__(self, name, age):\n",
    "        self.name = name\n",
    "        self.age = age\n",
    "\n",
    "p1 = Person(\"Shafin\", 27)\n",
    "print(f\"My name is {p1.name} and I'm {p1.age} years old.\")"
   ]
  },
  {
   "cell_type": "code",
   "execution_count": 22,
   "id": "75fc571a",
   "metadata": {},
   "outputs": [
    {
     "name": "stdout",
     "output_type": "stream",
     "text": [
      "The value is 01\n",
      "The value is 02\n",
      "The value is 03\n",
      "The value is 04\n",
      "The value is 05\n",
      "The value is 06\n",
      "The value is 07\n",
      "The value is 08\n",
      "The value is 09\n",
      "The value is 10\n"
     ]
    }
   ],
   "source": [
    "# adding zeros before numbers\n",
    "\n",
    "for i in range(1,11):\n",
    "    print(f\"The value is {i:02}\")"
   ]
  },
  {
   "cell_type": "code",
   "execution_count": 24,
   "id": "6ca75fd9",
   "metadata": {},
   "outputs": [
    {
     "name": "stdout",
     "output_type": "stream",
     "text": [
      "The value is 001\n",
      "The value is 002\n",
      "The value is 003\n",
      "The value is 004\n",
      "The value is 005\n",
      "The value is 006\n",
      "The value is 007\n",
      "The value is 008\n",
      "The value is 009\n",
      "The value is 010\n"
     ]
    }
   ],
   "source": [
    "for i in range(1,11):\n",
    "    print(f\"The value is {i:03}\")"
   ]
  },
  {
   "cell_type": "code",
   "execution_count": 25,
   "id": "f7dee587",
   "metadata": {},
   "outputs": [
    {
     "name": "stdout",
     "output_type": "stream",
     "text": [
      "The value is 091\n",
      "The value is 092\n",
      "The value is 093\n",
      "The value is 094\n",
      "The value is 095\n",
      "The value is 096\n",
      "The value is 097\n",
      "The value is 098\n",
      "The value is 099\n",
      "The value is 100\n"
     ]
    }
   ],
   "source": [
    "for i in range(91,101):\n",
    "    print(f\"The value is {i:03}\")"
   ]
  },
  {
   "cell_type": "code",
   "execution_count": 26,
   "id": "434e1e4f",
   "metadata": {},
   "outputs": [
    {
     "name": "stdout",
     "output_type": "stream",
     "text": [
      "The value is 3.14\n"
     ]
    }
   ],
   "source": [
    "# Reducing decimal points\n",
    "\n",
    "pi = 3.14159265\n",
    "print(f\"The value is {pi:0.2f}\")"
   ]
  },
  {
   "cell_type": "code",
   "execution_count": 1,
   "id": "e76dcc0f",
   "metadata": {},
   "outputs": [
    {
     "name": "stdout",
     "output_type": "stream",
     "text": [
      "1 MB is equal to 1,000,000 bytes\n"
     ]
    }
   ],
   "source": [
    "# comma separated numerical value\n",
    "\n",
    "print(f\"1 MB is equal to {1000 ** 2:,} bytes\")"
   ]
  },
  {
   "cell_type": "code",
   "execution_count": 3,
   "id": "03c0ddab",
   "metadata": {},
   "outputs": [
    {
     "name": "stdout",
     "output_type": "stream",
     "text": [
      "1 MB is equal to 1,000,000.00 bytes\n"
     ]
    }
   ],
   "source": [
    "# adding decimal points to comma separated numerical value\n",
    "print(f\"1 MB is equal to {1000 ** 2:,.02f} bytes\")"
   ]
  },
  {
   "cell_type": "code",
   "execution_count": null,
   "id": "b95e04f9",
   "metadata": {},
   "outputs": [],
   "source": []
  },
  {
   "cell_type": "code",
   "execution_count": null,
   "id": "b658075d",
   "metadata": {},
   "outputs": [],
   "source": []
  }
 ],
 "metadata": {
  "kernelspec": {
   "display_name": "Python 3 (ipykernel)",
   "language": "python",
   "name": "python3"
  },
  "language_info": {
   "codemirror_mode": {
    "name": "ipython",
    "version": 3
   },
   "file_extension": ".py",
   "mimetype": "text/x-python",
   "name": "python",
   "nbconvert_exporter": "python",
   "pygments_lexer": "ipython3",
   "version": "3.9.7"
  }
 },
 "nbformat": 4,
 "nbformat_minor": 5
}
