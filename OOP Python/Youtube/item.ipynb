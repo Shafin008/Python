{
 "cells": [
  {
   "cell_type": "markdown",
   "id": "d1ddd135",
   "metadata": {},
   "source": [
    "### Item Class"
   ]
  },
  {
   "cell_type": "code",
   "execution_count": 4,
   "id": "4b3387a7",
   "metadata": {},
   "outputs": [],
   "source": [
    "import csv\n",
    "class Item:\n",
    "    \n",
    "    ## Class attribute \n",
    "    pay_rate = 0.8 \n",
    "    \n",
    "    ## we'll create an empty list here\n",
    "    all_items = []\n",
    "    \n",
    "    ## so we set up our data types for name, price and quantity\n",
    "    def __init__(self,name:str, price:int, quantity=0):\n",
    "        \n",
    "        ## assert and assertion error message for instances\n",
    "        assert type(name) == str , f\"type of name {name} should be a string\"\n",
    "        \n",
    "        assert type(price) == float or type(price) == int , f\"type of price {price} should be an float or integer\"\n",
    "        assert price >=0 , f\"price {price} should be greater than or equal to zero\"\n",
    "        \n",
    "        assert type(quantity) == int ,f\"type of quantity {quantity} should be an integer\"\n",
    "        assert quantity >=0 ,f\"quantity {quantity} should be greater than or equal to zero\"\n",
    "        \n",
    "        # Assign the self object\n",
    "        self.name = name\n",
    "        self.price = price\n",
    "        self.quantity = quantity\n",
    "        \n",
    "        ## Actions to execute when we want to access all of our items\n",
    "        \n",
    "        Item.all_items.append(self)\n",
    "    \n",
    "    def calculate_total_price(self):\n",
    "        return self.price * self.quantity\n",
    "    \n",
    "\n",
    "    def apply_discount(self):\n",
    "        self.price = self.price * self.pay_rate\n",
    "        return self.price\n",
    "    \n",
    "    @classmethod\n",
    "    def instatciating_from_csv(cls):\n",
    "        with open(\"items.csv\", \"r\") as f:\n",
    "            \n",
    "            ## we'll open the csv as a dictionary\n",
    "            reader = csv.DictReader(f)\n",
    "            \n",
    "            ## converting the reader as a list\n",
    "            items = list(reader)\n",
    "        ## using for loop to iterate over the list\n",
    "        \n",
    "        for i in items:\n",
    "            Item(\n",
    "                name = i.get(\"name\"),\n",
    "                price = float(i.get(\"price\")),\n",
    "                quantity = int(i.get(\"quantity\"))\n",
    "                )\n",
    "    \n",
    "    @staticmethod\n",
    "    def is_integer(num):\n",
    "        if isinstance(num, float):\n",
    "            return num.is_integer()\n",
    "        elif isinstance(num, int):\n",
    "            return True\n",
    "        else:\n",
    "            return False\n",
    "    \n",
    "    ## Using magic method __repr__ for representing the objects\n",
    "    \n",
    "    def __repr__(self):\n",
    "        return f\"{self.__class__.__name__}('{self.name}', {self.price}, {self.quantity})\""
   ]
  },
  {
   "cell_type": "code",
   "execution_count": null,
   "id": "1ba19ed9",
   "metadata": {},
   "outputs": [],
   "source": []
  }
 ],
 "metadata": {
  "kernelspec": {
   "display_name": "Python 3",
   "language": "python",
   "name": "python3"
  },
  "language_info": {
   "codemirror_mode": {
    "name": "ipython",
    "version": 3
   },
   "file_extension": ".py",
   "mimetype": "text/x-python",
   "name": "python",
   "nbconvert_exporter": "python",
   "pygments_lexer": "ipython3",
   "version": "3.8.8"
  }
 },
 "nbformat": 4,
 "nbformat_minor": 5
}
