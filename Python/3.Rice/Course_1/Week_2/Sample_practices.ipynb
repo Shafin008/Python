{
 "cells": [
  {
   "cell_type": "code",
   "execution_count": 1,
   "id": "30c43cf9-34a8-4ceb-8dd7-dee3e10dd77d",
   "metadata": {},
   "outputs": [
    {
     "name": "stdout",
     "output_type": "stream",
     "text": [
      "8 is even.\n",
      "3 is odd.\n",
      "12 is even.\n"
     ]
    }
   ],
   "source": [
    "# Compute whether an integer is even.\n",
    "\n",
    "###################################################\n",
    "# Is even formula\n",
    "# Student should enter function on the next lines.\n",
    "def is_even(num):\n",
    "    if num%2 == 0:\n",
    "        return True\n",
    "    \n",
    "    else:\n",
    "        return False\n",
    "\n",
    "###################################################\n",
    "# Tests\n",
    "# Student should not change this code.\n",
    "\n",
    "def test(number):\n",
    "\t\"\"\"Tests the is_even function.\"\"\"\n",
    "\tif is_even(number):\n",
    "\t\tprint(number, \"is even.\")\n",
    "\telse:\n",
    "\t\tprint(number, \"is odd.\")\n",
    "\n",
    "test(8)\n",
    "test(3)\n",
    "test(12)\n",
    "\n",
    "###################################################\n",
    "# Expected output\n",
    "# Student should look at the following comments and compare to printed output.\n",
    "\n",
    "#8 is even.\n",
    "#3 is odd.\n",
    "#12 is even."
   ]
  },
  {
   "cell_type": "code",
   "execution_count": 3,
   "id": "c272957b-1d70-4ae8-8237-68c9c0fab40c",
   "metadata": {},
   "outputs": [
    {
     "name": "stdout",
     "output_type": "stream",
     "text": [
      "Joe is cool.\n",
      "John is cool.\n",
      "Stephen is cool.\n",
      "Scott is not cool.\n"
     ]
    }
   ],
   "source": [
    "# Compute whether a person is cool.\n",
    "\n",
    "###################################################\n",
    "# Is cool formula\n",
    "# Student should enter function on the next lines.\n",
    "def is_cool(name):\n",
    "    if name == \"Joe\" or name == \"John\" or name == \"Stephen\":\n",
    "        return True\n",
    "    elif name == \"Scott\":\n",
    "        return False\n",
    "###################################################\n",
    "# Tests\n",
    "# Student should not change this code.\n",
    "\n",
    "def test(name):\n",
    "\t\"\"\"Tests the is_cool function.\"\"\"\n",
    "\t\n",
    "\tif is_cool(name):\n",
    "\t\tprint(name, \"is cool.\")\n",
    "\telse:\n",
    "\t\tprint(name, \"is not cool.\")\n",
    "\n",
    "test(\"Joe\")\n",
    "test(\"John\")\n",
    "test(\"Stephen\")\n",
    "test(\"Scott\")\n",
    "\n",
    "###################################################\n",
    "# Expected output\n",
    "# Student should look at the following comments and compare to printed output.\n",
    "\n",
    "#Joe is cool.\n",
    "#John is cool.\n",
    "#Stephen is cool.\n",
    "#Scott is not cool."
   ]
  },
  {
   "cell_type": "markdown",
   "id": "f32f3ea9-7621-461e-b9ad-2975bf654cdc",
   "metadata": {},
   "source": [
    "## Lunchtime"
   ]
  },
  {
   "cell_type": "code",
   "execution_count": 34,
   "id": "580bce69-564b-418a-9718-491dee2ad255",
   "metadata": {},
   "outputs": [
    {
     "name": "stdout",
     "output_type": "stream",
     "text": [
      "11 AM is lunchtime.\n",
      "12 AM is not lunchtime.\n",
      "11 PM is not lunchtime.\n",
      "12 PM is lunchtime.\n",
      "10 PM is not lunchtime.\n"
     ]
    }
   ],
   "source": [
    "# Compute whether the given time is lunchtime.\n",
    "\n",
    "###################################################\n",
    "# Is lunchtime formula\n",
    "# Student should enter function on the next lines.\n",
    "def is_lunchtime(hour, is_am):\n",
    "    if (hour == 11 and is_am == \" AM\") or (hour == 12 and is_am == \" PM\"):\n",
    "        return True\n",
    "    else:\n",
    "        return False\n",
    "    # return (hour == 11 and is_am == True) or (hour == 12 and is_am == False)\n",
    "\n",
    "###################################################\n",
    "# Tests\n",
    "# Student should not change this code.\n",
    "\n",
    "def test(hour, is_am):\n",
    "\t\"\"\"Tests the is_lunchtime function.\"\"\"\n",
    "\t# print( hour,)\n",
    "\tif is_am:\n",
    "\t\tis_am = \" AM\"\n",
    "\telse:\n",
    "\t\tis_am = \" PM\"\n",
    "        \n",
    "\tif is_lunchtime(hour, is_am):\n",
    "\t\tprint(str(hour) + is_am + \" is lunchtime.\")\n",
    "\telse:\n",
    "\t\tprint(str(hour) + is_am + \" is not lunchtime.\")\n",
    "\n",
    "test(11, True)\n",
    "test(12, True)\n",
    "test(11, False)\n",
    "test(12, False)\n",
    "test(10, False)\n",
    "\n",
    "###################################################\n",
    "# Expected output\n",
    "# Student should look at the following comments and compare to printed output.\n",
    "\n",
    "#11 AM is lunchtime.\n",
    "#12 AM is not lunchtime.\n",
    "#11 PM is not lunchtime.\n",
    "#12 PM is lunchtime.\n",
    "#10 PM is not lunchtime.\n"
   ]
  },
  {
   "cell_type": "markdown",
   "id": "940ea6b9-072b-47a7-8e7f-691f75501b17",
   "metadata": {},
   "source": [
    "## LeapYear"
   ]
  },
  {
   "cell_type": "code",
   "execution_count": 37,
   "id": "185070fa-e450-44d8-a7d6-23fce8797135",
   "metadata": {},
   "outputs": [
    {
     "name": "stdout",
     "output_type": "stream",
     "text": [
      "2000 is a leap year.\n",
      "1996 is a leap year.\n",
      "1800 is not a leap year.\n",
      "2013 is not a leap year.\n"
     ]
    }
   ],
   "source": [
    "# Compute whether the given year is a leap year.\n",
    "\n",
    "###################################################\n",
    "# Is leapyear formula\n",
    "# Student should enter function on the next lines.\n",
    "def is_leap_year(year):\n",
    "    if year % 400 == 0:\n",
    "        return True\n",
    "    elif year % 100 == 0:\n",
    "        return False\n",
    "    elif year % 4 == 0:\n",
    "        return True\n",
    "    else:\n",
    "        return False\n",
    "\n",
    "\n",
    "###################################################\n",
    "# Tests\n",
    "# Student should not change this code.\n",
    "\n",
    "def test(year):\n",
    "\t\"\"\"Tests the is_leapyear function.\"\"\"\n",
    "\tif is_leap_year(year):\n",
    "\t\tprint( year, \"is a leap year.\")\n",
    "\telse:\n",
    "\t\tprint( year, \"is not a leap year.\")\n",
    "\n",
    "test(2000)\n",
    "test(1996)\n",
    "test(1800)\n",
    "test(2013)\n",
    "\n",
    "###################################################\n",
    "# Expected output\n",
    "# Student should look at the following comments and compare to printed output.\n",
    "\n",
    "#2000 is a leap year.\n",
    "#1996 is a leap year.\n",
    "#1800 is not a leap year.\n",
    "#2013 is not a leap year.\n"
   ]
  },
  {
   "cell_type": "markdown",
   "id": "1035b682-f1bd-4d20-a68f-cca3625d90ad",
   "metadata": {},
   "source": [
    "## Interval Intersect"
   ]
  },
  {
   "cell_type": "code",
   "execution_count": 42,
   "id": "f2190259-b8fd-4433-8551-3c32d03e0c75",
   "metadata": {},
   "outputs": [
    {
     "name": "stdout",
     "output_type": "stream",
     "text": [
      "Intervals [0, 1] and [1, 2] intersect.\n",
      "Intervals [1, 2] and [0, 1] intersect.\n",
      "Intervals [0, 1] and [2, 3] do not intersect.\n",
      "Intervals [2, 3] and [0, 1] do not intersect.\n",
      "Intervals [0, 3] and [1, 2] intersect.\n"
     ]
    }
   ],
   "source": [
    "# Compute whether two intervals intersect.\n",
    "\n",
    "###################################################\n",
    "# Interval intersection formula\n",
    "# Student should enter function on the next lines.\n",
    "\n",
    "def interval_intersect(a,b,c,d):\n",
    "    \n",
    "    if (a > d) or (c > b):\n",
    "        return False\n",
    "    else: \n",
    "        return True\n",
    "    \n",
    "###################################################\n",
    "# Tests\n",
    "# Student should not change this code.\n",
    "\n",
    "def test(a, b, c, d):\n",
    "    \"\"\"Tests the interval_intersect function.\"\"\"\n",
    "    # print( \"Intervals [\" + str(a) + \", \" + str(b) + \"] and [\" + str(c) + \", \" + str(d) + \"]\")\n",
    "    if interval_intersect(a, b, c, d):\n",
    "        print( \"Intervals [\" + str(a) + \", \" + str(b) + \"] and [\" + str(c) + \", \" + str(d) + \"]\" + \" intersect.\")\n",
    "    else:\n",
    "        print( \"Intervals [\" + str(a) + \", \" + str(b) + \"] and [\" + str(c) + \", \" + str(d) + \"]\" + \" do not intersect.\")\n",
    "\n",
    "test(0, 1, 1, 2)\n",
    "test(1, 2, 0, 1)\n",
    "test(0, 1, 2, 3)\n",
    "test(2, 3, 0, 1)\n",
    "test(0, 3, 1, 2)\n",
    "\n",
    "\n",
    "###################################################\n",
    "# Expected output\n",
    "# Student should look at the following comments and compare to printed output.\n",
    "\n",
    "#Intervals [0, 1] and [1, 2] intersect.\n",
    "#Intervals [1, 2] and [0, 1] intersect.\n",
    "#Intervals [0, 1] and [2, 3] do not intersect.\n",
    "#Intervals [2, 3] and [0, 1] do not intersect.\n",
    "#Intervals [0, 3] and [1, 2] intersect."
   ]
  },
  {
   "cell_type": "markdown",
   "id": "0e8d9ca5-57d2-4192-91ac-674d8e54166a",
   "metadata": {},
   "source": [
    "## name and age"
   ]
  },
  {
   "cell_type": "code",
   "execution_count": 48,
   "id": "7d317add-78dc-4d8f-9c13-8acc1d211b7d",
   "metadata": {},
   "outputs": [
    {
     "name": "stdout",
     "output_type": "stream",
     "text": [
      "Joe Warren is 52 years old.\n",
      "Scott Rixner is 40 years old.\n",
      "Error: Invalid age\n"
     ]
    }
   ],
   "source": [
    "# Compute the statement about a person's name and age, given the person's name and age.\n",
    "\n",
    "###################################################\n",
    "# Name and age formula\n",
    "# Student should enter function on the next lines.\n",
    "def name_and_age(name, age):\n",
    "    if age < 0:\n",
    "        return \"Error: Invalid age\"\n",
    "    return (\"{} is {} years old.\").format(name, age)\n",
    "\n",
    "###################################################\n",
    "# Tests\n",
    "# Student should not change this code.\n",
    "\n",
    "def test(name, age):\n",
    "\t\"\"\"Tests the name_and_age function.\"\"\"\n",
    "\t\n",
    "\tprint(name_and_age(name, age))\n",
    "\t\n",
    "test(\"Joe Warren\", 52)\n",
    "test(\"Scott Rixner\", 40)\n",
    "test(\"John Greiner\", -46)\n",
    "\n",
    "\n",
    "###################################################\n",
    "# Expected output\n",
    "# Student should look at the following comments and compare to printed output.\n",
    "\n",
    "#Joe Warren is 52 years old.\n",
    "#Scott Rixner is 40 years old.\n",
    "#Error: Invalid age\n"
   ]
  },
  {
   "cell_type": "markdown",
   "id": "2abef982-a857-444d-8925-abacc6a939ed",
   "metadata": {},
   "source": [
    "## Print Digits"
   ]
  },
  {
   "cell_type": "code",
   "execution_count": 55,
   "id": "17b0a462-4f8c-4019-87e9-8d5c1f27848c",
   "metadata": {},
   "outputs": [
    {
     "name": "stdout",
     "output_type": "stream",
     "text": [
      "The tens digit is 4, and the ones digit is 2.\n",
      "The tens digit is 9, and the ones digit is 9.\n",
      "The tens digit is 0, and the ones digit is 5.\n",
      "Error: Input is not a two-digit number.\n"
     ]
    }
   ],
   "source": [
    "# Compute and print tens and ones digit of an integer in [0,100).\n",
    "\n",
    "###################################################\n",
    "# Digits function\n",
    "# Student should enter function on the next lines.\n",
    "def print_digits(num):\n",
    "    if num > 100:\n",
    "        return \"Error: Input is not a two-digit number.\"\n",
    "    elif 0<=num<10:\n",
    "        return (\"The tens digit is 0, and the ones digit is {}.\").format(num)\n",
    "    elif 10<=num<100:\n",
    "        return (\"The tens digit is {}, and the ones digit is {}.\").format(str(num)[0],str(num)[1])\n",
    "\n",
    "\t\n",
    "###################################################\n",
    "# Tests\n",
    "# Student should not change this code.\n",
    "\t\n",
    "print(print_digits(42))\n",
    "print(print_digits(99))\n",
    "print(print_digits(5))\n",
    "print(print_digits(459))\n",
    "\n",
    "\n",
    "###################################################\n",
    "# Expected output\n",
    "# Student should look at the following comments and compare to printed output.\n",
    "\n",
    "#The tens digit is 4, and the ones digit is 2.\n",
    "#The tens digit is 9, and the ones digit is 9.\n",
    "#The tens digit is 0, and the ones digit is 5.\n",
    "#Error: Input is not a two-digit number.\n"
   ]
  },
  {
   "cell_type": "markdown",
   "id": "939e9297-70b4-442a-93b7-a02a89ed319b",
   "metadata": {},
   "source": [
    "## Pig Latin"
   ]
  },
  {
   "cell_type": "code",
   "execution_count": 60,
   "id": "cfcb8e30-7095-4ae6-8fa4-1a46e22ae5c0",
   "metadata": {},
   "outputs": [
    {
     "name": "stdout",
     "output_type": "stream",
     "text": [
      "igpay\n",
      "owlway\n",
      "ythonpay\n"
     ]
    }
   ],
   "source": [
    "# Compute a (simplified) Pig Latin version of a word.\n",
    "\n",
    "###################################################\n",
    "# Pig Latin formula\n",
    "def pig_latin(word):\n",
    "    \"\"\"Returns the (simplified) Pig Latin version of the word.\"\"\"\n",
    "\n",
    "    first_letter = word[0]\n",
    "    rest_of_word = word[1 : ]\n",
    "\n",
    "    # Student should complete function on the next lines.\n",
    "    vowels = ['a', 'e', 'i', 'o', 'u']\n",
    "\n",
    "    if first_letter in vowels:\n",
    "        return word + 'way'\n",
    "    else:\n",
    "        return rest_of_word + first_letter + 'ay'\n",
    "\n",
    "\n",
    "###################################################\n",
    "# Tests\n",
    "# Student should not change this code.\n",
    "\n",
    "def test(word):\n",
    "\t\"\"\"Tests the pig_latin function.\"\"\"\n",
    "\t\n",
    "\tprint(pig_latin(word))\n",
    "\t\n",
    "test(\"pig\")\n",
    "test(\"owl\")\n",
    "test(\"python\")\n",
    "\n",
    "\n",
    "###################################################\n",
    "# Expected output\n",
    "# Student should look at the following comments and compare to printed output.\n",
    "\n",
    "#igpay\n",
    "#owlway\n",
    "#ythonpay\n"
   ]
  },
  {
   "cell_type": "markdown",
   "id": "1d16a903-e06b-4edf-8978-e2e5365abc2a",
   "metadata": {},
   "source": [
    "## Quadratic Root"
   ]
  },
  {
   "cell_type": "code",
   "execution_count": 69,
   "id": "2ed9797f-7aa7-4dbd-83ab-93bec5e29005",
   "metadata": {},
   "outputs": [
    {
     "name": "stdout",
     "output_type": "stream",
     "text": [
      "The smaller root of 1x^2 + 2x + 3 is:\n",
      "Error: No real solutions\n",
      "None\n",
      "The smaller root of 2x^2 + 0x + -10 is:\n",
      "-2.23606797749979\n",
      "The smaller root of 6x^2 + -3x + 5 is:\n",
      "Error: No real solutions\n",
      "None\n"
     ]
    }
   ],
   "source": [
    "# Compute the smaller root of a quadratic equation.\n",
    "\n",
    "###################################################\n",
    "# Smaller quadratic root formula\n",
    "# Student should enter function on the next lines.\n",
    "def smaller_root(a,b,c):\n",
    "    import math\n",
    "    x = b**2 - 4*a*c\n",
    "    y = (-b)/(2*a)    \n",
    "    \n",
    "    if x>=0:\n",
    "        z = (- b - math.sqrt(x))/(2*a)\n",
    "        return z\n",
    "    elif x < 0:\n",
    "        print(\"Error: No real solutions\")\n",
    "        return None\n",
    "    \n",
    "    elif x == 0:\n",
    "        return y\n",
    "    \n",
    "\n",
    "\n",
    "###################################################\n",
    "# Tests\n",
    "# Student should not change this code.\n",
    "\n",
    "def test(a, b, c):\n",
    "    \"\"\"Tests the smaller_root function.\"\"\"\n",
    "    \n",
    "    print (\"The smaller root of \" + str(a) + \"x^2 + \" + str(b) + \"x + \" + str(c) + \" is:\" )\n",
    "    print (str(smaller_root(a, b, c)))\n",
    "        \n",
    "\n",
    "test(1, 2, 3)\n",
    "test(2, 0, -10)\n",
    "test(6, -3, 5)\n",
    "\n",
    "###################################################\n",
    "# Expected output\n",
    "# Student should look at the following comments and compare to printed output.\n",
    "\n",
    "#The smaller root of 1x^2 + 2x + 3 is:\n",
    "#Error: No real solutions\n",
    "#None\n",
    "#The smaller root of 2x^2 + 0x + -10 is:\n",
    "#-2.2360679775\n",
    "#The smaller root of 6x^2 + -3x + 5 is:\n",
    "#Error: No real solutions\n",
    "#None\n"
   ]
  },
  {
   "cell_type": "code",
   "execution_count": 83,
   "id": "92ffa068-ce58-4b00-bdc7-20597e02c1ba",
   "metadata": {},
   "outputs": [
    {
     "name": "stdout",
     "output_type": "stream",
     "text": [
      "$1000 at 2% compounded daily for 3 years yields $ 1061.8348\n"
     ]
    }
   ],
   "source": [
    "def future_value(present_value, annual_rate, periods_per_year, years):\n",
    "    rate_per_period = annual_rate / periods_per_year\n",
    "    periods = periods_per_year * years\n",
    "\n",
    "    # Put your code here.\n",
    "    return present_value*(1+rate_per_period)**periods\n",
    "\n",
    "print (\"$1000 at 2% compounded daily for 3 years yields $\", round(future_value(1000, .02, 365, 3),4))"
   ]
  },
  {
   "cell_type": "code",
   "execution_count": 82,
   "id": "8c8ac674-19c7-4fdc-8dd6-b3bc32f05b30",
   "metadata": {},
   "outputs": [
    {
     "data": {
      "text/plain": [
       "745.3174428239327"
      ]
     },
     "execution_count": 82,
     "metadata": {},
     "output_type": "execute_result"
    }
   ],
   "source": [
    "future_value(500, .04, 10, 10)"
   ]
  },
  {
   "cell_type": "code",
   "execution_count": 86,
   "id": "879b62b8-cc98-4cab-86ce-4b250a69f9aa",
   "metadata": {},
   "outputs": [],
   "source": [
    "def area(n,s):\n",
    "    a = (n*s**2)/(4*math.tan(math.pi/n))\n",
    "    return round(a, 4)"
   ]
  },
  {
   "cell_type": "code",
   "execution_count": 87,
   "id": "c5499930-131b-447e-afa6-195d99ef435a",
   "metadata": {},
   "outputs": [
    {
     "data": {
      "text/plain": [
       "84.3034"
      ]
     },
     "execution_count": 87,
     "metadata": {},
     "output_type": "execute_result"
    }
   ],
   "source": [
    "area(5,7)"
   ]
  },
  {
   "cell_type": "code",
   "execution_count": 88,
   "id": "ff67cd55-6300-4634-be75-598acc73faa7",
   "metadata": {},
   "outputs": [
    {
     "data": {
      "text/plain": [
       "32.7052"
      ]
     },
     "execution_count": 88,
     "metadata": {},
     "output_type": "execute_result"
    }
   ],
   "source": [
    "area(7,3)"
   ]
  },
  {
   "cell_type": "code",
   "execution_count": 92,
   "id": "7aee7ba7-cad7-47e7-9d70-0404b551612f",
   "metadata": {},
   "outputs": [
    {
     "data": {
      "text/plain": [
       "False"
      ]
     },
     "execution_count": 92,
     "metadata": {},
     "output_type": "execute_result"
    }
   ],
   "source": [
    "p = False\n",
    "q = False\n",
    "a = not (p or not q)\n",
    "a"
   ]
  },
  {
   "cell_type": "code",
   "execution_count": null,
   "id": "ffd61633-a7dd-41a5-9718-a14632695415",
   "metadata": {},
   "outputs": [],
   "source": []
  }
 ],
 "metadata": {
  "kernelspec": {
   "display_name": "Python 3 (ipykernel)",
   "language": "python",
   "name": "python3"
  },
  "language_info": {
   "codemirror_mode": {
    "name": "ipython",
    "version": 3
   },
   "file_extension": ".py",
   "mimetype": "text/x-python",
   "name": "python",
   "nbconvert_exporter": "python",
   "pygments_lexer": "ipython3",
   "version": "3.10.11"
  }
 },
 "nbformat": 4,
 "nbformat_minor": 5
}
