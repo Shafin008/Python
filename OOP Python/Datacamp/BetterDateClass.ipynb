{
 "cells": [
  {
   "cell_type": "code",
   "execution_count": null,
   "id": "5610c39b",
   "metadata": {},
   "outputs": [],
   "source": [
    "# import datetime from datetime\n",
    "from datetime import datetime\n",
    "\n",
    "class BetterDate:    \n",
    "    # Constructor\n",
    "    def __init__(self, year, month, day):\n",
    "      # Recall that Python allows multiple variable assignments in one line\n",
    "      self.year, self.month, self.day = year, month, day\n",
    "    \n",
    "    # Define a class method from_str\n",
    "    @classmethod\n",
    "    def from_str(cls, datestr):\n",
    "        # Split the string at \"-\" and convert each part to integer\n",
    "        parts = datestr.split(\"-\")\n",
    "        #year, month, day = int(parts[0]), int(parts[1]), int(parts[2])\n",
    "        year, month, day = map(int, parts)\n",
    "        # Return the class instance\n",
    "        return cls(year, month, day)\n",
    "        \n",
    "    # Define a class method from_datetime accepting a datetime object\n",
    "    @classmethod\n",
    "    def from_datetime(cls, date):\n",
    "        return cls(date.year,date.month, date.day)"
   ]
  },
  {
   "cell_type": "code",
   "execution_count": null,
   "id": "3ec58855",
   "metadata": {},
   "outputs": [],
   "source": [
    "bd = BetterDate.from_str('2020-04-30')   \n",
    "print(bd.year)\n",
    "print(bd.month)\n",
    "print(bd.day)"
   ]
  },
  {
   "cell_type": "code",
   "execution_count": null,
   "id": "a9cc7fba",
   "metadata": {},
   "outputs": [],
   "source": [
    "# You should be able to run the code below with no errors: \n",
    "today = datetime.today()     \n",
    "bd = BetterDate.from_datetime(today)   \n",
    "print(bd.year)\n",
    "print(bd.month)\n",
    "print(bd.day)"
   ]
  },
  {
   "cell_type": "markdown",
   "id": "a5bf9aa2",
   "metadata": {},
   "source": [
    "### Naming convention: Internal attributes\n",
    "\n",
    "All class data in Python is technically `public`. Any attribute or method of any class can be accessed by anyone. That said, there are a few ways to manage access to data. We can use some universal `naming` conventions to signal that the data is `not` for `external` consumption.\n",
    "\n",
    "The first and most `important` convention is using a `single leading underscore` to indicate an attribute or method that `isn't` a part of the `public` class interface, and can change `without` notice. Nothing is technically preventing you from using these attributes, but a single leading underscore is the developer's way of saying that you shouldn't.This convention is used for internal implementation details and `helper` functions."
   ]
  },
  {
   "cell_type": "code",
   "execution_count": 1,
   "id": "50043fc1",
   "metadata": {},
   "outputs": [],
   "source": [
    "# Add class attributes for max number of days and months\n",
    "class BetterDate:\n",
    "    _MAX_DAYS = 30\n",
    "    _MAX_MONTHS = 12\n",
    "    \n",
    "    def __init__(self, year, month, day):\n",
    "        self.year, self.month, self.day = year, month, day\n",
    "        \n",
    "    @classmethod\n",
    "    def from_str(cls, datestr):\n",
    "        year, month, day = map(int, datestr.split(\"-\"))\n",
    "        return cls(year, month, day)\n",
    "    \n",
    "    # Add _is_valid() checking day and month values\n",
    "    def _is_valid(self):\n",
    "        if self.day <= BetterDate._MAX_DAYS and self.month <= BetterDate._MAX_MONTHS:\n",
    "            return True\n",
    "        else:\n",
    "            return False \n"
   ]
  },
  {
   "cell_type": "code",
   "execution_count": 2,
   "id": "69ec65e1",
   "metadata": {},
   "outputs": [
    {
     "name": "stdout",
     "output_type": "stream",
     "text": [
      "True\n",
      "False\n"
     ]
    }
   ],
   "source": [
    "bd1 = BetterDate(2020, 4, 30)\n",
    "print(bd1._is_valid())\n",
    "\n",
    "bd2 = BetterDate(2020, 6, 45)\n",
    "print(bd2._is_valid())"
   ]
  },
  {
   "cell_type": "code",
   "execution_count": null,
   "id": "55369778",
   "metadata": {},
   "outputs": [],
   "source": []
  }
 ],
 "metadata": {
  "kernelspec": {
   "display_name": "Python 3",
   "language": "python",
   "name": "python3"
  },
  "language_info": {
   "codemirror_mode": {
    "name": "ipython",
    "version": 3
   },
   "file_extension": ".py",
   "mimetype": "text/x-python",
   "name": "python",
   "nbconvert_exporter": "python",
   "pygments_lexer": "ipython3",
   "version": "3.8.8"
  }
 },
 "nbformat": 4,
 "nbformat_minor": 5
}
