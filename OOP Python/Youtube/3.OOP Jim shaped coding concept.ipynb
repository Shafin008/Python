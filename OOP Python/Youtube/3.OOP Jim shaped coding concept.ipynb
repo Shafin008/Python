{
 "cells": [
  {
   "cell_type": "code",
   "execution_count": 9,
   "id": "a6e33a6c",
   "metadata": {},
   "outputs": [],
   "source": [
    "##### Step 1: basic concept\n",
    "\n",
    "\n",
    "class item:\n",
    "    def calculate_total_price(self,x,y):\n",
    "        return x*y"
   ]
  },
  {
   "cell_type": "code",
   "execution_count": 10,
   "id": "17353d4c",
   "metadata": {},
   "outputs": [],
   "source": [
    "## Creating an instance naemd item1 of the class item\n",
    "\n",
    "item1 = item()\n",
    "\n",
    "## creating some attributes of item1\n",
    "\n",
    "item1.name = \"phone\"\n",
    "item1.price = 15000\n",
    "item1.quantity = 5"
   ]
  },
  {
   "cell_type": "code",
   "execution_count": 11,
   "id": "c5462591",
   "metadata": {},
   "outputs": [
    {
     "name": "stdout",
     "output_type": "stream",
     "text": [
      "<class '__main__.item'>\n",
      "<class 'str'>\n",
      "<class 'int'>\n",
      "<class 'int'>\n"
     ]
    }
   ],
   "source": [
    "print(type(item1))\n",
    "\n",
    "print(type(item1.name)) # 'str' type attribute \n",
    "\n",
    "print(type(item1.price)) # 'int' type attribute\n",
    "\n",
    "print(type(item1.quantity)) # 'int' type attribute"
   ]
  },
  {
   "cell_type": "code",
   "execution_count": 13,
   "id": "906b9a96",
   "metadata": {},
   "outputs": [
    {
     "name": "stdout",
     "output_type": "stream",
     "text": [
      "75000\n"
     ]
    }
   ],
   "source": [
    "## Calculating the total price of items in item1\n",
    "\n",
    "print(item1.calculate_total_price(item1.price, item1.quantity))"
   ]
  },
  {
   "cell_type": "code",
   "execution_count": 14,
   "id": "708f6623",
   "metadata": {},
   "outputs": [],
   "source": [
    "## Creating another instance naemd item2 of the class item\n",
    "\n",
    "item2 = item()\n",
    "\n",
    "## creating some attributes of item1\n",
    "\n",
    "item2.name = \"laptop\"\n",
    "item2.price = 150000\n",
    "item2.quantity = 3"
   ]
  },
  {
   "cell_type": "code",
   "execution_count": 15,
   "id": "9629809c",
   "metadata": {},
   "outputs": [
    {
     "name": "stdout",
     "output_type": "stream",
     "text": [
      "450000\n"
     ]
    }
   ],
   "source": [
    "## Calculating the total price of items in item2\n",
    "\n",
    "print(item1.calculate_total_price(item2.price, item2.quantity))"
   ]
  },
  {
   "cell_type": "code",
   "execution_count": 22,
   "id": "371be1fe",
   "metadata": {},
   "outputs": [],
   "source": [
    "#### Step 2: __init__ \n",
    "\n",
    "class item:\n",
    "    \n",
    "    def __init__(self,name, price, quantity):\n",
    "        self.name = name\n",
    "        self.price = price\n",
    "        self.quantity = quantity\n",
    "    \n",
    "    def calculate_total_price(self,x,y):\n",
    "        return x*y"
   ]
  },
  {
   "cell_type": "code",
   "execution_count": 24,
   "id": "2add9b24",
   "metadata": {},
   "outputs": [
    {
     "name": "stdout",
     "output_type": "stream",
     "text": [
      "phone\n",
      "15000\n",
      "5\n"
     ]
    }
   ],
   "source": [
    "item1 = item(\"phone\", 15000, 5)\n",
    "print(item1.name)\n",
    "print(item1.price )\n",
    "print(item1.quantity)"
   ]
  },
  {
   "cell_type": "code",
   "execution_count": 25,
   "id": "a75b894a",
   "metadata": {},
   "outputs": [
    {
     "name": "stdout",
     "output_type": "stream",
     "text": [
      "laptop\n",
      "150000\n",
      "3\n"
     ]
    }
   ],
   "source": [
    "item2 = item(\"laptop\", 150000, 3)\n",
    "print(item2.name)\n",
    "print(item2.price)\n",
    "print(item2.quantity)"
   ]
  },
  {
   "cell_type": "code",
   "execution_count": 28,
   "id": "8c251bd2",
   "metadata": {},
   "outputs": [],
   "source": [
    "### Suppose we don't know the initial quantity of our items, we can set our quantity = 0 in __init__\n",
    "\n",
    "class item:\n",
    "    \n",
    "    def __init__(self,name, price, quantity=0):\n",
    "        self.name = name\n",
    "        self.price = price\n",
    "        self.quantity = quantity\n",
    "    \n",
    "    def calculate_total_price(self):\n",
    "        return self.price * self.quantity"
   ]
  },
  {
   "cell_type": "code",
   "execution_count": 27,
   "id": "4d19a46b",
   "metadata": {},
   "outputs": [
    {
     "name": "stdout",
     "output_type": "stream",
     "text": [
      "phone\n",
      "15000\n",
      "0\n",
      "laptop\n",
      "150000\n",
      "0\n"
     ]
    }
   ],
   "source": [
    "# item1, we set our initial quantity = 0 in constructor, we won't pass any value for quantity here, by default quantity = 0\n",
    "item1 = item(\"phone\", 15000)\n",
    "print(item1.name)\n",
    "print(item1.price )\n",
    "print(item1.quantity)\n",
    "\n",
    "# item2, we set our initial quantity = 0 in constructor, we won't pass any value for quantity here, by default quantity = 0\n",
    "item2 = item(\"laptop\", 150000)\n",
    "print(item2.name)\n",
    "print(item2.price)\n",
    "print(item2.quantity)"
   ]
  },
  {
   "cell_type": "code",
   "execution_count": 29,
   "id": "fe633f93",
   "metadata": {},
   "outputs": [
    {
     "name": "stdout",
     "output_type": "stream",
     "text": [
      "75000\n",
      "450000\n"
     ]
    }
   ],
   "source": [
    "## total price, we can cahnge our quantity here though in our constructor it was initiated as zero\n",
    "item1 = item(\"phone\", 15000, 5)\n",
    "print(item1.calculate_total_price())\n",
    "\n",
    "item2 = item(\"laptop\", 150000, 3)\n",
    "print(item2.calculate_total_price())"
   ]
  },
  {
   "cell_type": "code",
   "execution_count": 59,
   "id": "e8f4b9f5",
   "metadata": {},
   "outputs": [],
   "source": [
    "## Step 3: Be safe! \n",
    "\n",
    "### Sometimes when we pass value to our attributes, we can make mistakes like putting a str instead of string or viceversa\n",
    "\n",
    "## So it's safe to include the data types we want in the constructor\n",
    "\n",
    "class item:\n",
    "    ## so we set up our data types for name, price and quantity\n",
    "    def __init__(self,name:str, price:int, quantity:int):\n",
    "        \n",
    "        ## assert and aasertion error message\n",
    "        assert type(name) == str , f\"type of name {name} should be a string\"\n",
    "        \n",
    "        assert type(price) == float or type(price) == int , f\"type of price {price} should be an float or integer\"\n",
    "        assert price >=0 , f\"price {price} should be greater than or equal to zero\"\n",
    "        \n",
    "        assert type(quantity) == int ,f\"type of quantity {quantity} should be an integer\"\n",
    "        assert quantity >=0 ,f\"quantity {quantity} should be greater than or equal to zero\"\n",
    "        \n",
    "        self.name = name\n",
    "        self.price = price\n",
    "        self.quantity = quantity\n",
    "    \n",
    "    def calculate_total_price(self):\n",
    "        return self.price * self.quantity"
   ]
  },
  {
   "cell_type": "code",
   "execution_count": 60,
   "id": "3c020ad3",
   "metadata": {
    "scrolled": true
   },
   "outputs": [
    {
     "ename": "AssertionError",
     "evalue": "type of quantity 5 should be an integer",
     "output_type": "error",
     "traceback": [
      "\u001b[1;31m---------------------------------------------------------------------------\u001b[0m",
      "\u001b[1;31mAssertionError\u001b[0m                            Traceback (most recent call last)",
      "\u001b[1;32m<ipython-input-60-36f741d993ac>\u001b[0m in \u001b[0;36m<module>\u001b[1;34m\u001b[0m\n\u001b[0;32m      2\u001b[0m \u001b[1;31m## Now i'll intentionally putt a string instead of int in the quantity , it'll show me assertion error\u001b[0m\u001b[1;33m\u001b[0m\u001b[1;33m\u001b[0m\u001b[1;33m\u001b[0m\u001b[0m\n\u001b[0;32m      3\u001b[0m \u001b[1;33m\u001b[0m\u001b[0m\n\u001b[1;32m----> 4\u001b[1;33m \u001b[0mitem1\u001b[0m \u001b[1;33m=\u001b[0m \u001b[0mitem\u001b[0m\u001b[1;33m(\u001b[0m\u001b[1;34m\"phone\"\u001b[0m\u001b[1;33m,\u001b[0m \u001b[1;36m150\u001b[0m\u001b[1;33m,\u001b[0m \u001b[1;34m\"5\"\u001b[0m\u001b[1;33m)\u001b[0m\u001b[1;33m\u001b[0m\u001b[1;33m\u001b[0m\u001b[0m\n\u001b[0m\u001b[0;32m      5\u001b[0m \u001b[0mprint\u001b[0m\u001b[1;33m(\u001b[0m\u001b[0mitem1\u001b[0m\u001b[1;33m.\u001b[0m\u001b[0mcalculate_total_price\u001b[0m\u001b[1;33m(\u001b[0m\u001b[1;33m)\u001b[0m\u001b[1;33m)\u001b[0m\u001b[1;33m\u001b[0m\u001b[1;33m\u001b[0m\u001b[0m\n",
      "\u001b[1;32m<ipython-input-59-315fa7948ea2>\u001b[0m in \u001b[0;36m__init__\u001b[1;34m(self, name, price, quantity)\u001b[0m\n\u001b[0;32m     14\u001b[0m         \u001b[1;32massert\u001b[0m \u001b[0mprice\u001b[0m \u001b[1;33m>=\u001b[0m\u001b[1;36m0\u001b[0m \u001b[1;33m,\u001b[0m \u001b[1;34mf\"price {price} should be greater than or equal to zero\"\u001b[0m\u001b[1;33m\u001b[0m\u001b[1;33m\u001b[0m\u001b[0m\n\u001b[0;32m     15\u001b[0m \u001b[1;33m\u001b[0m\u001b[0m\n\u001b[1;32m---> 16\u001b[1;33m         \u001b[1;32massert\u001b[0m \u001b[0mtype\u001b[0m\u001b[1;33m(\u001b[0m\u001b[0mquantity\u001b[0m\u001b[1;33m)\u001b[0m \u001b[1;33m==\u001b[0m \u001b[0mint\u001b[0m \u001b[1;33m,\u001b[0m\u001b[1;34mf\"type of quantity {quantity} should be an integer\"\u001b[0m\u001b[1;33m\u001b[0m\u001b[1;33m\u001b[0m\u001b[0m\n\u001b[0m\u001b[0;32m     17\u001b[0m         \u001b[1;32massert\u001b[0m \u001b[0mquantity\u001b[0m \u001b[1;33m>=\u001b[0m\u001b[1;36m0\u001b[0m \u001b[1;33m,\u001b[0m\u001b[1;34mf\"quantity {quantity} should be greater than or equal to zero\"\u001b[0m\u001b[1;33m\u001b[0m\u001b[1;33m\u001b[0m\u001b[0m\n\u001b[0;32m     18\u001b[0m \u001b[1;33m\u001b[0m\u001b[0m\n",
      "\u001b[1;31mAssertionError\u001b[0m: type of quantity 5 should be an integer"
     ]
    }
   ],
   "source": [
    "### Example of the power of our class\n",
    "## Now i'll intentionally putt a string instead of int in the quantity , it'll show me assertion error\n",
    "\n",
    "item1 = item(\"phone\", 150, \"5\")\n",
    "print(item1.calculate_total_price())\n"
   ]
  },
  {
   "cell_type": "code",
   "execution_count": 61,
   "id": "b0e0fa51",
   "metadata": {},
   "outputs": [
    {
     "name": "stdout",
     "output_type": "stream",
     "text": [
      "750\n"
     ]
    }
   ],
   "source": [
    "### Example of the power of our class\n",
    "## Now i'll give quantity an int value , it won't show me assertion error\n",
    "\n",
    "item1 = item(\"phone\", 150, 5)\n",
    "print(item1.calculate_total_price())"
   ]
  },
  {
   "cell_type": "code",
   "execution_count": 62,
   "id": "6fab2130",
   "metadata": {},
   "outputs": [
    {
     "ename": "AssertionError",
     "evalue": "price -15000 should be greater than or equal to zero",
     "output_type": "error",
     "traceback": [
      "\u001b[1;31m---------------------------------------------------------------------------\u001b[0m",
      "\u001b[1;31mAssertionError\u001b[0m                            Traceback (most recent call last)",
      "\u001b[1;32m<ipython-input-62-09a30736340e>\u001b[0m in \u001b[0;36m<module>\u001b[1;34m\u001b[0m\n\u001b[0;32m      2\u001b[0m \u001b[1;31m## Now i'll intentionally put a negative value on the price , it'll show me assertion error\u001b[0m\u001b[1;33m\u001b[0m\u001b[1;33m\u001b[0m\u001b[1;33m\u001b[0m\u001b[0m\n\u001b[0;32m      3\u001b[0m \u001b[1;33m\u001b[0m\u001b[0m\n\u001b[1;32m----> 4\u001b[1;33m \u001b[0mitem2\u001b[0m \u001b[1;33m=\u001b[0m \u001b[0mitem\u001b[0m\u001b[1;33m(\u001b[0m\u001b[1;34m\"phone\"\u001b[0m\u001b[1;33m,\u001b[0m \u001b[1;33m-\u001b[0m\u001b[1;36m15000\u001b[0m\u001b[1;33m,\u001b[0m \u001b[1;36m3\u001b[0m\u001b[1;33m)\u001b[0m\u001b[1;33m\u001b[0m\u001b[1;33m\u001b[0m\u001b[0m\n\u001b[0m\u001b[0;32m      5\u001b[0m \u001b[0mprint\u001b[0m\u001b[1;33m(\u001b[0m\u001b[0mitem2\u001b[0m\u001b[1;33m.\u001b[0m\u001b[0mcalculate_total_price\u001b[0m\u001b[1;33m(\u001b[0m\u001b[1;33m)\u001b[0m\u001b[1;33m)\u001b[0m\u001b[1;33m\u001b[0m\u001b[1;33m\u001b[0m\u001b[0m\n",
      "\u001b[1;32m<ipython-input-59-315fa7948ea2>\u001b[0m in \u001b[0;36m__init__\u001b[1;34m(self, name, price, quantity)\u001b[0m\n\u001b[0;32m     12\u001b[0m \u001b[1;33m\u001b[0m\u001b[0m\n\u001b[0;32m     13\u001b[0m         \u001b[1;32massert\u001b[0m \u001b[0mtype\u001b[0m\u001b[1;33m(\u001b[0m\u001b[0mprice\u001b[0m\u001b[1;33m)\u001b[0m \u001b[1;33m==\u001b[0m \u001b[0mint\u001b[0m \u001b[1;33m,\u001b[0m \u001b[1;34mf\"type of price {price} should be an integer\"\u001b[0m\u001b[1;33m\u001b[0m\u001b[1;33m\u001b[0m\u001b[0m\n\u001b[1;32m---> 14\u001b[1;33m         \u001b[1;32massert\u001b[0m \u001b[0mprice\u001b[0m \u001b[1;33m>=\u001b[0m\u001b[1;36m0\u001b[0m \u001b[1;33m,\u001b[0m \u001b[1;34mf\"price {price} should be greater than or equal to zero\"\u001b[0m\u001b[1;33m\u001b[0m\u001b[1;33m\u001b[0m\u001b[0m\n\u001b[0m\u001b[0;32m     15\u001b[0m \u001b[1;33m\u001b[0m\u001b[0m\n\u001b[0;32m     16\u001b[0m         \u001b[1;32massert\u001b[0m \u001b[0mtype\u001b[0m\u001b[1;33m(\u001b[0m\u001b[0mquantity\u001b[0m\u001b[1;33m)\u001b[0m \u001b[1;33m==\u001b[0m \u001b[0mint\u001b[0m \u001b[1;33m,\u001b[0m\u001b[1;34mf\"type of quantity {quantity} should be an integer\"\u001b[0m\u001b[1;33m\u001b[0m\u001b[1;33m\u001b[0m\u001b[0m\n",
      "\u001b[1;31mAssertionError\u001b[0m: price -15000 should be greater than or equal to zero"
     ]
    }
   ],
   "source": [
    "### Example of the power of our class\n",
    "## Now i'll intentionally put a negative value on the price , it'll show me assertion error\n",
    "\n",
    "item2 = item(\"phone\", -15000, 3)\n",
    "print(item2.calculate_total_price())"
   ]
  },
  {
   "cell_type": "code",
   "execution_count": 63,
   "id": "feed4a45",
   "metadata": {},
   "outputs": [
    {
     "name": "stdout",
     "output_type": "stream",
     "text": [
      "45000\n"
     ]
    }
   ],
   "source": [
    "## Now i'll put a positive value on the price , it won'tshow me assertion error\n",
    "\n",
    "item2 = item(\"phone\", 15000, 3)\n",
    "print(item2.calculate_total_price())"
   ]
  },
  {
   "cell_type": "code",
   "execution_count": 65,
   "id": "2e845fc6",
   "metadata": {},
   "outputs": [],
   "source": [
    "### class attributes : we can use class attribute for every instances of that particular class\n",
    "\n",
    "class item:\n",
    "    \n",
    "    ## Class attribute \n",
    "    pay_rate = 0.8 \n",
    "    \n",
    "    ## so we set up our data types for name, price and quantity\n",
    "    def __init__(self,name:str, price:int, quantity:int):\n",
    "        \n",
    "        ## assert and aasertion error message\n",
    "        assert type(name) == str , f\"type of name {name} should be a string\"\n",
    "        \n",
    "        assert type(price) == float or type(price) == int , f\"type of price {price} should be an float or integer\"\n",
    "        assert price >=0 , f\"price {price} should be greater than or equal to zero\"\n",
    "        \n",
    "        assert type(quantity) == int ,f\"type of quantity {quantity} should be an integer\"\n",
    "        assert quantity >=0 ,f\"quantity {quantity} should be greater than or equal to zero\"\n",
    "        \n",
    "        self.name = name\n",
    "        self.price = price\n",
    "        self.quantity = quantity\n",
    "    \n",
    "    def calculate_total_price(self):\n",
    "        return self.price * self.quantity"
   ]
  },
  {
   "cell_type": "code",
   "execution_count": 72,
   "id": "dd752bb4",
   "metadata": {},
   "outputs": [],
   "source": [
    "item1 = item(\"phone\", 150, 5)\n",
    "item2 = item(\"phone\", 15000, 3)"
   ]
  },
  {
   "cell_type": "code",
   "execution_count": 73,
   "id": "9dd7b37e",
   "metadata": {},
   "outputs": [
    {
     "name": "stdout",
     "output_type": "stream",
     "text": [
      "0.8\n"
     ]
    }
   ],
   "source": [
    "## Let's see we can use class attribute pay_rate to all of our instances\n",
    "\n",
    "# first we'll check it wit the class\n",
    "print(item.pay_rate)"
   ]
  },
  {
   "cell_type": "code",
   "execution_count": 75,
   "id": "579021ba",
   "metadata": {},
   "outputs": [
    {
     "name": "stdout",
     "output_type": "stream",
     "text": [
      "Attributes of the class: {'__module__': '__main__', 'pay_rate': 0.8, '__init__': <function item.__init__ at 0x000001F007287040>, 'calculate_total_price': <function item.calculate_total_price at 0x000001F007287700>, '__dict__': <attribute '__dict__' of 'item' objects>, '__weakref__': <attribute '__weakref__' of 'item' objects>, '__doc__': None}, \n",
      "\n",
      "Attributes of the Instances: {'name': 'phone', 'price': 150, 'quantity': 5}\n"
     ]
    }
   ],
   "source": [
    "## First we'll show all the attributes of the item class and the instances of the item class\n",
    "## We'll use magic method \"__dict__\" to show all the attributes\n",
    "\n",
    "print(f\"Attributes of the class: {item.__dict__}, \\n\") ## Attributes of the class\n",
    "print(f\"Attributes of the Instances: {item1.__dict__}\") ## Attributes of the instance item1(same for item2)"
   ]
  },
  {
   "cell_type": "code",
   "execution_count": 76,
   "id": "a718d91d",
   "metadata": {},
   "outputs": [
    {
     "name": "stdout",
     "output_type": "stream",
     "text": [
      "0.8\n",
      "0.8\n"
     ]
    }
   ],
   "source": [
    "## We can see that pay_rate only appears on the class attribute not in the instances\n",
    "## but when we use this attribute with our instances it works for them too!\n",
    "\n",
    "## Now we'll check that with our instances\n",
    "print(item1.pay_rate)\n",
    "print(item2.pay_rate)"
   ]
  },
  {
   "cell_type": "code",
   "execution_count": 94,
   "id": "31acfd77",
   "metadata": {},
   "outputs": [],
   "source": [
    "class item:\n",
    "    \n",
    "    ## Class attribute \n",
    "    pay_rate = 0.8 \n",
    "    \n",
    "    ## so we set up our data types for name, price and quantity\n",
    "    def __init__(self,name:str, price:int, quantity:int):\n",
    "        \n",
    "        ## assert and aasertion error message\n",
    "        assert type(name) == str , f\"type of name {name} should be a string\"\n",
    "        \n",
    "        assert type(price) == float or type(price) == int , f\"type of price {price} should be an float or integer\"\n",
    "        assert price >=0 , f\"price {price} should be greater than or equal to zero\"\n",
    "        \n",
    "        assert type(quantity) == int ,f\"type of quantity {quantity} should be an integer\"\n",
    "        assert quantity >=0 ,f\"quantity {quantity} should be greater than or equal to zero\"\n",
    "        \n",
    "        self.name = name\n",
    "        self.price = price\n",
    "        self.quantity = quantity\n",
    "    \n",
    "    def calculate_total_price(self):\n",
    "        return self.price * self.quantity\n",
    "    \n",
    "\n",
    "    def apply_discount(self):\n",
    "        self.price = self.price * self.pay_rate\n",
    "        return self.price"
   ]
  },
  {
   "cell_type": "code",
   "execution_count": 95,
   "id": "f98da8a8",
   "metadata": {},
   "outputs": [
    {
     "name": "stdout",
     "output_type": "stream",
     "text": [
      "120.0\n"
     ]
    }
   ],
   "source": [
    "item1 = item(\"phone\", 150, 5)\n",
    "item1.apply_discount()\n",
    "print(item1.price)"
   ]
  },
  {
   "cell_type": "code",
   "execution_count": 96,
   "id": "c4287b7a",
   "metadata": {},
   "outputs": [
    {
     "name": "stdout",
     "output_type": "stream",
     "text": [
      "10500.0\n"
     ]
    }
   ],
   "source": [
    "## Suppose the discount for laptop is different than other items, so instead of changing the class attribute pay_rate\n",
    "## We can change it by using the attribute\n",
    "## say discount for laptop is 30%\n",
    "\n",
    "item2 = item(\"phone\", 15000, 3)\n",
    "item2.pay_rate = 0.7\n",
    "item2.apply_discount()\n",
    "print(item2.price)"
   ]
  },
  {
   "cell_type": "code",
   "execution_count": 97,
   "id": "8239bd12",
   "metadata": {},
   "outputs": [],
   "source": [
    "## If we want to access every instances on my item class we can create a list in class attribute and append all the instances\n",
    "class item:\n",
    "    \n",
    "    ## Class attribute \n",
    "    pay_rate = 0.8 \n",
    "    \n",
    "    ## we'll create an emty list here\n",
    "    all_items = []\n",
    "    \n",
    "    ## so we set up our data types for name, price and quantity\n",
    "    def __init__(self,name:str, price:int, quantity:int):\n",
    "        \n",
    "        ## assert and assertion error message for instances\n",
    "        assert type(name) == str , f\"type of name {name} should be a string\"\n",
    "        \n",
    "        assert type(price) == float or type(price) == int , f\"type of price {price} should be an float or integer\"\n",
    "        assert price >=0 , f\"price {price} should be greater than or equal to zero\"\n",
    "        \n",
    "        assert type(quantity) == int ,f\"type of quantity {quantity} should be an integer\"\n",
    "        assert quantity >=0 ,f\"quantity {quantity} should be greater than or equal to zero\"\n",
    "        \n",
    "        # Assign the self object\n",
    "        self.name = name\n",
    "        self.price = price\n",
    "        self.quantity = quantity\n",
    "        \n",
    "        ## Actions to execute when we want to access all of our items\n",
    "        \n",
    "        item.all_items.append(self)\n",
    "    \n",
    "    def calculate_total_price(self):\n",
    "        return self.price * self.quantity\n",
    "    \n",
    "\n",
    "    def apply_discount(self):\n",
    "        self.price = self.price * self.pay_rate\n",
    "        return self.price"
   ]
  },
  {
   "cell_type": "code",
   "execution_count": 98,
   "id": "e0d589c2",
   "metadata": {},
   "outputs": [],
   "source": [
    "## Creating the instances\n",
    "\n",
    "item1 = item(\"phone\", 1500, 5)\n",
    "item2 = item(\"laptop\", 15000, 3)\n",
    "item3 = item(\"cable\", 10, 7)\n",
    "item4 = item(\"mouse\", 50, 5)\n",
    "item5 = item(\"keyboard\", 100, 8)"
   ]
  },
  {
   "cell_type": "code",
   "execution_count": 101,
   "id": "60b51575",
   "metadata": {},
   "outputs": [
    {
     "name": "stdout",
     "output_type": "stream",
     "text": [
      "[<__main__.item object at 0x000001F0074F5D90>, <__main__.item object at 0x000001F0074F51C0>, <__main__.item object at 0x000001F0074F5400>, <__main__.item object at 0x000001F0074F5670>, <__main__.item object at 0x000001F0074F5C70>]\n",
      "5\n"
     ]
    }
   ],
   "source": [
    "print(item.all_items)\n",
    "print(len(item.all_items)) # we can see all 5 items are here"
   ]
  },
  {
   "cell_type": "code",
   "execution_count": 109,
   "id": "0d8b2af0",
   "metadata": {},
   "outputs": [
    {
     "name": "stdout",
     "output_type": "stream",
     "text": [
      "name of the product: phone\n",
      "price of the product: 1500\n",
      "total quantity of the product: 5\n",
      "\n",
      "name of the product: laptop\n",
      "price of the product: 15000\n",
      "total quantity of the product: 3\n",
      "\n",
      "name of the product: cable\n",
      "price of the product: 10\n",
      "total quantity of the product: 7\n",
      "\n",
      "name of the product: mouse\n",
      "price of the product: 50\n",
      "total quantity of the product: 5\n",
      "\n",
      "name of the product: keyboard\n",
      "price of the product: 100\n",
      "total quantity of the product: 8\n",
      "\n"
     ]
    }
   ],
   "source": [
    "## if we want to access our items, we need too for loop it\n",
    "\n",
    "for instances in item.all_items:\n",
    "    print(f\"name of the product: {instances.name}\")\n",
    "    print(f\"price of the product: {instances.price}\")\n",
    "    print(f\"total quantity of the product: {instances.quantity}\\n\")"
   ]
  },
  {
   "cell_type": "code",
   "execution_count": 110,
   "id": "3cfed3a0",
   "metadata": {},
   "outputs": [
    {
     "name": "stdout",
     "output_type": "stream",
     "text": [
      "[<__main__.item object at 0x000001F0074F5D90>, <__main__.item object at 0x000001F0074F51C0>, <__main__.item object at 0x000001F0074F5400>, <__main__.item object at 0x000001F0074F5670>, <__main__.item object at 0x000001F0074F5C70>]\n"
     ]
    }
   ],
   "source": [
    "### __repr__ method is used for representing your instances in the class\n",
    "## for example we can see above, when we print the all_items it returns 5 objects but the value is hard to read\n",
    " \n",
    "print(item.all_items)"
   ]
  },
  {
   "cell_type": "code",
   "execution_count": 23,
   "id": "d8f5653e",
   "metadata": {},
   "outputs": [],
   "source": [
    "## magic method __repr__ is used to represent this objects more readable\n",
    "\n",
    "class item:\n",
    "    \n",
    "    ## Class attribute \n",
    "    pay_rate = 0.8 \n",
    "    \n",
    "    ## we'll create an emty list here\n",
    "    all_items = []\n",
    "    \n",
    "    ## so we set up our data types for name, price and quantity\n",
    "    def __init__(self,name:str, price:int, quantity:int):\n",
    "        \n",
    "        ## assert and assertion error message for instances\n",
    "        assert type(name) == str , f\"type of name {name} should be a string\"\n",
    "        \n",
    "        assert type(price) == float or type(price) == int , f\"type of price {price} should be an float or integer\"\n",
    "        assert price >=0 , f\"price {price} should be greater than or equal to zero\"\n",
    "        \n",
    "        assert type(quantity) == int ,f\"type of quantity {quantity} should be an integer\"\n",
    "        assert quantity >=0 ,f\"quantity {quantity} should be greater than or equal to zero\"\n",
    "        \n",
    "        # Assign the self object\n",
    "        self.name = name\n",
    "        self.price = price\n",
    "        self.quantity = quantity\n",
    "        \n",
    "        ## Actions to execute when we want to access all of our items\n",
    "        \n",
    "        item.all_items.append(self)\n",
    "    \n",
    "    def calculate_total_price(self):\n",
    "        return self.price * self.quantity\n",
    "    \n",
    "\n",
    "    def apply_discount(self):\n",
    "        self.price = self.price * self.pay_rate\n",
    "        return self.price\n",
    "    \n",
    "    ## Using magic method __repr__ for representing the objects\n",
    "    \n",
    "    def __repr__(self):\n",
    "        return f\"item('{self.name}', {self.price}, {self.quantity})\""
   ]
  },
  {
   "cell_type": "code",
   "execution_count": 24,
   "id": "e8f101c7",
   "metadata": {},
   "outputs": [],
   "source": [
    "## Creating the instances\n",
    "\n",
    "item1 = item(\"phone\", 1500, 5)\n",
    "item2 = item(\"laptop\", 15000, 3)\n",
    "item3 = item('cable', 10, 7)\n",
    "item4 = item(\"mouse\", 50, 5)\n",
    "item5 = item(\"keyboard\", 100, 8)"
   ]
  },
  {
   "cell_type": "code",
   "execution_count": 25,
   "id": "5585df7e",
   "metadata": {},
   "outputs": [
    {
     "name": "stdout",
     "output_type": "stream",
     "text": [
      "[item('phone', 1500.0, 5), item('laptop', 15000, 3), item('cable', 10, 7), item('mouse', 50, 5), item('keyboard', 100, 8)]\n"
     ]
    }
   ],
   "source": [
    "## Now it'll be more readable\n",
    "print(item.all_items)"
   ]
  },
  {
   "cell_type": "code",
   "execution_count": 1,
   "id": "eb479aef",
   "metadata": {},
   "outputs": [],
   "source": [
    "## using class method\n",
    "import csv\n",
    "class item:\n",
    "    \n",
    "    ## Class attribute \n",
    "    pay_rate = 0.8 \n",
    "    \n",
    "    ## we'll create an emty list here\n",
    "    all_items = []\n",
    "    \n",
    "    ## so we set up our data types for name, price and quantity\n",
    "    def __init__(self,name:str, price:int, quantity:int):\n",
    "        \n",
    "        ## assert and assertion error message for instances\n",
    "        assert type(name) == str , f\"type of name {name} should be a string\"\n",
    "        \n",
    "        assert type(price) == float or type(price) == int , f\"type of price {price} should be an float or integer\"\n",
    "        assert price >=0 , f\"price {price} should be greater than or equal to zero\"\n",
    "        \n",
    "        assert type(quantity) == int ,f\"type of quantity {quantity} should be an integer\"\n",
    "        assert quantity >=0 ,f\"quantity {quantity} should be greater than or equal to zero\"\n",
    "        \n",
    "        # Assign the self object\n",
    "        self.name = name\n",
    "        self.price = price\n",
    "        self.quantity = quantity\n",
    "        \n",
    "        ## Actions to execute when we want to access all of our items\n",
    "        \n",
    "        item.all_items.append(self)\n",
    "    \n",
    "    def calculate_total_price(self):\n",
    "        return self.price * self.quantity\n",
    "    \n",
    "\n",
    "    def apply_discount(self):\n",
    "        self.price = self.price * self.pay_rate\n",
    "        return self.price\n",
    "    \n",
    "    @classmethod\n",
    "    def instatciating_from_csv(cls):\n",
    "        with open(\"items.csv\", \"r\") as f:\n",
    "            \n",
    "            ## we'll open the csv as a dictionary\n",
    "            reader = csv.DictReader(f)\n",
    "            \n",
    "            ## converting the reader as a list\n",
    "            items = list(reader)\n",
    "        ## using for loop to iterate over the list\n",
    "        \n",
    "        for i in items:\n",
    "            item(\n",
    "                name = i.get(\"name\"),\n",
    "                price = float(i.get(\"price\")),\n",
    "                quantity = int(i.get(\"quantity\"))\n",
    "                )\n",
    "        \n",
    "    ## Using magic method __repr__ for representing the objects\n",
    "    \n",
    "    def __repr__(self):\n",
    "        return f\"item('{self.name}', {self.price}, {self.quantity})\""
   ]
  },
  {
   "cell_type": "code",
   "execution_count": 2,
   "id": "7c9d846f",
   "metadata": {},
   "outputs": [],
   "source": [
    "## we can only use the class method only with class\n",
    "## here class will work like an instance\n",
    "\n",
    "item.instatciating_from_csv()"
   ]
  },
  {
   "cell_type": "code",
   "execution_count": 3,
   "id": "50048dcb",
   "metadata": {},
   "outputs": [
    {
     "name": "stdout",
     "output_type": "stream",
     "text": [
      "[item('phone', 1500.0, 5), item('laptop', 15000.0, 3), item('cable', 10.0, 7), item('mouse', 50.0, 5), item('keyboard', 100.0, 8)]\n"
     ]
    }
   ],
   "source": [
    "# we can instantiate instances (without creating any) by using the class method\n",
    "## now if we call our class attribute then we can see our instances(we didn't crate any item1, item2...etc)\n",
    "print(item.all_items)"
   ]
  },
  {
   "cell_type": "code",
   "execution_count": 1,
   "id": "d668f90f",
   "metadata": {},
   "outputs": [],
   "source": [
    "import csv\n",
    "import pandas as pd\n",
    "class Item:\n",
    "    \n",
    "    ## so we set up our data types for name, price and quantity\n",
    "    def __init__(self,name:str, price:int, quantity:int):\n",
    "        \n",
    "        # Assign the self object\n",
    "        self.name = name\n",
    "        self.price = price\n",
    "        self.quantity = quantity\n",
    "        \n",
    "    \n",
    "    @classmethod\n",
    "    def instatciating_from_csv(cls,file):\n",
    "        cls.file = pd.read_csv(file)\n",
    "        return cls.file\n"
   ]
  },
  {
   "cell_type": "code",
   "execution_count": 2,
   "id": "0626a3ab",
   "metadata": {},
   "outputs": [],
   "source": [
    "data = Item.instatciating_from_csv('survey_results_public.csv')\n",
    "#data.head(3)"
   ]
  },
  {
   "cell_type": "code",
   "execution_count": 32,
   "id": "1e4cf0f9",
   "metadata": {},
   "outputs": [],
   "source": [
    "### Static method\n",
    "## using class method\n",
    "import csv\n",
    "class item:\n",
    "    \n",
    "    ## Class attribute \n",
    "    pay_rate = 0.8 \n",
    "    \n",
    "    ## we'll create an emty list here\n",
    "    all_items = []\n",
    "    \n",
    "    ## so we set up our data types for name, price and quantity\n",
    "    def __init__(self,name:str, price:int, quantity:int):\n",
    "        \n",
    "        ## assert and assertion error message for instances\n",
    "        assert type(name) == str , f\"type of name {name} should be a string\"\n",
    "        \n",
    "        assert type(price) == float or type(price) == int , f\"type of price {price} should be an float or integer\"\n",
    "        assert price >=0 , f\"price {price} should be greater than or equal to zero\"\n",
    "        \n",
    "        assert type(quantity) == int ,f\"type of quantity {quantity} should be an integer\"\n",
    "        assert quantity >=0 ,f\"quantity {quantity} should be greater than or equal to zero\"\n",
    "        \n",
    "        # Assign the self object\n",
    "        self.name = name\n",
    "        self.price = price\n",
    "        self.quantity = quantity\n",
    "        \n",
    "        ## Actions to execute when we want to access all of our items\n",
    "        \n",
    "        item.all_items.append(self)\n",
    "    \n",
    "    def calculate_total_price(self):\n",
    "        return self.price * self.quantity\n",
    "    \n",
    "\n",
    "    def apply_discount(self):\n",
    "        self.price = self.price * self.pay_rate\n",
    "        return self.price\n",
    "    \n",
    "    @classmethod\n",
    "    def instatciating_from_csv(cls):\n",
    "        with open(\"items.csv\", \"r\") as f:\n",
    "            \n",
    "            ## we'll open the csv as a dictionary\n",
    "            reader = csv.DictReader(f)\n",
    "            \n",
    "            ## converting the reader as a list\n",
    "            items = list(reader)\n",
    "        ## using for loop to iterate over the list\n",
    "        \n",
    "        for i in items:\n",
    "            item(\n",
    "                name = i.get(\"name\"),\n",
    "                price = float(i.get(\"price\")),\n",
    "                quantity = int(i.get(\"quantity\"))\n",
    "                )\n",
    "    @staticmethod\n",
    "    def is_integer(num):\n",
    "        if isinstance(num, float):\n",
    "            return num.is_integer()\n",
    "        elif isinstance(num, int):\n",
    "            return True\n",
    "        else:\n",
    "            return False\n",
    "    ## Using magic method __repr__ for representing the objects\n",
    "    \n",
    "    def __repr__(self):\n",
    "        return f\"item('{self.name}', {self.price}, {self.quantity})\""
   ]
  },
  {
   "cell_type": "code",
   "execution_count": 36,
   "id": "4bddf6d9",
   "metadata": {},
   "outputs": [
    {
     "name": "stdout",
     "output_type": "stream",
     "text": [
      "True\n"
     ]
    }
   ],
   "source": [
    "print(item.is_integer(7))"
   ]
  },
  {
   "cell_type": "code",
   "execution_count": 38,
   "id": "35cf2765",
   "metadata": {},
   "outputs": [
    {
     "name": "stdout",
     "output_type": "stream",
     "text": [
      "False\n"
     ]
    }
   ],
   "source": [
    "print(item.is_integer(7.5))"
   ]
  },
  {
   "cell_type": "code",
   "execution_count": null,
   "id": "efb51df7",
   "metadata": {},
   "outputs": [],
   "source": []
  }
 ],
 "metadata": {
  "kernelspec": {
   "display_name": "Python 3",
   "language": "python",
   "name": "python3"
  },
  "language_info": {
   "codemirror_mode": {
    "name": "ipython",
    "version": 3
   },
   "file_extension": ".py",
   "mimetype": "text/x-python",
   "name": "python",
   "nbconvert_exporter": "python",
   "pygments_lexer": "ipython3",
   "version": "3.8.8"
  }
 },
 "nbformat": 4,
 "nbformat_minor": 5
}
