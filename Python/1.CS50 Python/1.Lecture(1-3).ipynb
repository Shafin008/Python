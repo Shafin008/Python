{
 "cells": [
  {
   "cell_type": "markdown",
   "id": "182c8630-1d5f-4957-b49e-4ec99df58f0c",
   "metadata": {},
   "source": [
    "## Lecture 0"
   ]
  },
  {
   "cell_type": "markdown",
   "id": "3b9c3258-1cda-4189-9f65-c0dc087b4ca4",
   "metadata": {},
   "source": [
    "### Greetings function"
   ]
  },
  {
   "cell_type": "code",
   "execution_count": 6,
   "id": "e3c902f0-b9c0-42c4-bc5d-15c17427b1b3",
   "metadata": {},
   "outputs": [
    {
     "name": "stdin",
     "output_type": "stream",
     "text": [
      "What's your name?  shafin mahmud\n"
     ]
    },
    {
     "name": "stdout",
     "output_type": "stream",
     "text": [
      "Hello, Shafin Mahmud\n"
     ]
    }
   ],
   "source": [
    "def main():\n",
    "    name = input(\"What's your name? \")\n",
    "    print(\"Hello,\", greet(name))\n",
    "    \n",
    "def greet(to):\n",
    "    return to.strip().title()\n",
    "\n",
    "main()"
   ]
  },
  {
   "cell_type": "markdown",
   "id": "ccb32e14-d6ad-4a47-b289-d2ea83fac1c2",
   "metadata": {},
   "source": [
    "### Square "
   ]
  },
  {
   "cell_type": "code",
   "execution_count": 9,
   "id": "bfbdc690-6fc8-4107-985b-599d78f3b31d",
   "metadata": {},
   "outputs": [
    {
     "name": "stdin",
     "output_type": "stream",
     "text": [
      "Type your number:  55\n"
     ]
    },
    {
     "name": "stdout",
     "output_type": "stream",
     "text": [
      "Square of 55 is 3025.\n"
     ]
    }
   ],
   "source": [
    "def main():\n",
    "    number = int(input(\"Type your number: \"))\n",
    "    print(f\"Square of {number} is {square(number)}.\")\n",
    "    \n",
    "def square(x):\n",
    "    return x**2\n",
    "\n",
    "main()"
   ]
  },
  {
   "cell_type": "markdown",
   "id": "64cf3cef-ed07-4e34-a4c6-814099d53a79",
   "metadata": {},
   "source": [
    "## Lecture 1"
   ]
  },
  {
   "cell_type": "markdown",
   "id": "f6166745-ae7e-450f-ba96-9e257de7bf40",
   "metadata": {},
   "source": [
    "### Even or Odd"
   ]
  },
  {
   "cell_type": "code",
   "execution_count": 1,
   "id": "413e2a5d-2399-4087-b3d5-d967a3517adf",
   "metadata": {},
   "outputs": [
    {
     "name": "stdin",
     "output_type": "stream",
     "text": [
      "What's your x?  55\n"
     ]
    },
    {
     "name": "stdout",
     "output_type": "stream",
     "text": [
      "Odd\n"
     ]
    }
   ],
   "source": [
    "## Even/Odd\n",
    "def main():\n",
    "    x = int(input(\"What's your x? \"))\n",
    "    if is_even(x):\n",
    "        print(\"Even\")\n",
    "    else:\n",
    "        print(\"Odd\")\n",
    "\n",
    "# def is_even(x):\n",
    "#     return True if x%2==0 else False\n",
    "\n",
    "def is_even(x):\n",
    "    return x%2==0\n",
    "\n",
    "main()"
   ]
  },
  {
   "cell_type": "markdown",
   "id": "f66717d4-8d98-4f07-b8bf-cec935b5e85c",
   "metadata": {},
   "source": [
    "## Lecture 2 \n",
    "\n",
    "### Hogwarts House using 'match'"
   ]
  },
  {
   "cell_type": "code",
   "execution_count": 9,
   "id": "e4f776f2-8a93-43ce-b927-fa9fce088a50",
   "metadata": {},
   "outputs": [
    {
     "name": "stdin",
     "output_type": "stream",
     "text": [
      "What's your name? harry\n"
     ]
    },
    {
     "name": "stdout",
     "output_type": "stream",
     "text": [
      "Gryffindor\n"
     ]
    }
   ],
   "source": [
    "name = input(\"What's your name?\").title()\n",
    "\n",
    "# if name == \"Harry\" or name == \"Hermione\" or name == \"Ron\":\n",
    "#     print(\"Gryffindor\")\n",
    "# elif name == \"Draco\":\n",
    "#     print(\"Slytherin\")\n",
    "# else:\n",
    "#     print(\"Who?\")\n",
    "\n",
    "match name:\n",
    "    case \"Harry\" | \"Hermione\" | \"Ron\":\n",
    "        print(\"Gryffindor\")\n",
    "    case \"Draco\":\n",
    "        print(\"Slytherin\")\n",
    "    case _:\n",
    "        print(\"Who?\")"
   ]
  },
  {
   "cell_type": "code",
   "execution_count": null,
   "id": "e1ea5586-be1a-4057-8743-41390fdfd146",
   "metadata": {},
   "outputs": [],
   "source": []
  }
 ],
 "metadata": {
  "kernelspec": {
   "display_name": "Python 3 (ipykernel)",
   "language": "python",
   "name": "python3"
  },
  "language_info": {
   "codemirror_mode": {
    "name": "ipython",
    "version": 3
   },
   "file_extension": ".py",
   "mimetype": "text/x-python",
   "name": "python",
   "nbconvert_exporter": "python",
   "pygments_lexer": "ipython3",
   "version": "3.10.11"
  }
 },
 "nbformat": 4,
 "nbformat_minor": 5
}
