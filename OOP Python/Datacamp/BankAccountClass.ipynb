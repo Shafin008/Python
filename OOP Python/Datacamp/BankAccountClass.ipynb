{
 "cells": [
  {
   "cell_type": "code",
   "execution_count": 2,
   "id": "1cf011e6",
   "metadata": {},
   "outputs": [],
   "source": [
    "class BankAccount:\n",
    "    \n",
    "    def __init__(self, balance):\n",
    "        self.balance = balance\n",
    "    \n",
    "    def withdraw(self, amount):\n",
    "        self.balance -= amount\n",
    "        \n",
    "        \n",
    "# SavingsAccount class inherited from BankAccount class\n",
    "class SavingsAccount(BankAccount):\n",
    "    \n",
    "    # Constructor speficially for SavingsAccount with an additional parameter\n",
    "    def __init__(self, balance, interest_rate):\n",
    "        \n",
    "        # Call the parent constructor using ClassName.__init__()\n",
    "        BankAccount.__init__(self, balance) # <--- self is a SavingsAccount but also a BankAccount\n",
    "        # Add more functionality\n",
    "        self.interest_rate = interest_rate\n",
    "    \n",
    "    # New functionality\n",
    "    def compute_interest(self, n_periods = 1):\n",
    "        return self.balance * ( (1 + self.interest_rate) ** n_periods - 1)\n",
    "\n",
    "# CheckingAccount class inherited from BankAccount class\n",
    "class CheckingAccount(BankAccount):\n",
    "    \n",
    "    def __init__(self, balance, limit):\n",
    "        BankAccount.__init__(self, balance)\n",
    "        self.limit = limit\n",
    "    \n",
    "    def deposit(self, amount):\n",
    "        self.balance += amount\n",
    "    \n",
    "    def withdraw(self, amount, fee=0):\n",
    "        \n",
    "        if fee <= self.limit:\n",
    "            #self.balance = self.balance - (amount - fee)\n",
    "            BankAccount.withdraw(self, amount - fee)\n",
    "        else:\n",
    "            self.balance = self.balance - (amount - self.limit)\n",
    "            #BankAccount.withdraw(self, amount - self.limit)\n",
    "        return self.balance\n",
    "    "
   ]
  },
  {
   "cell_type": "code",
   "execution_count": 3,
   "id": "bdbeae2b",
   "metadata": {},
   "outputs": [
    {
     "name": "stdout",
     "output_type": "stream",
     "text": [
      "<class '__main__.SavingsAccount'>\n",
      "0.03\n",
      "1000\n",
      "True\n",
      "True\n",
      "False\n",
      "True\n"
     ]
    }
   ],
   "source": [
    "# Constructor inherited from BankAccount\n",
    "savings_acct = SavingsAccount(1000, 0.03)\n",
    "print(type(savings_acct))\n",
    "print(savings_acct.interest_rate)\n",
    "\n",
    "# balance Attribute inherited from BankAccount\n",
    "print(savings_acct.balance)\n",
    "\n",
    "# Method inherited from BankAccount\n",
    "print(isinstance(savings_acct, SavingsAccount))\n",
    "print(isinstance(savings_acct, BankAccount))\n",
    "\n",
    "acct = BankAccount(500)\n",
    "print(isinstance(acct,SavingsAccount))\n",
    "print(isinstance(acct,BankAccount))"
   ]
  },
  {
   "cell_type": "code",
   "execution_count": 4,
   "id": "c028d456",
   "metadata": {},
   "outputs": [
    {
     "name": "stdout",
     "output_type": "stream",
     "text": [
      "1000\n",
      "25\n",
      "815\n"
     ]
    }
   ],
   "source": [
    "check_acct = CheckingAccount(1000, 25)\n",
    "\n",
    "print(check_acct.balance)\n",
    "print(check_acct.limit)\n",
    "\n",
    "# Will call withdraw from CheckingAccount\n",
    "print(check_acct.withdraw(200, fee=15))"
   ]
  },
  {
   "cell_type": "code",
   "execution_count": 5,
   "id": "1cfaca4d",
   "metadata": {},
   "outputs": [
    {
     "name": "stdout",
     "output_type": "stream",
     "text": [
      "825\n"
     ]
    }
   ],
   "source": [
    "check_acct = CheckingAccount(1000, 25)\n",
    "print(check_acct.withdraw(200, fee=35))"
   ]
  },
  {
   "cell_type": "markdown",
   "id": "5c6bc64f",
   "metadata": {},
   "source": [
    "### Overloading equality\n",
    "\n",
    "When comparing `two` objects of a custom class using `==`, Python by default compares just the object references, not the data contained in the objects. To `override` this `behavior`, the class can implement the special `__eq__()` method, which accepts `two` arguments -- the objects to be compared -- and returns `True or False`. This method will be implicitly called when two objects are `compared`.\n",
    "\n",
    "The `BankAccount class` has one attribute, `balance`, and a `withdraw()` method. `Two` bank accounts with the `same` balance are `not` necessarily the `same` account, but a bank account usually has an `account number`, and two accounts with the `same account number` should be considered the `same`."
   ]
  },
  {
   "cell_type": "code",
   "execution_count": 6,
   "id": "fc62e594",
   "metadata": {},
   "outputs": [],
   "source": [
    "class BankAccount:\n",
    "   # MODIFY to initialize a number attribute\n",
    "    def __init__(self, number, balance=0):\n",
    "        self.balance = balance\n",
    "        self.number = number\n",
    "      \n",
    "    def withdraw(self, amount):\n",
    "        self.balance -= amount \n",
    "    \n",
    "    # Define __eq__ that returns True if the number attributes are equal \n",
    "    def __eq__(self, other):\n",
    "        return (self.number == other.number)   \n",
    "\n"
   ]
  },
  {
   "cell_type": "code",
   "execution_count": 7,
   "id": "45b80c69",
   "metadata": {},
   "outputs": [
    {
     "name": "stdout",
     "output_type": "stream",
     "text": [
      "True\n",
      "False\n"
     ]
    }
   ],
   "source": [
    "# Create accounts and compare them       \n",
    "acct1 = BankAccount(123, 1000)\n",
    "acct2 = BankAccount(123, 1000)\n",
    "acct3 = BankAccount(456, 1000)\n",
    "print(acct1 == acct2)\n",
    "print(acct1 == acct3)"
   ]
  },
  {
   "cell_type": "markdown",
   "id": "e4b4b38e",
   "metadata": {},
   "source": [
    "### Checking class equality\n",
    "\n",
    "If you were to compare a BankAccount object to an object of another class that also has a number attribute, you could end up with unexpected results."
   ]
  },
  {
   "cell_type": "code",
   "execution_count": 8,
   "id": "1a9601cd",
   "metadata": {},
   "outputs": [],
   "source": [
    "class Phone:\n",
    "    def __init__(self, number):\n",
    "        self.number = number\n",
    "\n",
    "    def __eq__(self, other):\n",
    "        return self.number == other.number"
   ]
  },
  {
   "cell_type": "code",
   "execution_count": 9,
   "id": "dbed3586",
   "metadata": {},
   "outputs": [],
   "source": [
    "class BankAccount:\n",
    "    def __init__(self, number, balance=0):\n",
    "        self.number, self.balance = number, balance\n",
    "\n",
    "      \n",
    "    def withdraw(self, amount):\n",
    "        self.balance -= amount \n",
    "\n",
    "    # MODIFY to add a check for the type()\n",
    "    def __eq__(self, other):\n",
    "        return (self.number == other.number)\n"
   ]
  },
  {
   "cell_type": "markdown",
   "id": "d538e306",
   "metadata": {},
   "source": [
    "Running `acct == pn` will return `True`, even though we're comparing a phone number with a bank account number."
   ]
  },
  {
   "cell_type": "code",
   "execution_count": 10,
   "id": "17e7c54b",
   "metadata": {},
   "outputs": [
    {
     "name": "stdout",
     "output_type": "stream",
     "text": [
      "True\n"
     ]
    }
   ],
   "source": [
    "acct = BankAccount(873555333)\n",
    "pn = Phone(873555333)\n",
    "print(acct == pn)"
   ]
  },
  {
   "cell_type": "markdown",
   "id": "fce62336",
   "metadata": {},
   "source": [
    "It is good practice to check the class of objects passed to the `__eq__()` method to make sure the comparison makes sense."
   ]
  },
  {
   "cell_type": "code",
   "execution_count": 11,
   "id": "8b67dcea",
   "metadata": {},
   "outputs": [],
   "source": [
    "class BankAccount:\n",
    "    def __init__(self, number, balance=0):\n",
    "        self.number, self.balance = number, balance\n",
    "\n",
    "      \n",
    "    def withdraw(self, amount):\n",
    "        self.balance -= amount \n",
    "\n",
    "    # MODIFY to add a check for the type()\n",
    "    def __eq__(self, other):\n",
    "        return (self.number == other.number) and (type(self) == type(other))\n"
   ]
  },
  {
   "cell_type": "code",
   "execution_count": 12,
   "id": "bc5ddd73",
   "metadata": {},
   "outputs": [
    {
     "name": "stdout",
     "output_type": "stream",
     "text": [
      "False\n"
     ]
    }
   ],
   "source": [
    "acct = BankAccount(873555333)\n",
    "pn = Phone(873555333)\n",
    "print(acct == pn)"
   ]
  },
  {
   "cell_type": "markdown",
   "id": "1bbb61e1",
   "metadata": {},
   "source": [
    "#### Comparison and inheritance\n",
    "\n",
    "Python always calls the child's __eq__() method when comparing a child object to a parent object.\n",
    "\n",
    "#### Other Comparison operators and Methods\n",
    "\n",
    "`Operators`        `Mtehods`\n",
    "\n",
    "  `==`     ------>>    `__eq__()`\n",
    "\n",
    "  `!=`     ------>>    `__ne__()`  \n",
    "\n",
    "  `>=`     ------>>    `__ge__()`\n",
    "\n",
    "  `<=`     ------>>    `__le__()`\n",
    "\n",
    "  `>`      ------>>     `__gt__()`\n",
    " \n",
    "  `<`      ------>>     `__lt__()`"
   ]
  },
  {
   "cell_type": "code",
   "execution_count": null,
   "id": "6edaac3d",
   "metadata": {},
   "outputs": [],
   "source": []
  },
  {
   "cell_type": "code",
   "execution_count": null,
   "id": "515fa757",
   "metadata": {},
   "outputs": [],
   "source": []
  }
 ],
 "metadata": {
  "kernelspec": {
   "display_name": "Python 3",
   "language": "python",
   "name": "python3"
  },
  "language_info": {
   "codemirror_mode": {
    "name": "ipython",
    "version": 3
   },
   "file_extension": ".py",
   "mimetype": "text/x-python",
   "name": "python",
   "nbconvert_exporter": "python",
   "pygments_lexer": "ipython3",
   "version": "3.8.8"
  }
 },
 "nbformat": 4,
 "nbformat_minor": 5
}
