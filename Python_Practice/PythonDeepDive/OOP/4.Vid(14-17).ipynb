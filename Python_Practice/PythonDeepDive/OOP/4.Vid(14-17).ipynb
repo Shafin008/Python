{
 "cells": [
  {
   "cell_type": "markdown",
   "id": "f7def3d4-c152-4083-b2fb-77a363e562ee",
   "metadata": {},
   "source": [
    "**_Initializing Class Instances_**\n",
    "- When we instantiate an object of a class, python automatically initializes some attributes for that object, it creates the object first and then initializes a namespace for that object.\n",
    "\n",
    "- We can provide a custom initialization method that python will use instead of it's own. Which is by `__init__` method. It's initialization not instantiation.\n",
    "\n",
    "```\n",
    "class MyClass:\n",
    "    language = 'Python'\n",
    "    \n",
    "    def __init__(self, version):\n",
    "        self.version = version\n",
    "\n",
    "```\n",
    "\n",
    "- Here, 'language' and `__init__` function are class attributes, that means they are in class namespace."
   ]
  },
  {
   "cell_type": "code",
   "execution_count": 7,
   "id": "01393015-5bf7-41f4-be42-27d17446262b",
   "metadata": {},
   "outputs": [],
   "source": [
    "### Initializing class instances\n",
    "class Person:\n",
    "    def __init__(self):\n",
    "        print(f\"Initializing a new person object: {self}\")"
   ]
  },
  {
   "cell_type": "code",
   "execution_count": 8,
   "id": "51f7800f-5a3f-4196-8b9d-6d340e0baa76",
   "metadata": {},
   "outputs": [
    {
     "name": "stdout",
     "output_type": "stream",
     "text": [
      "Initializing a new person object: <__main__.Person object at 0x106c18730>\n"
     ]
    }
   ],
   "source": [
    "## creating an object\n",
    "p = Person()"
   ]
  },
  {
   "cell_type": "markdown",
   "id": "df8e74c9-9711-408b-87b2-1ad73ecdaf2d",
   "metadata": {},
   "source": [
    "- We can see after creating an object, the `__init__` method was instantly called."
   ]
  },
  {
   "cell_type": "code",
   "execution_count": 9,
   "id": "ce1cb5ce-f308-4b99-8862-991782eaf86a",
   "metadata": {},
   "outputs": [
    {
     "data": {
      "text/plain": [
       "{}"
      ]
     },
     "execution_count": 9,
     "metadata": {},
     "output_type": "execute_result"
    }
   ],
   "source": [
    "p.__dict__"
   ]
  },
  {
   "cell_type": "code",
   "execution_count": 10,
   "id": "268442d4-70ca-46c9-bc8c-d317a3870915",
   "metadata": {},
   "outputs": [
    {
     "data": {
      "text/plain": [
       "'0x106c18730'"
      ]
     },
     "execution_count": 10,
     "metadata": {},
     "output_type": "execute_result"
    }
   ],
   "source": [
    "## ID\n",
    "hex(id(p))"
   ]
  },
  {
   "cell_type": "code",
   "execution_count": 11,
   "id": "a3a23ab2-1e06-4749-bdef-b8cf43a0da2a",
   "metadata": {},
   "outputs": [],
   "source": [
    "### Initializing class instances\n",
    "class Person:\n",
    "    def __init__(self, name):\n",
    "        self.name = name"
   ]
  },
  {
   "cell_type": "code",
   "execution_count": 12,
   "id": "19ce3b6f-b0f5-4d5b-90cc-074ed39df9c0",
   "metadata": {},
   "outputs": [],
   "source": [
    "p = Person(\"Shafin\")"
   ]
  },
  {
   "cell_type": "code",
   "execution_count": 13,
   "id": "adb8e190-1f72-4a52-a551-31c88f83c3e9",
   "metadata": {},
   "outputs": [
    {
     "data": {
      "text/plain": [
       "{'name': 'Shafin'}"
      ]
     },
     "execution_count": 13,
     "metadata": {},
     "output_type": "execute_result"
    }
   ],
   "source": [
    "p.__dict__"
   ]
  },
  {
   "cell_type": "code",
   "execution_count": 14,
   "id": "61ef2765-100b-4e48-8b02-14ce01c067b0",
   "metadata": {},
   "outputs": [],
   "source": [
    "### Initializing class instances\n",
    "class Person:\n",
    "    def init(self, name):\n",
    "        self.name = name"
   ]
  },
  {
   "cell_type": "code",
   "execution_count": 15,
   "id": "c3ee9b24-497a-4d27-9550-d560f64f98c0",
   "metadata": {},
   "outputs": [
    {
     "ename": "TypeError",
     "evalue": "Person() takes no arguments",
     "output_type": "error",
     "traceback": [
      "\u001b[0;31m---------------------------------------------------------------------------\u001b[0m",
      "\u001b[0;31mTypeError\u001b[0m                                 Traceback (most recent call last)",
      "Input \u001b[0;32mIn [15]\u001b[0m, in \u001b[0;36m<cell line: 1>\u001b[0;34m()\u001b[0m\n\u001b[0;32m----> 1\u001b[0m p \u001b[38;5;241m=\u001b[39m \u001b[43mPerson\u001b[49m\u001b[43m(\u001b[49m\u001b[38;5;124;43m\"\u001b[39;49m\u001b[38;5;124;43mShafin\u001b[39;49m\u001b[38;5;124;43m\"\u001b[39;49m\u001b[43m)\u001b[49m\n",
      "\u001b[0;31mTypeError\u001b[0m: Person() takes no arguments"
     ]
    }
   ],
   "source": [
    "p = Person(\"Shafin\")"
   ]
  },
  {
   "cell_type": "code",
   "execution_count": 17,
   "id": "589d1ebb-6878-4887-a3bf-1a0c0309931d",
   "metadata": {},
   "outputs": [],
   "source": [
    "p = Person()"
   ]
  },
  {
   "cell_type": "code",
   "execution_count": 18,
   "id": "a2328538-53ae-45ea-b178-5beb0a6a52c6",
   "metadata": {},
   "outputs": [
    {
     "data": {
      "text/plain": [
       "{}"
      ]
     },
     "execution_count": 18,
     "metadata": {},
     "output_type": "execute_result"
    }
   ],
   "source": [
    "p.__dict__"
   ]
  },
  {
   "cell_type": "code",
   "execution_count": 19,
   "id": "54cc4297-a85f-4f63-b95b-73d6cb98e9d3",
   "metadata": {},
   "outputs": [],
   "source": [
    "p.init('Shafin')"
   ]
  },
  {
   "cell_type": "code",
   "execution_count": 20,
   "id": "6e72045e-6e8d-4d52-8604-23d7f2b12988",
   "metadata": {},
   "outputs": [
    {
     "data": {
      "text/plain": [
       "{'name': 'Shafin'}"
      ]
     },
     "execution_count": 20,
     "metadata": {},
     "output_type": "execute_result"
    }
   ],
   "source": [
    "p.__dict__"
   ]
  },
  {
   "cell_type": "markdown",
   "id": "1496d094-0d84-44b5-b70b-d2aab533f877",
   "metadata": {},
   "source": [
    "- As we can see we have to create a function to occupy the namespace of our object and doing it in two steps but `__init__` method is doing these two steps in one go. "
   ]
  },
  {
   "cell_type": "markdown",
   "id": "9ac9a379-95df-4c9d-b137-7c7f591535e5",
   "metadata": {},
   "source": [
    "**_Creating Attributes at Runtime__**\n",
    "\n",
    "- We can set new attributes to the instance namespace at run time by `setattr` or `dot` notation. But when we try to create a `method` of an instance on a Runtime, it won't create a method instead it'll create `function`. It won't be in the instance namespace.\n",
    "\n",
    "**_Creating Methods at runtime for an instance by using MethodType_**\n",
    "```\n",
    "from types import MethodType\n",
    "\n",
    "class MyClass:\n",
    "    language = 'Python'\n",
    "\n",
    "## MethodType(function we want to bound, object)\n",
    "\n",
    "\n",
    "my_obj = MyClass()\n",
    "\n",
    "## Creating a new bounding method on runtime\n",
    "my_obj.say_hello = MethodType(Lambda self: f\"Hello {self.language}!\", my_obj)\n",
    "\n",
    "```\n",
    "\n",
    "- Now in this way `say_hello()` will be a bounding method to our object."
   ]
  },
  {
   "cell_type": "code",
   "execution_count": 21,
   "id": "30619262-1087-4d8a-8f06-54611e5c910e",
   "metadata": {},
   "outputs": [],
   "source": [
    "class Person:\n",
    "    pass"
   ]
  },
  {
   "cell_type": "code",
   "execution_count": 22,
   "id": "964e1f87-a593-44c0-9ed7-11dd0d9285cf",
   "metadata": {
    "tags": []
   },
   "outputs": [],
   "source": [
    "p1 = Person()\n",
    "p2 = Person()"
   ]
  },
  {
   "cell_type": "code",
   "execution_count": 23,
   "id": "16cf8587-d6ba-410b-8e9c-5adf8d5bcf9d",
   "metadata": {},
   "outputs": [
    {
     "data": {
      "text/plain": [
       "{'name': 'Shafin'}"
      ]
     },
     "execution_count": 23,
     "metadata": {},
     "output_type": "execute_result"
    }
   ],
   "source": [
    "p1.name = 'Shafin'\n",
    "p1.__dict__"
   ]
  },
  {
   "cell_type": "code",
   "execution_count": 24,
   "id": "35e19559-6708-4186-9973-82c85bad0a3e",
   "metadata": {},
   "outputs": [
    {
     "data": {
      "text/plain": [
       "{}"
      ]
     },
     "execution_count": 24,
     "metadata": {},
     "output_type": "execute_result"
    }
   ],
   "source": [
    "p2.__dict__"
   ]
  },
  {
   "cell_type": "code",
   "execution_count": 25,
   "id": "48a642c9-234e-446d-8de7-a364f975aab1",
   "metadata": {},
   "outputs": [],
   "source": [
    "## Now let's create a function at runtime, it'll only be a function not a method\n",
    "p1.say_hello = lambda: 'hello'"
   ]
  },
  {
   "cell_type": "code",
   "execution_count": 26,
   "id": "7c1c00b0-a9a9-4c0d-85ac-f41b5907c9a3",
   "metadata": {},
   "outputs": [
    {
     "data": {
      "text/plain": [
       "{'name': 'Shafin', 'say_hello': <function __main__.<lambda>()>}"
      ]
     },
     "execution_count": 26,
     "metadata": {},
     "output_type": "execute_result"
    }
   ],
   "source": [
    "p1.__dict__"
   ]
  },
  {
   "cell_type": "markdown",
   "id": "a1e36b96-5468-413a-8e5b-26f3719f466c",
   "metadata": {},
   "source": [
    "- As we can see it's a function, not a bounf=ding method."
   ]
  },
  {
   "cell_type": "code",
   "execution_count": 27,
   "id": "6423a9bd-587d-48c4-9101-f13f959fb227",
   "metadata": {},
   "outputs": [],
   "source": [
    "## Now let's change 'say_hello' function to a method\n",
    "from types import MethodType"
   ]
  },
  {
   "cell_type": "code",
   "execution_count": 36,
   "id": "d7676048-b1b4-450e-b0f0-7937c95deebf",
   "metadata": {},
   "outputs": [],
   "source": [
    "class Person:\n",
    "    def __init__(self, name):\n",
    "        self.name = name"
   ]
  },
  {
   "cell_type": "code",
   "execution_count": 37,
   "id": "dd06771a-1e33-4a65-8f42-9e1c5de50276",
   "metadata": {},
   "outputs": [],
   "source": [
    "p1 = Person(\"shafin\")\n",
    "p2 = Person(\"anik\")"
   ]
  },
  {
   "cell_type": "code",
   "execution_count": 38,
   "id": "b673ca32-5206-4f5d-a1ac-635e838f8bba",
   "metadata": {},
   "outputs": [
    {
     "data": {
      "text/plain": [
       "({'name': 'shafin'}, {'name': 'anik'})"
      ]
     },
     "execution_count": 38,
     "metadata": {},
     "output_type": "execute_result"
    }
   ],
   "source": [
    "p1.__dict__, p2.__dict__"
   ]
  },
  {
   "cell_type": "code",
   "execution_count": 39,
   "id": "a0aaf8a8-66c2-4fb5-a604-89578f0791f2",
   "metadata": {},
   "outputs": [],
   "source": [
    "def say_hello(self):\n",
    "    return f\"{self.name} says hello!\""
   ]
  },
  {
   "cell_type": "code",
   "execution_count": 40,
   "id": "d67df401-b8b3-49ff-8eeb-fafaa742fdd8",
   "metadata": {},
   "outputs": [
    {
     "data": {
      "text/plain": [
       "'shafin says hello!'"
      ]
     },
     "execution_count": 40,
     "metadata": {},
     "output_type": "execute_result"
    }
   ],
   "source": [
    "say_hello(p1)"
   ]
  },
  {
   "cell_type": "code",
   "execution_count": 41,
   "id": "7f747117-d66b-4bf4-9202-f50e69cf0a9b",
   "metadata": {},
   "outputs": [
    {
     "data": {
      "text/plain": [
       "{'name': 'shafin'}"
      ]
     },
     "execution_count": 41,
     "metadata": {},
     "output_type": "execute_result"
    }
   ],
   "source": [
    "p1.__dict__"
   ]
  },
  {
   "cell_type": "code",
   "execution_count": 42,
   "id": "a5c0415b-e86c-4489-99b0-ee43c0c06413",
   "metadata": {},
   "outputs": [],
   "source": [
    "p1_say_hello = MethodType(say_hello, p1)"
   ]
  },
  {
   "cell_type": "code",
   "execution_count": 43,
   "id": "87915c98-1e7a-4ce5-8b9c-c5ca6a37bb2f",
   "metadata": {},
   "outputs": [
    {
     "data": {
      "text/plain": [
       "<bound method say_hello of <__main__.Person object at 0x1084baa90>>"
      ]
     },
     "execution_count": 43,
     "metadata": {},
     "output_type": "execute_result"
    }
   ],
   "source": [
    "p1_say_hello"
   ]
  },
  {
   "cell_type": "code",
   "execution_count": 44,
   "id": "99aec0cf-ef6a-4e8e-beb4-af157a8a29e2",
   "metadata": {},
   "outputs": [
    {
     "ename": "AttributeError",
     "evalue": "'Person' object has no attribute 'p1_say_hello'",
     "output_type": "error",
     "traceback": [
      "\u001b[0;31m---------------------------------------------------------------------------\u001b[0m",
      "\u001b[0;31mAttributeError\u001b[0m                            Traceback (most recent call last)",
      "Input \u001b[0;32mIn [44]\u001b[0m, in \u001b[0;36m<cell line: 1>\u001b[0;34m()\u001b[0m\n\u001b[0;32m----> 1\u001b[0m \u001b[43mp1\u001b[49m\u001b[38;5;241;43m.\u001b[39;49m\u001b[43mp1_say_hello\u001b[49m\n",
      "\u001b[0;31mAttributeError\u001b[0m: 'Person' object has no attribute 'p1_say_hello'"
     ]
    }
   ],
   "source": [
    "p1.p1_say_hello"
   ]
  },
  {
   "cell_type": "code",
   "execution_count": 45,
   "id": "3b33314d-2a92-40d5-a2d9-abca734ad668",
   "metadata": {},
   "outputs": [
    {
     "data": {
      "text/plain": [
       "{'name': 'shafin'}"
      ]
     },
     "execution_count": 45,
     "metadata": {},
     "output_type": "execute_result"
    }
   ],
   "source": [
    "p1.__dict__"
   ]
  },
  {
   "cell_type": "code",
   "execution_count": 46,
   "id": "ee89fd17-b713-4e52-a7dd-bf38ce58d1c0",
   "metadata": {},
   "outputs": [],
   "source": [
    "p1.say_hello = p1_say_hello"
   ]
  },
  {
   "cell_type": "code",
   "execution_count": 47,
   "id": "8887f34d-32e2-4863-ae49-2de1f9676ab0",
   "metadata": {},
   "outputs": [
    {
     "data": {
      "text/plain": [
       "{'name': 'shafin',\n",
       " 'say_hello': <bound method say_hello of <__main__.Person object at 0x1084baa90>>}"
      ]
     },
     "execution_count": 47,
     "metadata": {},
     "output_type": "execute_result"
    }
   ],
   "source": [
    "p1.__dict__"
   ]
  },
  {
   "cell_type": "code",
   "execution_count": 50,
   "id": "a57481b8-57b0-4078-89c3-4e1d4944dd81",
   "metadata": {},
   "outputs": [
    {
     "data": {
      "text/plain": [
       "'shafin says hello!'"
      ]
     },
     "execution_count": 50,
     "metadata": {},
     "output_type": "execute_result"
    }
   ],
   "source": [
    "p1.say_hello()"
   ]
  },
  {
   "cell_type": "code",
   "execution_count": 51,
   "id": "ecbfdc13-5c61-452a-81a0-c18b1eacf494",
   "metadata": {},
   "outputs": [
    {
     "data": {
      "text/plain": [
       "{'name': 'anik'}"
      ]
     },
     "execution_count": 51,
     "metadata": {},
     "output_type": "execute_result"
    }
   ],
   "source": [
    "p2.__dict__"
   ]
  },
  {
   "cell_type": "code",
   "execution_count": 55,
   "id": "1cba6cb7-7aad-4c05-aa7d-3342016e2be4",
   "metadata": {},
   "outputs": [],
   "source": [
    "## We can create it by lambda\n",
    "p2.say_hi = MethodType(lambda self: f\"{self.name} says hi!\", p2)"
   ]
  },
  {
   "cell_type": "code",
   "execution_count": 56,
   "id": "fc9a2e08-3a0f-451e-876b-aefd182010a3",
   "metadata": {},
   "outputs": [
    {
     "data": {
      "text/plain": [
       "'anik says hi!'"
      ]
     },
     "execution_count": 56,
     "metadata": {},
     "output_type": "execute_result"
    }
   ],
   "source": [
    "p2.say_hi()"
   ]
  },
  {
   "cell_type": "code",
   "execution_count": 57,
   "id": "0492854f-fb10-4de1-be3a-172bc536858c",
   "metadata": {},
   "outputs": [
    {
     "data": {
      "text/plain": [
       "{'name': 'anik',\n",
       " 'say_hi': <bound method <lambda> of <__main__.Person object at 0x1084badc0>>}"
      ]
     },
     "execution_count": 57,
     "metadata": {},
     "output_type": "execute_result"
    }
   ],
   "source": [
    "p2.__dict__"
   ]
  },
  {
   "cell_type": "code",
   "execution_count": 58,
   "id": "3bc919fa-527d-45ad-906d-a71145e12074",
   "metadata": {},
   "outputs": [],
   "source": [
    "## Creating a function of a class that will be different method for different objects\n",
    "class Person:\n",
    "    def __init__(self, name):\n",
    "        self.name = name\n",
    "        \n",
    "    def register_do_work(self, func):\n",
    "        '''\n",
    "        This class function/ method takes another function as an argument.\n",
    "        The function will be a private function.\n",
    "        '''\n",
    "        ## Now we'll create the method that will be different for different objects\n",
    "        ## setattr(self, '_do_work', MethodType(func, self))\n",
    "        self._do_work = MethodType(func, self)\n",
    "        \n",
    "    def do_work(self):\n",
    "        do_work_method = getattr(self, '_do_work', None) \n",
    "        \n",
    "        if do_work_method:\n",
    "            return do_work_method()\n",
    "        else:\n",
    "            raise AttributeError(\"You must register a do_work method.\")"
   ]
  },
  {
   "cell_type": "code",
   "execution_count": 59,
   "id": "d1c24a9b-8c52-4771-9be7-718cfff25e4a",
   "metadata": {},
   "outputs": [],
   "source": [
    "math_teacher = Person(\"Shafin\")\n",
    "eng_teacher = Person(\"John\")"
   ]
  },
  {
   "cell_type": "code",
   "execution_count": 60,
   "id": "e2354d8f-dd2b-4354-818c-7b53c03a5e7b",
   "metadata": {},
   "outputs": [
    {
     "data": {
      "text/plain": [
       "({'name': 'Shafin'}, {'name': 'John'})"
      ]
     },
     "execution_count": 60,
     "metadata": {},
     "output_type": "execute_result"
    }
   ],
   "source": [
    "math_teacher.__dict__, eng_teacher.__dict__"
   ]
  },
  {
   "cell_type": "code",
   "execution_count": 61,
   "id": "2d668d57-2cd8-4505-a5f5-d7007e95294f",
   "metadata": {},
   "outputs": [
    {
     "ename": "AttributeError",
     "evalue": "You must register a do_work method.",
     "output_type": "error",
     "traceback": [
      "\u001b[0;31m---------------------------------------------------------------------------\u001b[0m",
      "\u001b[0;31mAttributeError\u001b[0m                            Traceback (most recent call last)",
      "Input \u001b[0;32mIn [61]\u001b[0m, in \u001b[0;36m<cell line: 1>\u001b[0;34m()\u001b[0m\n\u001b[0;32m----> 1\u001b[0m \u001b[43mmath_teacher\u001b[49m\u001b[38;5;241;43m.\u001b[39;49m\u001b[43mdo_work\u001b[49m\u001b[43m(\u001b[49m\u001b[43m)\u001b[49m\n",
      "Input \u001b[0;32mIn [58]\u001b[0m, in \u001b[0;36mPerson.do_work\u001b[0;34m(self)\u001b[0m\n\u001b[1;32m     19\u001b[0m     \u001b[38;5;28;01mreturn\u001b[39;00m do_work_method()\n\u001b[1;32m     20\u001b[0m \u001b[38;5;28;01melse\u001b[39;00m:\n\u001b[0;32m---> 21\u001b[0m     \u001b[38;5;28;01mraise\u001b[39;00m \u001b[38;5;167;01mAttributeError\u001b[39;00m(\u001b[38;5;124m\"\u001b[39m\u001b[38;5;124mYou must register a do_work method.\u001b[39m\u001b[38;5;124m\"\u001b[39m)\n",
      "\u001b[0;31mAttributeError\u001b[0m: You must register a do_work method."
     ]
    }
   ],
   "source": [
    "math_teacher.do_work()"
   ]
  },
  {
   "cell_type": "markdown",
   "id": "10a61b96-2a5e-4a2c-ad55-c35c6c792b70",
   "metadata": {},
   "source": [
    "- In order to register do_work, first we need to register it via register_do_work method. It'll take a registration function for each teacher."
   ]
  },
  {
   "cell_type": "code",
   "execution_count": 65,
   "id": "f8fcf369-5f4d-46b3-89fd-0d5af32313f5",
   "metadata": {},
   "outputs": [],
   "source": [
    "## Registration function\n",
    "def work_math(self):\n",
    "    return f\"{self.name} will teach differentials today.\""
   ]
  },
  {
   "cell_type": "code",
   "execution_count": 66,
   "id": "0ab2187c-f575-461b-bae1-3cd152ba295c",
   "metadata": {},
   "outputs": [],
   "source": [
    "## Registration\n",
    "math_teacher.register_do_work(work_math)"
   ]
  },
  {
   "cell_type": "code",
   "execution_count": 67,
   "id": "02185a5a-e2c4-4974-9d4d-90b0edbf50a7",
   "metadata": {},
   "outputs": [
    {
     "data": {
      "text/plain": [
       "{'name': 'Shafin',\n",
       " '_do_work': <bound method work_math of <__main__.Person object at 0x1084c54f0>>}"
      ]
     },
     "execution_count": 67,
     "metadata": {},
     "output_type": "execute_result"
    }
   ],
   "source": [
    "math_teacher.__dict__"
   ]
  },
  {
   "cell_type": "code",
   "execution_count": 68,
   "id": "015f1a79-3ea7-4538-898e-b01f8a0d9f28",
   "metadata": {},
   "outputs": [
    {
     "data": {
      "text/plain": [
       "'Shafin will teach differentials today.'"
      ]
     },
     "execution_count": 68,
     "metadata": {},
     "output_type": "execute_result"
    }
   ],
   "source": [
    "math_teacher.do_work()"
   ]
  },
  {
   "cell_type": "code",
   "execution_count": 69,
   "id": "3a106c9a-f8b0-4bd6-8a3d-29e7407b19e4",
   "metadata": {},
   "outputs": [],
   "source": [
    "## same goes for english teacher\n",
    "## Registration func\n",
    "def do_eng(self):\n",
    "    return f\"{self.name} will analyse shakespeare's hemlet today.\""
   ]
  },
  {
   "cell_type": "code",
   "execution_count": 70,
   "id": "63caf17f-61f7-4dcf-bd20-48f0dddf691b",
   "metadata": {},
   "outputs": [],
   "source": [
    "eng_teacher.register_do_work(do_eng)"
   ]
  },
  {
   "cell_type": "code",
   "execution_count": 71,
   "id": "265e318d-7181-482a-ac87-c4511d159382",
   "metadata": {},
   "outputs": [
    {
     "data": {
      "text/plain": [
       "{'name': 'John',\n",
       " '_do_work': <bound method do_eng of <__main__.Person object at 0x1084c5c70>>}"
      ]
     },
     "execution_count": 71,
     "metadata": {},
     "output_type": "execute_result"
    }
   ],
   "source": [
    "eng_teacher.__dict__"
   ]
  },
  {
   "cell_type": "code",
   "execution_count": 72,
   "id": "128d6bb1-ad75-4162-b003-4778c1c5508f",
   "metadata": {},
   "outputs": [
    {
     "data": {
      "text/plain": [
       "\"John will analyse shakespeare's hemlet today.\""
      ]
     },
     "execution_count": 72,
     "metadata": {},
     "output_type": "execute_result"
    }
   ],
   "source": [
    "eng_teacher.do_work()"
   ]
  },
  {
   "cell_type": "markdown",
   "id": "c35e1cdc-e331-479f-9ea8-ec7bd5946d52",
   "metadata": {},
   "source": [
    "- So, we can see, we can run many differnet variation of a function bound to different objects."
   ]
  },
  {
   "cell_type": "code",
   "execution_count": 73,
   "id": "89db12f6-bbe7-4a88-8a82-c1f1f8ab8ed2",
   "metadata": {},
   "outputs": [
    {
     "name": "stdout",
     "output_type": "stream",
     "text": [
      "Shafin will teach differentials today.\n",
      "John will analyse shakespeare's hemlet today.\n"
     ]
    }
   ],
   "source": [
    "persons = [math_teacher, eng_teacher]\n",
    "for p in persons:\n",
    "    print(p.do_work())"
   ]
  },
  {
   "cell_type": "code",
   "execution_count": null,
   "id": "9f2ac2f1-2b13-4205-981f-98d26fcada80",
   "metadata": {},
   "outputs": [],
   "source": []
  },
  {
   "cell_type": "code",
   "execution_count": null,
   "id": "30920cf4-46f1-48bd-b3bf-ce4746fe7f5d",
   "metadata": {},
   "outputs": [],
   "source": []
  },
  {
   "cell_type": "code",
   "execution_count": null,
   "id": "22bef473-5e8e-4d6b-9313-69ce0eff32de",
   "metadata": {},
   "outputs": [],
   "source": []
  }
 ],
 "metadata": {
  "kernelspec": {
   "display_name": "Python 3 (ipykernel)",
   "language": "python",
   "name": "python3"
  },
  "language_info": {
   "codemirror_mode": {
    "name": "ipython",
    "version": 3
   },
   "file_extension": ".py",
   "mimetype": "text/x-python",
   "name": "python",
   "nbconvert_exporter": "python",
   "pygments_lexer": "ipython3",
   "version": "3.8.13"
  }
 },
 "nbformat": 4,
 "nbformat_minor": 5
}
