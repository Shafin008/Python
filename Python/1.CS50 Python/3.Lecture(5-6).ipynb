{
 "cells": [
  {
   "cell_type": "markdown",
   "id": "5d7e2a92-6519-4201-927c-35c144424d6b",
   "metadata": {},
   "source": [
    "## Random Module"
   ]
  },
  {
   "cell_type": "code",
   "execution_count": 1,
   "id": "86c31673-6ca8-4b8d-ba41-917b9faf22e5",
   "metadata": {},
   "outputs": [
    {
     "name": "stdout",
     "output_type": "stream",
     "text": [
      "Tails\n"
     ]
    }
   ],
   "source": [
    "import random\n",
    "\n",
    "## Ex.1: random.choice(): Flipping a coin\n",
    "coin = random.choice([\"Heads\", \"Tails\"])\n",
    "print(coin)"
   ]
  },
  {
   "cell_type": "code",
   "execution_count": 2,
   "id": "065e2ca1-68a0-48d8-a627-b7aaedbe04c6",
   "metadata": {},
   "outputs": [
    {
     "name": "stdout",
     "output_type": "stream",
     "text": [
      "7\n"
     ]
    }
   ],
   "source": [
    "## Ex.2: random.randint(): generate random number from 1 to 10\n",
    "number = random.randint(1, 10)\n",
    "print(number)"
   ]
  },
  {
   "cell_type": "code",
   "execution_count": 3,
   "id": "b2c7ac83-5e3e-4f5c-bfb1-5983708eac00",
   "metadata": {},
   "outputs": [
    {
     "name": "stdout",
     "output_type": "stream",
     "text": [
      "['queen', 'king', 'jack']\n",
      "queen\n",
      "king\n",
      "jack\n"
     ]
    }
   ],
   "source": [
    "## Ex.3: random.shuffle(): shuffle cards\n",
    "cards = [\"jack\", \"queen\", \"king\"]\n",
    "random.shuffle(cards)\n",
    "print(cards)\n",
    "for card in cards:\n",
    "    print(card)"
   ]
  },
  {
   "cell_type": "markdown",
   "id": "bd0fadce-21b3-4155-a343-8c8893508e49",
   "metadata": {},
   "source": [
    "## Statistics Module"
   ]
  },
  {
   "cell_type": "code",
   "execution_count": 4,
   "id": "940dd4df-18bb-4e33-a149-95e336699a55",
   "metadata": {},
   "outputs": [
    {
     "name": "stdout",
     "output_type": "stream",
     "text": [
      "95\n"
     ]
    }
   ],
   "source": [
    "import statistics\n",
    "print(statistics.mean([100, 90]))"
   ]
  },
  {
   "cell_type": "markdown",
   "id": "3c90d28e-7180-414e-9100-01c901204094",
   "metadata": {},
   "source": [
    "## sys Module(Command Line Arguments)"
   ]
  },
  {
   "cell_type": "code",
   "execution_count": 12,
   "id": "0e62d193-1b2a-44a2-a8e4-67b980c2e287",
   "metadata": {},
   "outputs": [
    {
     "name": "stdout",
     "output_type": "stream",
     "text": [
      "Hello, my name is -f\n"
     ]
    }
   ],
   "source": [
    "## COMMAND LINE ARGUMENTS\n",
    "import sys\n",
    "\n",
    "# sys.argv -> argv: argument vector; the list of words user types in the command line before hitting enter\n",
    "# Ex.1: typing name in the command line\n",
    "print(\"Hello, my name is\", sys.argv[1])"
   ]
  },
  {
   "cell_type": "code",
   "execution_count": 13,
   "id": "b0cb60d9-540b-46bf-8ea8-12a52842e925",
   "metadata": {},
   "outputs": [
    {
     "name": "stdout",
     "output_type": "stream",
     "text": [
      "Hello, my name is -f\n"
     ]
    }
   ],
   "source": [
    "## Ex.2: handling errors(Version 1) with try/except\n",
    "try:\n",
    "    print(\"Hello, my name is\", sys.argv[1])\n",
    "except IndexError:\n",
    "    print(\"Too few arguments.\")"
   ]
  },
  {
   "cell_type": "code",
   "execution_count": 14,
   "id": "c1d10e23-8994-440b-a0ca-e8b0a974c026",
   "metadata": {},
   "outputs": [
    {
     "name": "stdout",
     "output_type": "stream",
     "text": [
      "Too many arguments.\n"
     ]
    }
   ],
   "source": [
    "## Ex.3: handling errors(Version 2) with conditionals\n",
    "if len(sys.argv) < 2:\n",
    "    print(\"Too few arguments.\")\n",
    "elif len(sys.argv) > 2:\n",
    "    print(\"Too many arguments.\")\n",
    "else:\n",
    "    print(\"Hello, my name is\", sys.argv[1])"
   ]
  },
  {
   "cell_type": "code",
   "execution_count": 17,
   "id": "07ff7807-91ce-44cc-8ccc-3f1a74577a24",
   "metadata": {},
   "outputs": [
    {
     "name": "stdout",
     "output_type": "stream",
     "text": [
      "Overwriting sysEx_1.py\n"
     ]
    }
   ],
   "source": [
    "%%writefile sysEx_1.py\n",
    "import sys\n",
    "## Ex.4: handling errors(Version 3) with sys.exit()\n",
    "if len(sys.argv) < 2:\n",
    "    sys.exit(\"Too few arguments.\")\n",
    "elif len(sys.argv) > 2:\n",
    "    sys.exit(\"Too many arguments.\")\n",
    "\n",
    "print(\"Hello, my name is\", sys.argv[1])"
   ]
  },
  {
   "cell_type": "code",
   "execution_count": 18,
   "id": "793fbaea-b078-41c0-a08d-2024c6f6a935",
   "metadata": {},
   "outputs": [
    {
     "name": "stdout",
     "output_type": "stream",
     "text": [
      "Hello, my name is shafin\n"
     ]
    }
   ],
   "source": [
    "!python sysEx_1.py shafin"
   ]
  },
  {
   "cell_type": "markdown",
   "id": "5f181c75-2880-42ea-a0df-215eb48e8781",
   "metadata": {},
   "source": [
    "## Working with APIs"
   ]
  },
  {
   "cell_type": "code",
   "execution_count": 34,
   "id": "83f51202-cfc8-4bcf-ae56-66b6a1d22584",
   "metadata": {},
   "outputs": [
    {
     "name": "stdout",
     "output_type": "stream",
     "text": [
      "Overwriting api.py\n"
     ]
    }
   ],
   "source": [
    "%%writefile api.py\n",
    "import sys\n",
    "import json\n",
    "import requests\n",
    "\n",
    "## Url of itunes\n",
    "## this url will fetch 1 song from selected artists\n",
    "## sys.argv[1] == artist name\n",
    "\n",
    "url = \"https://itunes.apple.com/search?entity=song&limit=1&term=\" + sys.argv[1]\n",
    "\n",
    "if len(sys.argv) != 2:\n",
    "    sys.exit()\n",
    "\n",
    "response = requests.get(url)\n",
    "\n",
    "## looking at the json file\n",
    "print(json.dumps(response.json(), indent=2))"
   ]
  },
  {
   "cell_type": "code",
   "execution_count": 35,
   "id": "68bd9073-5a49-4d9a-b7df-e42a9dfc82e1",
   "metadata": {
    "tags": []
   },
   "outputs": [
    {
     "name": "stdout",
     "output_type": "stream",
     "text": [
      "{\n",
      "  \"resultCount\": 1,\n",
      "  \"results\": [\n",
      "    {\n",
      "      \"wrapperType\": \"track\",\n",
      "      \"kind\": \"song\",\n",
      "      \"artistId\": 115234,\n",
      "      \"collectionId\": 1440878798,\n",
      "      \"trackId\": 1440879325,\n",
      "      \"artistName\": \"Weezer\",\n",
      "      \"collectionName\": \"Weezer\",\n",
      "      \"trackName\": \"Buddy Holly\",\n",
      "      \"collectionCensoredName\": \"Weezer\",\n",
      "      \"trackCensoredName\": \"Buddy Holly\",\n",
      "      \"artistViewUrl\": \"https://music.apple.com/us/artist/weezer/115234?uo=4\",\n",
      "      \"collectionViewUrl\": \"https://music.apple.com/us/album/buddy-holly/1440878798?i=1440879325&uo=4\",\n",
      "      \"trackViewUrl\": \"https://music.apple.com/us/album/buddy-holly/1440878798?i=1440879325&uo=4\",\n",
      "      \"previewUrl\": \"https://audio-ssl.itunes.apple.com/itunes-assets/AudioPreview112/v4/f0/ba/a8/f0baa81a-7449-c490-f43a-b5c6e3609e3f/mzaf_3988310882581261442.plus.aac.p.m4a\",\n",
      "      \"artworkUrl30\": \"https://is2-ssl.mzstatic.com/image/thumb/Music125/v4/fc/74/67/fc74674a-1eb0-d50d-33fe-215caee529d1/16UMGIM52971.rgb.jpg/30x30bb.jpg\",\n",
      "      \"artworkUrl60\": \"https://is2-ssl.mzstatic.com/image/thumb/Music125/v4/fc/74/67/fc74674a-1eb0-d50d-33fe-215caee529d1/16UMGIM52971.rgb.jpg/60x60bb.jpg\",\n",
      "      \"artworkUrl100\": \"https://is2-ssl.mzstatic.com/image/thumb/Music125/v4/fc/74/67/fc74674a-1eb0-d50d-33fe-215caee529d1/16UMGIM52971.rgb.jpg/100x100bb.jpg\",\n",
      "      \"collectionPrice\": 9.99,\n",
      "      \"trackPrice\": 1.29,\n",
      "      \"releaseDate\": \"1994-01-01T12:00:00Z\",\n",
      "      \"collectionExplicitness\": \"notExplicit\",\n",
      "      \"trackExplicitness\": \"notExplicit\",\n",
      "      \"discCount\": 1,\n",
      "      \"discNumber\": 1,\n",
      "      \"trackCount\": 10,\n",
      "      \"trackNumber\": 4,\n",
      "      \"trackTimeMillis\": 159587,\n",
      "      \"country\": \"USA\",\n",
      "      \"currency\": \"USD\",\n",
      "      \"primaryGenreName\": \"Pop\",\n",
      "      \"isStreamable\": true\n",
      "    }\n",
      "  ]\n",
      "}\n"
     ]
    }
   ],
   "source": [
    "!python api.py weezer"
   ]
  },
  {
   "cell_type": "code",
   "execution_count": 97,
   "id": "19750364-c3b1-4ff7-b1c1-44ef4cb16f0c",
   "metadata": {},
   "outputs": [
    {
     "name": "stdout",
     "output_type": "stream",
     "text": [
      "Overwriting api2.py\n"
     ]
    }
   ],
   "source": [
    "%%writefile api2.py\n",
    "import sys\n",
    "import json\n",
    "import requests\n",
    "\n",
    "## Url of itunes\n",
    "## this url will fetch 10 song from selected artists\n",
    "## sys.argv[1] == artist name\n",
    "\n",
    "url = \"https://itunes.apple.com/search?entity=song&limit=10&term=\" + sys.argv[1]\n",
    "\n",
    "if len(sys.argv) != 2:\n",
    "    sys.exit()\n",
    "\n",
    "response = requests.get(url)\n",
    "\n",
    "json_file = response.json()\n",
    "## looking at the json file\n",
    "# print(json.dumps(response.json(), indent=2))\n",
    "\n",
    "for result in json_file[\"results\"]:\n",
    "    print(result[\"trackName\"])"
   ]
  },
  {
   "cell_type": "code",
   "execution_count": 98,
   "id": "1cc95195-14b6-4eef-888e-5ac12eadd376",
   "metadata": {},
   "outputs": [
    {
     "name": "stdout",
     "output_type": "stream",
     "text": [
      "Buddy Holly\n",
      "Say It Ain't So\n",
      "Undone - The Sweater Song\n",
      "My Name Is Jonas\n",
      "Holiday\n",
      "Weezer\n",
      "Only in Dreams\n",
      "In the Garage\n",
      "Surf Wax America\n",
      "The World Has Turned and Left Me Here\n"
     ]
    }
   ],
   "source": [
    "## 10 songs of weezer\n",
    "!python api2.py weezer"
   ]
  },
  {
   "cell_type": "code",
   "execution_count": 43,
   "id": "b38f048e-db08-4a58-86de-7e04e6282b38",
   "metadata": {},
   "outputs": [
    {
     "name": "stdout",
     "output_type": "stream",
     "text": [
      "Or Nah (feat. The Weeknd, Wiz Khalifa and DJ Mustard) [Remix]\n",
      "Weeknd\n",
      "Remember You (feat. The Weeknd)\n",
      "Low Life (feat. The Weeknd)\n",
      "Pullin Up (feat. The Weeknd)\n",
      "One of Those Nights (feat. The Weeknd)\n",
      "Comin Out Strong (feat. The Weeknd)\n",
      "Thought I Knew You (feat. The Weeknd)\n",
      "Blinding Lights\n",
      "Curve (feat. The Weeknd)\n"
     ]
    }
   ],
   "source": [
    "## 10 songs of weeknd\n",
    "!python api2.py weeknd"
   ]
  },
  {
   "cell_type": "markdown",
   "id": "93780cd2-8650-4015-80c6-a0538a14c2b5",
   "metadata": {},
   "source": [
    "## importing custom module"
   ]
  },
  {
   "cell_type": "code",
   "execution_count": 84,
   "id": "137a5b39-1c8f-4004-a56f-30d7628aa89d",
   "metadata": {},
   "outputs": [
    {
     "name": "stdout",
     "output_type": "stream",
     "text": [
      "Overwriting wrong.py\n"
     ]
    }
   ],
   "source": [
    "%%writefile wrong.py\n",
    "\n",
    "def main():\n",
    "    hello(\"World\")\n",
    "    goodbye(\"World\")\n",
    "    \n",
    "def hello(name):\n",
    "    print(f\"Hello, {name}\")\n",
    "    \n",
    "def goodbye(name):\n",
    "    print(f\"goodbye, {name}\")\n",
    "\n",
    "main()"
   ]
  },
  {
   "cell_type": "code",
   "execution_count": 85,
   "id": "3dec6fcb-12ff-4fdc-a009-635e7a7ab591",
   "metadata": {},
   "outputs": [
    {
     "name": "stdout",
     "output_type": "stream",
     "text": [
      "Writing wsay.py\n"
     ]
    }
   ],
   "source": [
    "%%writefile wsay.py\n",
    "from wrong import hello\n",
    "import sys\n",
    "\n",
    "if len(sys.argv) == 2:\n",
    "    hello(sys.argv[1])"
   ]
  },
  {
   "cell_type": "code",
   "execution_count": 86,
   "id": "87a5b791-ed9e-46ef-883c-cb9990d6c9e0",
   "metadata": {},
   "outputs": [
    {
     "name": "stdout",
     "output_type": "stream",
     "text": [
      "Hello, World\n",
      "goodbye, World\n",
      "Hello, shafin\n"
     ]
    }
   ],
   "source": [
    "## it'll print not only the name in the CL\n",
    "## Also the name = \"World\" of the imported function\n",
    "!python wsay.py shafin"
   ]
  },
  {
   "cell_type": "code",
   "execution_count": 90,
   "id": "4a95f1ab-3521-4f9e-b249-75ad4ae939a5",
   "metadata": {},
   "outputs": [
    {
     "name": "stdout",
     "output_type": "stream",
     "text": [
      "Overwriting right.py\n"
     ]
    }
   ],
   "source": [
    "%%writefile right.py\n",
    "\n",
    "def main():\n",
    "    hello(\"World\")\n",
    "    goodbye(\"World\")\n",
    "    \n",
    "def hello(name):\n",
    "    print(f\"Hello, {name}\")\n",
    "    \n",
    "def goodbye(name):\n",
    "    print(f\"goodbye, {name}\")\n",
    "    \n",
    "if __name__ == \"__main__()\":\n",
    "    main()"
   ]
  },
  {
   "cell_type": "code",
   "execution_count": 91,
   "id": "7da4d998-20c6-419f-99fc-f24f7fd2f537",
   "metadata": {},
   "outputs": [
    {
     "name": "stdout",
     "output_type": "stream",
     "text": [
      "Overwriting rsay.py\n"
     ]
    }
   ],
   "source": [
    "%%writefile rsay.py\n",
    "from right import hello\n",
    "import sys\n",
    "\n",
    "if len(sys.argv) == 2:\n",
    "    hello(sys.argv[1])"
   ]
  },
  {
   "cell_type": "code",
   "execution_count": 92,
   "id": "07e7fdce-6b68-4747-bd80-15c0647e3444",
   "metadata": {},
   "outputs": [
    {
     "name": "stdout",
     "output_type": "stream",
     "text": [
      "Hello, shafin\n"
     ]
    }
   ],
   "source": [
    "!python rsay.py shafin"
   ]
  },
  {
   "cell_type": "code",
   "execution_count": null,
   "id": "27ce1ed6-6a52-4c6b-a8ea-21ebe165450d",
   "metadata": {},
   "outputs": [],
   "source": []
  }
 ],
 "metadata": {
  "kernelspec": {
   "display_name": "Python 3 (ipykernel)",
   "language": "python",
   "name": "python3"
  },
  "language_info": {
   "codemirror_mode": {
    "name": "ipython",
    "version": 3
   },
   "file_extension": ".py",
   "mimetype": "text/x-python",
   "name": "python",
   "nbconvert_exporter": "python",
   "pygments_lexer": "ipython3",
   "version": "3.10.11"
  }
 },
 "nbformat": 4,
 "nbformat_minor": 5
}
