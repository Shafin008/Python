{
 "cells": [
  {
   "cell_type": "markdown",
   "id": "ec453960",
   "metadata": {},
   "source": [
    "### Phone Class (inherited from Item class)"
   ]
  },
  {
   "cell_type": "code",
   "execution_count": 7,
   "id": "0905289d",
   "metadata": {},
   "outputs": [],
   "source": [
    "from item import Item"
   ]
  },
  {
   "cell_type": "code",
   "execution_count": 8,
   "id": "e0831e4a",
   "metadata": {},
   "outputs": [],
   "source": [
    "### Creating an inheritance of class Item\n",
    "\n",
    "class Phone(Item):\n",
    "    \n",
    "    def __init__(self,name:str, price:int, quantity:int, broken_phones = 0):\n",
    "        \n",
    "        ## Super function for inheritance\n",
    "        super().__init__(name,price,quantity)\n",
    "        \n",
    "        ## assert and assertion error message for instances\n",
    "        assert type(broken_phones) == int ,f\"type of quantity {broken_phones} should be an integer\"\n",
    "        assert broken_phones >=0 ,f\"quantity {broken_phones} should be greater than or equal to zero\"\n",
    "        \n",
    "        # Assign the self object\n",
    "        self.broken_phones = broken_phones"
   ]
  },
  {
   "cell_type": "code",
   "execution_count": null,
   "id": "30d9445d",
   "metadata": {},
   "outputs": [],
   "source": []
  }
 ],
 "metadata": {
  "kernelspec": {
   "display_name": "Python 3",
   "language": "python",
   "name": "python3"
  },
  "language_info": {
   "codemirror_mode": {
    "name": "ipython",
    "version": 3
   },
   "file_extension": ".py",
   "mimetype": "text/x-python",
   "name": "python",
   "nbconvert_exporter": "python",
   "pygments_lexer": "ipython3",
   "version": "3.8.8"
  }
 },
 "nbformat": 4,
 "nbformat_minor": 5
}
