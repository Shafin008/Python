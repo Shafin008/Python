{
 "cells": [
  {
   "cell_type": "code",
   "execution_count": 5,
   "id": "6fa15150",
   "metadata": {},
   "outputs": [],
   "source": [
    "from datetime import datetime\n",
    "class Employee:\n",
    "    MIN_SALARY = 30000    \n",
    "\n",
    "    def __init__(self, name, salary=MIN_SALARY):\n",
    "        self.name = name\n",
    "        \n",
    "        if salary >= Employee.MIN_SALARY:\n",
    "            self.salary = salary\n",
    "        else:\n",
    "            self.salary = Employee.MIN_SALARY\n",
    "            \n",
    "        # Add the hire_date attribute and set it to today's date\n",
    "        self.hire_date = datetime.today()\n",
    "        \n",
    "    def give_raise(self, amount):\n",
    "        self.salary += amount      \n",
    "        \n",
    "    def monthly_salary(self):\n",
    "        return self.salary/12\n",
    "        \n",
    "# Define a new class Manager inheriting from Employee\n",
    "\n",
    "class Manager(Employee):\n",
    "  # Add a constructor \n",
    "    def __init__(self, name, salary = 50000, project = None):\n",
    "\n",
    "        # Call the parent's constructor   \n",
    "        Employee.__init__(self,name, salary)\n",
    "\n",
    "        # Assign project attribute\n",
    "        self.project = project  \n",
    "    \n",
    "    def display(self):\n",
    "        print(\"Manager\", self.name)\n",
    "        \n",
    "    # Add a give_raise method, with an additional parameter bonus\n",
    "    def give_raise(self, amount, bonus=1.05):\n",
    "        new_amount = amount * bonus\n",
    "        Employee.give_raise(self, new_amount)\n"
   ]
  },
  {
   "cell_type": "code",
   "execution_count": 6,
   "id": "7622914e",
   "metadata": {},
   "outputs": [
    {
     "name": "stdout",
     "output_type": "stream",
     "text": [
      "30000\n",
      "40000\n",
      "30000\n",
      "30000\n"
     ]
    }
   ],
   "source": [
    "emp1 = Employee(\"shafin\", 25000)\n",
    "print(emp1.salary)\n",
    "emp2 = Employee(\"anik\",40000) \n",
    "print(emp2.salary) \n",
    "\n",
    "print(emp1.MIN_SALARY)\n",
    "print(emp2.MIN_SALARY)"
   ]
  },
  {
   "cell_type": "code",
   "execution_count": 7,
   "id": "231c55fd",
   "metadata": {},
   "outputs": [
    {
     "name": "stdout",
     "output_type": "stream",
     "text": [
      "Debbie Lashko\n",
      "Manager Debbie Lashko\n"
     ]
    }
   ],
   "source": [
    "mng = Manager(\"Debbie Lashko\", 86500)\n",
    "print(mng.name)\n",
    "\n",
    "# Call mng.display()\n",
    "mng.display()"
   ]
  },
  {
   "cell_type": "code",
   "execution_count": 8,
   "id": "ba6fbbef",
   "metadata": {
    "scrolled": true
   },
   "outputs": [
    {
     "name": "stdout",
     "output_type": "stream",
     "text": [
      "79550.0\n",
      "81610.0\n"
     ]
    }
   ],
   "source": [
    "mngr = Manager(\"Ashta Dunbar\", 78500)\n",
    "mngr.give_raise(1000)\n",
    "print(mngr.salary)\n",
    "mngr.give_raise(2000, bonus=1.03)\n",
    "print(mngr.salary)"
   ]
  },
  {
   "cell_type": "code",
   "execution_count": null,
   "id": "bd4af5a0",
   "metadata": {},
   "outputs": [],
   "source": []
  },
  {
   "cell_type": "markdown",
   "id": "ba9f37dd",
   "metadata": {},
   "source": [
    "### String representation of objects\n",
    "\n",
    "There are two `special` methods in Python that `return` a string representation of an object. __str__() is called when you use `print() or str()` on an object, and __repr__() is called when you use `repr()` on an object, print the object in the console without calling print(), or instead of __str__() if __str__() is not defined.\n",
    "\n",
    "__str__() is supposed to provide a `\"user-friendly\"` output describing an object, and __repr__() should return the `expression` that, when evaluated, will return the `same object`, ensuring the `reproducibility` of your code.\n",
    "\n",
    "The difference is that `str` is supposed to give an `informal` representation, suitable for an end `user`, and `repr` is mainly used by `developers`. The best practice is to use `repr` to print a string that can be used to `reproduce` the object "
   ]
  },
  {
   "cell_type": "code",
   "execution_count": 19,
   "id": "5b0462e3",
   "metadata": {},
   "outputs": [],
   "source": [
    "class Employee:\n",
    "    MIN_SALARY = 30000    \n",
    "\n",
    "    def __init__(self, name, salary=MIN_SALARY):\n",
    "        self.name = name\n",
    "        \n",
    "        if salary >= Employee.MIN_SALARY:\n",
    "            self.salary = salary\n",
    "        else:\n",
    "            self.salary = Employee.MIN_SALARY"
   ]
  },
  {
   "cell_type": "code",
   "execution_count": 20,
   "id": "fe70ecf7",
   "metadata": {},
   "outputs": [
    {
     "name": "stdout",
     "output_type": "stream",
     "text": [
      "<__main__.Employee object at 0x0000021C303E0790>\n",
      "<__main__.Employee object at 0x0000021C303A7A60>\n"
     ]
    }
   ],
   "source": [
    "emp1 = Employee(\"Amar Howard\", 30000)\n",
    "print(emp1)\n",
    "emp2 = Employee(\"Carolyn Ramirez\", 35000)\n",
    "print(emp2)"
   ]
  },
  {
   "cell_type": "code",
   "execution_count": 21,
   "id": "0fa11d3e",
   "metadata": {},
   "outputs": [],
   "source": [
    "class Employee:\n",
    "    MIN_SALARY = 30000    \n",
    "\n",
    "    def __init__(self, name, salary=MIN_SALARY):\n",
    "        self.name = name\n",
    "        \n",
    "        if salary >= Employee.MIN_SALARY:\n",
    "            self.salary = salary\n",
    "        else:\n",
    "            self.salary = Employee.MIN_SALARY\n",
    "\n",
    "    # Add the __str__() method\n",
    "    def __str__(self):\n",
    "        return(f\"Employee name: {self.name} \\nEmpolyee Salary: {self.salary}\")"
   ]
  },
  {
   "cell_type": "code",
   "execution_count": 22,
   "id": "024a8f26",
   "metadata": {},
   "outputs": [
    {
     "name": "stdout",
     "output_type": "stream",
     "text": [
      "Employee name: Amar Howard \n",
      "Empolyee Salary: 30000\n",
      "Employee name: Carolyn Ramirez \n",
      "Empolyee Salary: 35000\n"
     ]
    }
   ],
   "source": [
    "emp1 = Employee(\"Amar Howard\", 30000)\n",
    "print(emp1)\n",
    "emp2 = Employee(\"Carolyn Ramirez\", 35000)\n",
    "print(emp2)"
   ]
  },
  {
   "cell_type": "code",
   "execution_count": 25,
   "id": "f80406dc",
   "metadata": {},
   "outputs": [],
   "source": [
    "class Employee:\n",
    "    MIN_SALARY = 30000    \n",
    "\n",
    "    def __init__(self, name, salary=MIN_SALARY):\n",
    "        self.name = name\n",
    "        \n",
    "        if salary >= Employee.MIN_SALARY:\n",
    "            self.salary = salary\n",
    "        else:\n",
    "            self.salary = Employee.MIN_SALARY\n",
    "\n",
    "    # Add the __repr__method  \n",
    "    def __repr__(self):\n",
    "        return(f\"Employee name: {self.name} \\nEmpolyee Salary: {self.salary}\") "
   ]
  },
  {
   "cell_type": "code",
   "execution_count": 26,
   "id": "2cda1f98",
   "metadata": {
    "scrolled": true
   },
   "outputs": [
    {
     "name": "stdout",
     "output_type": "stream",
     "text": [
      "Employee name: Amar Howard \n",
      "Empolyee Salary: 30000\n",
      "Employee name: Carolyn Ramirez \n",
      "Empolyee Salary: 35000\n"
     ]
    }
   ],
   "source": [
    "emp1 = Employee(\"Amar Howard\", 30000)\n",
    "print(emp1)\n",
    "emp2 = Employee(\"Carolyn Ramirez\", 35000)\n",
    "print(emp2)"
   ]
  },
  {
   "cell_type": "markdown",
   "id": "082a678c",
   "metadata": {},
   "source": [
    "### Exception Handling"
   ]
  },
  {
   "cell_type": "code",
   "execution_count": 27,
   "id": "460e3514",
   "metadata": {},
   "outputs": [],
   "source": [
    "# Define SalaryError inherited from ValueError\n",
    "class SalaryError(ValueError):\n",
    "    pass\n",
    "\n",
    "# Define BonusError inherited from SalaryError\n",
    "class BonusError(SalaryError):\n",
    "    pass\n",
    "\n",
    "class Employee:\n",
    "    MIN_SALARY = 30000\n",
    "    MAX_BONUS = 5000\n",
    "\n",
    "    def __init__(self, name, salary = 30000):\n",
    "        \n",
    "        self.name = name\n",
    "        \n",
    "        if salary < Employee.MIN_SALARY:\n",
    "            raise SalaryError(\"Salary is too low!\")      \n",
    "        self.salary = salary\n",
    "    \n",
    "    # Rewrite using exceptions  \n",
    "    def give_bonus(self, amount):\n",
    "        \n",
    "        if amount > Employee.MAX_BONUS:\n",
    "            raise BonusError(\"The bonus amount is too high!\")  \n",
    "        \n",
    "        elif self.salary + amount <  Employee.MIN_SALARY:\n",
    "            raise SalaryError(\"The salary after bonus is too low!\")\n",
    "      \n",
    "        else:  \n",
    "            self.salary += amount"
   ]
  },
  {
   "cell_type": "code",
   "execution_count": 28,
   "id": "5ad7eea6",
   "metadata": {},
   "outputs": [
    {
     "name": "stdout",
     "output_type": "stream",
     "text": [
      "BonusError caught!\n",
      "SalaryError caught!\n"
     ]
    }
   ],
   "source": [
    "emp = Employee(\"Katze Rik\", salary=50000)\n",
    "\n",
    "try:\n",
    "    emp.give_bonus(7000)\n",
    "except BonusError:\n",
    "    print(\"BonusError caught!\")\n",
    "    \n",
    "try:\n",
    "    emp.give_bonus(-100000)\n",
    "except SalaryError:\n",
    "    print(\"SalaryError caught!\")"
   ]
  },
  {
   "cell_type": "markdown",
   "id": "0b53b5e2",
   "metadata": {},
   "source": [
    "It's better to include an except block for a `child` exception `before` the block for a `parent` exception, otherwise the child exceptions will be always be caught in the parent block, and the `except` block for the child will `never` be `executed`."
   ]
  },
  {
   "cell_type": "code",
   "execution_count": 29,
   "id": "fb2e5f9c",
   "metadata": {},
   "outputs": [
    {
     "name": "stdout",
     "output_type": "stream",
     "text": [
      "SalaryError caught\n"
     ]
    }
   ],
   "source": [
    "emp = Employee(\"Katze Rik\", 50000)\n",
    "try:\n",
    "    emp.give_bonus(7000)\n",
    "except SalaryError:\n",
    "    print(\"SalaryError caught\")\n",
    "except BonusError:\n",
    "    print(\"BonusError caught\")"
   ]
  },
  {
   "cell_type": "code",
   "execution_count": 30,
   "id": "467a14a5",
   "metadata": {},
   "outputs": [
    {
     "name": "stdout",
     "output_type": "stream",
     "text": [
      "BonusError caught\n"
     ]
    }
   ],
   "source": [
    "# the error in the previous cell was not a SalaryError it was a BonusError\n",
    "# So we'll have to write child exception(BonusError) before parent exception(SalaryError)\n",
    "\n",
    "emp = Employee(\"Katze Rik\", 50000)\n",
    "try:\n",
    "    emp.give_bonus(7000)\n",
    "except BonusError:\n",
    "    print(\"BonusError caught\")\n",
    "except SalaryError:\n",
    "    print(\"SalaryError caught\")\n",
    "      "
   ]
  },
  {
   "cell_type": "code",
   "execution_count": null,
   "id": "234f6f1c",
   "metadata": {},
   "outputs": [],
   "source": []
  },
  {
   "cell_type": "code",
   "execution_count": null,
   "id": "18d54520",
   "metadata": {},
   "outputs": [],
   "source": []
  },
  {
   "cell_type": "code",
   "execution_count": null,
   "id": "5bf22088",
   "metadata": {},
   "outputs": [],
   "source": []
  },
  {
   "cell_type": "code",
   "execution_count": null,
   "id": "2d6f04ab",
   "metadata": {},
   "outputs": [],
   "source": []
  },
  {
   "cell_type": "code",
   "execution_count": null,
   "id": "5b38822d",
   "metadata": {},
   "outputs": [],
   "source": []
  },
  {
   "cell_type": "code",
   "execution_count": null,
   "id": "09d9f85a",
   "metadata": {},
   "outputs": [],
   "source": []
  },
  {
   "cell_type": "code",
   "execution_count": null,
   "id": "fbb22d72",
   "metadata": {},
   "outputs": [],
   "source": []
  },
  {
   "cell_type": "code",
   "execution_count": null,
   "id": "21a6cc72",
   "metadata": {},
   "outputs": [],
   "source": []
  },
  {
   "cell_type": "code",
   "execution_count": null,
   "id": "868cd05e",
   "metadata": {},
   "outputs": [],
   "source": []
  },
  {
   "cell_type": "code",
   "execution_count": null,
   "id": "b9e8940d",
   "metadata": {},
   "outputs": [],
   "source": []
  },
  {
   "cell_type": "code",
   "execution_count": null,
   "id": "3b0ab34c",
   "metadata": {},
   "outputs": [],
   "source": []
  },
  {
   "cell_type": "code",
   "execution_count": null,
   "id": "864611ee",
   "metadata": {},
   "outputs": [],
   "source": []
  }
 ],
 "metadata": {
  "kernelspec": {
   "display_name": "Python 3",
   "language": "python",
   "name": "python3"
  },
  "language_info": {
   "codemirror_mode": {
    "name": "ipython",
    "version": 3
   },
   "file_extension": ".py",
   "mimetype": "text/x-python",
   "name": "python",
   "nbconvert_exporter": "python",
   "pygments_lexer": "ipython3",
   "version": "3.8.8"
  }
 },
 "nbformat": 4,
 "nbformat_minor": 5
}
